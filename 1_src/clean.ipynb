{
 "cells": [
  {
   "cell_type": "markdown",
   "id": "a5772487",
   "metadata": {},
   "source": [
    "# w2-project_pandas | Data Cleaning "
   ]
  },
  {
   "cell_type": "markdown",
   "id": "743d13da",
   "metadata": {},
   "source": [
    "## Import libraries "
   ]
  },
  {
   "cell_type": "code",
   "execution_count": 376,
   "id": "1e5b9970",
   "metadata": {},
   "outputs": [
    {
     "name": "stdout",
     "output_type": "stream",
     "text": [
      "Requirement already satisfied: ipython in /Users/criscarneiro/anaconda3/envs/clase/lib/python3.10/site-packages (8.16.1)\n",
      "Requirement already satisfied: backcall in /Users/criscarneiro/anaconda3/envs/clase/lib/python3.10/site-packages (from ipython) (0.2.0)\n",
      "Requirement already satisfied: decorator in /Users/criscarneiro/anaconda3/envs/clase/lib/python3.10/site-packages (from ipython) (5.1.1)\n",
      "Requirement already satisfied: jedi>=0.16 in /Users/criscarneiro/anaconda3/envs/clase/lib/python3.10/site-packages (from ipython) (0.19.1)\n",
      "Requirement already satisfied: matplotlib-inline in /Users/criscarneiro/anaconda3/envs/clase/lib/python3.10/site-packages (from ipython) (0.1.6)\n",
      "Requirement already satisfied: pickleshare in /Users/criscarneiro/anaconda3/envs/clase/lib/python3.10/site-packages (from ipython) (0.7.5)\n",
      "Requirement already satisfied: prompt-toolkit!=3.0.37,<3.1.0,>=3.0.30 in /Users/criscarneiro/anaconda3/envs/clase/lib/python3.10/site-packages (from ipython) (3.0.39)\n",
      "Requirement already satisfied: pygments>=2.4.0 in /Users/criscarneiro/anaconda3/envs/clase/lib/python3.10/site-packages (from ipython) (2.16.1)\n",
      "Requirement already satisfied: stack-data in /Users/criscarneiro/anaconda3/envs/clase/lib/python3.10/site-packages (from ipython) (0.6.3)\n",
      "Requirement already satisfied: traitlets>=5 in /Users/criscarneiro/anaconda3/envs/clase/lib/python3.10/site-packages (from ipython) (5.11.2)\n",
      "Requirement already satisfied: exceptiongroup in /Users/criscarneiro/anaconda3/envs/clase/lib/python3.10/site-packages (from ipython) (1.1.3)\n",
      "Requirement already satisfied: pexpect>4.3 in /Users/criscarneiro/anaconda3/envs/clase/lib/python3.10/site-packages (from ipython) (4.8.0)\n",
      "Requirement already satisfied: appnope in /Users/criscarneiro/anaconda3/envs/clase/lib/python3.10/site-packages (from ipython) (0.1.3)\n",
      "Requirement already satisfied: parso<0.9.0,>=0.8.3 in /Users/criscarneiro/anaconda3/envs/clase/lib/python3.10/site-packages (from jedi>=0.16->ipython) (0.8.3)\n",
      "Requirement already satisfied: ptyprocess>=0.5 in /Users/criscarneiro/anaconda3/envs/clase/lib/python3.10/site-packages (from pexpect>4.3->ipython) (0.7.0)\n",
      "Requirement already satisfied: wcwidth in /Users/criscarneiro/anaconda3/envs/clase/lib/python3.10/site-packages (from prompt-toolkit!=3.0.37,<3.1.0,>=3.0.30->ipython) (0.2.8)\n",
      "Requirement already satisfied: executing>=1.2.0 in /Users/criscarneiro/anaconda3/envs/clase/lib/python3.10/site-packages (from stack-data->ipython) (2.0.0)\n",
      "Requirement already satisfied: asttokens>=2.1.0 in /Users/criscarneiro/anaconda3/envs/clase/lib/python3.10/site-packages (from stack-data->ipython) (2.4.0)\n",
      "Requirement already satisfied: pure-eval in /Users/criscarneiro/anaconda3/envs/clase/lib/python3.10/site-packages (from stack-data->ipython) (0.2.2)\n",
      "Requirement already satisfied: six>=1.12.0 in /Users/criscarneiro/anaconda3/envs/clase/lib/python3.10/site-packages (from asttokens>=2.1.0->stack-data->ipython) (1.16.0)\n",
      "Note: you may need to restart the kernel to use updated packages.\n",
      "Requirement already satisfied: seaborn in /Users/criscarneiro/anaconda3/envs/clase/lib/python3.10/site-packages (0.13.0)\n",
      "Requirement already satisfied: numpy!=1.24.0,>=1.20 in /Users/criscarneiro/anaconda3/envs/clase/lib/python3.10/site-packages (from seaborn) (1.26.1)\n",
      "Requirement already satisfied: pandas>=1.2 in /Users/criscarneiro/anaconda3/envs/clase/lib/python3.10/site-packages (from seaborn) (2.1.1)\n",
      "Requirement already satisfied: matplotlib!=3.6.1,>=3.3 in /Users/criscarneiro/anaconda3/envs/clase/lib/python3.10/site-packages (from seaborn) (3.8.0)\n",
      "Requirement already satisfied: contourpy>=1.0.1 in /Users/criscarneiro/anaconda3/envs/clase/lib/python3.10/site-packages (from matplotlib!=3.6.1,>=3.3->seaborn) (1.1.1)\n",
      "Requirement already satisfied: cycler>=0.10 in /Users/criscarneiro/anaconda3/envs/clase/lib/python3.10/site-packages (from matplotlib!=3.6.1,>=3.3->seaborn) (0.12.1)\n",
      "Requirement already satisfied: fonttools>=4.22.0 in /Users/criscarneiro/anaconda3/envs/clase/lib/python3.10/site-packages (from matplotlib!=3.6.1,>=3.3->seaborn) (4.43.1)\n",
      "Requirement already satisfied: kiwisolver>=1.0.1 in /Users/criscarneiro/anaconda3/envs/clase/lib/python3.10/site-packages (from matplotlib!=3.6.1,>=3.3->seaborn) (1.4.5)\n",
      "Requirement already satisfied: packaging>=20.0 in /Users/criscarneiro/anaconda3/envs/clase/lib/python3.10/site-packages (from matplotlib!=3.6.1,>=3.3->seaborn) (23.2)\n",
      "Requirement already satisfied: pillow>=6.2.0 in /Users/criscarneiro/anaconda3/envs/clase/lib/python3.10/site-packages (from matplotlib!=3.6.1,>=3.3->seaborn) (10.1.0)\n",
      "Requirement already satisfied: pyparsing>=2.3.1 in /Users/criscarneiro/anaconda3/envs/clase/lib/python3.10/site-packages (from matplotlib!=3.6.1,>=3.3->seaborn) (3.1.1)\n",
      "Requirement already satisfied: python-dateutil>=2.7 in /Users/criscarneiro/anaconda3/envs/clase/lib/python3.10/site-packages (from matplotlib!=3.6.1,>=3.3->seaborn) (2.8.2)\n",
      "Requirement already satisfied: pytz>=2020.1 in /Users/criscarneiro/anaconda3/envs/clase/lib/python3.10/site-packages (from pandas>=1.2->seaborn) (2023.3.post1)\n",
      "Requirement already satisfied: tzdata>=2022.1 in /Users/criscarneiro/anaconda3/envs/clase/lib/python3.10/site-packages (from pandas>=1.2->seaborn) (2023.3)\n",
      "Requirement already satisfied: six>=1.5 in /Users/criscarneiro/anaconda3/envs/clase/lib/python3.10/site-packages (from python-dateutil>=2.7->matplotlib!=3.6.1,>=3.3->seaborn) (1.16.0)\n",
      "Note: you may need to restart the kernel to use updated packages.\n"
     ]
    }
   ],
   "source": [
    "%pip install ipython\n",
    "%pip install seaborn"
   ]
  },
  {
   "cell_type": "code",
   "execution_count": 377,
   "id": "2f03311e",
   "metadata": {},
   "outputs": [],
   "source": [
    "#import main libraries \n",
    "\n",
    "import pandas as pd\n",
    "pd.set_option('display.max_columns', None)\n",
    "\n",
    "import numpy as np\n",
    "\n",
    "import warnings\n",
    "warnings.filterwarnings('ignore')\n",
    "\n",
    "import pylab as plt  \n",
    "import seaborn as sns\n",
    "\n",
    "%matplotlib inline"
   ]
  },
  {
   "cell_type": "markdown",
   "id": "9cc03b6f",
   "metadata": {},
   "source": [
    "## Import data base "
   ]
  },
  {
   "cell_type": "code",
   "execution_count": 378,
   "id": "195f20c0",
   "metadata": {},
   "outputs": [],
   "source": [
    "linksharks = '/Users/criscarneiro/desktop/ironhack/7_DataProjects/1_w2_sharks/attacks.csv'\n",
    "\n",
    "data = pd.read_csv(linksharks, encoding='latin1')"
   ]
  },
  {
   "cell_type": "markdown",
   "id": "ed1cb3f7",
   "metadata": {},
   "source": [
    "## Before continuing, some good practices "
   ]
  },
  {
   "cell_type": "code",
   "execution_count": 379,
   "id": "7c0a9d39",
   "metadata": {},
   "outputs": [
    {
     "data": {
      "text/plain": [
       "(25723, 24)"
      ]
     },
     "execution_count": 379,
     "metadata": {},
     "output_type": "execute_result"
    }
   ],
   "source": [
    "# I will create a copy of the original database \n",
    "\n",
    "data_original = data.copy()\n",
    "data_original.shape"
   ]
  },
  {
   "cell_type": "code",
   "execution_count": 380,
   "id": "0969c02f",
   "metadata": {},
   "outputs": [
    {
     "data": {
      "text/plain": [
       "Index(['Case Number', 'Date', 'Year', 'Type', 'Country', 'Area', 'Location',\n",
       "       'Activity', 'Name', 'Sex ', 'Age', 'Injury', 'Fatal (Y/N)', 'Time',\n",
       "       'Species ', 'Investigator or Source', 'pdf', 'href formula', 'href',\n",
       "       'Case Number.1', 'Case Number.2', 'original order', 'Unnamed: 22',\n",
       "       'Unnamed: 23'],\n",
       "      dtype='object')"
      ]
     },
     "execution_count": 380,
     "metadata": {},
     "output_type": "execute_result"
    }
   ],
   "source": [
    "# I will clean the names of columns \n",
    "\n",
    "data.columns"
   ]
  },
  {
   "cell_type": "code",
   "execution_count": 381,
   "id": "04d848ae",
   "metadata": {},
   "outputs": [
    {
     "data": {
      "text/plain": [
       "Index(['case_number', 'date', 'year', 'type', 'country', 'area', 'location',\n",
       "       'activity', 'name', 'sex_', 'age', 'injury', 'fatal_(y/n)', 'time',\n",
       "       'species_', 'investigator_or_source', 'pdf', 'href_formula', 'href',\n",
       "       'case_number.1', 'case_number.2', 'original_order', 'unnamed:_22',\n",
       "       'unnamed:_23'],\n",
       "      dtype='object')"
      ]
     },
     "execution_count": 381,
     "metadata": {},
     "output_type": "execute_result"
    }
   ],
   "source": [
    "data.columns = [c.lower().replace(' ', '_') for c in data.columns]\n",
    "\n",
    "data.columns"
   ]
  },
  {
   "cell_type": "code",
   "execution_count": 382,
   "id": "6a87c28b",
   "metadata": {},
   "outputs": [
    {
     "data": {
      "text/plain": [
       "(6312, 24)"
      ]
     },
     "execution_count": 382,
     "metadata": {},
     "output_type": "execute_result"
    }
   ],
   "source": [
    "# There are sevel duplicates. Removing them would significantly I will keep them for now. \n",
    "\n",
    "data.drop_duplicates().shape"
   ]
  },
  {
   "cell_type": "code",
   "execution_count": 383,
   "id": "8c235b28",
   "metadata": {},
   "outputs": [
    {
     "data": {
      "text/html": [
       "<div>\n",
       "<style scoped>\n",
       "    .dataframe tbody tr th:only-of-type {\n",
       "        vertical-align: middle;\n",
       "    }\n",
       "\n",
       "    .dataframe tbody tr th {\n",
       "        vertical-align: top;\n",
       "    }\n",
       "\n",
       "    .dataframe thead th {\n",
       "        text-align: right;\n",
       "    }\n",
       "</style>\n",
       "<table border=\"1\" class=\"dataframe\">\n",
       "  <thead>\n",
       "    <tr style=\"text-align: right;\">\n",
       "      <th></th>\n",
       "      <th>case_number</th>\n",
       "      <th>date</th>\n",
       "      <th>year</th>\n",
       "      <th>type</th>\n",
       "      <th>country</th>\n",
       "      <th>area</th>\n",
       "      <th>location</th>\n",
       "      <th>activity</th>\n",
       "      <th>name</th>\n",
       "      <th>sex_</th>\n",
       "      <th>age</th>\n",
       "      <th>injury</th>\n",
       "      <th>fatal_(y/n)</th>\n",
       "      <th>time</th>\n",
       "      <th>species_</th>\n",
       "      <th>investigator_or_source</th>\n",
       "      <th>pdf</th>\n",
       "      <th>href_formula</th>\n",
       "      <th>href</th>\n",
       "      <th>case_number.1</th>\n",
       "      <th>case_number.2</th>\n",
       "      <th>original_order</th>\n",
       "      <th>unnamed:_22</th>\n",
       "      <th>unnamed:_23</th>\n",
       "    </tr>\n",
       "  </thead>\n",
       "  <tbody>\n",
       "    <tr>\n",
       "      <th>6310</th>\n",
       "      <td>0</td>\n",
       "      <td>NaN</td>\n",
       "      <td>NaN</td>\n",
       "      <td>NaN</td>\n",
       "      <td>NaN</td>\n",
       "      <td>NaN</td>\n",
       "      <td>NaN</td>\n",
       "      <td>NaN</td>\n",
       "      <td>NaN</td>\n",
       "      <td>NaN</td>\n",
       "      <td>NaN</td>\n",
       "      <td>NaN</td>\n",
       "      <td>NaN</td>\n",
       "      <td>NaN</td>\n",
       "      <td>NaN</td>\n",
       "      <td>NaN</td>\n",
       "      <td>NaN</td>\n",
       "      <td>NaN</td>\n",
       "      <td>NaN</td>\n",
       "      <td>NaN</td>\n",
       "      <td>NaN</td>\n",
       "      <td>NaN</td>\n",
       "      <td>NaN</td>\n",
       "      <td>NaN</td>\n",
       "    </tr>\n",
       "    <tr>\n",
       "      <th>6311</th>\n",
       "      <td>0</td>\n",
       "      <td>NaN</td>\n",
       "      <td>NaN</td>\n",
       "      <td>NaN</td>\n",
       "      <td>NaN</td>\n",
       "      <td>NaN</td>\n",
       "      <td>NaN</td>\n",
       "      <td>NaN</td>\n",
       "      <td>NaN</td>\n",
       "      <td>NaN</td>\n",
       "      <td>NaN</td>\n",
       "      <td>NaN</td>\n",
       "      <td>NaN</td>\n",
       "      <td>NaN</td>\n",
       "      <td>NaN</td>\n",
       "      <td>NaN</td>\n",
       "      <td>NaN</td>\n",
       "      <td>NaN</td>\n",
       "      <td>NaN</td>\n",
       "      <td>NaN</td>\n",
       "      <td>NaN</td>\n",
       "      <td>NaN</td>\n",
       "      <td>NaN</td>\n",
       "      <td>NaN</td>\n",
       "    </tr>\n",
       "    <tr>\n",
       "      <th>6312</th>\n",
       "      <td>0</td>\n",
       "      <td>NaN</td>\n",
       "      <td>NaN</td>\n",
       "      <td>NaN</td>\n",
       "      <td>NaN</td>\n",
       "      <td>NaN</td>\n",
       "      <td>NaN</td>\n",
       "      <td>NaN</td>\n",
       "      <td>NaN</td>\n",
       "      <td>NaN</td>\n",
       "      <td>NaN</td>\n",
       "      <td>NaN</td>\n",
       "      <td>NaN</td>\n",
       "      <td>NaN</td>\n",
       "      <td>NaN</td>\n",
       "      <td>NaN</td>\n",
       "      <td>NaN</td>\n",
       "      <td>NaN</td>\n",
       "      <td>NaN</td>\n",
       "      <td>NaN</td>\n",
       "      <td>NaN</td>\n",
       "      <td>NaN</td>\n",
       "      <td>NaN</td>\n",
       "      <td>NaN</td>\n",
       "    </tr>\n",
       "    <tr>\n",
       "      <th>6313</th>\n",
       "      <td>0</td>\n",
       "      <td>NaN</td>\n",
       "      <td>NaN</td>\n",
       "      <td>NaN</td>\n",
       "      <td>NaN</td>\n",
       "      <td>NaN</td>\n",
       "      <td>NaN</td>\n",
       "      <td>NaN</td>\n",
       "      <td>NaN</td>\n",
       "      <td>NaN</td>\n",
       "      <td>NaN</td>\n",
       "      <td>NaN</td>\n",
       "      <td>NaN</td>\n",
       "      <td>NaN</td>\n",
       "      <td>NaN</td>\n",
       "      <td>NaN</td>\n",
       "      <td>NaN</td>\n",
       "      <td>NaN</td>\n",
       "      <td>NaN</td>\n",
       "      <td>NaN</td>\n",
       "      <td>NaN</td>\n",
       "      <td>NaN</td>\n",
       "      <td>NaN</td>\n",
       "      <td>NaN</td>\n",
       "    </tr>\n",
       "    <tr>\n",
       "      <th>6314</th>\n",
       "      <td>0</td>\n",
       "      <td>NaN</td>\n",
       "      <td>NaN</td>\n",
       "      <td>NaN</td>\n",
       "      <td>NaN</td>\n",
       "      <td>NaN</td>\n",
       "      <td>NaN</td>\n",
       "      <td>NaN</td>\n",
       "      <td>NaN</td>\n",
       "      <td>NaN</td>\n",
       "      <td>NaN</td>\n",
       "      <td>NaN</td>\n",
       "      <td>NaN</td>\n",
       "      <td>NaN</td>\n",
       "      <td>NaN</td>\n",
       "      <td>NaN</td>\n",
       "      <td>NaN</td>\n",
       "      <td>NaN</td>\n",
       "      <td>NaN</td>\n",
       "      <td>NaN</td>\n",
       "      <td>NaN</td>\n",
       "      <td>NaN</td>\n",
       "      <td>NaN</td>\n",
       "      <td>NaN</td>\n",
       "    </tr>\n",
       "    <tr>\n",
       "      <th>...</th>\n",
       "      <td>...</td>\n",
       "      <td>...</td>\n",
       "      <td>...</td>\n",
       "      <td>...</td>\n",
       "      <td>...</td>\n",
       "      <td>...</td>\n",
       "      <td>...</td>\n",
       "      <td>...</td>\n",
       "      <td>...</td>\n",
       "      <td>...</td>\n",
       "      <td>...</td>\n",
       "      <td>...</td>\n",
       "      <td>...</td>\n",
       "      <td>...</td>\n",
       "      <td>...</td>\n",
       "      <td>...</td>\n",
       "      <td>...</td>\n",
       "      <td>...</td>\n",
       "      <td>...</td>\n",
       "      <td>...</td>\n",
       "      <td>...</td>\n",
       "      <td>...</td>\n",
       "      <td>...</td>\n",
       "      <td>...</td>\n",
       "    </tr>\n",
       "    <tr>\n",
       "      <th>25717</th>\n",
       "      <td>NaN</td>\n",
       "      <td>NaN</td>\n",
       "      <td>NaN</td>\n",
       "      <td>NaN</td>\n",
       "      <td>NaN</td>\n",
       "      <td>NaN</td>\n",
       "      <td>NaN</td>\n",
       "      <td>NaN</td>\n",
       "      <td>NaN</td>\n",
       "      <td>NaN</td>\n",
       "      <td>NaN</td>\n",
       "      <td>NaN</td>\n",
       "      <td>NaN</td>\n",
       "      <td>NaN</td>\n",
       "      <td>NaN</td>\n",
       "      <td>NaN</td>\n",
       "      <td>NaN</td>\n",
       "      <td>NaN</td>\n",
       "      <td>NaN</td>\n",
       "      <td>NaN</td>\n",
       "      <td>NaN</td>\n",
       "      <td>NaN</td>\n",
       "      <td>NaN</td>\n",
       "      <td>NaN</td>\n",
       "    </tr>\n",
       "    <tr>\n",
       "      <th>25718</th>\n",
       "      <td>NaN</td>\n",
       "      <td>NaN</td>\n",
       "      <td>NaN</td>\n",
       "      <td>NaN</td>\n",
       "      <td>NaN</td>\n",
       "      <td>NaN</td>\n",
       "      <td>NaN</td>\n",
       "      <td>NaN</td>\n",
       "      <td>NaN</td>\n",
       "      <td>NaN</td>\n",
       "      <td>NaN</td>\n",
       "      <td>NaN</td>\n",
       "      <td>NaN</td>\n",
       "      <td>NaN</td>\n",
       "      <td>NaN</td>\n",
       "      <td>NaN</td>\n",
       "      <td>NaN</td>\n",
       "      <td>NaN</td>\n",
       "      <td>NaN</td>\n",
       "      <td>NaN</td>\n",
       "      <td>NaN</td>\n",
       "      <td>NaN</td>\n",
       "      <td>NaN</td>\n",
       "      <td>NaN</td>\n",
       "    </tr>\n",
       "    <tr>\n",
       "      <th>25719</th>\n",
       "      <td>NaN</td>\n",
       "      <td>NaN</td>\n",
       "      <td>NaN</td>\n",
       "      <td>NaN</td>\n",
       "      <td>NaN</td>\n",
       "      <td>NaN</td>\n",
       "      <td>NaN</td>\n",
       "      <td>NaN</td>\n",
       "      <td>NaN</td>\n",
       "      <td>NaN</td>\n",
       "      <td>NaN</td>\n",
       "      <td>NaN</td>\n",
       "      <td>NaN</td>\n",
       "      <td>NaN</td>\n",
       "      <td>NaN</td>\n",
       "      <td>NaN</td>\n",
       "      <td>NaN</td>\n",
       "      <td>NaN</td>\n",
       "      <td>NaN</td>\n",
       "      <td>NaN</td>\n",
       "      <td>NaN</td>\n",
       "      <td>NaN</td>\n",
       "      <td>NaN</td>\n",
       "      <td>NaN</td>\n",
       "    </tr>\n",
       "    <tr>\n",
       "      <th>25720</th>\n",
       "      <td>NaN</td>\n",
       "      <td>NaN</td>\n",
       "      <td>NaN</td>\n",
       "      <td>NaN</td>\n",
       "      <td>NaN</td>\n",
       "      <td>NaN</td>\n",
       "      <td>NaN</td>\n",
       "      <td>NaN</td>\n",
       "      <td>NaN</td>\n",
       "      <td>NaN</td>\n",
       "      <td>NaN</td>\n",
       "      <td>NaN</td>\n",
       "      <td>NaN</td>\n",
       "      <td>NaN</td>\n",
       "      <td>NaN</td>\n",
       "      <td>NaN</td>\n",
       "      <td>NaN</td>\n",
       "      <td>NaN</td>\n",
       "      <td>NaN</td>\n",
       "      <td>NaN</td>\n",
       "      <td>NaN</td>\n",
       "      <td>NaN</td>\n",
       "      <td>NaN</td>\n",
       "      <td>NaN</td>\n",
       "    </tr>\n",
       "    <tr>\n",
       "      <th>25721</th>\n",
       "      <td>NaN</td>\n",
       "      <td>NaN</td>\n",
       "      <td>NaN</td>\n",
       "      <td>NaN</td>\n",
       "      <td>NaN</td>\n",
       "      <td>NaN</td>\n",
       "      <td>NaN</td>\n",
       "      <td>NaN</td>\n",
       "      <td>NaN</td>\n",
       "      <td>NaN</td>\n",
       "      <td>NaN</td>\n",
       "      <td>NaN</td>\n",
       "      <td>NaN</td>\n",
       "      <td>NaN</td>\n",
       "      <td>NaN</td>\n",
       "      <td>NaN</td>\n",
       "      <td>NaN</td>\n",
       "      <td>NaN</td>\n",
       "      <td>NaN</td>\n",
       "      <td>NaN</td>\n",
       "      <td>NaN</td>\n",
       "      <td>NaN</td>\n",
       "      <td>NaN</td>\n",
       "      <td>NaN</td>\n",
       "    </tr>\n",
       "  </tbody>\n",
       "</table>\n",
       "<p>19411 rows × 24 columns</p>\n",
       "</div>"
      ],
      "text/plain": [
       "      case_number date  year type country area location activity name sex_  \\\n",
       "6310            0  NaN   NaN  NaN     NaN  NaN      NaN      NaN  NaN  NaN   \n",
       "6311            0  NaN   NaN  NaN     NaN  NaN      NaN      NaN  NaN  NaN   \n",
       "6312            0  NaN   NaN  NaN     NaN  NaN      NaN      NaN  NaN  NaN   \n",
       "6313            0  NaN   NaN  NaN     NaN  NaN      NaN      NaN  NaN  NaN   \n",
       "6314            0  NaN   NaN  NaN     NaN  NaN      NaN      NaN  NaN  NaN   \n",
       "...           ...  ...   ...  ...     ...  ...      ...      ...  ...  ...   \n",
       "25717         NaN  NaN   NaN  NaN     NaN  NaN      NaN      NaN  NaN  NaN   \n",
       "25718         NaN  NaN   NaN  NaN     NaN  NaN      NaN      NaN  NaN  NaN   \n",
       "25719         NaN  NaN   NaN  NaN     NaN  NaN      NaN      NaN  NaN  NaN   \n",
       "25720         NaN  NaN   NaN  NaN     NaN  NaN      NaN      NaN  NaN  NaN   \n",
       "25721         NaN  NaN   NaN  NaN     NaN  NaN      NaN      NaN  NaN  NaN   \n",
       "\n",
       "       age injury fatal_(y/n) time species_ investigator_or_source  pdf  \\\n",
       "6310   NaN    NaN         NaN  NaN      NaN                    NaN  NaN   \n",
       "6311   NaN    NaN         NaN  NaN      NaN                    NaN  NaN   \n",
       "6312   NaN    NaN         NaN  NaN      NaN                    NaN  NaN   \n",
       "6313   NaN    NaN         NaN  NaN      NaN                    NaN  NaN   \n",
       "6314   NaN    NaN         NaN  NaN      NaN                    NaN  NaN   \n",
       "...    ...    ...         ...  ...      ...                    ...  ...   \n",
       "25717  NaN    NaN         NaN  NaN      NaN                    NaN  NaN   \n",
       "25718  NaN    NaN         NaN  NaN      NaN                    NaN  NaN   \n",
       "25719  NaN    NaN         NaN  NaN      NaN                    NaN  NaN   \n",
       "25720  NaN    NaN         NaN  NaN      NaN                    NaN  NaN   \n",
       "25721  NaN    NaN         NaN  NaN      NaN                    NaN  NaN   \n",
       "\n",
       "      href_formula href case_number.1 case_number.2  original_order  \\\n",
       "6310           NaN  NaN           NaN           NaN             NaN   \n",
       "6311           NaN  NaN           NaN           NaN             NaN   \n",
       "6312           NaN  NaN           NaN           NaN             NaN   \n",
       "6313           NaN  NaN           NaN           NaN             NaN   \n",
       "6314           NaN  NaN           NaN           NaN             NaN   \n",
       "...            ...  ...           ...           ...             ...   \n",
       "25717          NaN  NaN           NaN           NaN             NaN   \n",
       "25718          NaN  NaN           NaN           NaN             NaN   \n",
       "25719          NaN  NaN           NaN           NaN             NaN   \n",
       "25720          NaN  NaN           NaN           NaN             NaN   \n",
       "25721          NaN  NaN           NaN           NaN             NaN   \n",
       "\n",
       "      unnamed:_22 unnamed:_23  \n",
       "6310          NaN         NaN  \n",
       "6311          NaN         NaN  \n",
       "6312          NaN         NaN  \n",
       "6313          NaN         NaN  \n",
       "6314          NaN         NaN  \n",
       "...           ...         ...  \n",
       "25717         NaN         NaN  \n",
       "25718         NaN         NaN  \n",
       "25719         NaN         NaN  \n",
       "25720         NaN         NaN  \n",
       "25721         NaN         NaN  \n",
       "\n",
       "[19411 rows x 24 columns]"
      ]
     },
     "execution_count": 383,
     "metadata": {},
     "output_type": "execute_result"
    }
   ],
   "source": [
    "# Indeed, there are a number of duplicated entries\n",
    "\n",
    "data[data.duplicated()]"
   ]
  },
  {
   "cell_type": "code",
   "execution_count": 384,
   "id": "6170b2aa",
   "metadata": {},
   "outputs": [
    {
     "name": "stdout",
     "output_type": "stream",
     "text": [
      "(25723, 24)\n",
      "(25723, 24)\n"
     ]
    }
   ],
   "source": [
    "# We maitain our original shape \n",
    "\n",
    "print(data.shape)\n",
    "print(data_original.shape)"
   ]
  },
  {
   "cell_type": "markdown",
   "id": "80173d83",
   "metadata": {},
   "source": [
    "## Exploratory Analysis "
   ]
  },
  {
   "cell_type": "code",
   "execution_count": 385,
   "id": "b7cba325",
   "metadata": {},
   "outputs": [
    {
     "data": {
      "text/html": [
       "<div>\n",
       "<style scoped>\n",
       "    .dataframe tbody tr th:only-of-type {\n",
       "        vertical-align: middle;\n",
       "    }\n",
       "\n",
       "    .dataframe tbody tr th {\n",
       "        vertical-align: top;\n",
       "    }\n",
       "\n",
       "    .dataframe thead th {\n",
       "        text-align: right;\n",
       "    }\n",
       "</style>\n",
       "<table border=\"1\" class=\"dataframe\">\n",
       "  <thead>\n",
       "    <tr style=\"text-align: right;\">\n",
       "      <th></th>\n",
       "      <th>case_number</th>\n",
       "      <th>date</th>\n",
       "      <th>year</th>\n",
       "      <th>type</th>\n",
       "      <th>country</th>\n",
       "      <th>area</th>\n",
       "      <th>location</th>\n",
       "      <th>activity</th>\n",
       "      <th>name</th>\n",
       "      <th>sex_</th>\n",
       "      <th>age</th>\n",
       "      <th>injury</th>\n",
       "      <th>fatal_(y/n)</th>\n",
       "      <th>time</th>\n",
       "      <th>species_</th>\n",
       "      <th>investigator_or_source</th>\n",
       "      <th>pdf</th>\n",
       "      <th>href_formula</th>\n",
       "      <th>href</th>\n",
       "      <th>case_number.1</th>\n",
       "      <th>case_number.2</th>\n",
       "      <th>original_order</th>\n",
       "      <th>unnamed:_22</th>\n",
       "      <th>unnamed:_23</th>\n",
       "    </tr>\n",
       "  </thead>\n",
       "  <tbody>\n",
       "    <tr>\n",
       "      <th>0</th>\n",
       "      <td>2018.06.25</td>\n",
       "      <td>25-Jun-2018</td>\n",
       "      <td>2018.0</td>\n",
       "      <td>Boating</td>\n",
       "      <td>USA</td>\n",
       "      <td>California</td>\n",
       "      <td>Oceanside, San Diego County</td>\n",
       "      <td>Paddling</td>\n",
       "      <td>Julie Wolfe</td>\n",
       "      <td>F</td>\n",
       "      <td>57</td>\n",
       "      <td>No injury to occupant, outrigger canoe and pad...</td>\n",
       "      <td>N</td>\n",
       "      <td>18h00</td>\n",
       "      <td>White shark</td>\n",
       "      <td>R. Collier, GSAF</td>\n",
       "      <td>2018.06.25-Wolfe.pdf</td>\n",
       "      <td>http://sharkattackfile.net/spreadsheets/pdf_di...</td>\n",
       "      <td>http://sharkattackfile.net/spreadsheets/pdf_di...</td>\n",
       "      <td>2018.06.25</td>\n",
       "      <td>2018.06.25</td>\n",
       "      <td>6303.0</td>\n",
       "      <td>NaN</td>\n",
       "      <td>NaN</td>\n",
       "    </tr>\n",
       "    <tr>\n",
       "      <th>1</th>\n",
       "      <td>2018.06.18</td>\n",
       "      <td>18-Jun-2018</td>\n",
       "      <td>2018.0</td>\n",
       "      <td>Unprovoked</td>\n",
       "      <td>USA</td>\n",
       "      <td>Georgia</td>\n",
       "      <td>St. Simon Island, Glynn County</td>\n",
       "      <td>Standing</td>\n",
       "      <td>Adyson McNeely</td>\n",
       "      <td>F</td>\n",
       "      <td>11</td>\n",
       "      <td>Minor injury to left thigh</td>\n",
       "      <td>N</td>\n",
       "      <td>14h00  -15h00</td>\n",
       "      <td>NaN</td>\n",
       "      <td>K.McMurray, TrackingSharks.com</td>\n",
       "      <td>2018.06.18-McNeely.pdf</td>\n",
       "      <td>http://sharkattackfile.net/spreadsheets/pdf_di...</td>\n",
       "      <td>http://sharkattackfile.net/spreadsheets/pdf_di...</td>\n",
       "      <td>2018.06.18</td>\n",
       "      <td>2018.06.18</td>\n",
       "      <td>6302.0</td>\n",
       "      <td>NaN</td>\n",
       "      <td>NaN</td>\n",
       "    </tr>\n",
       "    <tr>\n",
       "      <th>2</th>\n",
       "      <td>2018.06.09</td>\n",
       "      <td>09-Jun-2018</td>\n",
       "      <td>2018.0</td>\n",
       "      <td>Invalid</td>\n",
       "      <td>USA</td>\n",
       "      <td>Hawaii</td>\n",
       "      <td>Habush, Oahu</td>\n",
       "      <td>Surfing</td>\n",
       "      <td>John Denges</td>\n",
       "      <td>M</td>\n",
       "      <td>48</td>\n",
       "      <td>Injury to left lower leg from surfboard skeg</td>\n",
       "      <td>N</td>\n",
       "      <td>07h45</td>\n",
       "      <td>NaN</td>\n",
       "      <td>K.McMurray, TrackingSharks.com</td>\n",
       "      <td>2018.06.09-Denges.pdf</td>\n",
       "      <td>http://sharkattackfile.net/spreadsheets/pdf_di...</td>\n",
       "      <td>http://sharkattackfile.net/spreadsheets/pdf_di...</td>\n",
       "      <td>2018.06.09</td>\n",
       "      <td>2018.06.09</td>\n",
       "      <td>6301.0</td>\n",
       "      <td>NaN</td>\n",
       "      <td>NaN</td>\n",
       "    </tr>\n",
       "    <tr>\n",
       "      <th>3</th>\n",
       "      <td>2018.06.08</td>\n",
       "      <td>08-Jun-2018</td>\n",
       "      <td>2018.0</td>\n",
       "      <td>Unprovoked</td>\n",
       "      <td>AUSTRALIA</td>\n",
       "      <td>New South Wales</td>\n",
       "      <td>Arrawarra Headland</td>\n",
       "      <td>Surfing</td>\n",
       "      <td>male</td>\n",
       "      <td>M</td>\n",
       "      <td>NaN</td>\n",
       "      <td>Minor injury to lower leg</td>\n",
       "      <td>N</td>\n",
       "      <td>NaN</td>\n",
       "      <td>2 m shark</td>\n",
       "      <td>B. Myatt, GSAF</td>\n",
       "      <td>2018.06.08-Arrawarra.pdf</td>\n",
       "      <td>http://sharkattackfile.net/spreadsheets/pdf_di...</td>\n",
       "      <td>http://sharkattackfile.net/spreadsheets/pdf_di...</td>\n",
       "      <td>2018.06.08</td>\n",
       "      <td>2018.06.08</td>\n",
       "      <td>6300.0</td>\n",
       "      <td>NaN</td>\n",
       "      <td>NaN</td>\n",
       "    </tr>\n",
       "    <tr>\n",
       "      <th>4</th>\n",
       "      <td>2018.06.04</td>\n",
       "      <td>04-Jun-2018</td>\n",
       "      <td>2018.0</td>\n",
       "      <td>Provoked</td>\n",
       "      <td>MEXICO</td>\n",
       "      <td>Colima</td>\n",
       "      <td>La Ticla</td>\n",
       "      <td>Free diving</td>\n",
       "      <td>Gustavo Ramos</td>\n",
       "      <td>M</td>\n",
       "      <td>NaN</td>\n",
       "      <td>Lacerations to leg &amp; hand shark PROVOKED INCIDENT</td>\n",
       "      <td>N</td>\n",
       "      <td>NaN</td>\n",
       "      <td>Tiger shark, 3m</td>\n",
       "      <td>A .Kipper</td>\n",
       "      <td>2018.06.04-Ramos.pdf</td>\n",
       "      <td>http://sharkattackfile.net/spreadsheets/pdf_di...</td>\n",
       "      <td>http://sharkattackfile.net/spreadsheets/pdf_di...</td>\n",
       "      <td>2018.06.04</td>\n",
       "      <td>2018.06.04</td>\n",
       "      <td>6299.0</td>\n",
       "      <td>NaN</td>\n",
       "      <td>NaN</td>\n",
       "    </tr>\n",
       "    <tr>\n",
       "      <th>5</th>\n",
       "      <td>2018.06.03.b</td>\n",
       "      <td>03-Jun-2018</td>\n",
       "      <td>2018.0</td>\n",
       "      <td>Unprovoked</td>\n",
       "      <td>AUSTRALIA</td>\n",
       "      <td>New South Wales</td>\n",
       "      <td>Flat Rock, Ballina</td>\n",
       "      <td>Kite surfing</td>\n",
       "      <td>Chris</td>\n",
       "      <td>M</td>\n",
       "      <td>NaN</td>\n",
       "      <td>No injury, board bitten</td>\n",
       "      <td>N</td>\n",
       "      <td>NaN</td>\n",
       "      <td>NaN</td>\n",
       "      <td>Daily Telegraph, 6/4/2018</td>\n",
       "      <td>2018.06.03.b-FlatRock.pdf</td>\n",
       "      <td>http://sharkattackfile.net/spreadsheets/pdf_di...</td>\n",
       "      <td>http://sharkattackfile.net/spreadsheets/pdf_di...</td>\n",
       "      <td>2018.06.03.b</td>\n",
       "      <td>2018.06.03.b</td>\n",
       "      <td>6298.0</td>\n",
       "      <td>NaN</td>\n",
       "      <td>NaN</td>\n",
       "    </tr>\n",
       "    <tr>\n",
       "      <th>6</th>\n",
       "      <td>2018.06.03.a</td>\n",
       "      <td>03-Jun-2018</td>\n",
       "      <td>2018.0</td>\n",
       "      <td>Unprovoked</td>\n",
       "      <td>BRAZIL</td>\n",
       "      <td>Pernambuco</td>\n",
       "      <td>Piedade Beach, Recife</td>\n",
       "      <td>Swimming</td>\n",
       "      <td>Jose Ernesto da Silva</td>\n",
       "      <td>M</td>\n",
       "      <td>18</td>\n",
       "      <td>FATAL</td>\n",
       "      <td>Y</td>\n",
       "      <td>Late afternoon</td>\n",
       "      <td>Tiger shark</td>\n",
       "      <td>Diario de Pernambuco, 6/4/2018</td>\n",
       "      <td>2018.06.03.a-daSilva.pdf</td>\n",
       "      <td>http://sharkattackfile.net/spreadsheets/pdf_di...</td>\n",
       "      <td>http://sharkattackfile.net/spreadsheets/pdf_di...</td>\n",
       "      <td>2018.06.03.a</td>\n",
       "      <td>2018.06.03.a</td>\n",
       "      <td>6297.0</td>\n",
       "      <td>NaN</td>\n",
       "      <td>NaN</td>\n",
       "    </tr>\n",
       "    <tr>\n",
       "      <th>7</th>\n",
       "      <td>2018.05.27</td>\n",
       "      <td>27-May-2018</td>\n",
       "      <td>2018.0</td>\n",
       "      <td>Unprovoked</td>\n",
       "      <td>USA</td>\n",
       "      <td>Florida</td>\n",
       "      <td>Lighhouse Point Park, Ponce Inlet, Volusia County</td>\n",
       "      <td>Fishing</td>\n",
       "      <td>male</td>\n",
       "      <td>M</td>\n",
       "      <td>52</td>\n",
       "      <td>Minor injury to foot. PROVOKED INCIDENT</td>\n",
       "      <td>N</td>\n",
       "      <td>NaN</td>\n",
       "      <td>Lemon shark, 3'</td>\n",
       "      <td>K. McMurray, TrackingSharks.com</td>\n",
       "      <td>2018.05.27-Ponce.pdf</td>\n",
       "      <td>http://sharkattackfile.net/spreadsheets/pdf_di...</td>\n",
       "      <td>http://sharkattackfile.net/spreadsheets/pdf_di...</td>\n",
       "      <td>2018.05.27</td>\n",
       "      <td>2018.05.27</td>\n",
       "      <td>6296.0</td>\n",
       "      <td>NaN</td>\n",
       "      <td>NaN</td>\n",
       "    </tr>\n",
       "    <tr>\n",
       "      <th>8</th>\n",
       "      <td>2018.05.26.b</td>\n",
       "      <td>26-May-2018</td>\n",
       "      <td>2018.0</td>\n",
       "      <td>Unprovoked</td>\n",
       "      <td>USA</td>\n",
       "      <td>Florida</td>\n",
       "      <td>Cocoa Beach, Brevard  County</td>\n",
       "      <td>Walking</td>\n",
       "      <td>Cody High</td>\n",
       "      <td>M</td>\n",
       "      <td>15</td>\n",
       "      <td>Lower left leg bitten</td>\n",
       "      <td>N</td>\n",
       "      <td>17h00</td>\n",
       "      <td>Bull shark, 6'</td>\n",
       "      <td>K.McMurray, TrackingSharks.com</td>\n",
       "      <td>2018.05.26.b-High.pdf</td>\n",
       "      <td>http://sharkattackfile.net/spreadsheets/pdf_di...</td>\n",
       "      <td>http://sharkattackfile.net/spreadsheets/pdf_di...</td>\n",
       "      <td>2018.05.26.b</td>\n",
       "      <td>2018.05.26.b</td>\n",
       "      <td>6295.0</td>\n",
       "      <td>NaN</td>\n",
       "      <td>NaN</td>\n",
       "    </tr>\n",
       "    <tr>\n",
       "      <th>9</th>\n",
       "      <td>2018.05.26.a</td>\n",
       "      <td>26-May-2018</td>\n",
       "      <td>2018.0</td>\n",
       "      <td>Unprovoked</td>\n",
       "      <td>USA</td>\n",
       "      <td>Florida</td>\n",
       "      <td>Daytona Beach, Volusia County</td>\n",
       "      <td>Standing</td>\n",
       "      <td>male</td>\n",
       "      <td>M</td>\n",
       "      <td>12</td>\n",
       "      <td>Minor injury to foot</td>\n",
       "      <td>N</td>\n",
       "      <td>14h00</td>\n",
       "      <td>NaN</td>\n",
       "      <td>K. McMurray, Tracking Sharks.com</td>\n",
       "      <td>2018.05.26.a-DaytonaBeach.pdf</td>\n",
       "      <td>http://sharkattackfile.net/spreadsheets/pdf_di...</td>\n",
       "      <td>http://sharkattackfile.net/spreadsheets/pdf_di...</td>\n",
       "      <td>2018.05.26.a</td>\n",
       "      <td>2018.05.26.a</td>\n",
       "      <td>6294.0</td>\n",
       "      <td>NaN</td>\n",
       "      <td>NaN</td>\n",
       "    </tr>\n",
       "  </tbody>\n",
       "</table>\n",
       "</div>"
      ],
      "text/plain": [
       "    case_number         date    year        type    country             area  \\\n",
       "0    2018.06.25  25-Jun-2018  2018.0     Boating        USA       California   \n",
       "1    2018.06.18  18-Jun-2018  2018.0  Unprovoked        USA          Georgia   \n",
       "2    2018.06.09  09-Jun-2018  2018.0     Invalid        USA           Hawaii   \n",
       "3    2018.06.08  08-Jun-2018  2018.0  Unprovoked  AUSTRALIA  New South Wales   \n",
       "4    2018.06.04  04-Jun-2018  2018.0    Provoked     MEXICO           Colima   \n",
       "5  2018.06.03.b  03-Jun-2018  2018.0  Unprovoked  AUSTRALIA  New South Wales   \n",
       "6  2018.06.03.a  03-Jun-2018  2018.0  Unprovoked     BRAZIL       Pernambuco   \n",
       "7    2018.05.27  27-May-2018  2018.0  Unprovoked        USA          Florida   \n",
       "8  2018.05.26.b  26-May-2018  2018.0  Unprovoked        USA          Florida   \n",
       "9  2018.05.26.a  26-May-2018  2018.0  Unprovoked        USA          Florida   \n",
       "\n",
       "                                            location      activity  \\\n",
       "0                        Oceanside, San Diego County      Paddling   \n",
       "1                     St. Simon Island, Glynn County      Standing   \n",
       "2                                       Habush, Oahu       Surfing   \n",
       "3                                 Arrawarra Headland       Surfing   \n",
       "4                                           La Ticla   Free diving   \n",
       "5                                 Flat Rock, Ballina  Kite surfing   \n",
       "6                              Piedade Beach, Recife      Swimming   \n",
       "7  Lighhouse Point Park, Ponce Inlet, Volusia County       Fishing   \n",
       "8                       Cocoa Beach, Brevard  County       Walking   \n",
       "9                      Daytona Beach, Volusia County      Standing   \n",
       "\n",
       "                     name sex_  age  \\\n",
       "0             Julie Wolfe    F   57   \n",
       "1         Adyson McNeely     F   11   \n",
       "2             John Denges    M   48   \n",
       "3                    male    M  NaN   \n",
       "4          Gustavo Ramos     M  NaN   \n",
       "5                 Chris \n",
       "    M  NaN   \n",
       "6  Jose Ernesto da Silva     M   18   \n",
       "7                    male    M   52   \n",
       "8               Cody High    M   15   \n",
       "9                    male    M   12   \n",
       "\n",
       "                                              injury fatal_(y/n)  \\\n",
       "0  No injury to occupant, outrigger canoe and pad...           N   \n",
       "1                         Minor injury to left thigh           N   \n",
       "2       Injury to left lower leg from surfboard skeg           N   \n",
       "3                          Minor injury to lower leg           N   \n",
       "4  Lacerations to leg & hand shark PROVOKED INCIDENT           N   \n",
       "5                            No injury, board bitten           N   \n",
       "6                                              FATAL           Y   \n",
       "7            Minor injury to foot. PROVOKED INCIDENT           N   \n",
       "8                              Lower left leg bitten           N   \n",
       "9                               Minor injury to foot           N   \n",
       "\n",
       "             time         species_            investigator_or_source  \\\n",
       "0           18h00      White shark                  R. Collier, GSAF   \n",
       "1   14h00  -15h00              NaN    K.McMurray, TrackingSharks.com   \n",
       "2           07h45              NaN    K.McMurray, TrackingSharks.com   \n",
       "3             NaN        2 m shark                    B. Myatt, GSAF   \n",
       "4             NaN  Tiger shark, 3m                         A .Kipper   \n",
       "5             NaN              NaN         Daily Telegraph, 6/4/2018   \n",
       "6  Late afternoon      Tiger shark    Diario de Pernambuco, 6/4/2018   \n",
       "7             NaN  Lemon shark, 3'   K. McMurray, TrackingSharks.com   \n",
       "8           17h00   Bull shark, 6'    K.McMurray, TrackingSharks.com   \n",
       "9           14h00              NaN  K. McMurray, Tracking Sharks.com   \n",
       "\n",
       "                             pdf  \\\n",
       "0           2018.06.25-Wolfe.pdf   \n",
       "1         2018.06.18-McNeely.pdf   \n",
       "2          2018.06.09-Denges.pdf   \n",
       "3       2018.06.08-Arrawarra.pdf   \n",
       "4           2018.06.04-Ramos.pdf   \n",
       "5      2018.06.03.b-FlatRock.pdf   \n",
       "6       2018.06.03.a-daSilva.pdf   \n",
       "7           2018.05.27-Ponce.pdf   \n",
       "8          2018.05.26.b-High.pdf   \n",
       "9  2018.05.26.a-DaytonaBeach.pdf   \n",
       "\n",
       "                                        href_formula  \\\n",
       "0  http://sharkattackfile.net/spreadsheets/pdf_di...   \n",
       "1  http://sharkattackfile.net/spreadsheets/pdf_di...   \n",
       "2  http://sharkattackfile.net/spreadsheets/pdf_di...   \n",
       "3  http://sharkattackfile.net/spreadsheets/pdf_di...   \n",
       "4  http://sharkattackfile.net/spreadsheets/pdf_di...   \n",
       "5  http://sharkattackfile.net/spreadsheets/pdf_di...   \n",
       "6  http://sharkattackfile.net/spreadsheets/pdf_di...   \n",
       "7  http://sharkattackfile.net/spreadsheets/pdf_di...   \n",
       "8  http://sharkattackfile.net/spreadsheets/pdf_di...   \n",
       "9  http://sharkattackfile.net/spreadsheets/pdf_di...   \n",
       "\n",
       "                                                href case_number.1  \\\n",
       "0  http://sharkattackfile.net/spreadsheets/pdf_di...    2018.06.25   \n",
       "1  http://sharkattackfile.net/spreadsheets/pdf_di...    2018.06.18   \n",
       "2  http://sharkattackfile.net/spreadsheets/pdf_di...    2018.06.09   \n",
       "3  http://sharkattackfile.net/spreadsheets/pdf_di...    2018.06.08   \n",
       "4  http://sharkattackfile.net/spreadsheets/pdf_di...    2018.06.04   \n",
       "5  http://sharkattackfile.net/spreadsheets/pdf_di...  2018.06.03.b   \n",
       "6  http://sharkattackfile.net/spreadsheets/pdf_di...  2018.06.03.a   \n",
       "7  http://sharkattackfile.net/spreadsheets/pdf_di...    2018.05.27   \n",
       "8  http://sharkattackfile.net/spreadsheets/pdf_di...  2018.05.26.b   \n",
       "9  http://sharkattackfile.net/spreadsheets/pdf_di...  2018.05.26.a   \n",
       "\n",
       "  case_number.2  original_order unnamed:_22 unnamed:_23  \n",
       "0    2018.06.25          6303.0         NaN         NaN  \n",
       "1    2018.06.18          6302.0         NaN         NaN  \n",
       "2    2018.06.09          6301.0         NaN         NaN  \n",
       "3    2018.06.08          6300.0         NaN         NaN  \n",
       "4    2018.06.04          6299.0         NaN         NaN  \n",
       "5  2018.06.03.b          6298.0         NaN         NaN  \n",
       "6  2018.06.03.a          6297.0         NaN         NaN  \n",
       "7    2018.05.27          6296.0         NaN         NaN  \n",
       "8  2018.05.26.b          6295.0         NaN         NaN  \n",
       "9  2018.05.26.a          6294.0         NaN         NaN  "
      ]
     },
     "execution_count": 385,
     "metadata": {},
     "output_type": "execute_result"
    }
   ],
   "source": [
    "#this is the structure of my data \n",
    "\n",
    "data.head(10)"
   ]
  },
  {
   "cell_type": "code",
   "execution_count": 386,
   "id": "62d32ab8",
   "metadata": {},
   "outputs": [
    {
     "data": {
      "text/plain": [
       "(25723, 24)"
      ]
     },
     "execution_count": 386,
     "metadata": {},
     "output_type": "execute_result"
    }
   ],
   "source": [
    "#this is a database with 24 columns, 25.723 entries (i.e, shark attacks)\n",
    "\n",
    "data.shape"
   ]
  },
  {
   "cell_type": "code",
   "execution_count": 387,
   "id": "690ae509",
   "metadata": {},
   "outputs": [
    {
     "name": "stdout",
     "output_type": "stream",
     "text": [
      "<class 'pandas.core.frame.DataFrame'>\n",
      "RangeIndex: 25723 entries, 0 to 25722\n",
      "Data columns (total 24 columns):\n",
      " #   Column                  Non-Null Count  Dtype  \n",
      "---  ------                  --------------  -----  \n",
      " 0   case_number             8702 non-null   object \n",
      " 1   date                    6302 non-null   object \n",
      " 2   year                    6300 non-null   float64\n",
      " 3   type                    6298 non-null   object \n",
      " 4   country                 6252 non-null   object \n",
      " 5   area                    5847 non-null   object \n",
      " 6   location                5762 non-null   object \n",
      " 7   activity                5758 non-null   object \n",
      " 8   name                    6092 non-null   object \n",
      " 9   sex_                    5737 non-null   object \n",
      " 10  age                     3471 non-null   object \n",
      " 11  injury                  6274 non-null   object \n",
      " 12  fatal_(y/n)             5763 non-null   object \n",
      " 13  time                    2948 non-null   object \n",
      " 14  species_                3464 non-null   object \n",
      " 15  investigator_or_source  6285 non-null   object \n",
      " 16  pdf                     6302 non-null   object \n",
      " 17  href_formula            6301 non-null   object \n",
      " 18  href                    6302 non-null   object \n",
      " 19  case_number.1           6302 non-null   object \n",
      " 20  case_number.2           6302 non-null   object \n",
      " 21  original_order          6309 non-null   float64\n",
      " 22  unnamed:_22             1 non-null      object \n",
      " 23  unnamed:_23             2 non-null      object \n",
      "dtypes: float64(2), object(22)\n",
      "memory usage: 4.7+ MB\n"
     ]
    }
   ],
   "source": [
    "#here we can see again the number of columns and entries \n",
    "#4.7+ MB of memory \n",
    "#we see that most columns are non-numerical \n",
    "#we anticipate there are a lot of null values - we will work on cleaning some of them!\n",
    "\n",
    "data.info()"
   ]
  },
  {
   "cell_type": "code",
   "execution_count": 388,
   "id": "bca8e9dc",
   "metadata": {},
   "outputs": [],
   "source": [
    "# it seems we have two unnamed columns. I will check what they are about. "
   ]
  },
  {
   "cell_type": "code",
   "execution_count": 389,
   "id": "aef1ab58",
   "metadata": {},
   "outputs": [
    {
     "data": {
      "text/plain": [
       "array([nan, 'stopped here'], dtype=object)"
      ]
     },
     "execution_count": 389,
     "metadata": {},
     "output_type": "execute_result"
    }
   ],
   "source": [
    "#unnamed:_22 has a single non-null value \n",
    "\n",
    "data['unnamed:_22'].unique()"
   ]
  },
  {
   "cell_type": "code",
   "execution_count": 390,
   "id": "822c7075",
   "metadata": {},
   "outputs": [
    {
     "data": {
      "text/plain": [
       "array([nan, 'Teramo', 'change filename'], dtype=object)"
      ]
     },
     "execution_count": 390,
     "metadata": {},
     "output_type": "execute_result"
    }
   ],
   "source": [
    "#unnamed:_23 has two non-null values\n",
    "\n",
    "data['unnamed:_23'].unique()"
   ]
  },
  {
   "cell_type": "code",
   "execution_count": 391,
   "id": "c48f3ad9",
   "metadata": {},
   "outputs": [],
   "source": [
    "#for now, I will rename them and deal with them later if required based on the objective of analysis \n",
    "\n",
    "data = data.rename(columns={'unnamed:_22': 'check1','unnamed:_23': 'check2' })"
   ]
  },
  {
   "cell_type": "code",
   "execution_count": 392,
   "id": "98808005",
   "metadata": {},
   "outputs": [
    {
     "data": {
      "text/plain": [
       "Index(['case_number', 'date', 'year', 'type', 'country', 'area', 'location',\n",
       "       'activity', 'name', 'sex_', 'age', 'injury', 'fatal_(y/n)', 'time',\n",
       "       'species_', 'investigator_or_source', 'pdf', 'href_formula', 'href',\n",
       "       'case_number.1', 'case_number.2', 'original_order', 'check1', 'check2'],\n",
       "      dtype='object')"
      ]
     },
     "execution_count": 392,
     "metadata": {},
     "output_type": "execute_result"
    }
   ],
   "source": [
    "data.columns"
   ]
  },
  {
   "cell_type": "code",
   "execution_count": 393,
   "id": "2a30300f",
   "metadata": {},
   "outputs": [
    {
     "data": {
      "text/html": [
       "<div>\n",
       "<style scoped>\n",
       "    .dataframe tbody tr th:only-of-type {\n",
       "        vertical-align: middle;\n",
       "    }\n",
       "\n",
       "    .dataframe tbody tr th {\n",
       "        vertical-align: top;\n",
       "    }\n",
       "\n",
       "    .dataframe thead th {\n",
       "        text-align: right;\n",
       "    }\n",
       "</style>\n",
       "<table border=\"1\" class=\"dataframe\">\n",
       "  <thead>\n",
       "    <tr style=\"text-align: right;\">\n",
       "      <th></th>\n",
       "      <th>count</th>\n",
       "      <th>mean</th>\n",
       "      <th>std</th>\n",
       "      <th>min</th>\n",
       "      <th>25%</th>\n",
       "      <th>50%</th>\n",
       "      <th>75%</th>\n",
       "      <th>max</th>\n",
       "    </tr>\n",
       "  </thead>\n",
       "  <tbody>\n",
       "    <tr>\n",
       "      <th>year</th>\n",
       "      <td>6300.0</td>\n",
       "      <td>1927.272381</td>\n",
       "      <td>281.116308</td>\n",
       "      <td>0.0</td>\n",
       "      <td>1942.0</td>\n",
       "      <td>1977.0</td>\n",
       "      <td>2005.0</td>\n",
       "      <td>2018.0</td>\n",
       "    </tr>\n",
       "    <tr>\n",
       "      <th>original_order</th>\n",
       "      <td>6309.0</td>\n",
       "      <td>3155.999683</td>\n",
       "      <td>1821.396206</td>\n",
       "      <td>2.0</td>\n",
       "      <td>1579.0</td>\n",
       "      <td>3156.0</td>\n",
       "      <td>4733.0</td>\n",
       "      <td>6310.0</td>\n",
       "    </tr>\n",
       "  </tbody>\n",
       "</table>\n",
       "</div>"
      ],
      "text/plain": [
       "                 count         mean          std  min     25%     50%     75%  \\\n",
       "year            6300.0  1927.272381   281.116308  0.0  1942.0  1977.0  2005.0   \n",
       "original_order  6309.0  3155.999683  1821.396206  2.0  1579.0  3156.0  4733.0   \n",
       "\n",
       "                   max  \n",
       "year            2018.0  \n",
       "original_order  6310.0  "
      ]
     },
     "execution_count": 393,
     "metadata": {},
     "output_type": "execute_result"
    }
   ],
   "source": [
    "data.describe().T"
   ]
  },
  {
   "cell_type": "markdown",
   "id": "a58bc54b",
   "metadata": {},
   "source": [
    "## Setting an objective "
   ]
  },
  {
   "cell_type": "markdown",
   "id": "b8728be3",
   "metadata": {},
   "source": [
    "- While the primary purpose of this exercise is 'Data Cleaning', **I will define a 'Data Analysis' objetive**. This will help guide the cleaning process by focusing on the most relevant variables and avoid 'boiling the ocean'.\n",
    "\n",
    "- In this exercise, I will try to **understand the 'fatality' of the shark attacks**. In other words, I will understand if it is correlated with a sub-list of categorical variables (i.e., location, activity, sex, age, time of attack)\n",
    "\n",
    "- Thefore, **I will prioritize those columns in my cleaning process** "
   ]
  },
  {
   "cell_type": "code",
   "execution_count": 394,
   "id": "0ca78651",
   "metadata": {},
   "outputs": [
    {
     "data": {
      "text/plain": [
       "Index(['case_number', 'date', 'year', 'type', 'country', 'area', 'location',\n",
       "       'activity', 'name', 'sex_', 'age', 'injury', 'fatal_(y/n)', 'time',\n",
       "       'species_', 'investigator_or_source', 'pdf', 'href_formula', 'href',\n",
       "       'case_number.1', 'case_number.2', 'original_order', 'check1', 'check2'],\n",
       "      dtype='object')"
      ]
     },
     "execution_count": 394,
     "metadata": {},
     "output_type": "execute_result"
    }
   ],
   "source": [
    "data.columns"
   ]
  },
  {
   "cell_type": "code",
   "execution_count": 395,
   "id": "78f0d910",
   "metadata": {},
   "outputs": [],
   "source": [
    "#as a starting point, I will prioritize those columns for the analysis. This could evolve depending on the quality of the data\n",
    "\n",
    "columns_focus = ['type','country','area','location','activity','sex_','age','fatal_(y/n)','time','species_']"
   ]
  },
  {
   "cell_type": "code",
   "execution_count": 396,
   "id": "16177b2b",
   "metadata": {},
   "outputs": [
    {
     "data": {
      "text/html": [
       "<div>\n",
       "<style scoped>\n",
       "    .dataframe tbody tr th:only-of-type {\n",
       "        vertical-align: middle;\n",
       "    }\n",
       "\n",
       "    .dataframe tbody tr th {\n",
       "        vertical-align: top;\n",
       "    }\n",
       "\n",
       "    .dataframe thead th {\n",
       "        text-align: right;\n",
       "    }\n",
       "</style>\n",
       "<table border=\"1\" class=\"dataframe\">\n",
       "  <thead>\n",
       "    <tr style=\"text-align: right;\">\n",
       "      <th></th>\n",
       "      <th>type</th>\n",
       "      <th>country</th>\n",
       "      <th>area</th>\n",
       "      <th>location</th>\n",
       "      <th>activity</th>\n",
       "      <th>sex_</th>\n",
       "      <th>age</th>\n",
       "      <th>fatal_(y/n)</th>\n",
       "      <th>time</th>\n",
       "      <th>species_</th>\n",
       "    </tr>\n",
       "  </thead>\n",
       "  <tbody>\n",
       "    <tr>\n",
       "      <th>0</th>\n",
       "      <td>Boating</td>\n",
       "      <td>USA</td>\n",
       "      <td>California</td>\n",
       "      <td>Oceanside, San Diego County</td>\n",
       "      <td>Paddling</td>\n",
       "      <td>F</td>\n",
       "      <td>57</td>\n",
       "      <td>N</td>\n",
       "      <td>18h00</td>\n",
       "      <td>White shark</td>\n",
       "    </tr>\n",
       "    <tr>\n",
       "      <th>1</th>\n",
       "      <td>Unprovoked</td>\n",
       "      <td>USA</td>\n",
       "      <td>Georgia</td>\n",
       "      <td>St. Simon Island, Glynn County</td>\n",
       "      <td>Standing</td>\n",
       "      <td>F</td>\n",
       "      <td>11</td>\n",
       "      <td>N</td>\n",
       "      <td>14h00  -15h00</td>\n",
       "      <td>NaN</td>\n",
       "    </tr>\n",
       "    <tr>\n",
       "      <th>2</th>\n",
       "      <td>Invalid</td>\n",
       "      <td>USA</td>\n",
       "      <td>Hawaii</td>\n",
       "      <td>Habush, Oahu</td>\n",
       "      <td>Surfing</td>\n",
       "      <td>M</td>\n",
       "      <td>48</td>\n",
       "      <td>N</td>\n",
       "      <td>07h45</td>\n",
       "      <td>NaN</td>\n",
       "    </tr>\n",
       "    <tr>\n",
       "      <th>3</th>\n",
       "      <td>Unprovoked</td>\n",
       "      <td>AUSTRALIA</td>\n",
       "      <td>New South Wales</td>\n",
       "      <td>Arrawarra Headland</td>\n",
       "      <td>Surfing</td>\n",
       "      <td>M</td>\n",
       "      <td>NaN</td>\n",
       "      <td>N</td>\n",
       "      <td>NaN</td>\n",
       "      <td>2 m shark</td>\n",
       "    </tr>\n",
       "    <tr>\n",
       "      <th>4</th>\n",
       "      <td>Provoked</td>\n",
       "      <td>MEXICO</td>\n",
       "      <td>Colima</td>\n",
       "      <td>La Ticla</td>\n",
       "      <td>Free diving</td>\n",
       "      <td>M</td>\n",
       "      <td>NaN</td>\n",
       "      <td>N</td>\n",
       "      <td>NaN</td>\n",
       "      <td>Tiger shark, 3m</td>\n",
       "    </tr>\n",
       "    <tr>\n",
       "      <th>...</th>\n",
       "      <td>...</td>\n",
       "      <td>...</td>\n",
       "      <td>...</td>\n",
       "      <td>...</td>\n",
       "      <td>...</td>\n",
       "      <td>...</td>\n",
       "      <td>...</td>\n",
       "      <td>...</td>\n",
       "      <td>...</td>\n",
       "      <td>...</td>\n",
       "    </tr>\n",
       "    <tr>\n",
       "      <th>25718</th>\n",
       "      <td>NaN</td>\n",
       "      <td>NaN</td>\n",
       "      <td>NaN</td>\n",
       "      <td>NaN</td>\n",
       "      <td>NaN</td>\n",
       "      <td>NaN</td>\n",
       "      <td>NaN</td>\n",
       "      <td>NaN</td>\n",
       "      <td>NaN</td>\n",
       "      <td>NaN</td>\n",
       "    </tr>\n",
       "    <tr>\n",
       "      <th>25719</th>\n",
       "      <td>NaN</td>\n",
       "      <td>NaN</td>\n",
       "      <td>NaN</td>\n",
       "      <td>NaN</td>\n",
       "      <td>NaN</td>\n",
       "      <td>NaN</td>\n",
       "      <td>NaN</td>\n",
       "      <td>NaN</td>\n",
       "      <td>NaN</td>\n",
       "      <td>NaN</td>\n",
       "    </tr>\n",
       "    <tr>\n",
       "      <th>25720</th>\n",
       "      <td>NaN</td>\n",
       "      <td>NaN</td>\n",
       "      <td>NaN</td>\n",
       "      <td>NaN</td>\n",
       "      <td>NaN</td>\n",
       "      <td>NaN</td>\n",
       "      <td>NaN</td>\n",
       "      <td>NaN</td>\n",
       "      <td>NaN</td>\n",
       "      <td>NaN</td>\n",
       "    </tr>\n",
       "    <tr>\n",
       "      <th>25721</th>\n",
       "      <td>NaN</td>\n",
       "      <td>NaN</td>\n",
       "      <td>NaN</td>\n",
       "      <td>NaN</td>\n",
       "      <td>NaN</td>\n",
       "      <td>NaN</td>\n",
       "      <td>NaN</td>\n",
       "      <td>NaN</td>\n",
       "      <td>NaN</td>\n",
       "      <td>NaN</td>\n",
       "    </tr>\n",
       "    <tr>\n",
       "      <th>25722</th>\n",
       "      <td>NaN</td>\n",
       "      <td>NaN</td>\n",
       "      <td>NaN</td>\n",
       "      <td>NaN</td>\n",
       "      <td>NaN</td>\n",
       "      <td>NaN</td>\n",
       "      <td>NaN</td>\n",
       "      <td>NaN</td>\n",
       "      <td>NaN</td>\n",
       "      <td>NaN</td>\n",
       "    </tr>\n",
       "  </tbody>\n",
       "</table>\n",
       "<p>25723 rows × 10 columns</p>\n",
       "</div>"
      ],
      "text/plain": [
       "             type    country             area                        location  \\\n",
       "0         Boating        USA       California     Oceanside, San Diego County   \n",
       "1      Unprovoked        USA          Georgia  St. Simon Island, Glynn County   \n",
       "2         Invalid        USA           Hawaii                    Habush, Oahu   \n",
       "3      Unprovoked  AUSTRALIA  New South Wales              Arrawarra Headland   \n",
       "4        Provoked     MEXICO           Colima                        La Ticla   \n",
       "...           ...        ...              ...                             ...   \n",
       "25718         NaN        NaN              NaN                             NaN   \n",
       "25719         NaN        NaN              NaN                             NaN   \n",
       "25720         NaN        NaN              NaN                             NaN   \n",
       "25721         NaN        NaN              NaN                             NaN   \n",
       "25722         NaN        NaN              NaN                             NaN   \n",
       "\n",
       "          activity sex_  age fatal_(y/n)           time         species_  \n",
       "0         Paddling    F   57           N          18h00      White shark  \n",
       "1         Standing    F   11           N  14h00  -15h00              NaN  \n",
       "2          Surfing    M   48           N          07h45              NaN  \n",
       "3          Surfing    M  NaN           N            NaN        2 m shark  \n",
       "4      Free diving    M  NaN           N            NaN  Tiger shark, 3m  \n",
       "...            ...  ...  ...         ...            ...              ...  \n",
       "25718          NaN  NaN  NaN         NaN            NaN              NaN  \n",
       "25719          NaN  NaN  NaN         NaN            NaN              NaN  \n",
       "25720          NaN  NaN  NaN         NaN            NaN              NaN  \n",
       "25721          NaN  NaN  NaN         NaN            NaN              NaN  \n",
       "25722          NaN  NaN  NaN         NaN            NaN              NaN  \n",
       "\n",
       "[25723 rows x 10 columns]"
      ]
     },
     "execution_count": 396,
     "metadata": {},
     "output_type": "execute_result"
    }
   ],
   "source": [
    "data[columns_focus]"
   ]
  },
  {
   "cell_type": "markdown",
   "id": "090397ac",
   "metadata": {},
   "source": [
    "## Looking for null values"
   ]
  },
  {
   "cell_type": "code",
   "execution_count": 397,
   "id": "b13114a3",
   "metadata": {},
   "outputs": [
    {
     "data": {
      "text/plain": [
       "case_number               17021\n",
       "date                      19421\n",
       "year                      19423\n",
       "type                      19425\n",
       "country                   19471\n",
       "area                      19876\n",
       "location                  19961\n",
       "activity                  19965\n",
       "name                      19631\n",
       "sex_                      19986\n",
       "age                       22252\n",
       "injury                    19449\n",
       "fatal_(y/n)               19960\n",
       "time                      22775\n",
       "species_                  22259\n",
       "investigator_or_source    19438\n",
       "pdf                       19421\n",
       "href_formula              19422\n",
       "href                      19421\n",
       "case_number.1             19421\n",
       "case_number.2             19421\n",
       "original_order            19414\n",
       "check1                    25722\n",
       "check2                    25721\n",
       "dtype: int64"
      ]
     },
     "execution_count": 397,
     "metadata": {},
     "output_type": "execute_result"
    }
   ],
   "source": [
    "## In absolute terms \n",
    "\n",
    "nan_cols = data.isna().sum()\n",
    "nan_cols"
   ]
  },
  {
   "cell_type": "code",
   "execution_count": 398,
   "id": "6339c676",
   "metadata": {},
   "outputs": [
    {
     "data": {
      "text/plain": [
       "case_number               66.170353\n",
       "date                      75.500525\n",
       "year                      75.508300\n",
       "type                      75.516075\n",
       "country                   75.694903\n",
       "area                      77.269370\n",
       "location                  77.599813\n",
       "activity                  77.615364\n",
       "name                      76.316915\n",
       "sex_                      77.697003\n",
       "age                       86.506240\n",
       "injury                    75.609377\n",
       "fatal_(y/n)               77.595926\n",
       "time                      88.539439\n",
       "species_                  86.533453\n",
       "investigator_or_source    75.566614\n",
       "pdf                       75.500525\n",
       "href_formula              75.504412\n",
       "href                      75.500525\n",
       "case_number.1             75.500525\n",
       "case_number.2             75.500525\n",
       "original_order            75.473312\n",
       "check1                    99.996112\n",
       "check2                    99.992225\n",
       "dtype: float64"
      ]
     },
     "execution_count": 398,
     "metadata": {},
     "output_type": "execute_result"
    }
   ],
   "source": [
    "# In relative terms\n",
    "\n",
    "# Clearly, there are quite a lot of null value in our database, and this includes the priority variables we have defined. \n",
    "# E.g., there is 70%+ of null values in type, country, area, location, activity, sex, age, AND fatal (the variable we are trying to explain) \n",
    "\n",
    "nan_cols = data.isna().mean() * 100\n",
    "nan_cols[nan_cols>0]"
   ]
  },
  {
   "cell_type": "code",
   "execution_count": 399,
   "id": "af895111",
   "metadata": {},
   "outputs": [
    {
     "data": {
      "text/plain": [
       "<Axes: >"
      ]
     },
     "execution_count": 399,
     "metadata": {},
     "output_type": "execute_result"
    },
    {
     "data": {
      "image/png": "[encoded data removed]",
      "text/plain": [
       "<Figure size 1000x600 with 1 Axes>"
      ]
     },
     "metadata": {},
     "output_type": "display_data"
    }
   ],
   "source": [
    "# We can visualize it\n",
    "\n",
    "plt.figure(figsize=(10, 6))  # 100X60  pixeles\n",
    "\n",
    "sns.heatmap(data.isna(),yticklabels=False,cmap='viridis',cbar=False)"
   ]
  },
  {
   "cell_type": "code",
   "execution_count": 400,
   "id": "2926b720",
   "metadata": {},
   "outputs": [
    {
     "data": {
      "text/plain": [
       "<Axes: >"
      ]
     },
     "execution_count": 400,
     "metadata": {},
     "output_type": "execute_result"
    },
    {
     "data": {
      "image/png": "[encoded data removed]",
      "text/plain": [
       "<Figure size 1000x600 with 1 Axes>"
      ]
     },
     "metadata": {},
     "output_type": "display_data"
    }
   ],
   "source": [
    "# Here we look at the same chart, but zooming into our columns of focus \n",
    "\n",
    "plt.figure(figsize=(10, 6))  # 100X60  pixeles\n",
    "\n",
    "sns.heatmap(data[columns_focus].isna(),yticklabels=False,cmap='viridis',cbar=False)"
   ]
  },
  {
   "cell_type": "markdown",
   "id": "a6862dca",
   "metadata": {},
   "source": [
    "## Unknown Colums "
   ]
  },
  {
   "cell_type": "code",
   "execution_count": 401,
   "id": "4c67979a",
   "metadata": {},
   "outputs": [],
   "source": [
    "# I will quickly check if the unknown columns could have relevant info (based on what we've seen above, they might be comment on the data set )"
   ]
  },
  {
   "cell_type": "code",
   "execution_count": 402,
   "id": "3b2820f2",
   "metadata": {},
   "outputs": [
    {
     "data": {
      "text/html": [
       "<div>\n",
       "<style scoped>\n",
       "    .dataframe tbody tr th:only-of-type {\n",
       "        vertical-align: middle;\n",
       "    }\n",
       "\n",
       "    .dataframe tbody tr th {\n",
       "        vertical-align: top;\n",
       "    }\n",
       "\n",
       "    .dataframe thead th {\n",
       "        text-align: right;\n",
       "    }\n",
       "</style>\n",
       "<table border=\"1\" class=\"dataframe\">\n",
       "  <thead>\n",
       "    <tr style=\"text-align: right;\">\n",
       "      <th></th>\n",
       "      <th>case_number</th>\n",
       "      <th>date</th>\n",
       "      <th>year</th>\n",
       "      <th>type</th>\n",
       "      <th>country</th>\n",
       "      <th>area</th>\n",
       "      <th>location</th>\n",
       "      <th>activity</th>\n",
       "      <th>name</th>\n",
       "      <th>sex_</th>\n",
       "      <th>age</th>\n",
       "      <th>injury</th>\n",
       "      <th>fatal_(y/n)</th>\n",
       "      <th>time</th>\n",
       "      <th>species_</th>\n",
       "      <th>investigator_or_source</th>\n",
       "      <th>pdf</th>\n",
       "      <th>href_formula</th>\n",
       "      <th>href</th>\n",
       "      <th>case_number.1</th>\n",
       "      <th>case_number.2</th>\n",
       "      <th>original_order</th>\n",
       "      <th>check1</th>\n",
       "      <th>check2</th>\n",
       "    </tr>\n",
       "  </thead>\n",
       "  <tbody>\n",
       "    <tr>\n",
       "      <th>1478</th>\n",
       "      <td>2006.05.27</td>\n",
       "      <td>27-May-2006</td>\n",
       "      <td>2006.0</td>\n",
       "      <td>Unprovoked</td>\n",
       "      <td>USA</td>\n",
       "      <td>Hawaii</td>\n",
       "      <td>North Shore, O'ahu</td>\n",
       "      <td>Surfing</td>\n",
       "      <td>Bret Desmond</td>\n",
       "      <td>M</td>\n",
       "      <td>31</td>\n",
       "      <td>No injury, shark bumped surfboard</td>\n",
       "      <td>N</td>\n",
       "      <td>16h00</td>\n",
       "      <td>NaN</td>\n",
       "      <td>R. Collier</td>\n",
       "      <td>2006.05.27-Desmond.pdf</td>\n",
       "      <td>http://sharkattackfile.net/spreadsheets/pdf_di...</td>\n",
       "      <td>http://sharkattackfile.net/spreadsheets/pdf_di...</td>\n",
       "      <td>2006.05.27</td>\n",
       "      <td>2006.05.27</td>\n",
       "      <td>4825.0</td>\n",
       "      <td>stopped here</td>\n",
       "      <td>NaN</td>\n",
       "    </tr>\n",
       "  </tbody>\n",
       "</table>\n",
       "</div>"
      ],
      "text/plain": [
       "     case_number         date    year        type country    area  \\\n",
       "1478  2006.05.27  27-May-2006  2006.0  Unprovoked     USA  Hawaii   \n",
       "\n",
       "                location activity          name sex_ age  \\\n",
       "1478  North Shore, O'ahu  Surfing  Bret Desmond    M  31   \n",
       "\n",
       "                                 injury fatal_(y/n)   time species_  \\\n",
       "1478  No injury, shark bumped surfboard           N  16h00      NaN   \n",
       "\n",
       "     investigator_or_source                     pdf  \\\n",
       "1478             R. Collier  2006.05.27-Desmond.pdf   \n",
       "\n",
       "                                           href_formula  \\\n",
       "1478  http://sharkattackfile.net/spreadsheets/pdf_di...   \n",
       "\n",
       "                                                   href case_number.1  \\\n",
       "1478  http://sharkattackfile.net/spreadsheets/pdf_di...    2006.05.27   \n",
       "\n",
       "     case_number.2  original_order        check1 check2  \n",
       "1478    2006.05.27          4825.0  stopped here    NaN  "
      ]
     },
     "execution_count": 402,
     "metadata": {},
     "output_type": "execute_result"
    }
   ],
   "source": [
    "# I will zoom into column check1, where we have the unique value\n",
    "# If it were a note, it coud be refering to the original_order column.  \n",
    "\n",
    "data[data.check1=='stopped here']"
   ]
  },
  {
   "cell_type": "code",
   "execution_count": 403,
   "id": "40f37823",
   "metadata": {},
   "outputs": [
    {
     "data": {
      "text/plain": [
       "Index([1478], dtype='int64')"
      ]
     },
     "execution_count": 403,
     "metadata": {},
     "output_type": "execute_result"
    }
   ],
   "source": [
    "#this is the value index \n",
    "\n",
    "check1_value_index = data[data.check1=='stopped here'].index\n",
    "check1_value_index"
   ]
  },
  {
   "cell_type": "code",
   "execution_count": 404,
   "id": "f1054492",
   "metadata": {},
   "outputs": [
    {
     "data": {
      "text/html": [
       "<div>\n",
       "<style scoped>\n",
       "    .dataframe tbody tr th:only-of-type {\n",
       "        vertical-align: middle;\n",
       "    }\n",
       "\n",
       "    .dataframe tbody tr th {\n",
       "        vertical-align: top;\n",
       "    }\n",
       "\n",
       "    .dataframe thead th {\n",
       "        text-align: right;\n",
       "    }\n",
       "</style>\n",
       "<table border=\"1\" class=\"dataframe\">\n",
       "  <thead>\n",
       "    <tr style=\"text-align: right;\">\n",
       "      <th></th>\n",
       "      <th>case_number</th>\n",
       "      <th>date</th>\n",
       "      <th>year</th>\n",
       "      <th>type</th>\n",
       "      <th>country</th>\n",
       "      <th>area</th>\n",
       "      <th>location</th>\n",
       "      <th>activity</th>\n",
       "      <th>name</th>\n",
       "      <th>sex_</th>\n",
       "      <th>age</th>\n",
       "      <th>injury</th>\n",
       "      <th>fatal_(y/n)</th>\n",
       "      <th>time</th>\n",
       "      <th>species_</th>\n",
       "      <th>investigator_or_source</th>\n",
       "      <th>pdf</th>\n",
       "      <th>href_formula</th>\n",
       "      <th>href</th>\n",
       "      <th>case_number.1</th>\n",
       "      <th>case_number.2</th>\n",
       "      <th>original_order</th>\n",
       "      <th>check1</th>\n",
       "      <th>check2</th>\n",
       "    </tr>\n",
       "  </thead>\n",
       "  <tbody>\n",
       "    <tr>\n",
       "      <th>1477</th>\n",
       "      <td>2006.05.28</td>\n",
       "      <td>28-May-2006</td>\n",
       "      <td>2006.0</td>\n",
       "      <td>Provoked</td>\n",
       "      <td>USA</td>\n",
       "      <td>Hawaii</td>\n",
       "      <td>French Frigate Shoals</td>\n",
       "      <td>Tagging sharks</td>\n",
       "      <td>25' rigid-hulled inflatable boat, HI-2</td>\n",
       "      <td>NaN</td>\n",
       "      <td>NaN</td>\n",
       "      <td>No injury to occupants, boat damaged by hooked...</td>\n",
       "      <td>N</td>\n",
       "      <td>Afternoon</td>\n",
       "      <td>Tiger shark, 15' female</td>\n",
       "      <td>Honolulu Advertiser, 5/29/2006</td>\n",
       "      <td>2006.05.28-HI-2.pdf</td>\n",
       "      <td>http://sharkattackfile.net/spreadsheets/pdf_di...</td>\n",
       "      <td>http://sharkattackfile.net/spreadsheets/pdf_di...</td>\n",
       "      <td>2006.05.28</td>\n",
       "      <td>2006.05.28</td>\n",
       "      <td>4826.0</td>\n",
       "      <td>NaN</td>\n",
       "      <td>NaN</td>\n",
       "    </tr>\n",
       "    <tr>\n",
       "      <th>1478</th>\n",
       "      <td>2006.05.27</td>\n",
       "      <td>27-May-2006</td>\n",
       "      <td>2006.0</td>\n",
       "      <td>Unprovoked</td>\n",
       "      <td>USA</td>\n",
       "      <td>Hawaii</td>\n",
       "      <td>North Shore, O'ahu</td>\n",
       "      <td>Surfing</td>\n",
       "      <td>Bret Desmond</td>\n",
       "      <td>M</td>\n",
       "      <td>31</td>\n",
       "      <td>No injury, shark bumped surfboard</td>\n",
       "      <td>N</td>\n",
       "      <td>16h00</td>\n",
       "      <td>NaN</td>\n",
       "      <td>R. Collier</td>\n",
       "      <td>2006.05.27-Desmond.pdf</td>\n",
       "      <td>http://sharkattackfile.net/spreadsheets/pdf_di...</td>\n",
       "      <td>http://sharkattackfile.net/spreadsheets/pdf_di...</td>\n",
       "      <td>2006.05.27</td>\n",
       "      <td>2006.05.27</td>\n",
       "      <td>4825.0</td>\n",
       "      <td>stopped here</td>\n",
       "      <td>NaN</td>\n",
       "    </tr>\n",
       "    <tr>\n",
       "      <th>1479</th>\n",
       "      <td>2006.05.24</td>\n",
       "      <td>24-May-2006</td>\n",
       "      <td>2006.0</td>\n",
       "      <td>Provoked</td>\n",
       "      <td>USA</td>\n",
       "      <td>Hawaii</td>\n",
       "      <td>Lanai</td>\n",
       "      <td>Spearfishing</td>\n",
       "      <td>Andres Balmacda</td>\n",
       "      <td>M</td>\n",
       "      <td>15</td>\n",
       "      <td>Knee bitten after diver poked shark PROVOKED I...</td>\n",
       "      <td>N</td>\n",
       "      <td>16h30</td>\n",
       "      <td>Grey reef shark, 5' to 8'</td>\n",
       "      <td>Maui News, 5/26/2006</td>\n",
       "      <td>2006.05.24-Balmacda.pdf</td>\n",
       "      <td>http://sharkattackfile.net/spreadsheets/pdf_di...</td>\n",
       "      <td>http://sharkattackfile.net/spreadsheets/pdf_di...</td>\n",
       "      <td>2006.05.24</td>\n",
       "      <td>2006.05.24</td>\n",
       "      <td>4824.0</td>\n",
       "      <td>NaN</td>\n",
       "      <td>NaN</td>\n",
       "    </tr>\n",
       "  </tbody>\n",
       "</table>\n",
       "</div>"
      ],
      "text/plain": [
       "     case_number         date    year        type country    area  \\\n",
       "1477  2006.05.28  28-May-2006  2006.0    Provoked     USA  Hawaii   \n",
       "1478  2006.05.27  27-May-2006  2006.0  Unprovoked     USA  Hawaii   \n",
       "1479  2006.05.24  24-May-2006  2006.0    Provoked     USA  Hawaii   \n",
       "\n",
       "                   location        activity  \\\n",
       "1477  French Frigate Shoals  Tagging sharks   \n",
       "1478     North Shore, O'ahu         Surfing   \n",
       "1479                  Lanai    Spearfishing   \n",
       "\n",
       "                                        name sex_  age  \\\n",
       "1477  25' rigid-hulled inflatable boat, HI-2  NaN  NaN   \n",
       "1478                            Bret Desmond    M   31   \n",
       "1479                         Andres Balmacda    M   15   \n",
       "\n",
       "                                                 injury fatal_(y/n)  \\\n",
       "1477  No injury to occupants, boat damaged by hooked...           N   \n",
       "1478                  No injury, shark bumped surfboard           N   \n",
       "1479  Knee bitten after diver poked shark PROVOKED I...           N   \n",
       "\n",
       "           time                    species_          investigator_or_source  \\\n",
       "1477  Afternoon     Tiger shark, 15' female  Honolulu Advertiser, 5/29/2006   \n",
       "1478      16h00                         NaN                      R. Collier   \n",
       "1479      16h30  Grey reef shark, 5' to 8'             Maui News, 5/26/2006   \n",
       "\n",
       "                          pdf  \\\n",
       "1477      2006.05.28-HI-2.pdf   \n",
       "1478   2006.05.27-Desmond.pdf   \n",
       "1479  2006.05.24-Balmacda.pdf   \n",
       "\n",
       "                                           href_formula  \\\n",
       "1477  http://sharkattackfile.net/spreadsheets/pdf_di...   \n",
       "1478  http://sharkattackfile.net/spreadsheets/pdf_di...   \n",
       "1479  http://sharkattackfile.net/spreadsheets/pdf_di...   \n",
       "\n",
       "                                                   href case_number.1  \\\n",
       "1477  http://sharkattackfile.net/spreadsheets/pdf_di...    2006.05.28   \n",
       "1478  http://sharkattackfile.net/spreadsheets/pdf_di...    2006.05.27   \n",
       "1479  http://sharkattackfile.net/spreadsheets/pdf_di...    2006.05.24   \n",
       "\n",
       "     case_number.2  original_order        check1 check2  \n",
       "1477    2006.05.28          4826.0           NaN    NaN  \n",
       "1478    2006.05.27          4825.0  stopped here    NaN  \n",
       "1479    2006.05.24          4824.0           NaN    NaN  "
      ]
     },
     "execution_count": 404,
     "metadata": {},
     "output_type": "execute_result"
    }
   ],
   "source": [
    "#let me look around it \n",
    "#it says 'stopped here', can I identify anything that has stopped?\n",
    "#for now, does not seem to be relevant, so I will ignore for now \n",
    "\n",
    "data[1477:1480]"
   ]
  },
  {
   "cell_type": "code",
   "execution_count": 405,
   "id": "3a4f28a0",
   "metadata": {},
   "outputs": [
    {
     "data": {
      "text/plain": [
       "Index([1478], dtype='int64')"
      ]
     },
     "execution_count": 405,
     "metadata": {},
     "output_type": "execute_result"
    }
   ],
   "source": [
    "#this is the value index \n",
    "\n",
    "check1_value_index = data[data.check1=='stopped here'].index\n",
    "check1_value_index"
   ]
  },
  {
   "cell_type": "code",
   "execution_count": 406,
   "id": "7c323ed5",
   "metadata": {},
   "outputs": [
    {
     "data": {
      "text/plain": [
       "Index(['case_number', 'date', 'year', 'type', 'country', 'area', 'location',\n",
       "       'activity', 'name', 'sex_', 'age', 'injury', 'fatal_(y/n)', 'time',\n",
       "       'species_', 'investigator_or_source', 'pdf', 'href_formula', 'href',\n",
       "       'case_number.1', 'case_number.2', 'original_order', 'check1', 'check2'],\n",
       "      dtype='object')"
      ]
     },
     "execution_count": 406,
     "metadata": {},
     "output_type": "execute_result"
    }
   ],
   "source": [
    "data.columns"
   ]
  },
  {
   "cell_type": "code",
   "execution_count": 407,
   "id": "3b7de5de",
   "metadata": {},
   "outputs": [
    {
     "data": {
      "text/html": [
       "<div>\n",
       "<style scoped>\n",
       "    .dataframe tbody tr th:only-of-type {\n",
       "        vertical-align: middle;\n",
       "    }\n",
       "\n",
       "    .dataframe tbody tr th {\n",
       "        vertical-align: top;\n",
       "    }\n",
       "\n",
       "    .dataframe thead th {\n",
       "        text-align: right;\n",
       "    }\n",
       "</style>\n",
       "<table border=\"1\" class=\"dataframe\">\n",
       "  <thead>\n",
       "    <tr style=\"text-align: right;\">\n",
       "      <th></th>\n",
       "      <th>case_number</th>\n",
       "      <th>date</th>\n",
       "      <th>year</th>\n",
       "      <th>type</th>\n",
       "      <th>country</th>\n",
       "      <th>area</th>\n",
       "      <th>location</th>\n",
       "      <th>activity</th>\n",
       "      <th>name</th>\n",
       "      <th>sex_</th>\n",
       "      <th>age</th>\n",
       "      <th>injury</th>\n",
       "      <th>fatal_(y/n)</th>\n",
       "      <th>time</th>\n",
       "      <th>species_</th>\n",
       "      <th>investigator_or_source</th>\n",
       "      <th>pdf</th>\n",
       "      <th>href_formula</th>\n",
       "      <th>href</th>\n",
       "      <th>case_number.1</th>\n",
       "      <th>case_number.2</th>\n",
       "      <th>original_order</th>\n",
       "      <th>check1</th>\n",
       "      <th>check2</th>\n",
       "    </tr>\n",
       "  </thead>\n",
       "  <tbody>\n",
       "    <tr>\n",
       "      <th>4415</th>\n",
       "      <td>1952.03.30</td>\n",
       "      <td>30-Mar-1952</td>\n",
       "      <td>1952.0</td>\n",
       "      <td>Unprovoked</td>\n",
       "      <td>NETHERLANDS ANTILLES</td>\n",
       "      <td>Curacao</td>\n",
       "      <td>NaN</td>\n",
       "      <td>Went to aid of child being menaced by the shark</td>\n",
       "      <td>A.J. Eggink</td>\n",
       "      <td>M</td>\n",
       "      <td>NaN</td>\n",
       "      <td>Buttock bitten, tissue removed</td>\n",
       "      <td>N</td>\n",
       "      <td>NaN</td>\n",
       "      <td>Bull shark, 2.7 m [9'] was captured &amp; dragged ...</td>\n",
       "      <td>J. Randall, p.352 in Sharks &amp; Survival; H.D. B...</td>\n",
       "      <td>1952.03.30-Eggink.pdf</td>\n",
       "      <td>http://sharkattackfile.net/spreadsheets/pdf_di...</td>\n",
       "      <td>http://sharkattackfile.net/spreadsheets/pdf_di...</td>\n",
       "      <td>1952.03.30</td>\n",
       "      <td>1952.03.30</td>\n",
       "      <td>1888.0</td>\n",
       "      <td>NaN</td>\n",
       "      <td>Teramo</td>\n",
       "    </tr>\n",
       "    <tr>\n",
       "      <th>5840</th>\n",
       "      <td>1878.09.14.R</td>\n",
       "      <td>Reported 14-Sep-1878</td>\n",
       "      <td>1878.0</td>\n",
       "      <td>Provoked</td>\n",
       "      <td>USA</td>\n",
       "      <td>Connecticut</td>\n",
       "      <td>Branford, New Haven County</td>\n",
       "      <td>Fishing</td>\n",
       "      <td>Captain Pattison</td>\n",
       "      <td>M</td>\n",
       "      <td>NaN</td>\n",
       "      <td>Leg bitten by netted shark PROVOKED INCIDENT</td>\n",
       "      <td>N</td>\n",
       "      <td>NaN</td>\n",
       "      <td>NaN</td>\n",
       "      <td>St. Joseph Herald, 9/14/1878</td>\n",
       "      <td>1878.09.14.R-Pattison.pdf</td>\n",
       "      <td>http://sharkattackfile.net/spreadsheets/pdf_di...</td>\n",
       "      <td>http://sharkattackfile.net/spreadsheets/pdf_di...</td>\n",
       "      <td>1878.09.14.R</td>\n",
       "      <td>1878.09.14.R</td>\n",
       "      <td>463.0</td>\n",
       "      <td>NaN</td>\n",
       "      <td>change filename</td>\n",
       "    </tr>\n",
       "  </tbody>\n",
       "</table>\n",
       "</div>"
      ],
      "text/plain": [
       "       case_number                  date    year        type  \\\n",
       "4415    1952.03.30           30-Mar-1952  1952.0  Unprovoked   \n",
       "5840  1878.09.14.R  Reported 14-Sep-1878  1878.0    Provoked   \n",
       "\n",
       "                   country         area                    location  \\\n",
       "4415  NETHERLANDS ANTILLES      Curacao                         NaN   \n",
       "5840                   USA  Connecticut  Branford, New Haven County   \n",
       "\n",
       "                                             activity              name sex_  \\\n",
       "4415  Went to aid of child being menaced by the shark       A.J. Eggink    M   \n",
       "5840                                          Fishing  Captain Pattison    M   \n",
       "\n",
       "      age                                        injury fatal_(y/n) time  \\\n",
       "4415  NaN                Buttock bitten, tissue removed           N  NaN   \n",
       "5840  NaN  Leg bitten by netted shark PROVOKED INCIDENT           N  NaN   \n",
       "\n",
       "                                               species_  \\\n",
       "4415  Bull shark, 2.7 m [9'] was captured & dragged ...   \n",
       "5840                                                NaN   \n",
       "\n",
       "                                 investigator_or_source  \\\n",
       "4415  J. Randall, p.352 in Sharks & Survival; H.D. B...   \n",
       "5840                       St. Joseph Herald, 9/14/1878   \n",
       "\n",
       "                            pdf  \\\n",
       "4415      1952.03.30-Eggink.pdf   \n",
       "5840  1878.09.14.R-Pattison.pdf   \n",
       "\n",
       "                                           href_formula  \\\n",
       "4415  http://sharkattackfile.net/spreadsheets/pdf_di...   \n",
       "5840  http://sharkattackfile.net/spreadsheets/pdf_di...   \n",
       "\n",
       "                                                   href case_number.1  \\\n",
       "4415  http://sharkattackfile.net/spreadsheets/pdf_di...    1952.03.30   \n",
       "5840  http://sharkattackfile.net/spreadsheets/pdf_di...  1878.09.14.R   \n",
       "\n",
       "     case_number.2  original_order check1           check2  \n",
       "4415    1952.03.30          1888.0    NaN           Teramo  \n",
       "5840  1878.09.14.R           463.0    NaN  change filename  "
      ]
     },
     "execution_count": 407,
     "metadata": {},
     "output_type": "execute_result"
    }
   ],
   "source": [
    "# I will zoom into column check2, where we have the unique values\n",
    "#'Teramo', 'change filename'\n",
    "\n",
    "#for now, does not seem to be relevant, so I will ignore for now\n",
    "\n",
    "data[(data['check2'] == 'Teramo') | (data['check2'] == 'change filename')]\n"
   ]
  },
  {
   "cell_type": "markdown",
   "id": "32f35582",
   "metadata": {},
   "source": [
    "## The issue with Attacks IDs: columns 'case_number', 'case_number.1', 'case_number.2', original_order "
   ]
  },
  {
   "cell_type": "markdown",
   "id": "3e8422c0",
   "metadata": {},
   "source": [
    "- It seems there are different columns to represent the entry key for each shark attack. \n",
    "- case_number', 'case_number.1', 'case_number.2' seem to have similar values, but for not we are now sure. Also, they are clearly quite 'dirty' and would require a lot of work to be cleaned \n",
    "- 'original_order' seems to be a sequential list of values which could also be used to identify the attacks \n",
    "\n",
    "- Since this will not be relevant to the study at hand, I will disregard it for now"
   ]
  },
  {
   "cell_type": "markdown",
   "id": "5dc42f15",
   "metadata": {},
   "source": [
    "## Column fatal_(y/n)"
   ]
  },
  {
   "cell_type": "code",
   "execution_count": 408,
   "id": "2254d430",
   "metadata": {},
   "outputs": [
    {
     "data": {
      "text/plain": [
       "array(['N', 'Y', nan, 'M', 'UNKNOWN', '2017', ' N', 'N ', 'y'],\n",
       "      dtype=object)"
      ]
     },
     "execution_count": 408,
     "metadata": {},
     "output_type": "execute_result"
    }
   ],
   "source": [
    "#since we are trying to explain this variable, let us look into it and clean it. \n",
    "#we have seen above ~78% of its values are null.\n",
    "#although we'd expect Y/N, we see there are different values and therefore we must clean them \n",
    "\n",
    "data['fatal_(y/n)'].unique()"
   ]
  },
  {
   "cell_type": "code",
   "execution_count": 409,
   "id": "ea5e4e4d",
   "metadata": {},
   "outputs": [
    {
     "data": {
      "text/plain": [
       "fatal_(y/n)\n",
       "N          4293\n",
       "Y          1388\n",
       "UNKNOWN      71\n",
       " N            7\n",
       "M             1\n",
       "2017          1\n",
       "N             1\n",
       "y             1\n",
       "Name: count, dtype: int64"
      ]
     },
     "execution_count": 409,
     "metadata": {},
     "output_type": "execute_result"
    }
   ],
   "source": [
    "#lets look into there frequency \n",
    "\n",
    "data['fatal_(y/n)'].value_counts()"
   ]
  },
  {
   "cell_type": "code",
   "execution_count": 410,
   "id": "38da8b61",
   "metadata": {},
   "outputs": [],
   "source": [
    "#if the value is null or unkown, it does not serve our purpose. \n",
    "#also, 2017 is clearly not applicable here. \n",
    "#M could be a typo for N, but since I can not be sure I will remove it "
   ]
  },
  {
   "cell_type": "code",
   "execution_count": 411,
   "id": "369d1528",
   "metadata": {},
   "outputs": [
    {
     "name": "stdout",
     "output_type": "stream",
     "text": [
      "Index([27, 76, 79, 84, 98, 107, 115, 124, 125, 145, 151, 153, 159, 187, 189], dtype='int64')\n"
     ]
    }
   ],
   "source": [
    "#where are my NAs? \n",
    "\n",
    "bad_index_fatal = data['fatal_(y/n)'][data['fatal_(y/n)'].isna()].index\n",
    "print(bad_index_fatal[:15])"
   ]
  },
  {
   "cell_type": "code",
   "execution_count": 412,
   "id": "9b109055",
   "metadata": {},
   "outputs": [],
   "source": [
    "#I will drop them\n",
    "\n",
    "data.drop(bad_index_fatal, axis=0, inplace=True)"
   ]
  },
  {
   "cell_type": "code",
   "execution_count": 413,
   "id": "0f3ccc92",
   "metadata": {},
   "outputs": [
    {
     "name": "stdout",
     "output_type": "stream",
     "text": [
      "(5763, 24)\n",
      "(25723, 24)\n"
     ]
    }
   ],
   "source": [
    "#I am down 19960 values, which is consistent with the absolute count we had done \n",
    "\n",
    "print(data.shape)\n",
    "print(data_original.shape)"
   ]
  },
  {
   "cell_type": "code",
   "execution_count": 414,
   "id": "07b8057e",
   "metadata": {},
   "outputs": [
    {
     "name": "stdout",
     "output_type": "stream",
     "text": [
      "Index([ 285,  624,  786, 1270, 2250, 2260, 2267, 2295, 2307, 2323, 2328, 2388,\n",
      "       2404, 2409, 2648, 2650, 2661, 2806, 2882, 2900, 2943, 2996, 2998, 3006,\n",
      "       3038, 3041, 3298, 3396, 3411, 3429, 3434, 3507, 3545, 3552, 3712, 3774,\n",
      "       3794, 3838, 3841, 4060, 4208, 4256, 4269, 4310, 4323, 4517, 4689, 4786,\n",
      "       4787, 4976, 4998, 5029, 5159, 5270, 5347, 5409, 5555, 5615, 5653, 5656,\n",
      "       5674, 5708, 5709, 5998, 6081, 6153, 6165, 6166, 6167, 6169, 6171, 6172,\n",
      "       6277],\n",
      "      dtype='int64')\n"
     ]
    }
   ],
   "source": [
    "#I will remove ['UNKNOWN', 'M', '2017']\n",
    "\n",
    "bad_index_fatal = data[data['fatal_(y/n)'].isin(['UNKNOWN', 'M', 2017, '2017'])].index\n",
    "print(bad_index_fatal)"
   ]
  },
  {
   "cell_type": "code",
   "execution_count": 415,
   "id": "041d9644",
   "metadata": {},
   "outputs": [
    {
     "data": {
      "text/html": [
       "<div>\n",
       "<style scoped>\n",
       "    .dataframe tbody tr th:only-of-type {\n",
       "        vertical-align: middle;\n",
       "    }\n",
       "\n",
       "    .dataframe tbody tr th {\n",
       "        vertical-align: top;\n",
       "    }\n",
       "\n",
       "    .dataframe thead th {\n",
       "        text-align: right;\n",
       "    }\n",
       "</style>\n",
       "<table border=\"1\" class=\"dataframe\">\n",
       "  <thead>\n",
       "    <tr style=\"text-align: right;\">\n",
       "      <th></th>\n",
       "      <th>case_number</th>\n",
       "      <th>date</th>\n",
       "      <th>year</th>\n",
       "      <th>type</th>\n",
       "      <th>country</th>\n",
       "      <th>area</th>\n",
       "      <th>location</th>\n",
       "      <th>activity</th>\n",
       "      <th>name</th>\n",
       "      <th>sex_</th>\n",
       "      <th>age</th>\n",
       "      <th>injury</th>\n",
       "      <th>fatal_(y/n)</th>\n",
       "      <th>time</th>\n",
       "      <th>species_</th>\n",
       "      <th>investigator_or_source</th>\n",
       "      <th>pdf</th>\n",
       "      <th>href_formula</th>\n",
       "      <th>href</th>\n",
       "      <th>case_number.1</th>\n",
       "      <th>case_number.2</th>\n",
       "      <th>original_order</th>\n",
       "      <th>check1</th>\n",
       "      <th>check2</th>\n",
       "    </tr>\n",
       "  </thead>\n",
       "  <tbody>\n",
       "    <tr>\n",
       "      <th>285</th>\n",
       "      <td>2016.04.18.b</td>\n",
       "      <td>18-Apr-2016</td>\n",
       "      <td>2016.0</td>\n",
       "      <td>Provoked</td>\n",
       "      <td>FRENCH POLYNESIA</td>\n",
       "      <td>Tuamotos</td>\n",
       "      <td>Makemo Atoll</td>\n",
       "      <td>Spearfishing</td>\n",
       "      <td>Hoata Iotua</td>\n",
       "      <td>M</td>\n",
       "      <td>22</td>\n",
       "      <td>Laceration to knee by speared shark PROVOKED I...</td>\n",
       "      <td>M</td>\n",
       "      <td>Morning</td>\n",
       "      <td>Grey reef shark, 2 m</td>\n",
       "      <td>TNTV News, 4/19/2016</td>\n",
       "      <td>2016.04.18.b-Iotua.pdf</td>\n",
       "      <td>http://sharkattackfile.net/spreadsheets/pdf_di...</td>\n",
       "      <td>http://sharkattackfile.net/spreadsheets/pdf_di...</td>\n",
       "      <td>2016.04.18.b</td>\n",
       "      <td>2016.04.18.b</td>\n",
       "      <td>6018.0</td>\n",
       "      <td>NaN</td>\n",
       "      <td>NaN</td>\n",
       "    </tr>\n",
       "    <tr>\n",
       "      <th>624</th>\n",
       "      <td>2013.09.08</td>\n",
       "      <td>08-Sep-2013</td>\n",
       "      <td>2013.0</td>\n",
       "      <td>Unprovoked</td>\n",
       "      <td>USA</td>\n",
       "      <td>South Carolina</td>\n",
       "      <td>St. Helena Island, Beaufort County</td>\n",
       "      <td>NaN</td>\n",
       "      <td>female</td>\n",
       "      <td>F</td>\n",
       "      <td>NaN</td>\n",
       "      <td>No details</td>\n",
       "      <td>UNKNOWN</td>\n",
       "      <td>NaN</td>\n",
       "      <td>NaN</td>\n",
       "      <td>WIS-TV, 9/9/2013</td>\n",
       "      <td>2013.09.08-St-Helena.pdf</td>\n",
       "      <td>http://sharkattackfile.net/spreadsheets/pdf_di...</td>\n",
       "      <td>http://sharkattackfile.net/spreadsheets/pdf_di...</td>\n",
       "      <td>2013.09.08</td>\n",
       "      <td>2013.09.08</td>\n",
       "      <td>5679.0</td>\n",
       "      <td>NaN</td>\n",
       "      <td>NaN</td>\n",
       "    </tr>\n",
       "    <tr>\n",
       "      <th>786</th>\n",
       "      <td>2012.06.10</td>\n",
       "      <td>10-Jun-2012</td>\n",
       "      <td>2012.0</td>\n",
       "      <td>Provoked</td>\n",
       "      <td>ITALY</td>\n",
       "      <td>Sardinia</td>\n",
       "      <td>Muravera</td>\n",
       "      <td>Attempting to rescue an injured &amp; beached shark</td>\n",
       "      <td>Giorgio Zara</td>\n",
       "      <td>M</td>\n",
       "      <td>57</td>\n",
       "      <td>Lower left leg injured PROVOKED ACCIDENT</td>\n",
       "      <td>2017</td>\n",
       "      <td>Morning</td>\n",
       "      <td>Blue shark, 2.5m</td>\n",
       "      <td>D. Puddo, 6/11/2012</td>\n",
       "      <td>2012.06.10-Zara.pdf</td>\n",
       "      <td>http://sharkattackfile.net/spreadsheets/pdf_di...</td>\n",
       "      <td>http://sharkattackfile.net/spreadsheets/pdf_di...</td>\n",
       "      <td>2012.06.10</td>\n",
       "      <td>2012.06.10</td>\n",
       "      <td>5517.0</td>\n",
       "      <td>NaN</td>\n",
       "      <td>NaN</td>\n",
       "    </tr>\n",
       "    <tr>\n",
       "      <th>1270</th>\n",
       "      <td>2008.04.20.a</td>\n",
       "      <td>20-Apr-2008</td>\n",
       "      <td>2008.0</td>\n",
       "      <td>Unprovoked</td>\n",
       "      <td>AUSTRALIA</td>\n",
       "      <td>New South Wales</td>\n",
       "      <td>Crescent Head</td>\n",
       "      <td>NaN</td>\n",
       "      <td>Jamie Adlington</td>\n",
       "      <td>M</td>\n",
       "      <td>NaN</td>\n",
       "      <td>NaN</td>\n",
       "      <td>UNKNOWN</td>\n",
       "      <td>NaN</td>\n",
       "      <td>Tiger shark, 2.3m</td>\n",
       "      <td>T. Peake, GSAF</td>\n",
       "      <td>2008.04.20.a-Adlington.pdf</td>\n",
       "      <td>http://sharkattackfile.net/spreadsheets/pdf_di...</td>\n",
       "      <td>http://sharkattackfile.net/spreadsheets/pdf_di...</td>\n",
       "      <td>2008.04.20.a</td>\n",
       "      <td>2008.04.20.a</td>\n",
       "      <td>5033.0</td>\n",
       "      <td>NaN</td>\n",
       "      <td>NaN</td>\n",
       "    </tr>\n",
       "    <tr>\n",
       "      <th>2250</th>\n",
       "      <td>1997.06.07</td>\n",
       "      <td>07-Jun-1997</td>\n",
       "      <td>1997.0</td>\n",
       "      <td>Unprovoked</td>\n",
       "      <td>BRAZIL</td>\n",
       "      <td>Rio de Janeiro</td>\n",
       "      <td>Copacabana, Rio de Janeiro</td>\n",
       "      <td>Bathing</td>\n",
       "      <td>José Luiz Lipiani</td>\n",
       "      <td>M</td>\n",
       "      <td>NaN</td>\n",
       "      <td>NaN</td>\n",
       "      <td>UNKNOWN</td>\n",
       "      <td>NaN</td>\n",
       "      <td>NaN</td>\n",
       "      <td>Globo, 6/9/1997</td>\n",
       "      <td>1997.06.07-NV-Lipiani.pdf</td>\n",
       "      <td>http://sharkattackfile.net/spreadsheets/pdf_di...</td>\n",
       "      <td>http://sharkattackfile.net/spreadsheets/pdf_di...</td>\n",
       "      <td>1997.06.07</td>\n",
       "      <td>1997.06.07</td>\n",
       "      <td>4053.0</td>\n",
       "      <td>NaN</td>\n",
       "      <td>NaN</td>\n",
       "    </tr>\n",
       "    <tr>\n",
       "      <th>...</th>\n",
       "      <td>...</td>\n",
       "      <td>...</td>\n",
       "      <td>...</td>\n",
       "      <td>...</td>\n",
       "      <td>...</td>\n",
       "      <td>...</td>\n",
       "      <td>...</td>\n",
       "      <td>...</td>\n",
       "      <td>...</td>\n",
       "      <td>...</td>\n",
       "      <td>...</td>\n",
       "      <td>...</td>\n",
       "      <td>...</td>\n",
       "      <td>...</td>\n",
       "      <td>...</td>\n",
       "      <td>...</td>\n",
       "      <td>...</td>\n",
       "      <td>...</td>\n",
       "      <td>...</td>\n",
       "      <td>...</td>\n",
       "      <td>...</td>\n",
       "      <td>...</td>\n",
       "      <td>...</td>\n",
       "      <td>...</td>\n",
       "    </tr>\n",
       "    <tr>\n",
       "      <th>6167</th>\n",
       "      <td>1617.00.00.R</td>\n",
       "      <td>Reported 1617</td>\n",
       "      <td>1617.0</td>\n",
       "      <td>Unprovoked</td>\n",
       "      <td>INDIA</td>\n",
       "      <td>West Bengal</td>\n",
       "      <td>Ganges Delta</td>\n",
       "      <td>NaN</td>\n",
       "      <td>Indian people</td>\n",
       "      <td>NaN</td>\n",
       "      <td>NaN</td>\n",
       "      <td>NaN</td>\n",
       "      <td>UNKNOWN</td>\n",
       "      <td>NaN</td>\n",
       "      <td>NaN</td>\n",
       "      <td>H. Edwards, p.31, citing Samuel Purchas</td>\n",
       "      <td>1617.00.00-Purchas.pdf</td>\n",
       "      <td>http://sharkattackfile.net/spreadsheets/pdf_di...</td>\n",
       "      <td>http://sharkattackfile.net/spreadsheets/pdf_di...</td>\n",
       "      <td>1617.00.00.R</td>\n",
       "      <td>1617.00.00.R</td>\n",
       "      <td>136.0</td>\n",
       "      <td>NaN</td>\n",
       "      <td>NaN</td>\n",
       "    </tr>\n",
       "    <tr>\n",
       "      <th>6169</th>\n",
       "      <td>1595.00.00</td>\n",
       "      <td>1595</td>\n",
       "      <td>1595.0</td>\n",
       "      <td>Unprovoked</td>\n",
       "      <td>INDIA</td>\n",
       "      <td>Kerala</td>\n",
       "      <td>River Cochin</td>\n",
       "      <td>Ship lay at anchor &amp; man was working on its ru...</td>\n",
       "      <td>male</td>\n",
       "      <td>M</td>\n",
       "      <td>NaN</td>\n",
       "      <td>Leg severed mid-thigh, hand severed, arm above...</td>\n",
       "      <td>UNKNOWN</td>\n",
       "      <td>NaN</td>\n",
       "      <td>NaN</td>\n",
       "      <td>The Voyage of John Huyghen van Linschoten</td>\n",
       "      <td>1595.00.00-Cochin.pdf</td>\n",
       "      <td>http://sharkattackfile.net/spreadsheets/pdf_di...</td>\n",
       "      <td>http://sharkattackfile.net/spreadsheets/pdf_di...</td>\n",
       "      <td>1595.00.00</td>\n",
       "      <td>1595.00.00</td>\n",
       "      <td>134.0</td>\n",
       "      <td>NaN</td>\n",
       "      <td>NaN</td>\n",
       "    </tr>\n",
       "    <tr>\n",
       "      <th>6171</th>\n",
       "      <td>1555.00.00</td>\n",
       "      <td>1555</td>\n",
       "      <td>1555.0</td>\n",
       "      <td>Unprovoked</td>\n",
       "      <td>NaN</td>\n",
       "      <td>NaN</td>\n",
       "      <td>NaN</td>\n",
       "      <td>Swimming</td>\n",
       "      <td>male</td>\n",
       "      <td>M</td>\n",
       "      <td>NaN</td>\n",
       "      <td>NaN</td>\n",
       "      <td>UNKNOWN</td>\n",
       "      <td>NaN</td>\n",
       "      <td>NaN</td>\n",
       "      <td>Olaus Magnus</td>\n",
       "      <td>1555.00.00 - Olaus Magnus.pdf</td>\n",
       "      <td>http://sharkattackfile.net/spreadsheets/pdf_di...</td>\n",
       "      <td>http://sharkattackfile.net/spreadsheets/pdf_di...</td>\n",
       "      <td>1555.00.00</td>\n",
       "      <td>1555.00.00</td>\n",
       "      <td>132.0</td>\n",
       "      <td>NaN</td>\n",
       "      <td>NaN</td>\n",
       "    </tr>\n",
       "    <tr>\n",
       "      <th>6172</th>\n",
       "      <td>1554.00.00</td>\n",
       "      <td>Ca. 1554</td>\n",
       "      <td>1554.0</td>\n",
       "      <td>Unprovoked</td>\n",
       "      <td>FRANCE</td>\n",
       "      <td>Nice &amp; Marseilles</td>\n",
       "      <td>NaN</td>\n",
       "      <td>NaN</td>\n",
       "      <td>males (wearing armor)</td>\n",
       "      <td>M</td>\n",
       "      <td>NaN</td>\n",
       "      <td>NaN</td>\n",
       "      <td>UNKNOWN</td>\n",
       "      <td>NaN</td>\n",
       "      <td>Possibly white sharks</td>\n",
       "      <td>G. Rondelet</td>\n",
       "      <td>1554.00.00-Rondelet.pdf</td>\n",
       "      <td>http://sharkattackfile.net/spreadsheets/pdf_di...</td>\n",
       "      <td>http://sharkattackfile.net/spreadsheets/pdf_di...</td>\n",
       "      <td>1554.00.00</td>\n",
       "      <td>1554.00.00</td>\n",
       "      <td>131.0</td>\n",
       "      <td>NaN</td>\n",
       "      <td>NaN</td>\n",
       "    </tr>\n",
       "    <tr>\n",
       "      <th>6277</th>\n",
       "      <td>ND.0025</td>\n",
       "      <td>Before 1927</td>\n",
       "      <td>0.0</td>\n",
       "      <td>Unprovoked</td>\n",
       "      <td>AUSTRALIA</td>\n",
       "      <td>New South Wales</td>\n",
       "      <td>Spectacle Island, Port Jackson</td>\n",
       "      <td>NaN</td>\n",
       "      <td>male, the Sergeant of Marines</td>\n",
       "      <td>M</td>\n",
       "      <td>NaN</td>\n",
       "      <td>NaN</td>\n",
       "      <td>UNKNOWN</td>\n",
       "      <td>NaN</td>\n",
       "      <td>NaN</td>\n",
       "      <td>H. Capper</td>\n",
       "      <td>ND-0025-Sgt-SpectacleIsland.pdf</td>\n",
       "      <td>http://sharkattackfile.net/spreadsheets/pdf_di...</td>\n",
       "      <td>http://sharkattackfile.net/spreadsheets/pdf_di...</td>\n",
       "      <td>ND.0025</td>\n",
       "      <td>ND.0025</td>\n",
       "      <td>26.0</td>\n",
       "      <td>NaN</td>\n",
       "      <td>NaN</td>\n",
       "    </tr>\n",
       "  </tbody>\n",
       "</table>\n",
       "<p>73 rows × 24 columns</p>\n",
       "</div>"
      ],
      "text/plain": [
       "       case_number           date    year        type           country  \\\n",
       "285   2016.04.18.b    18-Apr-2016  2016.0    Provoked  FRENCH POLYNESIA   \n",
       "624     2013.09.08    08-Sep-2013  2013.0  Unprovoked               USA   \n",
       "786     2012.06.10    10-Jun-2012  2012.0    Provoked             ITALY   \n",
       "1270  2008.04.20.a    20-Apr-2008  2008.0  Unprovoked         AUSTRALIA   \n",
       "2250    1997.06.07    07-Jun-1997  1997.0  Unprovoked            BRAZIL   \n",
       "...            ...            ...     ...         ...               ...   \n",
       "6167  1617.00.00.R  Reported 1617  1617.0  Unprovoked             INDIA   \n",
       "6169    1595.00.00           1595  1595.0  Unprovoked             INDIA   \n",
       "6171    1555.00.00           1555  1555.0  Unprovoked               NaN   \n",
       "6172    1554.00.00       Ca. 1554  1554.0  Unprovoked            FRANCE   \n",
       "6277       ND.0025    Before 1927     0.0  Unprovoked         AUSTRALIA   \n",
       "\n",
       "                   area                            location  \\\n",
       "285            Tuamotos                        Makemo Atoll   \n",
       "624      South Carolina  St. Helena Island, Beaufort County   \n",
       "786            Sardinia                            Muravera   \n",
       "1270    New South Wales                       Crescent Head   \n",
       "2250     Rio de Janeiro          Copacabana, Rio de Janeiro   \n",
       "...                 ...                                 ...   \n",
       "6167        West Bengal                        Ganges Delta   \n",
       "6169             Kerala                        River Cochin   \n",
       "6171                NaN                                 NaN   \n",
       "6172  Nice & Marseilles                                 NaN   \n",
       "6277    New South Wales      Spectacle Island, Port Jackson   \n",
       "\n",
       "                                               activity  \\\n",
       "285                                        Spearfishing   \n",
       "624                                                 NaN   \n",
       "786     Attempting to rescue an injured & beached shark   \n",
       "1270                                                NaN   \n",
       "2250                                            Bathing   \n",
       "...                                                 ...   \n",
       "6167                                                NaN   \n",
       "6169  Ship lay at anchor & man was working on its ru...   \n",
       "6171                                           Swimming   \n",
       "6172                                                NaN   \n",
       "6277                                                NaN   \n",
       "\n",
       "                               name sex_  age  \\\n",
       "285                     Hoata Iotua    M   22   \n",
       "624                          female    F  NaN   \n",
       "786                    Giorgio Zara    M   57   \n",
       "1270                Jamie Adlington    M  NaN   \n",
       "2250              José Luiz Lipiani    M  NaN   \n",
       "...                             ...  ...  ...   \n",
       "6167                  Indian people  NaN  NaN   \n",
       "6169                           male    M  NaN   \n",
       "6171                           male    M  NaN   \n",
       "6172          males (wearing armor)    M  NaN   \n",
       "6277  male, the Sergeant of Marines    M  NaN   \n",
       "\n",
       "                                                 injury fatal_(y/n)     time  \\\n",
       "285   Laceration to knee by speared shark PROVOKED I...           M  Morning   \n",
       "624                                          No details     UNKNOWN      NaN   \n",
       "786            Lower left leg injured PROVOKED ACCIDENT        2017  Morning   \n",
       "1270                                                NaN     UNKNOWN      NaN   \n",
       "2250                                                NaN     UNKNOWN      NaN   \n",
       "...                                                 ...         ...      ...   \n",
       "6167                                                NaN     UNKNOWN      NaN   \n",
       "6169  Leg severed mid-thigh, hand severed, arm above...     UNKNOWN      NaN   \n",
       "6171                                                NaN     UNKNOWN      NaN   \n",
       "6172                                                NaN     UNKNOWN      NaN   \n",
       "6277                                                NaN     UNKNOWN      NaN   \n",
       "\n",
       "                   species_                     investigator_or_source  \\\n",
       "285    Grey reef shark, 2 m                       TNTV News, 4/19/2016   \n",
       "624                     NaN                           WIS-TV, 9/9/2013   \n",
       "786        Blue shark, 2.5m                        D. Puddo, 6/11/2012   \n",
       "1270     Tiger shark, 2.3m                              T. Peake, GSAF   \n",
       "2250                    NaN                            Globo, 6/9/1997   \n",
       "...                     ...                                        ...   \n",
       "6167                    NaN    H. Edwards, p.31, citing Samuel Purchas   \n",
       "6169                    NaN  The Voyage of John Huyghen van Linschoten   \n",
       "6171                    NaN                               Olaus Magnus   \n",
       "6172  Possibly white sharks                               G. Rondelet    \n",
       "6277                    NaN                                  H. Capper   \n",
       "\n",
       "                                  pdf  \\\n",
       "285            2016.04.18.b-Iotua.pdf   \n",
       "624          2013.09.08-St-Helena.pdf   \n",
       "786               2012.06.10-Zara.pdf   \n",
       "1270       2008.04.20.a-Adlington.pdf   \n",
       "2250        1997.06.07-NV-Lipiani.pdf   \n",
       "...                               ...   \n",
       "6167           1617.00.00-Purchas.pdf   \n",
       "6169            1595.00.00-Cochin.pdf   \n",
       "6171    1555.00.00 - Olaus Magnus.pdf   \n",
       "6172          1554.00.00-Rondelet.pdf   \n",
       "6277  ND-0025-Sgt-SpectacleIsland.pdf   \n",
       "\n",
       "                                           href_formula  \\\n",
       "285   http://sharkattackfile.net/spreadsheets/pdf_di...   \n",
       "624   http://sharkattackfile.net/spreadsheets/pdf_di...   \n",
       "786   http://sharkattackfile.net/spreadsheets/pdf_di...   \n",
       "1270  http://sharkattackfile.net/spreadsheets/pdf_di...   \n",
       "2250  http://sharkattackfile.net/spreadsheets/pdf_di...   \n",
       "...                                                 ...   \n",
       "6167  http://sharkattackfile.net/spreadsheets/pdf_di...   \n",
       "6169  http://sharkattackfile.net/spreadsheets/pdf_di...   \n",
       "6171  http://sharkattackfile.net/spreadsheets/pdf_di...   \n",
       "6172  http://sharkattackfile.net/spreadsheets/pdf_di...   \n",
       "6277  http://sharkattackfile.net/spreadsheets/pdf_di...   \n",
       "\n",
       "                                                   href case_number.1  \\\n",
       "285   http://sharkattackfile.net/spreadsheets/pdf_di...  2016.04.18.b   \n",
       "624   http://sharkattackfile.net/spreadsheets/pdf_di...    2013.09.08   \n",
       "786   http://sharkattackfile.net/spreadsheets/pdf_di...    2012.06.10   \n",
       "1270  http://sharkattackfile.net/spreadsheets/pdf_di...  2008.04.20.a   \n",
       "2250  http://sharkattackfile.net/spreadsheets/pdf_di...    1997.06.07   \n",
       "...                                                 ...           ...   \n",
       "6167  http://sharkattackfile.net/spreadsheets/pdf_di...  1617.00.00.R   \n",
       "6169  http://sharkattackfile.net/spreadsheets/pdf_di...    1595.00.00   \n",
       "6171  http://sharkattackfile.net/spreadsheets/pdf_di...    1555.00.00   \n",
       "6172  http://sharkattackfile.net/spreadsheets/pdf_di...    1554.00.00   \n",
       "6277  http://sharkattackfile.net/spreadsheets/pdf_di...       ND.0025   \n",
       "\n",
       "     case_number.2  original_order check1 check2  \n",
       "285   2016.04.18.b          6018.0    NaN    NaN  \n",
       "624     2013.09.08          5679.0    NaN    NaN  \n",
       "786     2012.06.10          5517.0    NaN    NaN  \n",
       "1270  2008.04.20.a          5033.0    NaN    NaN  \n",
       "2250    1997.06.07          4053.0    NaN    NaN  \n",
       "...            ...             ...    ...    ...  \n",
       "6167  1617.00.00.R           136.0    NaN    NaN  \n",
       "6169    1595.00.00           134.0    NaN    NaN  \n",
       "6171    1555.00.00           132.0    NaN    NaN  \n",
       "6172    1554.00.00           131.0    NaN    NaN  \n",
       "6277       ND.0025            26.0    NaN    NaN  \n",
       "\n",
       "[73 rows x 24 columns]"
      ]
     },
     "execution_count": 415,
     "metadata": {},
     "output_type": "execute_result"
    }
   ],
   "source": [
    "#quick check \n",
    "data[data['fatal_(y/n)'].isin(['UNKNOWN', 'M', 2017, '2017'])]"
   ]
  },
  {
   "cell_type": "code",
   "execution_count": 416,
   "id": "f3282f12",
   "metadata": {},
   "outputs": [],
   "source": [
    "#I will remove ['UNKNOWN', 'M', '2017']\n",
    "\n",
    "data.drop(bad_index_fatal, axis=0, inplace=True)"
   ]
  },
  {
   "cell_type": "code",
   "execution_count": 417,
   "id": "dd7f1970",
   "metadata": {},
   "outputs": [
    {
     "name": "stdout",
     "output_type": "stream",
     "text": [
      "(5690, 24)\n",
      "(25723, 24)\n"
     ]
    }
   ],
   "source": [
    "#I am down 73 values\n",
    "\n",
    "print(data.shape)\n",
    "print(data_original.shape)"
   ]
  },
  {
   "cell_type": "code",
   "execution_count": 418,
   "id": "5f6d922e",
   "metadata": {},
   "outputs": [
    {
     "data": {
      "text/plain": [
       "fatal_(y/n)\n",
       "N     4293\n",
       "Y     1388\n",
       " N       7\n",
       "N        1\n",
       "y        1\n",
       "Name: count, dtype: int64"
      ]
     },
     "execution_count": 418,
     "metadata": {},
     "output_type": "execute_result"
    }
   ],
   "source": [
    "#lastly, I will clean the rest of strings to be uppercase, no space\n",
    "\n",
    "data['fatal_(y/n)'].value_counts()"
   ]
  },
  {
   "cell_type": "code",
   "execution_count": 419,
   "id": "f7ad99e5",
   "metadata": {},
   "outputs": [
    {
     "data": {
      "text/plain": [
       "'Y'"
      ]
     },
     "execution_count": 419,
     "metadata": {},
     "output_type": "execute_result"
    }
   ],
   "source": [
    "#testing for one \n",
    "\n",
    "string = 'y '\n",
    "string.upper().replace(' ','')"
   ]
  },
  {
   "cell_type": "code",
   "execution_count": 420,
   "id": "993c9dd5",
   "metadata": {},
   "outputs": [],
   "source": [
    "data['fatal_(y/n)'] = data['fatal_(y/n)'].apply(lambda X: X.upper().replace(' ', ''))"
   ]
  },
  {
   "cell_type": "code",
   "execution_count": 421,
   "id": "dca807bc",
   "metadata": {},
   "outputs": [
    {
     "data": {
      "text/plain": [
       "fatal_(y/n)\n",
       "N    4301\n",
       "Y    1389\n",
       "Name: count, dtype: int64"
      ]
     },
     "execution_count": 421,
     "metadata": {},
     "output_type": "execute_result"
    }
   ],
   "source": [
    "#he limpiado la columna \n",
    "\n",
    "data['fatal_(y/n)'].value_counts()"
   ]
  },
  {
   "cell_type": "markdown",
   "id": "44923f8e",
   "metadata": {},
   "source": [
    "## Column Sex_"
   ]
  },
  {
   "cell_type": "code",
   "execution_count": 422,
   "id": "ad7526c9",
   "metadata": {},
   "outputs": [
    {
     "data": {
      "text/plain": [
       "case_number                  1\n",
       "year                         1\n",
       "type                         3\n",
       "country                     43\n",
       "area                       397\n",
       "location                   472\n",
       "activity                   384\n",
       "name                       145\n",
       "sex_                       456\n",
       "age                       2458\n",
       "injury                       1\n",
       "time                      2897\n",
       "species_                  2761\n",
       "investigator_or_source      11\n",
       "href_formula                 1\n",
       "check1                    5689\n",
       "check2                    5688\n",
       "dtype: int64"
      ]
     },
     "execution_count": 422,
     "metadata": {},
     "output_type": "execute_result"
    }
   ],
   "source": [
    "# Let us look at null values again\n",
    "# 456 of sex_ values are null (~8%)\n",
    "\n",
    "nan_cols = data.isna().sum()\n",
    "nan_cols[nan_cols>0]"
   ]
  },
  {
   "cell_type": "code",
   "execution_count": 423,
   "id": "31305172",
   "metadata": {},
   "outputs": [
    {
     "data": {
      "text/plain": [
       "(5690, 24)"
      ]
     },
     "execution_count": 423,
     "metadata": {},
     "output_type": "execute_result"
    }
   ],
   "source": [
    "#we still have 5690 values (threshold is 2500), so will drop nulls (could potentially derive from name, but it would be a lot of effort with low return)\n",
    "\n",
    "data.shape"
   ]
  },
  {
   "cell_type": "code",
   "execution_count": 424,
   "id": "df333c74",
   "metadata": {},
   "outputs": [
    {
     "name": "stdout",
     "output_type": "stream",
     "text": [
      "Index([32, 59, 86, 154, 179, 218, 243, 326, 446, 463, 465, 475, 513, 529, 560], dtype='int64')\n"
     ]
    }
   ],
   "source": [
    "#bad indices \n",
    "\n",
    "bad_index_sex_ = data['sex_'][data['sex_'].isna()].index\n",
    "print(bad_index_sex_[:15])"
   ]
  },
  {
   "cell_type": "code",
   "execution_count": 425,
   "id": "95965751",
   "metadata": {},
   "outputs": [],
   "source": [
    "#drop \n",
    "data.drop(bad_index_sex_, axis=0, inplace=True)"
   ]
  },
  {
   "cell_type": "code",
   "execution_count": 426,
   "id": "bafb88c2",
   "metadata": {},
   "outputs": [
    {
     "name": "stdout",
     "output_type": "stream",
     "text": [
      "(5234, 24)\n",
      "(25723, 24)\n"
     ]
    }
   ],
   "source": [
    "#I am down 456 values, consistent with the above\n",
    "\n",
    "print(data.shape)\n",
    "print(data_original.shape)"
   ]
  },
  {
   "cell_type": "code",
   "execution_count": 427,
   "id": "21e1eb34",
   "metadata": {},
   "outputs": [
    {
     "data": {
      "text/plain": [
       "array(['F', 'M', 'M ', 'lli', 'N', '.'], dtype=object)"
      ]
     },
     "execution_count": 427,
     "metadata": {},
     "output_type": "execute_result"
    }
   ],
   "source": [
    "#what are the other values \n",
    "\n",
    "data.sex_.unique()"
   ]
  },
  {
   "cell_type": "code",
   "execution_count": 428,
   "id": "b5b66486",
   "metadata": {},
   "outputs": [
    {
     "data": {
      "text/plain": [
       "sex_\n",
       "M      4653\n",
       "F       575\n",
       "M         2\n",
       "N         2\n",
       "lli       1\n",
       ".         1\n",
       "Name: count, dtype: int64"
      ]
     },
     "execution_count": 428,
     "metadata": {},
     "output_type": "execute_result"
    }
   ],
   "source": [
    "data.sex_.value_counts()"
   ]
  },
  {
   "cell_type": "code",
   "execution_count": 429,
   "id": "7f2aecc5",
   "metadata": {},
   "outputs": [
    {
     "name": "stdout",
     "output_type": "stream",
     "text": [
      "Index([1624, 4938, 5437, 6131], dtype='int64')\n"
     ]
    }
   ],
   "source": [
    "#N and 'ili' are not sex categories. I will remove them \n",
    "\n",
    "bad_index_sex_ = data[data['sex_'].isin(['N', '.','lli'])].index\n",
    "print(bad_index_sex_)"
   ]
  },
  {
   "cell_type": "code",
   "execution_count": 430,
   "id": "a444e99f",
   "metadata": {},
   "outputs": [],
   "source": [
    "#drop \n",
    "data.drop(bad_index_sex_, axis=0, inplace=True)"
   ]
  },
  {
   "cell_type": "code",
   "execution_count": 431,
   "id": "bb88a34f",
   "metadata": {},
   "outputs": [
    {
     "data": {
      "text/plain": [
       "sex_\n",
       "M     4653\n",
       "F      575\n",
       "M        2\n",
       "Name: count, dtype: int64"
      ]
     },
     "execution_count": 431,
     "metadata": {},
     "output_type": "execute_result"
    }
   ],
   "source": [
    "data.sex_.value_counts()"
   ]
  },
  {
   "cell_type": "code",
   "execution_count": 432,
   "id": "9a01efe5",
   "metadata": {},
   "outputs": [],
   "source": [
    "data['sex_'] = data['sex_'].apply(lambda X: X.upper().replace(' ', ''))"
   ]
  },
  {
   "cell_type": "code",
   "execution_count": 433,
   "id": "d1243571",
   "metadata": {},
   "outputs": [
    {
     "data": {
      "text/plain": [
       "sex_\n",
       "M    4655\n",
       "F     575\n",
       "Name: count, dtype: int64"
      ]
     },
     "execution_count": 433,
     "metadata": {},
     "output_type": "execute_result"
    }
   ],
   "source": [
    "#clean!\n",
    "\n",
    "data.sex_.value_counts()"
   ]
  },
  {
   "cell_type": "markdown",
   "id": "081da6ed",
   "metadata": {},
   "source": [
    "## Column Activity"
   ]
  },
  {
   "cell_type": "code",
   "execution_count": 434,
   "id": "d29477e4",
   "metadata": {},
   "outputs": [
    {
     "data": {
      "text/plain": [
       "case_number                  1\n",
       "year                         1\n",
       "type                         3\n",
       "country                     39\n",
       "area                       346\n",
       "location                   420\n",
       "activity                   290\n",
       "name                        52\n",
       "age                       2032\n",
       "injury                       1\n",
       "time                      2529\n",
       "species_                  2543\n",
       "investigator_or_source      10\n",
       "href_formula                 1\n",
       "check1                    5229\n",
       "check2                    5228\n",
       "dtype: int64"
      ]
     },
     "execution_count": 434,
     "metadata": {},
     "output_type": "execute_result"
    }
   ],
   "source": [
    "# Let us look at null values again\n",
    "# 290 of activity values are null (5%)\n",
    "\n",
    "nan_cols = data.isna().sum()\n",
    "nan_cols[nan_cols>0]"
   ]
  },
  {
   "cell_type": "code",
   "execution_count": 435,
   "id": "f6453f72",
   "metadata": {},
   "outputs": [
    {
     "data": {
      "text/plain": [
       "(5230, 24)"
      ]
     },
     "execution_count": 435,
     "metadata": {},
     "output_type": "execute_result"
    }
   ],
   "source": [
    "#we still have 5230 values (threshold is 2500), so will drop nulls\n",
    "\n",
    "data.shape"
   ]
  },
  {
   "cell_type": "code",
   "execution_count": 436,
   "id": "da0309d3",
   "metadata": {},
   "outputs": [
    {
     "name": "stdout",
     "output_type": "stream",
     "text": [
      "Index([47, 108, 112, 114, 182, 185, 245, 255, 296, 300, 368, 394, 414, 424,\n",
      "       462],\n",
      "      dtype='int64')\n"
     ]
    }
   ],
   "source": [
    "#bad indices \n",
    "\n",
    "bad_index_activity = data['activity'][data['activity'].isna()].index\n",
    "print(bad_index_activity[:15])"
   ]
  },
  {
   "cell_type": "code",
   "execution_count": 437,
   "id": "adbc6ddf",
   "metadata": {},
   "outputs": [],
   "source": [
    "#drop \n",
    "data.drop(bad_index_activity, axis=0, inplace=True)"
   ]
  },
  {
   "cell_type": "code",
   "execution_count": 438,
   "id": "3901a8ae",
   "metadata": {},
   "outputs": [
    {
     "name": "stdout",
     "output_type": "stream",
     "text": [
      "(4940, 24)\n",
      "(25723, 24)\n"
     ]
    }
   ],
   "source": [
    "#I am down 290 values, consistent with the above\n",
    "\n",
    "print(data.shape)\n",
    "print(data_original.shape)"
   ]
  },
  {
   "cell_type": "code",
   "execution_count": 442,
   "id": "0f81aa8b",
   "metadata": {},
   "outputs": [
    {
     "data": {
      "text/plain": [
       "array(['Paddling', 'Standing', 'Surfing', ...,\n",
       "       'Swimming around anchored ship',\n",
       "       'Crew swimming alongside their anchored ship',\n",
       "       '4 men were bathing'], dtype=object)"
      ]
     },
     "execution_count": 442,
     "metadata": {},
     "output_type": "execute_result"
    }
   ],
   "source": [
    "data.activity.unique()"
   ]
  },
  {
   "cell_type": "code",
   "execution_count": 443,
   "id": "f73de876",
   "metadata": {},
   "outputs": [
    {
     "data": {
      "text/plain": [
       "activity\n",
       "Surfing                                                                                                                                                 905\n",
       "Swimming                                                                                                                                                755\n",
       "Fishing                                                                                                                                                 320\n",
       "Spearfishing                                                                                                                                            292\n",
       "Bathing                                                                                                                                                 143\n",
       "                                                                                                                                                       ... \n",
       "Small boat with 2 men onboard hit a submerged coral formation. Men began swimming to shore                                                                1\n",
       "Diving. Shark swallowed his hand, so he threw his other around the shark and went shark-back riding for 30 yards until the shark opened its jaws      1\n",
       "Wading & pushing dinghy toward  the shallows                                                                                                              1\n",
       "Picking up shark by the tail                                                                                                                              1\n",
       "4 men were bathing                                                                                                                                        1\n",
       "Name: count, Length: 1279, dtype: int64"
      ]
     },
     "execution_count": 443,
     "metadata": {},
     "output_type": "execute_result"
    }
   ],
   "source": [
    "data.activity.value_counts()"
   ]
  },
  {
   "cell_type": "code",
   "execution_count": null,
   "id": "6fab70ee",
   "metadata": {},
   "outputs": [],
   "source": []
  }
 ],
 "metadata": {
  "kernelspec": {
   "display_name": "clase",
   "language": "python",
   "name": "clase"
  },
  "language_info": {
   "codemirror_mode": {
    "name": "ipython",
    "version": 3
   },
   "file_extension": ".py",
   "mimetype": "text/x-python",
   "name": "python",
   "nbconvert_exporter": "python",
   "pygments_lexer": "ipython3",
   "version": "3.10.13"
  }
 },
 "nbformat": 4,
 "nbformat_minor": 5
}
