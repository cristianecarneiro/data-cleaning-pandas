{
 "cells": [
  {
   "cell_type": "markdown",
   "id": "65945199",
   "metadata": {},
   "source": [
    "# w2-project_pandas | Data Cleaning "
   ]
  },
  {
   "cell_type": "markdown",
   "id": "4e8dc3a3",
   "metadata": {},
   "source": [
    "## 1) Import "
   ]
  },
  {
   "cell_type": "markdown",
   "id": "74b26aae",
   "metadata": {},
   "source": [
    "### 1.1) Import libraries"
   ]
  },
  {
   "cell_type": "code",
   "execution_count": 344,
   "id": "34e42420",
   "metadata": {},
   "outputs": [
    {
     "name": "stdout",
     "output_type": "stream",
     "text": [
      "Requirement already satisfied: ipython in /Users/criscarneiro/anaconda3/envs/clase/lib/python3.10/site-packages (8.16.1)\n",
      "Requirement already satisfied: backcall in /Users/criscarneiro/anaconda3/envs/clase/lib/python3.10/site-packages (from ipython) (0.2.0)\n",
      "Requirement already satisfied: decorator in /Users/criscarneiro/anaconda3/envs/clase/lib/python3.10/site-packages (from ipython) (5.1.1)\n",
      "Requirement already satisfied: jedi>=0.16 in /Users/criscarneiro/anaconda3/envs/clase/lib/python3.10/site-packages (from ipython) (0.19.1)\n",
      "Requirement already satisfied: matplotlib-inline in /Users/criscarneiro/anaconda3/envs/clase/lib/python3.10/site-packages (from ipython) (0.1.6)\n",
      "Requirement already satisfied: pickleshare in /Users/criscarneiro/anaconda3/envs/clase/lib/python3.10/site-packages (from ipython) (0.7.5)\n",
      "Requirement already satisfied: prompt-toolkit!=3.0.37,<3.1.0,>=3.0.30 in /Users/criscarneiro/anaconda3/envs/clase/lib/python3.10/site-packages (from ipython) (3.0.39)\n",
      "Requirement already satisfied: pygments>=2.4.0 in /Users/criscarneiro/anaconda3/envs/clase/lib/python3.10/site-packages (from ipython) (2.16.1)\n",
      "Requirement already satisfied: stack-data in /Users/criscarneiro/anaconda3/envs/clase/lib/python3.10/site-packages (from ipython) (0.6.3)\n",
      "Requirement already satisfied: traitlets>=5 in /Users/criscarneiro/anaconda3/envs/clase/lib/python3.10/site-packages (from ipython) (5.11.2)\n",
      "Requirement already satisfied: exceptiongroup in /Users/criscarneiro/anaconda3/envs/clase/lib/python3.10/site-packages (from ipython) (1.1.3)\n",
      "Requirement already satisfied: pexpect>4.3 in /Users/criscarneiro/anaconda3/envs/clase/lib/python3.10/site-packages (from ipython) (4.8.0)\n",
      "Requirement already satisfied: appnope in /Users/criscarneiro/anaconda3/envs/clase/lib/python3.10/site-packages (from ipython) (0.1.3)\n",
      "Requirement already satisfied: parso<0.9.0,>=0.8.3 in /Users/criscarneiro/anaconda3/envs/clase/lib/python3.10/site-packages (from jedi>=0.16->ipython) (0.8.3)\n",
      "Requirement already satisfied: ptyprocess>=0.5 in /Users/criscarneiro/anaconda3/envs/clase/lib/python3.10/site-packages (from pexpect>4.3->ipython) (0.7.0)\n",
      "Requirement already satisfied: wcwidth in /Users/criscarneiro/anaconda3/envs/clase/lib/python3.10/site-packages (from prompt-toolkit!=3.0.37,<3.1.0,>=3.0.30->ipython) (0.2.8)\n",
      "Requirement already satisfied: executing>=1.2.0 in /Users/criscarneiro/anaconda3/envs/clase/lib/python3.10/site-packages (from stack-data->ipython) (2.0.0)\n",
      "Requirement already satisfied: asttokens>=2.1.0 in /Users/criscarneiro/anaconda3/envs/clase/lib/python3.10/site-packages (from stack-data->ipython) (2.4.0)\n",
      "Requirement already satisfied: pure-eval in /Users/criscarneiro/anaconda3/envs/clase/lib/python3.10/site-packages (from stack-data->ipython) (0.2.2)\n",
      "Requirement already satisfied: six>=1.12.0 in /Users/criscarneiro/anaconda3/envs/clase/lib/python3.10/site-packages (from asttokens>=2.1.0->stack-data->ipython) (1.16.0)\n",
      "Note: you may need to restart the kernel to use updated packages.\n",
      "Requirement already satisfied: seaborn in /Users/criscarneiro/anaconda3/envs/clase/lib/python3.10/site-packages (0.13.0)\n",
      "Requirement already satisfied: numpy!=1.24.0,>=1.20 in /Users/criscarneiro/anaconda3/envs/clase/lib/python3.10/site-packages (from seaborn) (1.26.1)\n",
      "Requirement already satisfied: pandas>=1.2 in /Users/criscarneiro/anaconda3/envs/clase/lib/python3.10/site-packages (from seaborn) (2.1.1)\n",
      "Requirement already satisfied: matplotlib!=3.6.1,>=3.3 in /Users/criscarneiro/anaconda3/envs/clase/lib/python3.10/site-packages (from seaborn) (3.8.0)\n",
      "Requirement already satisfied: contourpy>=1.0.1 in /Users/criscarneiro/anaconda3/envs/clase/lib/python3.10/site-packages (from matplotlib!=3.6.1,>=3.3->seaborn) (1.1.1)\n",
      "Requirement already satisfied: cycler>=0.10 in /Users/criscarneiro/anaconda3/envs/clase/lib/python3.10/site-packages (from matplotlib!=3.6.1,>=3.3->seaborn) (0.12.1)\n",
      "Requirement already satisfied: fonttools>=4.22.0 in /Users/criscarneiro/anaconda3/envs/clase/lib/python3.10/site-packages (from matplotlib!=3.6.1,>=3.3->seaborn) (4.43.1)\n",
      "Requirement already satisfied: kiwisolver>=1.0.1 in /Users/criscarneiro/anaconda3/envs/clase/lib/python3.10/site-packages (from matplotlib!=3.6.1,>=3.3->seaborn) (1.4.5)\n",
      "Requirement already satisfied: packaging>=20.0 in /Users/criscarneiro/anaconda3/envs/clase/lib/python3.10/site-packages (from matplotlib!=3.6.1,>=3.3->seaborn) (23.2)\n",
      "Requirement already satisfied: pillow>=6.2.0 in /Users/criscarneiro/anaconda3/envs/clase/lib/python3.10/site-packages (from matplotlib!=3.6.1,>=3.3->seaborn) (10.1.0)\n",
      "Requirement already satisfied: pyparsing>=2.3.1 in /Users/criscarneiro/anaconda3/envs/clase/lib/python3.10/site-packages (from matplotlib!=3.6.1,>=3.3->seaborn) (3.1.1)\n",
      "Requirement already satisfied: python-dateutil>=2.7 in /Users/criscarneiro/anaconda3/envs/clase/lib/python3.10/site-packages (from matplotlib!=3.6.1,>=3.3->seaborn) (2.8.2)\n",
      "Requirement already satisfied: pytz>=2020.1 in /Users/criscarneiro/anaconda3/envs/clase/lib/python3.10/site-packages (from pandas>=1.2->seaborn) (2023.3.post1)\n",
      "Requirement already satisfied: tzdata>=2022.1 in /Users/criscarneiro/anaconda3/envs/clase/lib/python3.10/site-packages (from pandas>=1.2->seaborn) (2023.3)\n",
      "Requirement already satisfied: six>=1.5 in /Users/criscarneiro/anaconda3/envs/clase/lib/python3.10/site-packages (from python-dateutil>=2.7->matplotlib!=3.6.1,>=3.3->seaborn) (1.16.0)\n",
      "Note: you may need to restart the kernel to use updated packages.\n"
     ]
    }
   ],
   "source": [
    "%pip install ipython\n",
    "%pip install seaborn"
   ]
  },
  {
   "cell_type": "code",
   "execution_count": 345,
   "id": "2c230d70",
   "metadata": {},
   "outputs": [],
   "source": [
    "#import main libraries \n",
    "\n",
    "import pandas as pd\n",
    "pd.set_option('display.max_columns', None)\n",
    "pd.set_option('display.max_rows', None)\n",
    "\n",
    "import numpy as np\n",
    "\n",
    "import re\n",
    "\n",
    "import warnings\n",
    "warnings.filterwarnings('ignore')\n",
    "\n",
    "import pylab as plt  \n",
    "import seaborn as sns\n",
    "\n",
    "%matplotlib inline"
   ]
  },
  {
   "cell_type": "markdown",
   "id": "4a996f69",
   "metadata": {},
   "source": [
    "### 1.2) Import database"
   ]
  },
  {
   "cell_type": "code",
   "execution_count": 346,
   "id": "50f6adc4",
   "metadata": {},
   "outputs": [],
   "source": [
    "linksharks = '/Users/criscarneiro/desktop/ironhack/7_DataProjects/1_w2_sharks/attacks.csv'\n",
    "\n",
    "data = pd.read_csv(linksharks, encoding='latin1')"
   ]
  },
  {
   "cell_type": "markdown",
   "id": "ad25a995",
   "metadata": {},
   "source": [
    "## 2) Before continuing, some good practices "
   ]
  },
  {
   "cell_type": "code",
   "execution_count": 347,
   "id": "0b4ae04e",
   "metadata": {},
   "outputs": [
    {
     "data": {
      "text/plain": [
       "(25723, 24)"
      ]
     },
     "execution_count": 347,
     "metadata": {},
     "output_type": "execute_result"
    }
   ],
   "source": [
    "# I will create a copy of the original database \n",
    "\n",
    "data_original = data.copy()\n",
    "data_original.shape"
   ]
  },
  {
   "cell_type": "code",
   "execution_count": 348,
   "id": "8ffb6f2a",
   "metadata": {},
   "outputs": [
    {
     "data": {
      "text/plain": [
       "Index(['Case Number', 'Date', 'Year', 'Type', 'Country', 'Area', 'Location',\n",
       "       'Activity', 'Name', 'Sex ', 'Age', 'Injury', 'Fatal (Y/N)', 'Time',\n",
       "       'Species ', 'Investigator or Source', 'pdf', 'href formula', 'href',\n",
       "       'Case Number.1', 'Case Number.2', 'original order', 'Unnamed: 22',\n",
       "       'Unnamed: 23'],\n",
       "      dtype='object')"
      ]
     },
     "execution_count": 348,
     "metadata": {},
     "output_type": "execute_result"
    }
   ],
   "source": [
    "# I will clean the names of columns \n",
    "\n",
    "data.columns"
   ]
  },
  {
   "cell_type": "code",
   "execution_count": 349,
   "id": "a900b997",
   "metadata": {},
   "outputs": [
    {
     "data": {
      "text/plain": [
       "Index(['case_number', 'date', 'year', 'type', 'country', 'area', 'location',\n",
       "       'activity', 'name', 'sex_', 'age', 'injury', 'fatal_(y/n)', 'time',\n",
       "       'species_', 'investigator_or_source', 'pdf', 'href_formula', 'href',\n",
       "       'case_number.1', 'case_number.2', 'original_order', 'unnamed:_22',\n",
       "       'unnamed:_23'],\n",
       "      dtype='object')"
      ]
     },
     "execution_count": 349,
     "metadata": {},
     "output_type": "execute_result"
    }
   ],
   "source": [
    "data.columns = [c.lower().replace(' ', '_') for c in data.columns]\n",
    "\n",
    "data.columns"
   ]
  },
  {
   "cell_type": "code",
   "execution_count": 350,
   "id": "7e1ae35b",
   "metadata": {},
   "outputs": [
    {
     "data": {
      "text/plain": [
       "True"
      ]
     },
     "execution_count": 350,
     "metadata": {},
     "output_type": "execute_result"
    }
   ],
   "source": [
    "# I will look for duplicates\n",
    "\n",
    "data.duplicated().any() "
   ]
  },
  {
   "cell_type": "code",
   "execution_count": 351,
   "id": "2908ee79",
   "metadata": {},
   "outputs": [
    {
     "data": {
      "text/plain": [
       "(6312, 24)"
      ]
     },
     "execution_count": 351,
     "metadata": {},
     "output_type": "execute_result"
    }
   ],
   "source": [
    "# In fact, most of the table is composed of duplicated numbers. Removing them would leave us with 6k values, which is greater than 2.5k\n",
    "\n",
    "data.drop_duplicates().shape"
   ]
  },
  {
   "cell_type": "code",
   "execution_count": 352,
   "id": "ce21b2c4",
   "metadata": {},
   "outputs": [],
   "source": [
    "# Indeed, there are a number of duplicated entries\n",
    "\n",
    "#data[data.duplicated()].head()"
   ]
  },
  {
   "cell_type": "code",
   "execution_count": 353,
   "id": "a044fad4",
   "metadata": {},
   "outputs": [],
   "source": [
    "# I will drop duplicates \n",
    "\n",
    "data.drop_duplicates(inplace=True)"
   ]
  },
  {
   "cell_type": "code",
   "execution_count": 354,
   "id": "ae5c414f",
   "metadata": {},
   "outputs": [
    {
     "name": "stdout",
     "output_type": "stream",
     "text": [
      "(6312, 24)\n",
      "(25723, 24)\n"
     ]
    }
   ],
   "source": [
    "# This is our new shape, and how it compares to the original. \n",
    "\n",
    "print(data.shape)\n",
    "print(data_original.shape)"
   ]
  },
  {
   "cell_type": "markdown",
   "id": "fabda7bd",
   "metadata": {},
   "source": [
    "## 3) Explore data "
   ]
  },
  {
   "cell_type": "code",
   "execution_count": 355,
   "id": "46571049",
   "metadata": {},
   "outputs": [
    {
     "data": {
      "text/html": [
       "<div>\n",
       "<style scoped>\n",
       "    .dataframe tbody tr th:only-of-type {\n",
       "        vertical-align: middle;\n",
       "    }\n",
       "\n",
       "    .dataframe tbody tr th {\n",
       "        vertical-align: top;\n",
       "    }\n",
       "\n",
       "    .dataframe thead th {\n",
       "        text-align: right;\n",
       "    }\n",
       "</style>\n",
       "<table border=\"1\" class=\"dataframe\">\n",
       "  <thead>\n",
       "    <tr style=\"text-align: right;\">\n",
       "      <th></th>\n",
       "      <th>case_number</th>\n",
       "      <th>date</th>\n",
       "      <th>year</th>\n",
       "      <th>type</th>\n",
       "      <th>country</th>\n",
       "      <th>area</th>\n",
       "      <th>location</th>\n",
       "      <th>activity</th>\n",
       "      <th>name</th>\n",
       "      <th>sex_</th>\n",
       "      <th>age</th>\n",
       "      <th>injury</th>\n",
       "      <th>fatal_(y/n)</th>\n",
       "      <th>time</th>\n",
       "      <th>species_</th>\n",
       "      <th>investigator_or_source</th>\n",
       "      <th>pdf</th>\n",
       "      <th>href_formula</th>\n",
       "      <th>href</th>\n",
       "      <th>case_number.1</th>\n",
       "      <th>case_number.2</th>\n",
       "      <th>original_order</th>\n",
       "      <th>unnamed:_22</th>\n",
       "      <th>unnamed:_23</th>\n",
       "    </tr>\n",
       "  </thead>\n",
       "  <tbody>\n",
       "    <tr>\n",
       "      <th>0</th>\n",
       "      <td>2018.06.25</td>\n",
       "      <td>25-Jun-2018</td>\n",
       "      <td>2018.0</td>\n",
       "      <td>Boating</td>\n",
       "      <td>USA</td>\n",
       "      <td>California</td>\n",
       "      <td>Oceanside, San Diego County</td>\n",
       "      <td>Paddling</td>\n",
       "      <td>Julie Wolfe</td>\n",
       "      <td>F</td>\n",
       "      <td>57</td>\n",
       "      <td>No injury to occupant, outrigger canoe and pad...</td>\n",
       "      <td>N</td>\n",
       "      <td>18h00</td>\n",
       "      <td>White shark</td>\n",
       "      <td>R. Collier, GSAF</td>\n",
       "      <td>2018.06.25-Wolfe.pdf</td>\n",
       "      <td>http://sharkattackfile.net/spreadsheets/pdf_di...</td>\n",
       "      <td>http://sharkattackfile.net/spreadsheets/pdf_di...</td>\n",
       "      <td>2018.06.25</td>\n",
       "      <td>2018.06.25</td>\n",
       "      <td>6303.0</td>\n",
       "      <td>NaN</td>\n",
       "      <td>NaN</td>\n",
       "    </tr>\n",
       "    <tr>\n",
       "      <th>1</th>\n",
       "      <td>2018.06.18</td>\n",
       "      <td>18-Jun-2018</td>\n",
       "      <td>2018.0</td>\n",
       "      <td>Unprovoked</td>\n",
       "      <td>USA</td>\n",
       "      <td>Georgia</td>\n",
       "      <td>St. Simon Island, Glynn County</td>\n",
       "      <td>Standing</td>\n",
       "      <td>Adyson McNeely</td>\n",
       "      <td>F</td>\n",
       "      <td>11</td>\n",
       "      <td>Minor injury to left thigh</td>\n",
       "      <td>N</td>\n",
       "      <td>14h00  -15h00</td>\n",
       "      <td>NaN</td>\n",
       "      <td>K.McMurray, TrackingSharks.com</td>\n",
       "      <td>2018.06.18-McNeely.pdf</td>\n",
       "      <td>http://sharkattackfile.net/spreadsheets/pdf_di...</td>\n",
       "      <td>http://sharkattackfile.net/spreadsheets/pdf_di...</td>\n",
       "      <td>2018.06.18</td>\n",
       "      <td>2018.06.18</td>\n",
       "      <td>6302.0</td>\n",
       "      <td>NaN</td>\n",
       "      <td>NaN</td>\n",
       "    </tr>\n",
       "    <tr>\n",
       "      <th>2</th>\n",
       "      <td>2018.06.09</td>\n",
       "      <td>09-Jun-2018</td>\n",
       "      <td>2018.0</td>\n",
       "      <td>Invalid</td>\n",
       "      <td>USA</td>\n",
       "      <td>Hawaii</td>\n",
       "      <td>Habush, Oahu</td>\n",
       "      <td>Surfing</td>\n",
       "      <td>John Denges</td>\n",
       "      <td>M</td>\n",
       "      <td>48</td>\n",
       "      <td>Injury to left lower leg from surfboard skeg</td>\n",
       "      <td>N</td>\n",
       "      <td>07h45</td>\n",
       "      <td>NaN</td>\n",
       "      <td>K.McMurray, TrackingSharks.com</td>\n",
       "      <td>2018.06.09-Denges.pdf</td>\n",
       "      <td>http://sharkattackfile.net/spreadsheets/pdf_di...</td>\n",
       "      <td>http://sharkattackfile.net/spreadsheets/pdf_di...</td>\n",
       "      <td>2018.06.09</td>\n",
       "      <td>2018.06.09</td>\n",
       "      <td>6301.0</td>\n",
       "      <td>NaN</td>\n",
       "      <td>NaN</td>\n",
       "    </tr>\n",
       "    <tr>\n",
       "      <th>3</th>\n",
       "      <td>2018.06.08</td>\n",
       "      <td>08-Jun-2018</td>\n",
       "      <td>2018.0</td>\n",
       "      <td>Unprovoked</td>\n",
       "      <td>AUSTRALIA</td>\n",
       "      <td>New South Wales</td>\n",
       "      <td>Arrawarra Headland</td>\n",
       "      <td>Surfing</td>\n",
       "      <td>male</td>\n",
       "      <td>M</td>\n",
       "      <td>NaN</td>\n",
       "      <td>Minor injury to lower leg</td>\n",
       "      <td>N</td>\n",
       "      <td>NaN</td>\n",
       "      <td>2 m shark</td>\n",
       "      <td>B. Myatt, GSAF</td>\n",
       "      <td>2018.06.08-Arrawarra.pdf</td>\n",
       "      <td>http://sharkattackfile.net/spreadsheets/pdf_di...</td>\n",
       "      <td>http://sharkattackfile.net/spreadsheets/pdf_di...</td>\n",
       "      <td>2018.06.08</td>\n",
       "      <td>2018.06.08</td>\n",
       "      <td>6300.0</td>\n",
       "      <td>NaN</td>\n",
       "      <td>NaN</td>\n",
       "    </tr>\n",
       "    <tr>\n",
       "      <th>4</th>\n",
       "      <td>2018.06.04</td>\n",
       "      <td>04-Jun-2018</td>\n",
       "      <td>2018.0</td>\n",
       "      <td>Provoked</td>\n",
       "      <td>MEXICO</td>\n",
       "      <td>Colima</td>\n",
       "      <td>La Ticla</td>\n",
       "      <td>Free diving</td>\n",
       "      <td>Gustavo Ramos</td>\n",
       "      <td>M</td>\n",
       "      <td>NaN</td>\n",
       "      <td>Lacerations to leg &amp; hand shark PROVOKED INCIDENT</td>\n",
       "      <td>N</td>\n",
       "      <td>NaN</td>\n",
       "      <td>Tiger shark, 3m</td>\n",
       "      <td>A .Kipper</td>\n",
       "      <td>2018.06.04-Ramos.pdf</td>\n",
       "      <td>http://sharkattackfile.net/spreadsheets/pdf_di...</td>\n",
       "      <td>http://sharkattackfile.net/spreadsheets/pdf_di...</td>\n",
       "      <td>2018.06.04</td>\n",
       "      <td>2018.06.04</td>\n",
       "      <td>6299.0</td>\n",
       "      <td>NaN</td>\n",
       "      <td>NaN</td>\n",
       "    </tr>\n",
       "  </tbody>\n",
       "</table>\n",
       "</div>"
      ],
      "text/plain": [
       "  case_number         date    year        type    country             area  \\\n",
       "0  2018.06.25  25-Jun-2018  2018.0     Boating        USA       California   \n",
       "1  2018.06.18  18-Jun-2018  2018.0  Unprovoked        USA          Georgia   \n",
       "2  2018.06.09  09-Jun-2018  2018.0     Invalid        USA           Hawaii   \n",
       "3  2018.06.08  08-Jun-2018  2018.0  Unprovoked  AUSTRALIA  New South Wales   \n",
       "4  2018.06.04  04-Jun-2018  2018.0    Provoked     MEXICO           Colima   \n",
       "\n",
       "                         location     activity             name sex_  age  \\\n",
       "0     Oceanside, San Diego County     Paddling      Julie Wolfe    F   57   \n",
       "1  St. Simon Island, Glynn County     Standing  Adyson McNeely     F   11   \n",
       "2                    Habush, Oahu      Surfing      John Denges    M   48   \n",
       "3              Arrawarra Headland      Surfing             male    M  NaN   \n",
       "4                        La Ticla  Free diving   Gustavo Ramos     M  NaN   \n",
       "\n",
       "                                              injury fatal_(y/n)  \\\n",
       "0  No injury to occupant, outrigger canoe and pad...           N   \n",
       "1                         Minor injury to left thigh           N   \n",
       "2       Injury to left lower leg from surfboard skeg           N   \n",
       "3                          Minor injury to lower leg           N   \n",
       "4  Lacerations to leg & hand shark PROVOKED INCIDENT           N   \n",
       "\n",
       "            time         species_          investigator_or_source  \\\n",
       "0          18h00      White shark                R. Collier, GSAF   \n",
       "1  14h00  -15h00              NaN  K.McMurray, TrackingSharks.com   \n",
       "2          07h45              NaN  K.McMurray, TrackingSharks.com   \n",
       "3            NaN        2 m shark                  B. Myatt, GSAF   \n",
       "4            NaN  Tiger shark, 3m                       A .Kipper   \n",
       "\n",
       "                        pdf  \\\n",
       "0      2018.06.25-Wolfe.pdf   \n",
       "1    2018.06.18-McNeely.pdf   \n",
       "2     2018.06.09-Denges.pdf   \n",
       "3  2018.06.08-Arrawarra.pdf   \n",
       "4      2018.06.04-Ramos.pdf   \n",
       "\n",
       "                                        href_formula  \\\n",
       "0  http://sharkattackfile.net/spreadsheets/pdf_di...   \n",
       "1  http://sharkattackfile.net/spreadsheets/pdf_di...   \n",
       "2  http://sharkattackfile.net/spreadsheets/pdf_di...   \n",
       "3  http://sharkattackfile.net/spreadsheets/pdf_di...   \n",
       "4  http://sharkattackfile.net/spreadsheets/pdf_di...   \n",
       "\n",
       "                                                href case_number.1  \\\n",
       "0  http://sharkattackfile.net/spreadsheets/pdf_di...    2018.06.25   \n",
       "1  http://sharkattackfile.net/spreadsheets/pdf_di...    2018.06.18   \n",
       "2  http://sharkattackfile.net/spreadsheets/pdf_di...    2018.06.09   \n",
       "3  http://sharkattackfile.net/spreadsheets/pdf_di...    2018.06.08   \n",
       "4  http://sharkattackfile.net/spreadsheets/pdf_di...    2018.06.04   \n",
       "\n",
       "  case_number.2  original_order unnamed:_22 unnamed:_23  \n",
       "0    2018.06.25          6303.0         NaN         NaN  \n",
       "1    2018.06.18          6302.0         NaN         NaN  \n",
       "2    2018.06.09          6301.0         NaN         NaN  \n",
       "3    2018.06.08          6300.0         NaN         NaN  \n",
       "4    2018.06.04          6299.0         NaN         NaN  "
      ]
     },
     "execution_count": 355,
     "metadata": {},
     "output_type": "execute_result"
    }
   ],
   "source": [
    "#this is the structure of my dataframe  \n",
    "\n",
    "data.head()"
   ]
  },
  {
   "cell_type": "code",
   "execution_count": 356,
   "id": "fddc6998",
   "metadata": {},
   "outputs": [
    {
     "data": {
      "text/plain": [
       "(6312, 24)"
      ]
     },
     "execution_count": 356,
     "metadata": {},
     "output_type": "execute_result"
    }
   ],
   "source": [
    "#the database as it stands has 24 columns, 6.312 entries (i.e, shark attacks)\n",
    "\n",
    "data.shape"
   ]
  },
  {
   "cell_type": "code",
   "execution_count": 357,
   "id": "a80d6009",
   "metadata": {},
   "outputs": [
    {
     "name": "stdout",
     "output_type": "stream",
     "text": [
      "<class 'pandas.core.frame.DataFrame'>\n",
      "Index: 6312 entries, 0 to 25722\n",
      "Data columns (total 24 columns):\n",
      " #   Column                  Non-Null Count  Dtype  \n",
      "---  ------                  --------------  -----  \n",
      " 0   case_number             6310 non-null   object \n",
      " 1   date                    6302 non-null   object \n",
      " 2   year                    6300 non-null   float64\n",
      " 3   type                    6298 non-null   object \n",
      " 4   country                 6252 non-null   object \n",
      " 5   area                    5847 non-null   object \n",
      " 6   location                5762 non-null   object \n",
      " 7   activity                5758 non-null   object \n",
      " 8   name                    6092 non-null   object \n",
      " 9   sex_                    5737 non-null   object \n",
      " 10  age                     3471 non-null   object \n",
      " 11  injury                  6274 non-null   object \n",
      " 12  fatal_(y/n)             5763 non-null   object \n",
      " 13  time                    2948 non-null   object \n",
      " 14  species_                3464 non-null   object \n",
      " 15  investigator_or_source  6285 non-null   object \n",
      " 16  pdf                     6302 non-null   object \n",
      " 17  href_formula            6301 non-null   object \n",
      " 18  href                    6302 non-null   object \n",
      " 19  case_number.1           6302 non-null   object \n",
      " 20  case_number.2           6302 non-null   object \n",
      " 21  original_order          6309 non-null   float64\n",
      " 22  unnamed:_22             1 non-null      object \n",
      " 23  unnamed:_23             2 non-null      object \n",
      "dtypes: float64(2), object(22)\n",
      "memory usage: 1.2+ MB\n"
     ]
    }
   ],
   "source": [
    "#here we can see again the number of columns and entries \n",
    "#we see that most columns are non-numerical \n",
    "#we anticipate there are a lot of null values - we will work on cleaning some of them!\n",
    "\n",
    "data.info()"
   ]
  },
  {
   "cell_type": "code",
   "execution_count": 358,
   "id": "48c923bc",
   "metadata": {},
   "outputs": [],
   "source": [
    "# it seems we have two unnamed columns. I will check what they are about. "
   ]
  },
  {
   "cell_type": "code",
   "execution_count": 359,
   "id": "97ef740f",
   "metadata": {},
   "outputs": [
    {
     "data": {
      "text/plain": [
       "array([nan, 'stopped here'], dtype=object)"
      ]
     },
     "execution_count": 359,
     "metadata": {},
     "output_type": "execute_result"
    }
   ],
   "source": [
    "#unnamed:_22 has a single non-null value \n",
    "\n",
    "data['unnamed:_22'].unique()"
   ]
  },
  {
   "cell_type": "code",
   "execution_count": 360,
   "id": "8484cb01",
   "metadata": {},
   "outputs": [
    {
     "data": {
      "text/plain": [
       "array([nan, 'Teramo', 'change filename'], dtype=object)"
      ]
     },
     "execution_count": 360,
     "metadata": {},
     "output_type": "execute_result"
    }
   ],
   "source": [
    "#unnamed:_23 has two non-null values\n",
    "\n",
    "data['unnamed:_23'].unique()"
   ]
  },
  {
   "cell_type": "code",
   "execution_count": 361,
   "id": "d1aaa43f",
   "metadata": {},
   "outputs": [],
   "source": [
    "#it does not seem these data will add to our analysis. I will rename the columns and ignore them for now \n",
    "\n",
    "data = data.rename(columns={'unnamed:_22': 'ignore1','unnamed:_23': 'ignore2' })"
   ]
  },
  {
   "cell_type": "code",
   "execution_count": 362,
   "id": "4d3c88be",
   "metadata": {},
   "outputs": [
    {
     "data": {
      "text/plain": [
       "Index(['case_number', 'date', 'year', 'type', 'country', 'area', 'location',\n",
       "       'activity', 'name', 'sex_', 'age', 'injury', 'fatal_(y/n)', 'time',\n",
       "       'species_', 'investigator_or_source', 'pdf', 'href_formula', 'href',\n",
       "       'case_number.1', 'case_number.2', 'original_order', 'ignore1',\n",
       "       'ignore2'],\n",
       "      dtype='object')"
      ]
     },
     "execution_count": 362,
     "metadata": {},
     "output_type": "execute_result"
    }
   ],
   "source": [
    "data.columns"
   ]
  },
  {
   "cell_type": "code",
   "execution_count": 363,
   "id": "05242434",
   "metadata": {},
   "outputs": [
    {
     "data": {
      "text/html": [
       "<div>\n",
       "<style scoped>\n",
       "    .dataframe tbody tr th:only-of-type {\n",
       "        vertical-align: middle;\n",
       "    }\n",
       "\n",
       "    .dataframe tbody tr th {\n",
       "        vertical-align: top;\n",
       "    }\n",
       "\n",
       "    .dataframe thead th {\n",
       "        text-align: right;\n",
       "    }\n",
       "</style>\n",
       "<table border=\"1\" class=\"dataframe\">\n",
       "  <thead>\n",
       "    <tr style=\"text-align: right;\">\n",
       "      <th></th>\n",
       "      <th>count</th>\n",
       "      <th>unique</th>\n",
       "      <th>top</th>\n",
       "      <th>freq</th>\n",
       "      <th>mean</th>\n",
       "      <th>std</th>\n",
       "      <th>min</th>\n",
       "      <th>25%</th>\n",
       "      <th>50%</th>\n",
       "      <th>75%</th>\n",
       "      <th>max</th>\n",
       "    </tr>\n",
       "  </thead>\n",
       "  <tbody>\n",
       "    <tr>\n",
       "      <th>case_number</th>\n",
       "      <td>6310</td>\n",
       "      <td>6287</td>\n",
       "      <td>0</td>\n",
       "      <td>8</td>\n",
       "      <td>NaN</td>\n",
       "      <td>NaN</td>\n",
       "      <td>NaN</td>\n",
       "      <td>NaN</td>\n",
       "      <td>NaN</td>\n",
       "      <td>NaN</td>\n",
       "      <td>NaN</td>\n",
       "    </tr>\n",
       "    <tr>\n",
       "      <th>date</th>\n",
       "      <td>6302</td>\n",
       "      <td>5433</td>\n",
       "      <td>1957</td>\n",
       "      <td>11</td>\n",
       "      <td>NaN</td>\n",
       "      <td>NaN</td>\n",
       "      <td>NaN</td>\n",
       "      <td>NaN</td>\n",
       "      <td>NaN</td>\n",
       "      <td>NaN</td>\n",
       "      <td>NaN</td>\n",
       "    </tr>\n",
       "    <tr>\n",
       "      <th>year</th>\n",
       "      <td>6300.0</td>\n",
       "      <td>NaN</td>\n",
       "      <td>NaN</td>\n",
       "      <td>NaN</td>\n",
       "      <td>1927.272381</td>\n",
       "      <td>281.116308</td>\n",
       "      <td>0.0</td>\n",
       "      <td>1942.0</td>\n",
       "      <td>1977.0</td>\n",
       "      <td>2005.0</td>\n",
       "      <td>2018.0</td>\n",
       "    </tr>\n",
       "    <tr>\n",
       "      <th>type</th>\n",
       "      <td>6298</td>\n",
       "      <td>8</td>\n",
       "      <td>Unprovoked</td>\n",
       "      <td>4595</td>\n",
       "      <td>NaN</td>\n",
       "      <td>NaN</td>\n",
       "      <td>NaN</td>\n",
       "      <td>NaN</td>\n",
       "      <td>NaN</td>\n",
       "      <td>NaN</td>\n",
       "      <td>NaN</td>\n",
       "    </tr>\n",
       "    <tr>\n",
       "      <th>country</th>\n",
       "      <td>6252</td>\n",
       "      <td>212</td>\n",
       "      <td>USA</td>\n",
       "      <td>2229</td>\n",
       "      <td>NaN</td>\n",
       "      <td>NaN</td>\n",
       "      <td>NaN</td>\n",
       "      <td>NaN</td>\n",
       "      <td>NaN</td>\n",
       "      <td>NaN</td>\n",
       "      <td>NaN</td>\n",
       "    </tr>\n",
       "    <tr>\n",
       "      <th>area</th>\n",
       "      <td>5847</td>\n",
       "      <td>825</td>\n",
       "      <td>Florida</td>\n",
       "      <td>1037</td>\n",
       "      <td>NaN</td>\n",
       "      <td>NaN</td>\n",
       "      <td>NaN</td>\n",
       "      <td>NaN</td>\n",
       "      <td>NaN</td>\n",
       "      <td>NaN</td>\n",
       "      <td>NaN</td>\n",
       "    </tr>\n",
       "    <tr>\n",
       "      <th>location</th>\n",
       "      <td>5762</td>\n",
       "      <td>4108</td>\n",
       "      <td>New Smyrna Beach, Volusia County</td>\n",
       "      <td>163</td>\n",
       "      <td>NaN</td>\n",
       "      <td>NaN</td>\n",
       "      <td>NaN</td>\n",
       "      <td>NaN</td>\n",
       "      <td>NaN</td>\n",
       "      <td>NaN</td>\n",
       "      <td>NaN</td>\n",
       "    </tr>\n",
       "    <tr>\n",
       "      <th>activity</th>\n",
       "      <td>5758</td>\n",
       "      <td>1532</td>\n",
       "      <td>Surfing</td>\n",
       "      <td>971</td>\n",
       "      <td>NaN</td>\n",
       "      <td>NaN</td>\n",
       "      <td>NaN</td>\n",
       "      <td>NaN</td>\n",
       "      <td>NaN</td>\n",
       "      <td>NaN</td>\n",
       "      <td>NaN</td>\n",
       "    </tr>\n",
       "    <tr>\n",
       "      <th>name</th>\n",
       "      <td>6092</td>\n",
       "      <td>5230</td>\n",
       "      <td>male</td>\n",
       "      <td>550</td>\n",
       "      <td>NaN</td>\n",
       "      <td>NaN</td>\n",
       "      <td>NaN</td>\n",
       "      <td>NaN</td>\n",
       "      <td>NaN</td>\n",
       "      <td>NaN</td>\n",
       "      <td>NaN</td>\n",
       "    </tr>\n",
       "    <tr>\n",
       "      <th>sex_</th>\n",
       "      <td>5737</td>\n",
       "      <td>6</td>\n",
       "      <td>M</td>\n",
       "      <td>5094</td>\n",
       "      <td>NaN</td>\n",
       "      <td>NaN</td>\n",
       "      <td>NaN</td>\n",
       "      <td>NaN</td>\n",
       "      <td>NaN</td>\n",
       "      <td>NaN</td>\n",
       "      <td>NaN</td>\n",
       "    </tr>\n",
       "    <tr>\n",
       "      <th>age</th>\n",
       "      <td>3471</td>\n",
       "      <td>157</td>\n",
       "      <td>17</td>\n",
       "      <td>154</td>\n",
       "      <td>NaN</td>\n",
       "      <td>NaN</td>\n",
       "      <td>NaN</td>\n",
       "      <td>NaN</td>\n",
       "      <td>NaN</td>\n",
       "      <td>NaN</td>\n",
       "      <td>NaN</td>\n",
       "    </tr>\n",
       "    <tr>\n",
       "      <th>injury</th>\n",
       "      <td>6274</td>\n",
       "      <td>3737</td>\n",
       "      <td>FATAL</td>\n",
       "      <td>802</td>\n",
       "      <td>NaN</td>\n",
       "      <td>NaN</td>\n",
       "      <td>NaN</td>\n",
       "      <td>NaN</td>\n",
       "      <td>NaN</td>\n",
       "      <td>NaN</td>\n",
       "      <td>NaN</td>\n",
       "    </tr>\n",
       "    <tr>\n",
       "      <th>fatal_(y/n)</th>\n",
       "      <td>5763</td>\n",
       "      <td>8</td>\n",
       "      <td>N</td>\n",
       "      <td>4293</td>\n",
       "      <td>NaN</td>\n",
       "      <td>NaN</td>\n",
       "      <td>NaN</td>\n",
       "      <td>NaN</td>\n",
       "      <td>NaN</td>\n",
       "      <td>NaN</td>\n",
       "      <td>NaN</td>\n",
       "    </tr>\n",
       "    <tr>\n",
       "      <th>time</th>\n",
       "      <td>2948</td>\n",
       "      <td>366</td>\n",
       "      <td>Afternoon</td>\n",
       "      <td>187</td>\n",
       "      <td>NaN</td>\n",
       "      <td>NaN</td>\n",
       "      <td>NaN</td>\n",
       "      <td>NaN</td>\n",
       "      <td>NaN</td>\n",
       "      <td>NaN</td>\n",
       "      <td>NaN</td>\n",
       "    </tr>\n",
       "    <tr>\n",
       "      <th>species_</th>\n",
       "      <td>3464</td>\n",
       "      <td>1549</td>\n",
       "      <td>White shark</td>\n",
       "      <td>163</td>\n",
       "      <td>NaN</td>\n",
       "      <td>NaN</td>\n",
       "      <td>NaN</td>\n",
       "      <td>NaN</td>\n",
       "      <td>NaN</td>\n",
       "      <td>NaN</td>\n",
       "      <td>NaN</td>\n",
       "    </tr>\n",
       "    <tr>\n",
       "      <th>investigator_or_source</th>\n",
       "      <td>6285</td>\n",
       "      <td>4969</td>\n",
       "      <td>C. Moore, GSAF</td>\n",
       "      <td>105</td>\n",
       "      <td>NaN</td>\n",
       "      <td>NaN</td>\n",
       "      <td>NaN</td>\n",
       "      <td>NaN</td>\n",
       "      <td>NaN</td>\n",
       "      <td>NaN</td>\n",
       "      <td>NaN</td>\n",
       "    </tr>\n",
       "    <tr>\n",
       "      <th>pdf</th>\n",
       "      <td>6302</td>\n",
       "      <td>6291</td>\n",
       "      <td>1923.00.00.a-NJ fisherman.pdf</td>\n",
       "      <td>2</td>\n",
       "      <td>NaN</td>\n",
       "      <td>NaN</td>\n",
       "      <td>NaN</td>\n",
       "      <td>NaN</td>\n",
       "      <td>NaN</td>\n",
       "      <td>NaN</td>\n",
       "      <td>NaN</td>\n",
       "    </tr>\n",
       "    <tr>\n",
       "      <th>href_formula</th>\n",
       "      <td>6301</td>\n",
       "      <td>6290</td>\n",
       "      <td>http://sharkattackfile.net/spreadsheets/pdf_di...</td>\n",
       "      <td>2</td>\n",
       "      <td>NaN</td>\n",
       "      <td>NaN</td>\n",
       "      <td>NaN</td>\n",
       "      <td>NaN</td>\n",
       "      <td>NaN</td>\n",
       "      <td>NaN</td>\n",
       "      <td>NaN</td>\n",
       "    </tr>\n",
       "    <tr>\n",
       "      <th>href</th>\n",
       "      <td>6302</td>\n",
       "      <td>6285</td>\n",
       "      <td>http://sharkattackfile.net/spreadsheets/pdf_di...</td>\n",
       "      <td>4</td>\n",
       "      <td>NaN</td>\n",
       "      <td>NaN</td>\n",
       "      <td>NaN</td>\n",
       "      <td>NaN</td>\n",
       "      <td>NaN</td>\n",
       "      <td>NaN</td>\n",
       "      <td>NaN</td>\n",
       "    </tr>\n",
       "    <tr>\n",
       "      <th>case_number.1</th>\n",
       "      <td>6302</td>\n",
       "      <td>6285</td>\n",
       "      <td>1920.00.00.b</td>\n",
       "      <td>2</td>\n",
       "      <td>NaN</td>\n",
       "      <td>NaN</td>\n",
       "      <td>NaN</td>\n",
       "      <td>NaN</td>\n",
       "      <td>NaN</td>\n",
       "      <td>NaN</td>\n",
       "      <td>NaN</td>\n",
       "    </tr>\n",
       "    <tr>\n",
       "      <th>case_number.2</th>\n",
       "      <td>6302</td>\n",
       "      <td>6286</td>\n",
       "      <td>1920.00.00.b</td>\n",
       "      <td>2</td>\n",
       "      <td>NaN</td>\n",
       "      <td>NaN</td>\n",
       "      <td>NaN</td>\n",
       "      <td>NaN</td>\n",
       "      <td>NaN</td>\n",
       "      <td>NaN</td>\n",
       "      <td>NaN</td>\n",
       "    </tr>\n",
       "    <tr>\n",
       "      <th>original_order</th>\n",
       "      <td>6309.0</td>\n",
       "      <td>NaN</td>\n",
       "      <td>NaN</td>\n",
       "      <td>NaN</td>\n",
       "      <td>3155.999683</td>\n",
       "      <td>1821.396206</td>\n",
       "      <td>2.0</td>\n",
       "      <td>1579.0</td>\n",
       "      <td>3156.0</td>\n",
       "      <td>4733.0</td>\n",
       "      <td>6310.0</td>\n",
       "    </tr>\n",
       "    <tr>\n",
       "      <th>ignore1</th>\n",
       "      <td>1</td>\n",
       "      <td>1</td>\n",
       "      <td>stopped here</td>\n",
       "      <td>1</td>\n",
       "      <td>NaN</td>\n",
       "      <td>NaN</td>\n",
       "      <td>NaN</td>\n",
       "      <td>NaN</td>\n",
       "      <td>NaN</td>\n",
       "      <td>NaN</td>\n",
       "      <td>NaN</td>\n",
       "    </tr>\n",
       "    <tr>\n",
       "      <th>ignore2</th>\n",
       "      <td>2</td>\n",
       "      <td>2</td>\n",
       "      <td>Teramo</td>\n",
       "      <td>1</td>\n",
       "      <td>NaN</td>\n",
       "      <td>NaN</td>\n",
       "      <td>NaN</td>\n",
       "      <td>NaN</td>\n",
       "      <td>NaN</td>\n",
       "      <td>NaN</td>\n",
       "      <td>NaN</td>\n",
       "    </tr>\n",
       "  </tbody>\n",
       "</table>\n",
       "</div>"
      ],
      "text/plain": [
       "                         count unique  \\\n",
       "case_number               6310   6287   \n",
       "date                      6302   5433   \n",
       "year                    6300.0    NaN   \n",
       "type                      6298      8   \n",
       "country                   6252    212   \n",
       "area                      5847    825   \n",
       "location                  5762   4108   \n",
       "activity                  5758   1532   \n",
       "name                      6092   5230   \n",
       "sex_                      5737      6   \n",
       "age                       3471    157   \n",
       "injury                    6274   3737   \n",
       "fatal_(y/n)               5763      8   \n",
       "time                      2948    366   \n",
       "species_                  3464   1549   \n",
       "investigator_or_source    6285   4969   \n",
       "pdf                       6302   6291   \n",
       "href_formula              6301   6290   \n",
       "href                      6302   6285   \n",
       "case_number.1             6302   6285   \n",
       "case_number.2             6302   6286   \n",
       "original_order          6309.0    NaN   \n",
       "ignore1                      1      1   \n",
       "ignore2                      2      2   \n",
       "\n",
       "                                                                      top  \\\n",
       "case_number                                                             0   \n",
       "date                                                                 1957   \n",
       "year                                                                  NaN   \n",
       "type                                                           Unprovoked   \n",
       "country                                                               USA   \n",
       "area                                                              Florida   \n",
       "location                                 New Smyrna Beach, Volusia County   \n",
       "activity                                                          Surfing   \n",
       "name                                                                 male   \n",
       "sex_                                                                    M   \n",
       "age                                                                    17   \n",
       "injury                                                              FATAL   \n",
       "fatal_(y/n)                                                             N   \n",
       "time                                                            Afternoon   \n",
       "species_                                                      White shark   \n",
       "investigator_or_source                                     C. Moore, GSAF   \n",
       "pdf                                         1923.00.00.a-NJ fisherman.pdf   \n",
       "href_formula            http://sharkattackfile.net/spreadsheets/pdf_di...   \n",
       "href                    http://sharkattackfile.net/spreadsheets/pdf_di...   \n",
       "case_number.1                                                1920.00.00.b   \n",
       "case_number.2                                                1920.00.00.b   \n",
       "original_order                                                        NaN   \n",
       "ignore1                                                      stopped here   \n",
       "ignore2                                                            Teramo   \n",
       "\n",
       "                        freq         mean          std  min     25%     50%  \\\n",
       "case_number                8          NaN          NaN  NaN     NaN     NaN   \n",
       "date                      11          NaN          NaN  NaN     NaN     NaN   \n",
       "year                     NaN  1927.272381   281.116308  0.0  1942.0  1977.0   \n",
       "type                    4595          NaN          NaN  NaN     NaN     NaN   \n",
       "country                 2229          NaN          NaN  NaN     NaN     NaN   \n",
       "area                    1037          NaN          NaN  NaN     NaN     NaN   \n",
       "location                 163          NaN          NaN  NaN     NaN     NaN   \n",
       "activity                 971          NaN          NaN  NaN     NaN     NaN   \n",
       "name                     550          NaN          NaN  NaN     NaN     NaN   \n",
       "sex_                    5094          NaN          NaN  NaN     NaN     NaN   \n",
       "age                      154          NaN          NaN  NaN     NaN     NaN   \n",
       "injury                   802          NaN          NaN  NaN     NaN     NaN   \n",
       "fatal_(y/n)             4293          NaN          NaN  NaN     NaN     NaN   \n",
       "time                     187          NaN          NaN  NaN     NaN     NaN   \n",
       "species_                 163          NaN          NaN  NaN     NaN     NaN   \n",
       "investigator_or_source   105          NaN          NaN  NaN     NaN     NaN   \n",
       "pdf                        2          NaN          NaN  NaN     NaN     NaN   \n",
       "href_formula               2          NaN          NaN  NaN     NaN     NaN   \n",
       "href                       4          NaN          NaN  NaN     NaN     NaN   \n",
       "case_number.1              2          NaN          NaN  NaN     NaN     NaN   \n",
       "case_number.2              2          NaN          NaN  NaN     NaN     NaN   \n",
       "original_order           NaN  3155.999683  1821.396206  2.0  1579.0  3156.0   \n",
       "ignore1                    1          NaN          NaN  NaN     NaN     NaN   \n",
       "ignore2                    1          NaN          NaN  NaN     NaN     NaN   \n",
       "\n",
       "                           75%     max  \n",
       "case_number                NaN     NaN  \n",
       "date                       NaN     NaN  \n",
       "year                    2005.0  2018.0  \n",
       "type                       NaN     NaN  \n",
       "country                    NaN     NaN  \n",
       "area                       NaN     NaN  \n",
       "location                   NaN     NaN  \n",
       "activity                   NaN     NaN  \n",
       "name                       NaN     NaN  \n",
       "sex_                       NaN     NaN  \n",
       "age                        NaN     NaN  \n",
       "injury                     NaN     NaN  \n",
       "fatal_(y/n)                NaN     NaN  \n",
       "time                       NaN     NaN  \n",
       "species_                   NaN     NaN  \n",
       "investigator_or_source     NaN     NaN  \n",
       "pdf                        NaN     NaN  \n",
       "href_formula               NaN     NaN  \n",
       "href                       NaN     NaN  \n",
       "case_number.1              NaN     NaN  \n",
       "case_number.2              NaN     NaN  \n",
       "original_order          4733.0  6310.0  \n",
       "ignore1                    NaN     NaN  \n",
       "ignore2                    NaN     NaN  "
      ]
     },
     "execution_count": 363,
     "metadata": {},
     "output_type": "execute_result"
    }
   ],
   "source": [
    "#for now, not quite useful since most variables are categorical \n",
    "\n",
    "data.describe(include='all').T"
   ]
  },
  {
   "cell_type": "markdown",
   "id": "023ff0d8",
   "metadata": {},
   "source": [
    "## 4) Setting an objective "
   ]
  },
  {
   "cell_type": "markdown",
   "id": "d701f641",
   "metadata": {},
   "source": [
    "- While the primary purpose of this exercise is 'Data Cleaning', **I will define a 'Data Analysis' objetive**. This will help guide the cleaning process by focusing on the most relevant variables and avoid 'boiling the ocean'.\n",
    "\n",
    "- In this exercise, I will try to **understand the 'fatality' of the shark attacks**. In other words, I will verify if it is correlated with a sub-list of categorical variables (i.e., location, activity, sex, age, time of attack)\n",
    "\n",
    "- Thefore, **I will prioritize those columns in my cleaning process** "
   ]
  },
  {
   "cell_type": "code",
   "execution_count": 364,
   "id": "f1631fce",
   "metadata": {},
   "outputs": [
    {
     "data": {
      "text/plain": [
       "Index(['case_number', 'date', 'year', 'type', 'country', 'area', 'location',\n",
       "       'activity', 'name', 'sex_', 'age', 'injury', 'fatal_(y/n)', 'time',\n",
       "       'species_', 'investigator_or_source', 'pdf', 'href_formula', 'href',\n",
       "       'case_number.1', 'case_number.2', 'original_order', 'ignore1',\n",
       "       'ignore2'],\n",
       "      dtype='object')"
      ]
     },
     "execution_count": 364,
     "metadata": {},
     "output_type": "execute_result"
    }
   ],
   "source": [
    "data.columns"
   ]
  },
  {
   "cell_type": "code",
   "execution_count": 365,
   "id": "f6d50b96",
   "metadata": {},
   "outputs": [],
   "source": [
    "#as a starting point, I will prioritize those columns for the analysis. This could evolve depending on the quality of the data\n",
    "\n",
    "columns_focus = ['country','activity','sex_','age','fatal_(y/n)','time','species_']"
   ]
  },
  {
   "cell_type": "code",
   "execution_count": 366,
   "id": "8cd1c2f7",
   "metadata": {},
   "outputs": [
    {
     "data": {
      "text/html": [
       "<div>\n",
       "<style scoped>\n",
       "    .dataframe tbody tr th:only-of-type {\n",
       "        vertical-align: middle;\n",
       "    }\n",
       "\n",
       "    .dataframe tbody tr th {\n",
       "        vertical-align: top;\n",
       "    }\n",
       "\n",
       "    .dataframe thead th {\n",
       "        text-align: right;\n",
       "    }\n",
       "</style>\n",
       "<table border=\"1\" class=\"dataframe\">\n",
       "  <thead>\n",
       "    <tr style=\"text-align: right;\">\n",
       "      <th></th>\n",
       "      <th>country</th>\n",
       "      <th>activity</th>\n",
       "      <th>sex_</th>\n",
       "      <th>age</th>\n",
       "      <th>fatal_(y/n)</th>\n",
       "      <th>time</th>\n",
       "      <th>species_</th>\n",
       "    </tr>\n",
       "  </thead>\n",
       "  <tbody>\n",
       "    <tr>\n",
       "      <th>0</th>\n",
       "      <td>USA</td>\n",
       "      <td>Paddling</td>\n",
       "      <td>F</td>\n",
       "      <td>57</td>\n",
       "      <td>N</td>\n",
       "      <td>18h00</td>\n",
       "      <td>White shark</td>\n",
       "    </tr>\n",
       "    <tr>\n",
       "      <th>1</th>\n",
       "      <td>USA</td>\n",
       "      <td>Standing</td>\n",
       "      <td>F</td>\n",
       "      <td>11</td>\n",
       "      <td>N</td>\n",
       "      <td>14h00  -15h00</td>\n",
       "      <td>NaN</td>\n",
       "    </tr>\n",
       "    <tr>\n",
       "      <th>2</th>\n",
       "      <td>USA</td>\n",
       "      <td>Surfing</td>\n",
       "      <td>M</td>\n",
       "      <td>48</td>\n",
       "      <td>N</td>\n",
       "      <td>07h45</td>\n",
       "      <td>NaN</td>\n",
       "    </tr>\n",
       "    <tr>\n",
       "      <th>3</th>\n",
       "      <td>AUSTRALIA</td>\n",
       "      <td>Surfing</td>\n",
       "      <td>M</td>\n",
       "      <td>NaN</td>\n",
       "      <td>N</td>\n",
       "      <td>NaN</td>\n",
       "      <td>2 m shark</td>\n",
       "    </tr>\n",
       "    <tr>\n",
       "      <th>4</th>\n",
       "      <td>MEXICO</td>\n",
       "      <td>Free diving</td>\n",
       "      <td>M</td>\n",
       "      <td>NaN</td>\n",
       "      <td>N</td>\n",
       "      <td>NaN</td>\n",
       "      <td>Tiger shark, 3m</td>\n",
       "    </tr>\n",
       "  </tbody>\n",
       "</table>\n",
       "</div>"
      ],
      "text/plain": [
       "     country     activity sex_  age fatal_(y/n)           time  \\\n",
       "0        USA     Paddling    F   57           N          18h00   \n",
       "1        USA     Standing    F   11           N  14h00  -15h00   \n",
       "2        USA      Surfing    M   48           N          07h45   \n",
       "3  AUSTRALIA      Surfing    M  NaN           N            NaN   \n",
       "4     MEXICO  Free diving    M  NaN           N            NaN   \n",
       "\n",
       "          species_  \n",
       "0      White shark  \n",
       "1              NaN  \n",
       "2              NaN  \n",
       "3        2 m shark  \n",
       "4  Tiger shark, 3m  "
      ]
     },
     "execution_count": 366,
     "metadata": {},
     "output_type": "execute_result"
    }
   ],
   "source": [
    "data[columns_focus].head()"
   ]
  },
  {
   "cell_type": "markdown",
   "id": "e61bc4f3",
   "metadata": {},
   "source": [
    "## 5) Cleaning variables "
   ]
  },
  {
   "cell_type": "markdown",
   "id": "2ec425aa",
   "metadata": {},
   "source": [
    "## 5.1) Looking for null values"
   ]
  },
  {
   "cell_type": "code",
   "execution_count": 367,
   "id": "aa1ece91",
   "metadata": {},
   "outputs": [
    {
     "data": {
      "text/plain": [
       "case_number                  2\n",
       "date                        10\n",
       "year                        12\n",
       "type                        14\n",
       "country                     60\n",
       "area                       465\n",
       "location                   550\n",
       "activity                   554\n",
       "name                       220\n",
       "sex_                       575\n",
       "age                       2841\n",
       "injury                      38\n",
       "fatal_(y/n)                549\n",
       "time                      3364\n",
       "species_                  2848\n",
       "investigator_or_source      27\n",
       "pdf                         10\n",
       "href_formula                11\n",
       "href                        10\n",
       "case_number.1               10\n",
       "case_number.2               10\n",
       "original_order               3\n",
       "ignore1                   6311\n",
       "ignore2                   6310\n",
       "dtype: int64"
      ]
     },
     "execution_count": 367,
     "metadata": {},
     "output_type": "execute_result"
    }
   ],
   "source": [
    "## In absolute terms \n",
    "\n",
    "nan_cols = data.isna().sum()\n",
    "nan_cols"
   ]
  },
  {
   "cell_type": "code",
   "execution_count": 368,
   "id": "6f167e17",
   "metadata": {},
   "outputs": [
    {
     "data": {
      "text/plain": [
       "case_number                0.031686\n",
       "date                       0.158428\n",
       "year                       0.190114\n",
       "type                       0.221800\n",
       "country                    0.950570\n",
       "area                       7.366920\n",
       "location                   8.713561\n",
       "activity                   8.776933\n",
       "name                       3.485425\n",
       "sex_                       9.109632\n",
       "age                       45.009506\n",
       "injury                     0.602028\n",
       "fatal_(y/n)                8.697719\n",
       "time                      53.295311\n",
       "species_                  45.120406\n",
       "investigator_or_source     0.427757\n",
       "pdf                        0.158428\n",
       "href_formula               0.174271\n",
       "href                       0.158428\n",
       "case_number.1              0.158428\n",
       "case_number.2              0.158428\n",
       "original_order             0.047529\n",
       "ignore1                   99.984157\n",
       "ignore2                   99.968314\n",
       "dtype: float64"
      ]
     },
     "execution_count": 368,
     "metadata": {},
     "output_type": "execute_result"
    }
   ],
   "source": [
    "# In relative terms\n",
    "\n",
    "nan_cols_rel = data.isna().mean() * 100\n",
    "nan_cols_rel[nan_cols_rel>0]"
   ]
  },
  {
   "cell_type": "code",
   "execution_count": 369,
   "id": "5c2b9606",
   "metadata": {},
   "outputs": [
    {
     "data": {
      "text/plain": [
       "<Axes: >"
      ]
     },
     "execution_count": 369,
     "metadata": {},
     "output_type": "execute_result"
    },
    {
     "data": {
      "image/png": "[encoded data removed]",
      "text/plain": [
       "<Figure size 1000x600 with 1 Axes>"
      ]
     },
     "metadata": {},
     "output_type": "display_data"
    }
   ],
   "source": [
    "# We can visualize it\n",
    "\n",
    "plt.figure(figsize=(10, 6))  # 100X60  pixeles\n",
    "\n",
    "sns.heatmap(data.isna(),yticklabels=False,cmap='viridis',cbar=False)"
   ]
  },
  {
   "cell_type": "code",
   "execution_count": 370,
   "id": "67d2429a",
   "metadata": {},
   "outputs": [
    {
     "data": {
      "text/plain": [
       "<Axes: >"
      ]
     },
     "execution_count": 370,
     "metadata": {},
     "output_type": "execute_result"
    },
    {
     "data": {
      "image/png": "[encoded data removed]",
      "text/plain": [
       "<Figure size 1000x600 with 1 Axes>"
      ]
     },
     "metadata": {},
     "output_type": "display_data"
    }
   ],
   "source": [
    "# Here we look at the same chart, but zooming into our columns of focus \n",
    "\n",
    "plt.figure(figsize=(10, 6))  # 100X60  pixeles\n",
    "\n",
    "sns.heatmap(data[columns_focus].isna(),yticklabels=False,cmap='viridis',cbar=False)"
   ]
  },
  {
   "cell_type": "markdown",
   "id": "5bef1d8c",
   "metadata": {},
   "source": [
    "## 5.1) Column fatal_(y/n)"
   ]
  },
  {
   "cell_type": "code",
   "execution_count": 371,
   "id": "be4733ab",
   "metadata": {},
   "outputs": [
    {
     "data": {
      "text/plain": [
       "array(['N', 'Y', nan, 'M', 'UNKNOWN', '2017', ' N', 'N ', 'y'],\n",
       "      dtype=object)"
      ]
     },
     "execution_count": 371,
     "metadata": {},
     "output_type": "execute_result"
    }
   ],
   "source": [
    "#since we are trying to explain this variable, let us start by looking into it \n",
    "#although we'd expect Y/N, we see there are different values and therefore we must clean them \n",
    "\n",
    "data['fatal_(y/n)'].unique()"
   ]
  },
  {
   "cell_type": "code",
   "execution_count": 372,
   "id": "3898f85a",
   "metadata": {},
   "outputs": [
    {
     "data": {
      "text/plain": [
       "fatal_(y/n)\n",
       "N          4293\n",
       "Y          1388\n",
       "UNKNOWN      71\n",
       " N            7\n",
       "M             1\n",
       "2017          1\n",
       "N             1\n",
       "y             1\n",
       "Name: count, dtype: int64"
      ]
     },
     "execution_count": 372,
     "metadata": {},
     "output_type": "execute_result"
    }
   ],
   "source": [
    "#lets look into there frequency \n",
    "\n",
    "data['fatal_(y/n)'].value_counts()"
   ]
  },
  {
   "cell_type": "code",
   "execution_count": 373,
   "id": "62f8208e",
   "metadata": {},
   "outputs": [],
   "source": [
    "#if the value is null or unkown, it does not serve our purpose. \n",
    "#also, 2017 is clearly not applicable here. \n",
    "#M could be a typo for N, but since I can not be sure I will remove it "
   ]
  },
  {
   "cell_type": "code",
   "execution_count": 374,
   "id": "0ad75bea",
   "metadata": {},
   "outputs": [
    {
     "name": "stdout",
     "output_type": "stream",
     "text": [
      "Index([27, 76, 79, 84, 98, 107, 115, 124, 125, 145, 151, 153, 159, 187, 189], dtype='int64')\n"
     ]
    }
   ],
   "source": [
    "#where are my NAs? \n",
    "\n",
    "bad_index_fatal = data['fatal_(y/n)'][data['fatal_(y/n)'].isna()].index\n",
    "print(bad_index_fatal[:15])"
   ]
  },
  {
   "cell_type": "code",
   "execution_count": 375,
   "id": "37c3f7fa",
   "metadata": {},
   "outputs": [
    {
     "name": "stdout",
     "output_type": "stream",
     "text": [
      "(6312, 24)\n"
     ]
    }
   ],
   "source": [
    "print(data.shape)"
   ]
  },
  {
   "cell_type": "code",
   "execution_count": 376,
   "id": "a7be59ce",
   "metadata": {},
   "outputs": [],
   "source": [
    "#I will drop them\n",
    "\n",
    "data.drop(bad_index_fatal, axis=0, inplace=True)"
   ]
  },
  {
   "cell_type": "code",
   "execution_count": 377,
   "id": "639e759a",
   "metadata": {},
   "outputs": [
    {
     "name": "stdout",
     "output_type": "stream",
     "text": [
      "(5763, 24)\n",
      "(25723, 24)\n"
     ]
    }
   ],
   "source": [
    "#I am down 549 values, which is consistent with the absolute count we had done \n",
    "\n",
    "print(data.shape)\n",
    "print(data_original.shape)"
   ]
  },
  {
   "cell_type": "code",
   "execution_count": 378,
   "id": "01c849c8",
   "metadata": {},
   "outputs": [
    {
     "name": "stdout",
     "output_type": "stream",
     "text": [
      "Index([ 285,  624,  786, 1270, 2250, 2260, 2267, 2295, 2307, 2323, 2328, 2388,\n",
      "       2404, 2409, 2648, 2650, 2661, 2806, 2882, 2900, 2943, 2996, 2998, 3006,\n",
      "       3038, 3041, 3298, 3396, 3411, 3429, 3434, 3507, 3545, 3552, 3712, 3774,\n",
      "       3794, 3838, 3841, 4060, 4208, 4256, 4269, 4310, 4323, 4517, 4689, 4786,\n",
      "       4787, 4976, 4998, 5029, 5159, 5270, 5347, 5409, 5555, 5615, 5653, 5656,\n",
      "       5674, 5708, 5709, 5998, 6081, 6153, 6165, 6166, 6167, 6169, 6171, 6172,\n",
      "       6277],\n",
      "      dtype='int64')\n"
     ]
    }
   ],
   "source": [
    "#I will remove ['UNKNOWN', 'M', '2017']\n",
    "\n",
    "bad_index_fatal = data[data['fatal_(y/n)'].isin(['UNKNOWN', 'M', 2017, '2017'])].index\n",
    "print(bad_index_fatal)"
   ]
  },
  {
   "cell_type": "code",
   "execution_count": 379,
   "id": "d33a0b6d",
   "metadata": {},
   "outputs": [
    {
     "data": {
      "text/plain": [
       "(5763, 24)"
      ]
     },
     "execution_count": 379,
     "metadata": {},
     "output_type": "execute_result"
    }
   ],
   "source": [
    "data.shape"
   ]
  },
  {
   "cell_type": "code",
   "execution_count": 380,
   "id": "aa26f363",
   "metadata": {},
   "outputs": [],
   "source": [
    "#I will remove ['UNKNOWN', 'M', '2017']\n",
    "\n",
    "data.drop(bad_index_fatal, axis=0, inplace=True)"
   ]
  },
  {
   "cell_type": "code",
   "execution_count": 381,
   "id": "fea46ff3",
   "metadata": {},
   "outputs": [
    {
     "name": "stdout",
     "output_type": "stream",
     "text": [
      "(5690, 24)\n",
      "(25723, 24)\n"
     ]
    }
   ],
   "source": [
    "#I am down 73 values\n",
    "\n",
    "print(data.shape)\n",
    "print(data_original.shape)"
   ]
  },
  {
   "cell_type": "code",
   "execution_count": 382,
   "id": "7e0b0da5",
   "metadata": {},
   "outputs": [
    {
     "data": {
      "text/plain": [
       "fatal_(y/n)\n",
       "N     4293\n",
       "Y     1388\n",
       " N       7\n",
       "N        1\n",
       "y        1\n",
       "Name: count, dtype: int64"
      ]
     },
     "execution_count": 382,
     "metadata": {},
     "output_type": "execute_result"
    }
   ],
   "source": [
    "#lastly, I will clean the rest of strings to be uppercase, no space\n",
    "\n",
    "data['fatal_(y/n)'].value_counts()"
   ]
  },
  {
   "cell_type": "code",
   "execution_count": 383,
   "id": "0512b07b",
   "metadata": {},
   "outputs": [
    {
     "data": {
      "text/plain": [
       "'Y'"
      ]
     },
     "execution_count": 383,
     "metadata": {},
     "output_type": "execute_result"
    }
   ],
   "source": [
    "#testing for one \n",
    "\n",
    "string = 'y '\n",
    "string.upper().replace(' ','')"
   ]
  },
  {
   "cell_type": "code",
   "execution_count": 384,
   "id": "12fe49fe",
   "metadata": {},
   "outputs": [],
   "source": [
    "data['fatal_(y/n)'] = data['fatal_(y/n)'].apply(lambda X: X.upper().replace(' ', ''))"
   ]
  },
  {
   "cell_type": "code",
   "execution_count": 385,
   "id": "bde70aa4",
   "metadata": {},
   "outputs": [
    {
     "data": {
      "text/plain": [
       "fatal_(y/n)\n",
       "N    4301\n",
       "Y    1389\n",
       "Name: count, dtype: int64"
      ]
     },
     "execution_count": 385,
     "metadata": {},
     "output_type": "execute_result"
    }
   ],
   "source": [
    "#he limpiado la columna \n",
    "\n",
    "data['fatal_(y/n)'].value_counts()"
   ]
  },
  {
   "cell_type": "code",
   "execution_count": 386,
   "id": "c3b06fd4",
   "metadata": {},
   "outputs": [
    {
     "data": {
      "text/plain": [
       "case_number                0.017575\n",
       "year                       0.017575\n",
       "type                       0.052724\n",
       "country                    0.755712\n",
       "area                       6.977153\n",
       "location                   8.295255\n",
       "activity                   6.748682\n",
       "name                       2.548330\n",
       "sex_                       8.014060\n",
       "age                       43.198594\n",
       "injury                     0.017575\n",
       "time                      50.913884\n",
       "species_                  48.523726\n",
       "investigator_or_source     0.193322\n",
       "href_formula               0.017575\n",
       "ignore1                   99.982425\n",
       "ignore2                   99.964851\n",
       "dtype: float64"
      ]
     },
     "execution_count": 386,
     "metadata": {},
     "output_type": "execute_result"
    }
   ],
   "source": [
    "# In relative terms\n",
    "\n",
    "nan_cols_rel = data.isna().mean() * 100\n",
    "nan_cols_rel[nan_cols_rel>0]"
   ]
  },
  {
   "cell_type": "code",
   "execution_count": 387,
   "id": "3e5219dc",
   "metadata": {},
   "outputs": [
    {
     "data": {
      "text/plain": [
       "3190"
      ]
     },
     "execution_count": 387,
     "metadata": {},
     "output_type": "execute_result"
    }
   ],
   "source": [
    "# I can still remove 3190 rows based on the condition established \n",
    "\n",
    "thresholdrow = 2500 \n",
    "data.shape[0]-thresholdrow "
   ]
  },
  {
   "cell_type": "markdown",
   "id": "3fff065e",
   "metadata": {},
   "source": [
    "## 5.2) Column Age "
   ]
  },
  {
   "cell_type": "code",
   "execution_count": 388,
   "id": "2d189c04",
   "metadata": {},
   "outputs": [
    {
     "data": {
      "text/plain": [
       "2458"
      ]
     },
     "execution_count": 388,
     "metadata": {},
     "output_type": "execute_result"
    }
   ],
   "source": [
    "#there are a lot of null values in age, but still within my condition of having 2.5k rows. I will remove them. \n",
    "\n",
    "data.age.isnull().sum()"
   ]
  },
  {
   "cell_type": "code",
   "execution_count": 389,
   "id": "de5d2c80",
   "metadata": {},
   "outputs": [
    {
     "name": "stdout",
     "output_type": "stream",
     "text": [
      "Index([3, 4, 5, 15, 16, 17, 19, 20, 22, 30, 32, 43, 49, 52, 59], dtype='int64')\n"
     ]
    }
   ],
   "source": [
    "#where are my NAs? \n",
    "\n",
    "bad_index_age = data['age'][data['age'].isna()].index\n",
    "print(bad_index_age[:15])"
   ]
  },
  {
   "cell_type": "code",
   "execution_count": 390,
   "id": "5075695c",
   "metadata": {},
   "outputs": [
    {
     "name": "stdout",
     "output_type": "stream",
     "text": [
      "(5690, 24)\n"
     ]
    }
   ],
   "source": [
    "print(data.shape)"
   ]
  },
  {
   "cell_type": "code",
   "execution_count": 391,
   "id": "51fd6853",
   "metadata": {},
   "outputs": [],
   "source": [
    "#I will drop them\n",
    "\n",
    "data.drop(bad_index_age, axis=0, inplace=True)"
   ]
  },
  {
   "cell_type": "code",
   "execution_count": 392,
   "id": "184a44b6",
   "metadata": {},
   "outputs": [
    {
     "name": "stdout",
     "output_type": "stream",
     "text": [
      "(3232, 24)\n"
     ]
    }
   ],
   "source": [
    "print(data.shape)"
   ]
  },
  {
   "cell_type": "code",
   "execution_count": 393,
   "id": "fba15885",
   "metadata": {},
   "outputs": [
    {
     "data": {
      "text/plain": [
       "age\n",
       "18                 141\n",
       "17                 137\n",
       "15                 137\n",
       "19                 136\n",
       "16                 135\n",
       "20                 132\n",
       "21                 111\n",
       "22                 109\n",
       "25                 102\n",
       "24                  98\n",
       "14                  95\n",
       "13                  92\n",
       "26                  80\n",
       "29                  75\n",
       "28                  75\n",
       "23                  74\n",
       "30                  73\n",
       "27                  72\n",
       "12                  69\n",
       "35                  65\n",
       "32                  63\n",
       "40                  51\n",
       "10                  51\n",
       "34                  47\n",
       "38                  46\n",
       "31                  46\n",
       "33                  42\n",
       "37                  39\n",
       "41                  38\n",
       "36                  37\n",
       "39                  35\n",
       "42                  35\n",
       "43                  35\n",
       "50                  32\n",
       "11                  32\n",
       "9                   31\n",
       "52                  31\n",
       "45                  28\n",
       "47                  27\n",
       "48                  26\n",
       "8                   26\n",
       "46                  26\n",
       "44                  26\n",
       "49                  24\n",
       "55                  23\n",
       "7                   19\n",
       "51                  18\n",
       "54                  16\n",
       "58                  15\n",
       "57                  15\n",
       "60                  14\n",
       "61                  13\n",
       "6                   13\n",
       "59                  11\n",
       "53                  10\n",
       "69                  10\n",
       "56                   9\n",
       "Teen                 8\n",
       "62                   7\n",
       "63                   7\n",
       "30s                  7\n",
       "20s                  7\n",
       "70                   6\n",
       "5                    6\n",
       "68                   5\n",
       "3                    5\n",
       "teen                 5\n",
       "64                   4\n",
       "66                   4\n",
       "65                   4\n",
       "40s                  3\n",
       "71                   3\n",
       "73                   3\n",
       "77                   2\n",
       "78                   2\n",
       "                     2\n",
       "50s                  2\n",
       "7 or 8               2\n",
       "young                2\n",
       "50 & 30              1\n",
       "\"middle-age\"         1\n",
       "X                    1\n",
       "13 or 18             1\n",
       "17 & 35              1\n",
       "72                   1\n",
       "30 & 32              1\n",
       "25 or 28             1\n",
       "33 & 37              1\n",
       "(adult)              1\n",
       "MAKE LINE GREEN      1\n",
       "1                    1\n",
       "23 & 26              1\n",
       "25 to 35             1\n",
       "33 & 26              1\n",
       "F                    1\n",
       " 43                  1\n",
       "81                   1\n",
       "\"young\"              1\n",
       "17 & 16              1\n",
       "8 or 10              1\n",
       "9 & 12               1\n",
       "Both 11              1\n",
       "9 or 10              1\n",
       "36 & 23              1\n",
       "                     1\n",
       "A.M.                 1\n",
       "?    &   14          1\n",
       "10 or 12             1\n",
       "31 or 33             1\n",
       "2½                   1\n",
       "9 months             1\n",
       "75                   1\n",
       "adult                1\n",
       "12 or 13             1\n",
       "                     1\n",
       "84                   1\n",
       "36 & 26              1\n",
       "Teens                1\n",
       "28, 23 & 30          1\n",
       "46 & 34              1\n",
       "18 or 20             1\n",
       "6½                   1\n",
       "86                   1\n",
       "28 & 26              1\n",
       "74                   1\n",
       "82                   1\n",
       "18 months            1\n",
       "60s                  1\n",
       "30 or 36             1\n",
       "21 & ?               1\n",
       "18 to 22             1\n",
       "87                   1\n",
       ">50                  1\n",
       "20                   1\n",
       "21 or 26             1\n",
       "45                   1\n",
       "74                   1\n",
       "Elderly              1\n",
       "32 & 30              1\n",
       "33 or 37             1\n",
       "60's                 1\n",
       "20?                  1\n",
       " 28                  1\n",
       "7      &    31       1\n",
       " 30                  1\n",
       "mid-30s              1\n",
       "13 or 14             1\n",
       "Name: count, dtype: int64"
      ]
     },
     "execution_count": 393,
     "metadata": {},
     "output_type": "execute_result"
    }
   ],
   "source": [
    "#a couple of issues in the longtail: \n",
    "#some categorical values (E.g,. teens, middle age), some special characters or spacing, two ages (maybe two victims?)\n",
    "\n",
    "\n",
    "data.age.value_counts()"
   ]
  },
  {
   "cell_type": "code",
   "execution_count": 394,
   "id": "5471c719",
   "metadata": {},
   "outputs": [
    {
     "data": {
      "text/plain": [
       "147"
      ]
     },
     "execution_count": 394,
     "metadata": {},
     "output_type": "execute_result"
    }
   ],
   "source": [
    "len(data.age.unique())"
   ]
  },
  {
   "cell_type": "code",
   "execution_count": 395,
   "id": "d9343b44",
   "metadata": {},
   "outputs": [],
   "source": [
    "#I will clean spacing \n",
    "\n",
    "data['age'] = data['age'].apply(lambda x: x.replace(' ', ''))"
   ]
  },
  {
   "cell_type": "code",
   "execution_count": 396,
   "id": "07e8a6c3",
   "metadata": {},
   "outputs": [
    {
     "data": {
      "text/plain": [
       "140"
      ]
     },
     "execution_count": 396,
     "metadata": {},
     "output_type": "execute_result"
    }
   ],
   "source": [
    "len(data.age.unique())"
   ]
  },
  {
   "cell_type": "code",
   "execution_count": 397,
   "id": "be38d79e",
   "metadata": {},
   "outputs": [
    {
     "data": {
      "text/plain": [
       "age\n",
       "18               141\n",
       "17               137\n",
       "15               137\n",
       "19               136\n",
       "16               135\n",
       "20               133\n",
       "21               111\n",
       "22               109\n",
       "25               102\n",
       "24                98\n",
       "14                95\n",
       "13                92\n",
       "26                80\n",
       "28                76\n",
       "29                75\n",
       "23                74\n",
       "30                74\n",
       "27                72\n",
       "12                69\n",
       "35                65\n",
       "32                63\n",
       "40                51\n",
       "10                51\n",
       "34                47\n",
       "38                46\n",
       "31                46\n",
       "33                42\n",
       "37                39\n",
       "41                38\n",
       "36                37\n",
       "43                36\n",
       "42                35\n",
       "39                35\n",
       "11                32\n",
       "50                32\n",
       "52                31\n",
       "9                 31\n",
       "45                29\n",
       "47                27\n",
       "8                 26\n",
       "44                26\n",
       "48                26\n",
       "46                26\n",
       "49                24\n",
       "55                23\n",
       "7                 19\n",
       "51                18\n",
       "54                16\n",
       "58                15\n",
       "57                15\n",
       "60                14\n",
       "6                 13\n",
       "61                13\n",
       "59                11\n",
       "53                10\n",
       "69                10\n",
       "56                 9\n",
       "Teen               8\n",
       "20s                7\n",
       "63                 7\n",
       "30s                7\n",
       "62                 7\n",
       "5                  6\n",
       "70                 6\n",
       "68                 5\n",
       "3                  5\n",
       "teen               5\n",
       "64                 4\n",
       "66                 4\n",
       "65                 4\n",
       "71                 3\n",
       "                   3\n",
       "73                 3\n",
       "40s                3\n",
       "7or8               2\n",
       "78                 2\n",
       "young              2\n",
       "74                 2\n",
       "77                 2\n",
       "50s                2\n",
       "MAKELINEGREEN      1\n",
       "25or28             1\n",
       "33&37              1\n",
       "30&32              1\n",
       "50&30              1\n",
       "17&35              1\n",
       "X                  1\n",
       "\"middle-age\"       1\n",
       "(adult)            1\n",
       "1                  1\n",
       "23&26              1\n",
       "13or18             1\n",
       "33&26              1\n",
       "8or10              1\n",
       "81                 1\n",
       "\"young\"            1\n",
       "17&16              1\n",
       "9months            1\n",
       "F                  1\n",
       "Both11             1\n",
       "9or10              1\n",
       "36&23              1\n",
       "A.M.               1\n",
       "?&14               1\n",
       "10or12             1\n",
       "31or33             1\n",
       "2½                 1\n",
       "25to35             1\n",
       "75                 1\n",
       "9&12               1\n",
       "                   1\n",
       "72                 1\n",
       "60s                1\n",
       "18months           1\n",
       "82                 1\n",
       "28&26              1\n",
       "86                 1\n",
       "18or20             1\n",
       "12or13             1\n",
       "46&34              1\n",
       "28,23&30           1\n",
       "Teens              1\n",
       "36&26              1\n",
       "84                 1\n",
       "30or36             1\n",
       "adult              1\n",
       "6½                 1\n",
       "21&?               1\n",
       "33or37             1\n",
       "mid-30s            1\n",
       "7&31               1\n",
       "20?                1\n",
       "60's               1\n",
       "32&30              1\n",
       "87                 1\n",
       "Elderly            1\n",
       "21or26             1\n",
       ">50                1\n",
       "18to22             1\n",
       "13or14             1\n",
       "Name: count, dtype: int64"
      ]
     },
     "execution_count": 397,
     "metadata": {},
     "output_type": "execute_result"
    }
   ],
   "source": [
    "data.age.value_counts()"
   ]
  },
  {
   "cell_type": "code",
   "execution_count": 399,
   "id": "06a20c80",
   "metadata": {},
   "outputs": [
    {
     "data": {
      "text/plain": [
       "(3232, 24)"
      ]
     },
     "execution_count": 399,
     "metadata": {},
     "output_type": "execute_result"
    }
   ],
   "source": [
    "data.shape"
   ]
  },
  {
   "cell_type": "code",
   "execution_count": 400,
   "id": "d7b5f30f",
   "metadata": {},
   "outputs": [],
   "source": [
    "data['age'] = data['age'].str.extract(r'(\\d{1,3})', expand=False)"
   ]
  },
  {
   "cell_type": "code",
   "execution_count": 402,
   "id": "6cc571f1",
   "metadata": {},
   "outputs": [],
   "source": [
    "data = data.dropna(subset=['age'])"
   ]
  },
  {
   "cell_type": "code",
   "execution_count": 404,
   "id": "f90c3aa9",
   "metadata": {},
   "outputs": [],
   "source": [
    "data['age'] = data['age'].astype(int)"
   ]
  },
  {
   "cell_type": "code",
   "execution_count": 406,
   "id": "fb02b508",
   "metadata": {},
   "outputs": [
    {
     "data": {
      "text/plain": [
       "age\n",
       "18    144\n",
       "20    141\n",
       "17    139\n",
       "15    137\n",
       "19    136\n",
       "Name: count, dtype: int64"
      ]
     },
     "execution_count": 406,
     "metadata": {},
     "output_type": "execute_result"
    }
   ],
   "source": [
    "data.age.value_counts().head(5)"
   ]
  },
  {
   "cell_type": "code",
   "execution_count": 408,
   "id": "54bd9a10",
   "metadata": {},
   "outputs": [
    {
     "data": {
      "text/plain": [
       "(3203, 24)"
      ]
     },
     "execution_count": 408,
     "metadata": {},
     "output_type": "execute_result"
    }
   ],
   "source": [
    "data.shape"
   ]
  },
  {
   "cell_type": "code",
   "execution_count": 410,
   "id": "53139529",
   "metadata": {},
   "outputs": [
    {
     "data": {
      "text/plain": [
       "country                      7\n",
       "area                       104\n",
       "location                   131\n",
       "activity                   103\n",
       "name                         7\n",
       "sex_                        32\n",
       "time                       962\n",
       "species_                  1243\n",
       "investigator_or_source       3\n",
       "href_formula                 1\n",
       "ignore1                   3202\n",
       "ignore2                   3203\n",
       "dtype: int64"
      ]
     },
     "execution_count": 410,
     "metadata": {},
     "output_type": "execute_result"
    }
   ],
   "source": [
    "# In absolute terms\n",
    "\n",
    "nan_cols_rel = data.isna().sum() \n",
    "nan_cols_rel[nan_cols_rel>0]"
   ]
  },
  {
   "cell_type": "markdown",
   "id": "9d4810c4",
   "metadata": {},
   "source": [
    "## 5.3) Column Sex_"
   ]
  },
  {
   "cell_type": "code",
   "execution_count": 411,
   "id": "474dff77",
   "metadata": {},
   "outputs": [
    {
     "name": "stdout",
     "output_type": "stream",
     "text": [
      "Index([ 740, 1743, 1770, 1963, 1995, 2225, 2317, 2385, 2472, 2478, 2515, 2810,\n",
      "       2811, 3235, 3247],\n",
      "      dtype='int64')\n"
     ]
    }
   ],
   "source": [
    "#bad indices \n",
    "\n",
    "bad_index_sex_ = data['sex_'][data['sex_'].isna()].index\n",
    "print(bad_index_sex_[:15])"
   ]
  },
  {
   "cell_type": "code",
   "execution_count": 412,
   "id": "e1dfd46c",
   "metadata": {},
   "outputs": [],
   "source": [
    "#drop \n",
    "data.drop(bad_index_sex_, axis=0, inplace=True)"
   ]
  },
  {
   "cell_type": "code",
   "execution_count": 413,
   "id": "e5616b78",
   "metadata": {},
   "outputs": [
    {
     "name": "stdout",
     "output_type": "stream",
     "text": [
      "(3171, 24)\n",
      "(25723, 24)\n"
     ]
    }
   ],
   "source": [
    "print(data.shape)\n",
    "print(data_original.shape)"
   ]
  },
  {
   "cell_type": "code",
   "execution_count": 414,
   "id": "b709bd1c",
   "metadata": {},
   "outputs": [
    {
     "data": {
      "text/plain": [
       "array(['F', 'M', 'M ', 'lli'], dtype=object)"
      ]
     },
     "execution_count": 414,
     "metadata": {},
     "output_type": "execute_result"
    }
   ],
   "source": [
    "#what are the other values \n",
    "\n",
    "data.sex_.unique()"
   ]
  },
  {
   "cell_type": "code",
   "execution_count": 415,
   "id": "b5fc14f6",
   "metadata": {},
   "outputs": [
    {
     "data": {
      "text/plain": [
       "sex_\n",
       "M      2748\n",
       "F       421\n",
       "M         1\n",
       "lli       1\n",
       "Name: count, dtype: int64"
      ]
     },
     "execution_count": 415,
     "metadata": {},
     "output_type": "execute_result"
    }
   ],
   "source": [
    "data.sex_.value_counts()"
   ]
  },
  {
   "cell_type": "code",
   "execution_count": 416,
   "id": "7b8769d2",
   "metadata": {},
   "outputs": [
    {
     "name": "stdout",
     "output_type": "stream",
     "text": [
      "Index([1624], dtype='int64')\n"
     ]
    }
   ],
   "source": [
    "#N and 'ili' are not sex categories. I will remove them \n",
    "\n",
    "bad_index_sex_ = data[data['sex_'].isin(['N', '.','lli'])].index\n",
    "print(bad_index_sex_)"
   ]
  },
  {
   "cell_type": "code",
   "execution_count": 417,
   "id": "4c5a964a",
   "metadata": {},
   "outputs": [],
   "source": [
    "#drop \n",
    "data.drop(bad_index_sex_, axis=0, inplace=True)"
   ]
  },
  {
   "cell_type": "code",
   "execution_count": 418,
   "id": "3784b4e2",
   "metadata": {},
   "outputs": [
    {
     "data": {
      "text/plain": [
       "sex_\n",
       "M     2748\n",
       "F      421\n",
       "M        1\n",
       "Name: count, dtype: int64"
      ]
     },
     "execution_count": 418,
     "metadata": {},
     "output_type": "execute_result"
    }
   ],
   "source": [
    "data.sex_.value_counts()"
   ]
  },
  {
   "cell_type": "code",
   "execution_count": 419,
   "id": "5d5b0581",
   "metadata": {},
   "outputs": [],
   "source": [
    "data['sex_'] = data['sex_'].apply(lambda X: X.upper().replace(' ', ''))"
   ]
  },
  {
   "cell_type": "code",
   "execution_count": 420,
   "id": "74524477",
   "metadata": {},
   "outputs": [
    {
     "data": {
      "text/plain": [
       "sex_\n",
       "M    2749\n",
       "F     421\n",
       "Name: count, dtype: int64"
      ]
     },
     "execution_count": 420,
     "metadata": {},
     "output_type": "execute_result"
    }
   ],
   "source": [
    "#clean!\n",
    "\n",
    "data.sex_.value_counts()"
   ]
  },
  {
   "cell_type": "code",
   "execution_count": 422,
   "id": "24e83443",
   "metadata": {},
   "outputs": [
    {
     "data": {
      "text/plain": [
       "(3170, 24)"
      ]
     },
     "execution_count": 422,
     "metadata": {},
     "output_type": "execute_result"
    }
   ],
   "source": [
    "data.shape"
   ]
  },
  {
   "cell_type": "code",
   "execution_count": 423,
   "id": "9ad1c5c0",
   "metadata": {},
   "outputs": [
    {
     "data": {
      "text/plain": [
       "country                      7\n",
       "area                       102\n",
       "location                   129\n",
       "activity                    98\n",
       "name                         7\n",
       "time                       941\n",
       "species_                  1223\n",
       "investigator_or_source       3\n",
       "href_formula                 1\n",
       "ignore1                   3169\n",
       "ignore2                   3170\n",
       "dtype: int64"
      ]
     },
     "execution_count": 423,
     "metadata": {},
     "output_type": "execute_result"
    }
   ],
   "source": [
    "nan_cols = data.isna().sum()\n",
    "nan_cols[nan_cols>0]"
   ]
  },
  {
   "cell_type": "markdown",
   "id": "a92a3389",
   "metadata": {},
   "source": [
    "## 5.4) Column Country "
   ]
  },
  {
   "cell_type": "code",
   "execution_count": 425,
   "id": "934bdea0",
   "metadata": {},
   "outputs": [
    {
     "name": "stdout",
     "output_type": "stream",
     "text": [
      "Index([62, 3399, 3425, 3605, 5060, 5808, 5996], dtype='int64')\n"
     ]
    }
   ],
   "source": [
    "#bad indices \n",
    "\n",
    "bad_index_country = data['country'][data['country'].isna()].index\n",
    "print(bad_index_country)"
   ]
  },
  {
   "cell_type": "code",
   "execution_count": 426,
   "id": "48dc3d2d",
   "metadata": {},
   "outputs": [],
   "source": [
    "#drop \n",
    "data.drop(bad_index_country, axis=0, inplace=True)"
   ]
  },
  {
   "cell_type": "code",
   "execution_count": 427,
   "id": "ee1a7e7f",
   "metadata": {},
   "outputs": [
    {
     "name": "stdout",
     "output_type": "stream",
     "text": [
      "(3163, 24)\n",
      "(25723, 24)\n"
     ]
    }
   ],
   "source": [
    "print(data.shape)\n",
    "print(data_original.shape)"
   ]
  },
  {
   "cell_type": "code",
   "execution_count": 428,
   "id": "7b18bbce",
   "metadata": {},
   "outputs": [
    {
     "data": {
      "text/plain": [
       "array(['USA', 'BRAZIL', 'AUSTRALIA', 'ENGLAND', 'COSTA RICA', 'MALDIVES',\n",
       "       'SOUTH AFRICA', 'THAILAND', 'BAHAMAS', 'ECUADOR', 'NEW CALEDONIA',\n",
       "       'MALAYSIA', 'CUBA', 'SPAIN', 'JAPAN', 'EGYPT',\n",
       "       'ST HELENA, British overseas territory', 'MEXICO', 'REUNION',\n",
       "       'UNITED KINGDOM', 'UNITED ARAB EMIRATES', 'NEW ZEALAND',\n",
       "       'PHILIPPINES', 'INDONESIA', 'FRENCH POLYNESIA', 'CHINA',\n",
       "       'COLUMBIA', 'Fiji', 'ARUBA', 'MOZAMBIQUE', 'PUERTO RICO',\n",
       "       'MAURITIUS', 'ST. MARTIN', 'PAPUA NEW GUINEA', 'KIRIBATI',\n",
       "       'ISRAEL', 'FRANCE', 'DIEGO GARCIA', 'PALESTINIAN TERRITORIES',\n",
       "       'GUAM', 'SEYCHELLES', 'JAMAICA', 'NIGERIA', 'TONGA', 'SCOTLAND',\n",
       "       'FIJI', 'TAIWAN', 'DOMINICAN REPUBLIC', 'KENYA', 'RUSSIA',\n",
       "       'TURKS & CAICOS', 'SAMOA', 'SOLOMON ISLANDS', 'SOUTH KOREA',\n",
       "       'MALTA', 'VIETNAM', 'MADAGASCAR', 'UNITED ARAB EMIRATES (UAE)',\n",
       "       'PANAMA', 'AZORES', 'CROATIA', 'NORWAY', 'ATLANTIC OCEAN',\n",
       "       'ST. MAARTIN', 'GRAND CAYMAN', 'VANUATU', 'URUGUAY', 'VENEZUELA',\n",
       "       'INDIA', 'CANADA', 'OKINAWA', 'TANZANIA', ' TONGA',\n",
       "       'MARSHALL ISLANDS', 'SENEGAL', 'HONG KONG', 'CHILE', 'SOMALIA',\n",
       "       'EL SALVADOR', 'CARIBBEAN SEA', 'ITALY', 'NORTH ATLANTIC OCEAN',\n",
       "       'PORTUGAL', 'SOUTH CHINA SEA', 'BERMUDA', 'WESTERN SAMOA',\n",
       "       'PACIFIC OCEAN ', 'BRITISH ISLES', 'MICRONESIA', 'PALAU',\n",
       "       'GRENADA', 'IRAQ', 'TURKEY', 'SINGAPORE', 'NEW BRITAIN',\n",
       "       'NEW GUINEA', 'NORTH PACIFIC OCEAN',\n",
       "       'FEDERATED STATES OF MICRONESIA', 'GREECE', 'ADMIRALTY ISLANDS',\n",
       "       'BRITISH WEST INDIES', 'SOUTH ATLANTIC OCEAN',\n",
       "       'MID ATLANTIC OCEAN', 'NORTH SEA', 'MALDIVE ISLANDS',\n",
       "       'AMERICAN SAMOA', 'ANDAMAN / NICOBAR ISLANDAS', 'PACIFIC OCEAN',\n",
       "       'NORTH ATLANTIC OCEAN ', 'ARGENTINA', 'IRAN', 'SIERRA LEONE',\n",
       "       'CENTRAL PACIFIC', 'TRINIDAD & TOBAGO', 'CAPE VERDE', 'BARBADOS',\n",
       "       'REUNION ISLAND', 'FALKLAND ISLANDS', 'NICARAGUA', 'EGYPT ',\n",
       "       'YEMEN ', 'HAITI', 'BRITISH NEW GUINEA', 'HONDURAS', 'GUINEA',\n",
       "       'SRI LANKA', 'BELIZE', 'CEYLON (SRI LANKA)'], dtype=object)"
      ]
     },
     "execution_count": 428,
     "metadata": {},
     "output_type": "execute_result"
    }
   ],
   "source": [
    "#what are the other values \n",
    "\n",
    "data.country.unique()"
   ]
  },
  {
   "cell_type": "code",
   "execution_count": 429,
   "id": "c6f72ef0",
   "metadata": {},
   "outputs": [
    {
     "data": {
      "text/plain": [
       "country\n",
       "USA                                      1382\n",
       "AUSTRALIA                                 653\n",
       "SOUTH AFRICA                              339\n",
       "BAHAMAS                                    65\n",
       "BRAZIL                                     57\n",
       "NEW ZEALAND                                47\n",
       "PAPUA NEW GUINEA                           41\n",
       "MEXICO                                     37\n",
       "REUNION                                    35\n",
       "FIJI                                       30\n",
       "MOZAMBIQUE                                 27\n",
       "NEW CALEDONIA                              19\n",
       "PANAMA                                     17\n",
       "INDIA                                      16\n",
       "ITALY                                      16\n",
       "PHILIPPINES                                15\n",
       "HONG KONG                                  15\n",
       "FRENCH POLYNESIA                           15\n",
       "EGYPT                                      15\n",
       "CUBA                                       15\n",
       "JAPAN                                      14\n",
       "SPAIN                                      12\n",
       "IRAN                                       11\n",
       "IRAQ                                       11\n",
       "SOLOMON ISLANDS                             8\n",
       "ECUADOR                                     8\n",
       "CROATIA                                     8\n",
       "TAIWAN                                      7\n",
       "GREECE                                      6\n",
       "VIETNAM                                     6\n",
       "SOUTH KOREA                                 6\n",
       "UNITED KINGDOM                              6\n",
       "JAMAICA                                     6\n",
       "MARSHALL ISLANDS                            6\n",
       "COSTA RICA                                  6\n",
       "TONGA                                       6\n",
       "VANUATU                                     5\n",
       "OKINAWA                                     5\n",
       "BERMUDA                                     5\n",
       "KENYA                                       5\n",
       "INDONESIA                                   5\n",
       "THAILAND                                    5\n",
       "COLUMBIA                                    5\n",
       "NEW BRITAIN                                 4\n",
       "ENGLAND                                     4\n",
       "GRENADA                                     4\n",
       "SOUTH ATLANTIC OCEAN                        4\n",
       "SENEGAL                                     4\n",
       "VENEZUELA                                   4\n",
       "ATLANTIC OCEAN                              4\n",
       "MAURITIUS                                   4\n",
       "MADAGASCAR                                  3\n",
       "PALAU                                       3\n",
       "AMERICAN SAMOA                              3\n",
       "PACIFIC OCEAN                               3\n",
       "GUAM                                        3\n",
       "SEYCHELLES                                  3\n",
       "SCOTLAND                                    3\n",
       "DOMINICAN REPUBLIC                          3\n",
       "ISRAEL                                      3\n",
       "TURKS & CAICOS                              3\n",
       "TANZANIA                                    2\n",
       "PORTUGAL                                    2\n",
       "PACIFIC OCEAN                               2\n",
       "EL SALVADOR                                 2\n",
       "EGYPT                                       2\n",
       "RUSSIA                                      2\n",
       "ST HELENA, British overseas territory       2\n",
       "NORTH PACIFIC OCEAN                         2\n",
       "BARBADOS                                    2\n",
       "YEMEN                                       2\n",
       "CHINA                                       2\n",
       "TURKEY                                      2\n",
       "Fiji                                        2\n",
       "SIERRA LEONE                                2\n",
       "MALTA                                       2\n",
       "SINGAPORE                                   2\n",
       "FALKLAND ISLANDS                            1\n",
       "BELIZE                                      1\n",
       "NICARAGUA                                   1\n",
       "BRITISH WEST INDIES                         1\n",
       "REUNION ISLAND                              1\n",
       "ADMIRALTY ISLANDS                           1\n",
       "MID ATLANTIC OCEAN                          1\n",
       "CAPE VERDE                                  1\n",
       "NORTH SEA                                   1\n",
       "MALDIVE ISLANDS                             1\n",
       "BRITISH NEW GUINEA                          1\n",
       "SRI LANKA                                   1\n",
       "NORTH ATLANTIC OCEAN                        1\n",
       "GUINEA                                      1\n",
       "ARGENTINA                                   1\n",
       "HAITI                                       1\n",
       "CENTRAL PACIFIC                             1\n",
       "HONDURAS                                    1\n",
       "TRINIDAD & TOBAGO                           1\n",
       "ANDAMAN / NICOBAR ISLANDAS                  1\n",
       "GRAND CAYMAN                                1\n",
       "FEDERATED STATES OF MICRONESIA              1\n",
       "NEW GUINEA                                  1\n",
       "MALDIVES                                    1\n",
       "MALAYSIA                                    1\n",
       "UNITED ARAB EMIRATES                        1\n",
       "ARUBA                                       1\n",
       "PUERTO RICO                                 1\n",
       "ST. MARTIN                                  1\n",
       "KIRIBATI                                    1\n",
       "FRANCE                                      1\n",
       "DIEGO GARCIA                                1\n",
       "PALESTINIAN TERRITORIES                     1\n",
       "NIGERIA                                     1\n",
       "SAMOA                                       1\n",
       "UNITED ARAB EMIRATES (UAE)                  1\n",
       "AZORES                                      1\n",
       "NORWAY                                      1\n",
       "ST. MAARTIN                                 1\n",
       "URUGUAY                                     1\n",
       "CANADA                                      1\n",
       " TONGA                                      1\n",
       "CHILE                                       1\n",
       "SOMALIA                                     1\n",
       "CARIBBEAN SEA                               1\n",
       "NORTH ATLANTIC OCEAN                        1\n",
       "SOUTH CHINA SEA                             1\n",
       "WESTERN SAMOA                               1\n",
       "BRITISH ISLES                               1\n",
       "MICRONESIA                                  1\n",
       "CEYLON (SRI LANKA)                          1\n",
       "Name: count, dtype: int64"
      ]
     },
     "execution_count": 429,
     "metadata": {},
     "output_type": "execute_result"
    }
   ],
   "source": [
    "#what are the other values \n",
    "\n",
    "data.country.value_counts()"
   ]
  },
  {
   "cell_type": "code",
   "execution_count": 430,
   "id": "fd4ba8db",
   "metadata": {},
   "outputs": [],
   "source": [
    "# I will clean spaces, special characters, and make it proper \n",
    "\n",
    "data['country'] = data['country'].apply(lambda X: X.title().strip())"
   ]
  },
  {
   "cell_type": "code",
   "execution_count": 320,
   "id": "74eb5d56",
   "metadata": {
    "scrolled": false
   },
   "outputs": [
    {
     "data": {
      "text/plain": [
       "country\n",
       "Usa                                      1395\n",
       "Australia                                 659\n",
       "South Africa                              340\n",
       "Bahamas                                    65\n",
       "Brazil                                     57\n",
       "New Zealand                                47\n",
       "Papua New Guinea                           43\n",
       "Mexico                                     38\n",
       "Reunion                                    35\n",
       "Fiji                                       32\n",
       "Mozambique                                 28\n",
       "New Caledonia                              19\n",
       "Egypt                                      18\n",
       "Panama                                     17\n",
       "India                                      16\n",
       "Italy                                      16\n",
       "Hong Kong                                  15\n",
       "Cuba                                       15\n",
       "Philippines                                15\n",
       "French Polynesia                           15\n",
       "Japan                                      14\n",
       "Spain                                      12\n",
       "Iran                                       11\n",
       "Iraq                                       11\n",
       "Croatia                                     8\n",
       "Solomon Islands                             8\n",
       "Tonga                                       8\n",
       "Ecuador                                     8\n",
       "Jamaica                                     7\n",
       "Taiwan                                      7\n",
       "United Kingdom                              6\n",
       "Vietnam                                     6\n",
       "South Korea                                 6\n",
       "Costa Rica                                  6\n",
       "Greece                                      6\n",
       "Marshall Islands                            6\n",
       "Okinawa                                     5\n",
       "Vanuatu                                     5\n",
       "Bermuda                                     5\n",
       "Pacific Ocean                               5\n",
       "Kenya                                       5\n",
       "Indonesia                                   5\n",
       "Columbia                                    5\n",
       "Thailand                                    5\n",
       "South Atlantic Ocean                        4\n",
       "Venezuela                                   4\n",
       "New Britain                                 4\n",
       "Senegal                                     4\n",
       "Atlantic Ocean                              4\n",
       "Mauritius                                   4\n",
       "England                                     4\n",
       "Grenada                                     4\n",
       "American Samoa                              3\n",
       "Madagascar                                  3\n",
       "Seychelles                                  3\n",
       "Palau                                       3\n",
       "Israel                                      3\n",
       "Turks & Caicos                              3\n",
       "Dominican Republic                          3\n",
       "Scotland                                    3\n",
       "Guam                                        3\n",
       "Portugal                                    2\n",
       "North Atlantic Ocean                        2\n",
       "El Salvador                                 2\n",
       "Turkey                                      2\n",
       "Singapore                                   2\n",
       "St Helena, British Overseas Territory       2\n",
       "Tanzania                                    2\n",
       "North Pacific Ocean                         2\n",
       "Sierra Leone                                2\n",
       "Russia                                      2\n",
       "Barbados                                    2\n",
       "Malta                                       2\n",
       "Yemen                                       2\n",
       "China                                       2\n",
       "Reunion Island                              1\n",
       "Mid Atlantic Ocean                          1\n",
       "Admiralty Islands                           1\n",
       "Falkland Islands                            1\n",
       "Nicaragua                                   1\n",
       "Cyprus                                      1\n",
       "British West Indies                         1\n",
       "Belize                                      1\n",
       "Cape Verde                                  1\n",
       "North Sea                                   1\n",
       "Haiti                                       1\n",
       "Trinidad & Tobago                           1\n",
       "Sri Lanka                                   1\n",
       "Maldive Islands                             1\n",
       "Central Pacific                             1\n",
       "British New Guinea                          1\n",
       "Andaman / Nicobar Islandas                  1\n",
       "Honduras                                    1\n",
       "Guinea                                      1\n",
       "Argentina                                   1\n",
       "St. Maartin                                 1\n",
       "Federated States Of Micronesia              1\n",
       "New Guinea                                  1\n",
       "Maldives                                    1\n",
       "Malaysia                                    1\n",
       "United Arab Emirates                        1\n",
       "Aruba                                       1\n",
       "Puerto Rico                                 1\n",
       "St. Martin                                  1\n",
       "Kiribati                                    1\n",
       "France                                      1\n",
       "Diego Garcia                                1\n",
       "Palestinian Territories                     1\n",
       "Nigeria                                     1\n",
       "Samoa                                       1\n",
       "United Arab Emirates (Uae)                  1\n",
       "Azores                                      1\n",
       "Norway                                      1\n",
       "Grand Cayman                                1\n",
       "Uruguay                                     1\n",
       "Canada                                      1\n",
       "Chile                                       1\n",
       "Somalia                                     1\n",
       "Caribbean Sea                               1\n",
       "South China Sea                             1\n",
       "Western Samoa                               1\n",
       "British Isles                               1\n",
       "Micronesia                                  1\n",
       "Ceylon (Sri Lanka)                          1\n",
       "Name: count, dtype: int64"
      ]
     },
     "execution_count": 320,
     "metadata": {},
     "output_type": "execute_result"
    }
   ],
   "source": [
    "countrycount = data.country.value_counts()\n",
    "countrycount.head(10000)"
   ]
  },
  {
   "cell_type": "code",
   "execution_count": 431,
   "id": "0560ea4f",
   "metadata": {},
   "outputs": [],
   "source": [
    "#There seems to be a lot of countries with a single victim \n",
    "#Some of those values also seem to be either 1) entries where we are not sure about the country (e.g., Sudan?) or 2) where we are in between countries (e.g, Egypt / Israel)\n",
    "#For the purpose of this exercise, I don't think it will be worth the work of cleaning that tail \n",
    "#I will remove entries where country count < 3"
   ]
  },
  {
   "cell_type": "code",
   "execution_count": 432,
   "id": "0b1be4a7",
   "metadata": {},
   "outputs": [
    {
     "data": {
      "text/plain": [
       "Index(['Portugal', 'North Atlantic Ocean', 'El Salvador', 'Turkey',\n",
       "       'Singapore', 'St Helena, British Overseas Territory', 'Tanzania',\n",
       "       'North Pacific Ocean', 'Sierra Leone', 'Russia', 'Barbados', 'Malta',\n",
       "       'Yemen', 'China', 'Reunion Island', 'Mid Atlantic Ocean',\n",
       "       'Admiralty Islands', 'Falkland Islands', 'Nicaragua', 'Cyprus',\n",
       "       'British West Indies', 'Belize', 'Cape Verde', 'North Sea', 'Haiti',\n",
       "       'Trinidad & Tobago', 'Sri Lanka', 'Maldive Islands', 'Central Pacific',\n",
       "       'British New Guinea', 'Andaman / Nicobar Islandas', 'Honduras',\n",
       "       'Guinea', 'Argentina', 'St. Maartin', 'Federated States Of Micronesia',\n",
       "       'New Guinea', 'Maldives', 'Malaysia', 'United Arab Emirates', 'Aruba',\n",
       "       'Puerto Rico', 'St. Martin', 'Kiribati', 'France', 'Diego Garcia',\n",
       "       'Palestinian Territories', 'Nigeria', 'Samoa',\n",
       "       'United Arab Emirates (Uae)', 'Azores', 'Norway', 'Grand Cayman',\n",
       "       'Uruguay', 'Canada', 'Chile', 'Somalia', 'Caribbean Sea',\n",
       "       'South China Sea', 'Western Samoa', 'British Isles', 'Micronesia',\n",
       "       'Ceylon (Sri Lanka)'],\n",
       "      dtype='object', name='country')"
      ]
     },
     "execution_count": 432,
     "metadata": {},
     "output_type": "execute_result"
    }
   ],
   "source": [
    "countriesremove = countrycount[countrycount<3].index\n",
    "countriesremove"
   ]
  },
  {
   "cell_type": "code",
   "execution_count": 433,
   "id": "d9f85ee7",
   "metadata": {},
   "outputs": [
    {
     "name": "stdout",
     "output_type": "stream",
     "text": [
      "(3163, 24)\n",
      "(25723, 24)\n"
     ]
    }
   ],
   "source": [
    "# Before drop \n",
    "\n",
    "print(data.shape)\n",
    "print(data_original.shape)"
   ]
  },
  {
   "cell_type": "code",
   "execution_count": 434,
   "id": "e75279b5",
   "metadata": {},
   "outputs": [],
   "source": [
    "data.drop(data[data.country.isin(countriesremove)].index, inplace=True)"
   ]
  },
  {
   "cell_type": "code",
   "execution_count": 435,
   "id": "b8ec4deb",
   "metadata": {},
   "outputs": [
    {
     "name": "stdout",
     "output_type": "stream",
     "text": [
      "(3087, 24)\n",
      "(25723, 24)\n"
     ]
    }
   ],
   "source": [
    "# After drop \n",
    "\n",
    "print(data.shape)\n",
    "print(data_original.shape)"
   ]
  },
  {
   "cell_type": "code",
   "execution_count": 436,
   "id": "bf0c5371",
   "metadata": {},
   "outputs": [
    {
     "data": {
      "text/plain": [
       "area                        74\n",
       "location                   109\n",
       "activity                    94\n",
       "name                         7\n",
       "time                       888\n",
       "species_                  1174\n",
       "investigator_or_source       3\n",
       "href_formula                 1\n",
       "ignore1                   3086\n",
       "ignore2                   3087\n",
       "dtype: int64"
      ]
     },
     "execution_count": 436,
     "metadata": {},
     "output_type": "execute_result"
    }
   ],
   "source": [
    "nan_cols = data.isna().sum()\n",
    "nan_cols[nan_cols>0]"
   ]
  },
  {
   "cell_type": "markdown",
   "id": "8a49f284",
   "metadata": {},
   "source": [
    "## 5.5) Column Species "
   ]
  },
  {
   "cell_type": "markdown",
   "id": "813cc20e",
   "metadata": {},
   "source": [
    "## Column Activity"
   ]
  },
  {
   "cell_type": "code",
   "execution_count": 326,
   "id": "cc31858e",
   "metadata": {},
   "outputs": [],
   "source": [
    "# Let us look at null values again\n",
    "# 290 of activity values are null (5%)\n",
    "\n",
    "#nan_cols = data.isna().sum()\n",
    "#nan_cols[nan_cols>0]"
   ]
  },
  {
   "cell_type": "code",
   "execution_count": 327,
   "id": "66997609",
   "metadata": {},
   "outputs": [],
   "source": [
    "#we still have 5230 values (threshold is 2500), so will drop nulls\n",
    "\n",
    "#data.shape"
   ]
  },
  {
   "cell_type": "code",
   "execution_count": 328,
   "id": "ab3c1739",
   "metadata": {},
   "outputs": [],
   "source": [
    "#bad indices \n",
    "\n",
    "#bad_index_activity = data['activity'][data['activity'].isna()].index\n",
    "#print(bad_index_activity[:15])"
   ]
  },
  {
   "cell_type": "code",
   "execution_count": 329,
   "id": "18d64433",
   "metadata": {},
   "outputs": [],
   "source": [
    "#drop \n",
    "#data.drop(bad_index_activity, axis=0, inplace=True)"
   ]
  },
  {
   "cell_type": "code",
   "execution_count": 330,
   "id": "a388dccf",
   "metadata": {},
   "outputs": [],
   "source": [
    "#I am down 290 values, consistent with the above\n",
    "\n",
    "#print(data.shape)\n",
    "#print(data_original.shape)"
   ]
  },
  {
   "cell_type": "code",
   "execution_count": 331,
   "id": "33265465",
   "metadata": {},
   "outputs": [],
   "source": [
    "#data.activity.unique()"
   ]
  },
  {
   "cell_type": "code",
   "execution_count": 332,
   "id": "28561a79",
   "metadata": {},
   "outputs": [],
   "source": [
    "#len(data.activity.unique())"
   ]
  },
  {
   "cell_type": "code",
   "execution_count": 333,
   "id": "98a7859d",
   "metadata": {},
   "outputs": [],
   "source": [
    "#pd.DataFrame(data.activity.value_counts())"
   ]
  }
 ],
 "metadata": {
  "kernelspec": {
   "display_name": "clase",
   "language": "python",
   "name": "clase"
  },
  "language_info": {
   "codemirror_mode": {
    "name": "ipython",
    "version": 3
   },
   "file_extension": ".py",
   "mimetype": "text/x-python",
   "name": "python",
   "nbconvert_exporter": "python",
   "pygments_lexer": "ipython3",
   "version": "3.10.13"
  }
 },
 "nbformat": 4,
 "nbformat_minor": 5
}
