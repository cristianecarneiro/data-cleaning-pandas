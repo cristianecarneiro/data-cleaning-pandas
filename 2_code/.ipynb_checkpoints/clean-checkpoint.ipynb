{
 "cells": [
  {
   "cell_type": "markdown",
   "id": "65945199",
   "metadata": {},
   "source": [
    "# w2-project_pandas | Data Cleaning | Cristiane Carneiro "
   ]
  },
  {
   "cell_type": "markdown",
   "id": "4e8dc3a3",
   "metadata": {},
   "source": [
    "## 1)  Import"
   ]
  },
  {
   "cell_type": "markdown",
   "id": "74b26aae",
   "metadata": {},
   "source": [
    "### 1.1) Import libraries"
   ]
  },
  {
   "cell_type": "code",
   "execution_count": 478,
   "id": "0a1c1523",
   "metadata": {},
   "outputs": [
    {
     "name": "stdout",
     "output_type": "stream",
     "text": [
      "Requirement already satisfied: fuzzywuzzy in /Users/criscarneiro/anaconda3/envs/clase/lib/python3.10/site-packages (0.18.0)\n",
      "Note: you may need to restart the kernel to use updated packages.\n"
     ]
    }
   ],
   "source": [
    "#installing fuzzywuzzy, to be used for column 'activity' cleaning exercise\n",
    "\n",
    "%pip install fuzzywuzzy"
   ]
  },
  {
   "cell_type": "code",
   "execution_count": 479,
   "id": "2c230d70",
   "metadata": {},
   "outputs": [],
   "source": [
    "#import main libraries \n",
    "\n",
    "import pandas as pd\n",
    "pd.set_option('display.max_columns', None)\n",
    "#pd.set_option('display.max_rows', None)\n",
    "\n",
    "import numpy as np\n",
    "\n",
    "import re\n",
    "\n",
    "from collections import Counter\n",
    "\n",
    "import warnings\n",
    "warnings.filterwarnings('ignore')\n",
    "\n",
    "import pylab as plt  \n",
    "\n",
    "import seaborn as sns\n",
    "\n",
    "from fuzzywuzzy import fuzz \n",
    "\n",
    "%matplotlib inline"
   ]
  },
  {
   "cell_type": "markdown",
   "id": "4a996f69",
   "metadata": {},
   "source": [
    "### 1.2) Import database"
   ]
  },
  {
   "cell_type": "code",
   "execution_count": 480,
   "id": "50f6adc4",
   "metadata": {},
   "outputs": [],
   "source": [
    "#sharks database \n",
    "\n",
    "linksharks = '/Users/criscarneiro/desktop/ironhack/6_Projects/data-cleaning-pandas/1_src/attacks.csv'\n",
    "\n",
    "data = pd.read_csv(linksharks, encoding='latin1')"
   ]
  },
  {
   "cell_type": "markdown",
   "id": "ad25a995",
   "metadata": {},
   "source": [
    "## 2) Before continuing, some good practices "
   ]
  },
  {
   "cell_type": "code",
   "execution_count": 481,
   "id": "0b4ae04e",
   "metadata": {},
   "outputs": [
    {
     "data": {
      "text/plain": [
       "(25723, 24)"
      ]
     },
     "execution_count": 481,
     "metadata": {},
     "output_type": "execute_result"
    }
   ],
   "source": [
    "# Create copy of the original database \n",
    "\n",
    "data_original = data.copy()\n",
    "data_original.shape"
   ]
  },
  {
   "cell_type": "code",
   "execution_count": 482,
   "id": "8ffb6f2a",
   "metadata": {},
   "outputs": [
    {
     "data": {
      "text/plain": [
       "Index(['Case Number', 'Date', 'Year', 'Type', 'Country', 'Area', 'Location',\n",
       "       'Activity', 'Name', 'Sex ', 'Age', 'Injury', 'Fatal (Y/N)', 'Time',\n",
       "       'Species ', 'Investigator or Source', 'pdf', 'href formula', 'href',\n",
       "       'Case Number.1', 'Case Number.2', 'original order', 'Unnamed: 22',\n",
       "       'Unnamed: 23'],\n",
       "      dtype='object')"
      ]
     },
     "execution_count": 482,
     "metadata": {},
     "output_type": "execute_result"
    }
   ],
   "source": [
    "# Clean the names of columns \n",
    "\n",
    "data.columns"
   ]
  },
  {
   "cell_type": "code",
   "execution_count": 483,
   "id": "a900b997",
   "metadata": {},
   "outputs": [
    {
     "data": {
      "text/plain": [
       "Index(['case_number', 'date', 'year', 'type', 'country', 'area', 'location',\n",
       "       'activity', 'name', 'sex_', 'age', 'injury', 'fatal_(y/n)', 'time',\n",
       "       'species_', 'investigator_or_source', 'pdf', 'href_formula', 'href',\n",
       "       'case_number.1', 'case_number.2', 'original_order', 'unnamed:_22',\n",
       "       'unnamed:_23'],\n",
       "      dtype='object')"
      ]
     },
     "execution_count": 483,
     "metadata": {},
     "output_type": "execute_result"
    }
   ],
   "source": [
    "data.columns = [c.lower().replace(' ', '_') for c in data.columns]\n",
    "\n",
    "data.columns"
   ]
  },
  {
   "cell_type": "code",
   "execution_count": 484,
   "id": "7e1ae35b",
   "metadata": {},
   "outputs": [
    {
     "data": {
      "text/plain": [
       "True"
      ]
     },
     "execution_count": 484,
     "metadata": {},
     "output_type": "execute_result"
    }
   ],
   "source": [
    "# Looking for duplicates \n",
    "\n",
    "data.duplicated().any() "
   ]
  },
  {
   "cell_type": "code",
   "execution_count": 485,
   "id": "2908ee79",
   "metadata": {},
   "outputs": [
    {
     "data": {
      "text/plain": [
       "(6312, 24)"
      ]
     },
     "execution_count": 485,
     "metadata": {},
     "output_type": "execute_result"
    }
   ],
   "source": [
    "# In fact, most of the table is composed of duplicated numbers. Removing them would leave us with 6k values, which is greater than 2.5k\n",
    "\n",
    "data.drop_duplicates().shape"
   ]
  },
  {
   "cell_type": "code",
   "execution_count": 486,
   "id": "ce21b2c4",
   "metadata": {},
   "outputs": [],
   "source": [
    "# Indeed, there are a number of duplicated entries\n",
    "\n",
    "#data[data.duplicated()].head()"
   ]
  },
  {
   "cell_type": "code",
   "execution_count": 487,
   "id": "a044fad4",
   "metadata": {},
   "outputs": [],
   "source": [
    "# Dropping duplicates  \n",
    "\n",
    "data.drop_duplicates(inplace=True)"
   ]
  },
  {
   "cell_type": "code",
   "execution_count": 488,
   "id": "ae5c414f",
   "metadata": {},
   "outputs": [
    {
     "name": "stdout",
     "output_type": "stream",
     "text": [
      "(6312, 24)\n",
      "(25723, 24)\n"
     ]
    }
   ],
   "source": [
    "# This is our new shape, and how it compares to the original. \n",
    "\n",
    "print(data.shape)\n",
    "print(data_original.shape)"
   ]
  },
  {
   "cell_type": "markdown",
   "id": "fabda7bd",
   "metadata": {},
   "source": [
    "## 3) Explore data "
   ]
  },
  {
   "cell_type": "code",
   "execution_count": 489,
   "id": "46571049",
   "metadata": {},
   "outputs": [
    {
     "data": {
      "text/html": [
       "<div>\n",
       "<style scoped>\n",
       "    .dataframe tbody tr th:only-of-type {\n",
       "        vertical-align: middle;\n",
       "    }\n",
       "\n",
       "    .dataframe tbody tr th {\n",
       "        vertical-align: top;\n",
       "    }\n",
       "\n",
       "    .dataframe thead th {\n",
       "        text-align: right;\n",
       "    }\n",
       "</style>\n",
       "<table border=\"1\" class=\"dataframe\">\n",
       "  <thead>\n",
       "    <tr style=\"text-align: right;\">\n",
       "      <th></th>\n",
       "      <th>case_number</th>\n",
       "      <th>date</th>\n",
       "      <th>year</th>\n",
       "      <th>type</th>\n",
       "      <th>country</th>\n",
       "      <th>area</th>\n",
       "      <th>location</th>\n",
       "      <th>activity</th>\n",
       "      <th>name</th>\n",
       "      <th>sex_</th>\n",
       "      <th>age</th>\n",
       "      <th>injury</th>\n",
       "      <th>fatal_(y/n)</th>\n",
       "      <th>time</th>\n",
       "      <th>species_</th>\n",
       "      <th>investigator_or_source</th>\n",
       "      <th>pdf</th>\n",
       "      <th>href_formula</th>\n",
       "      <th>href</th>\n",
       "      <th>case_number.1</th>\n",
       "      <th>case_number.2</th>\n",
       "      <th>original_order</th>\n",
       "      <th>unnamed:_22</th>\n",
       "      <th>unnamed:_23</th>\n",
       "    </tr>\n",
       "  </thead>\n",
       "  <tbody>\n",
       "    <tr>\n",
       "      <th>0</th>\n",
       "      <td>2018.06.25</td>\n",
       "      <td>25-Jun-2018</td>\n",
       "      <td>2018.0</td>\n",
       "      <td>Boating</td>\n",
       "      <td>USA</td>\n",
       "      <td>California</td>\n",
       "      <td>Oceanside, San Diego County</td>\n",
       "      <td>Paddling</td>\n",
       "      <td>Julie Wolfe</td>\n",
       "      <td>F</td>\n",
       "      <td>57</td>\n",
       "      <td>No injury to occupant, outrigger canoe and pad...</td>\n",
       "      <td>N</td>\n",
       "      <td>18h00</td>\n",
       "      <td>White shark</td>\n",
       "      <td>R. Collier, GSAF</td>\n",
       "      <td>2018.06.25-Wolfe.pdf</td>\n",
       "      <td>http://sharkattackfile.net/spreadsheets/pdf_di...</td>\n",
       "      <td>http://sharkattackfile.net/spreadsheets/pdf_di...</td>\n",
       "      <td>2018.06.25</td>\n",
       "      <td>2018.06.25</td>\n",
       "      <td>6303.0</td>\n",
       "      <td>NaN</td>\n",
       "      <td>NaN</td>\n",
       "    </tr>\n",
       "    <tr>\n",
       "      <th>1</th>\n",
       "      <td>2018.06.18</td>\n",
       "      <td>18-Jun-2018</td>\n",
       "      <td>2018.0</td>\n",
       "      <td>Unprovoked</td>\n",
       "      <td>USA</td>\n",
       "      <td>Georgia</td>\n",
       "      <td>St. Simon Island, Glynn County</td>\n",
       "      <td>Standing</td>\n",
       "      <td>Adyson McNeely</td>\n",
       "      <td>F</td>\n",
       "      <td>11</td>\n",
       "      <td>Minor injury to left thigh</td>\n",
       "      <td>N</td>\n",
       "      <td>14h00  -15h00</td>\n",
       "      <td>NaN</td>\n",
       "      <td>K.McMurray, TrackingSharks.com</td>\n",
       "      <td>2018.06.18-McNeely.pdf</td>\n",
       "      <td>http://sharkattackfile.net/spreadsheets/pdf_di...</td>\n",
       "      <td>http://sharkattackfile.net/spreadsheets/pdf_di...</td>\n",
       "      <td>2018.06.18</td>\n",
       "      <td>2018.06.18</td>\n",
       "      <td>6302.0</td>\n",
       "      <td>NaN</td>\n",
       "      <td>NaN</td>\n",
       "    </tr>\n",
       "    <tr>\n",
       "      <th>2</th>\n",
       "      <td>2018.06.09</td>\n",
       "      <td>09-Jun-2018</td>\n",
       "      <td>2018.0</td>\n",
       "      <td>Invalid</td>\n",
       "      <td>USA</td>\n",
       "      <td>Hawaii</td>\n",
       "      <td>Habush, Oahu</td>\n",
       "      <td>Surfing</td>\n",
       "      <td>John Denges</td>\n",
       "      <td>M</td>\n",
       "      <td>48</td>\n",
       "      <td>Injury to left lower leg from surfboard skeg</td>\n",
       "      <td>N</td>\n",
       "      <td>07h45</td>\n",
       "      <td>NaN</td>\n",
       "      <td>K.McMurray, TrackingSharks.com</td>\n",
       "      <td>2018.06.09-Denges.pdf</td>\n",
       "      <td>http://sharkattackfile.net/spreadsheets/pdf_di...</td>\n",
       "      <td>http://sharkattackfile.net/spreadsheets/pdf_di...</td>\n",
       "      <td>2018.06.09</td>\n",
       "      <td>2018.06.09</td>\n",
       "      <td>6301.0</td>\n",
       "      <td>NaN</td>\n",
       "      <td>NaN</td>\n",
       "    </tr>\n",
       "    <tr>\n",
       "      <th>3</th>\n",
       "      <td>2018.06.08</td>\n",
       "      <td>08-Jun-2018</td>\n",
       "      <td>2018.0</td>\n",
       "      <td>Unprovoked</td>\n",
       "      <td>AUSTRALIA</td>\n",
       "      <td>New South Wales</td>\n",
       "      <td>Arrawarra Headland</td>\n",
       "      <td>Surfing</td>\n",
       "      <td>male</td>\n",
       "      <td>M</td>\n",
       "      <td>NaN</td>\n",
       "      <td>Minor injury to lower leg</td>\n",
       "      <td>N</td>\n",
       "      <td>NaN</td>\n",
       "      <td>2 m shark</td>\n",
       "      <td>B. Myatt, GSAF</td>\n",
       "      <td>2018.06.08-Arrawarra.pdf</td>\n",
       "      <td>http://sharkattackfile.net/spreadsheets/pdf_di...</td>\n",
       "      <td>http://sharkattackfile.net/spreadsheets/pdf_di...</td>\n",
       "      <td>2018.06.08</td>\n",
       "      <td>2018.06.08</td>\n",
       "      <td>6300.0</td>\n",
       "      <td>NaN</td>\n",
       "      <td>NaN</td>\n",
       "    </tr>\n",
       "    <tr>\n",
       "      <th>4</th>\n",
       "      <td>2018.06.04</td>\n",
       "      <td>04-Jun-2018</td>\n",
       "      <td>2018.0</td>\n",
       "      <td>Provoked</td>\n",
       "      <td>MEXICO</td>\n",
       "      <td>Colima</td>\n",
       "      <td>La Ticla</td>\n",
       "      <td>Free diving</td>\n",
       "      <td>Gustavo Ramos</td>\n",
       "      <td>M</td>\n",
       "      <td>NaN</td>\n",
       "      <td>Lacerations to leg &amp; hand shark PROVOKED INCIDENT</td>\n",
       "      <td>N</td>\n",
       "      <td>NaN</td>\n",
       "      <td>Tiger shark, 3m</td>\n",
       "      <td>A .Kipper</td>\n",
       "      <td>2018.06.04-Ramos.pdf</td>\n",
       "      <td>http://sharkattackfile.net/spreadsheets/pdf_di...</td>\n",
       "      <td>http://sharkattackfile.net/spreadsheets/pdf_di...</td>\n",
       "      <td>2018.06.04</td>\n",
       "      <td>2018.06.04</td>\n",
       "      <td>6299.0</td>\n",
       "      <td>NaN</td>\n",
       "      <td>NaN</td>\n",
       "    </tr>\n",
       "  </tbody>\n",
       "</table>\n",
       "</div>"
      ],
      "text/plain": [
       "  case_number         date    year        type    country             area  \\\n",
       "0  2018.06.25  25-Jun-2018  2018.0     Boating        USA       California   \n",
       "1  2018.06.18  18-Jun-2018  2018.0  Unprovoked        USA          Georgia   \n",
       "2  2018.06.09  09-Jun-2018  2018.0     Invalid        USA           Hawaii   \n",
       "3  2018.06.08  08-Jun-2018  2018.0  Unprovoked  AUSTRALIA  New South Wales   \n",
       "4  2018.06.04  04-Jun-2018  2018.0    Provoked     MEXICO           Colima   \n",
       "\n",
       "                         location     activity             name sex_  age  \\\n",
       "0     Oceanside, San Diego County     Paddling      Julie Wolfe    F   57   \n",
       "1  St. Simon Island, Glynn County     Standing  Adyson McNeely     F   11   \n",
       "2                    Habush, Oahu      Surfing      John Denges    M   48   \n",
       "3              Arrawarra Headland      Surfing             male    M  NaN   \n",
       "4                        La Ticla  Free diving   Gustavo Ramos     M  NaN   \n",
       "\n",
       "                                              injury fatal_(y/n)  \\\n",
       "0  No injury to occupant, outrigger canoe and pad...           N   \n",
       "1                         Minor injury to left thigh           N   \n",
       "2       Injury to left lower leg from surfboard skeg           N   \n",
       "3                          Minor injury to lower leg           N   \n",
       "4  Lacerations to leg & hand shark PROVOKED INCIDENT           N   \n",
       "\n",
       "            time         species_          investigator_or_source  \\\n",
       "0          18h00      White shark                R. Collier, GSAF   \n",
       "1  14h00  -15h00              NaN  K.McMurray, TrackingSharks.com   \n",
       "2          07h45              NaN  K.McMurray, TrackingSharks.com   \n",
       "3            NaN        2 m shark                  B. Myatt, GSAF   \n",
       "4            NaN  Tiger shark, 3m                       A .Kipper   \n",
       "\n",
       "                        pdf  \\\n",
       "0      2018.06.25-Wolfe.pdf   \n",
       "1    2018.06.18-McNeely.pdf   \n",
       "2     2018.06.09-Denges.pdf   \n",
       "3  2018.06.08-Arrawarra.pdf   \n",
       "4      2018.06.04-Ramos.pdf   \n",
       "\n",
       "                                        href_formula  \\\n",
       "0  http://sharkattackfile.net/spreadsheets/pdf_di...   \n",
       "1  http://sharkattackfile.net/spreadsheets/pdf_di...   \n",
       "2  http://sharkattackfile.net/spreadsheets/pdf_di...   \n",
       "3  http://sharkattackfile.net/spreadsheets/pdf_di...   \n",
       "4  http://sharkattackfile.net/spreadsheets/pdf_di...   \n",
       "\n",
       "                                                href case_number.1  \\\n",
       "0  http://sharkattackfile.net/spreadsheets/pdf_di...    2018.06.25   \n",
       "1  http://sharkattackfile.net/spreadsheets/pdf_di...    2018.06.18   \n",
       "2  http://sharkattackfile.net/spreadsheets/pdf_di...    2018.06.09   \n",
       "3  http://sharkattackfile.net/spreadsheets/pdf_di...    2018.06.08   \n",
       "4  http://sharkattackfile.net/spreadsheets/pdf_di...    2018.06.04   \n",
       "\n",
       "  case_number.2  original_order unnamed:_22 unnamed:_23  \n",
       "0    2018.06.25          6303.0         NaN         NaN  \n",
       "1    2018.06.18          6302.0         NaN         NaN  \n",
       "2    2018.06.09          6301.0         NaN         NaN  \n",
       "3    2018.06.08          6300.0         NaN         NaN  \n",
       "4    2018.06.04          6299.0         NaN         NaN  "
      ]
     },
     "execution_count": 489,
     "metadata": {},
     "output_type": "execute_result"
    }
   ],
   "source": [
    "#this is the structure of my dataframe  \n",
    "\n",
    "data.head()"
   ]
  },
  {
   "cell_type": "code",
   "execution_count": 490,
   "id": "fddc6998",
   "metadata": {},
   "outputs": [
    {
     "data": {
      "text/plain": [
       "(6312, 24)"
      ]
     },
     "execution_count": 490,
     "metadata": {},
     "output_type": "execute_result"
    }
   ],
   "source": [
    "#the database as it stands has 24 columns, 6.312 entries (i.e, shark attacks)\n",
    "\n",
    "data.shape"
   ]
  },
  {
   "cell_type": "code",
   "execution_count": 491,
   "id": "a80d6009",
   "metadata": {},
   "outputs": [
    {
     "name": "stdout",
     "output_type": "stream",
     "text": [
      "<class 'pandas.core.frame.DataFrame'>\n",
      "Index: 6312 entries, 0 to 25722\n",
      "Data columns (total 24 columns):\n",
      " #   Column                  Non-Null Count  Dtype  \n",
      "---  ------                  --------------  -----  \n",
      " 0   case_number             6310 non-null   object \n",
      " 1   date                    6302 non-null   object \n",
      " 2   year                    6300 non-null   float64\n",
      " 3   type                    6298 non-null   object \n",
      " 4   country                 6252 non-null   object \n",
      " 5   area                    5847 non-null   object \n",
      " 6   location                5762 non-null   object \n",
      " 7   activity                5758 non-null   object \n",
      " 8   name                    6092 non-null   object \n",
      " 9   sex_                    5737 non-null   object \n",
      " 10  age                     3471 non-null   object \n",
      " 11  injury                  6274 non-null   object \n",
      " 12  fatal_(y/n)             5763 non-null   object \n",
      " 13  time                    2948 non-null   object \n",
      " 14  species_                3464 non-null   object \n",
      " 15  investigator_or_source  6285 non-null   object \n",
      " 16  pdf                     6302 non-null   object \n",
      " 17  href_formula            6301 non-null   object \n",
      " 18  href                    6302 non-null   object \n",
      " 19  case_number.1           6302 non-null   object \n",
      " 20  case_number.2           6302 non-null   object \n",
      " 21  original_order          6309 non-null   float64\n",
      " 22  unnamed:_22             1 non-null      object \n",
      " 23  unnamed:_23             2 non-null      object \n",
      "dtypes: float64(2), object(22)\n",
      "memory usage: 1.2+ MB\n"
     ]
    }
   ],
   "source": [
    "#here we can see again the number of columns and entries \n",
    "#we see that most columns are non-numerical \n",
    "#we anticipate there are a lot of null values - we will work on cleaning some of them!\n",
    "\n",
    "data.info()"
   ]
  },
  {
   "cell_type": "code",
   "execution_count": 492,
   "id": "48c923bc",
   "metadata": {},
   "outputs": [],
   "source": [
    "# it seems we have two unnamed columns. I will check what they are about. "
   ]
  },
  {
   "cell_type": "code",
   "execution_count": 493,
   "id": "97ef740f",
   "metadata": {},
   "outputs": [
    {
     "data": {
      "text/plain": [
       "array([nan, 'stopped here'], dtype=object)"
      ]
     },
     "execution_count": 493,
     "metadata": {},
     "output_type": "execute_result"
    }
   ],
   "source": [
    "#unnamed:_22 has a single non-null value \n",
    "\n",
    "data['unnamed:_22'].unique()"
   ]
  },
  {
   "cell_type": "code",
   "execution_count": 494,
   "id": "8484cb01",
   "metadata": {},
   "outputs": [
    {
     "data": {
      "text/plain": [
       "array([nan, 'Teramo', 'change filename'], dtype=object)"
      ]
     },
     "execution_count": 494,
     "metadata": {},
     "output_type": "execute_result"
    }
   ],
   "source": [
    "#unnamed:_23 has two non-null values\n",
    "\n",
    "data['unnamed:_23'].unique()"
   ]
  },
  {
   "cell_type": "code",
   "execution_count": 495,
   "id": "d1aaa43f",
   "metadata": {},
   "outputs": [],
   "source": [
    "#it does not seem these data will add to our analysis. I will rename the columns and ignore them for now \n",
    "\n",
    "data = data.rename(columns={'unnamed:_22': 'ignore1','unnamed:_23': 'ignore2' })"
   ]
  },
  {
   "cell_type": "code",
   "execution_count": 496,
   "id": "4d3c88be",
   "metadata": {},
   "outputs": [
    {
     "data": {
      "text/plain": [
       "Index(['case_number', 'date', 'year', 'type', 'country', 'area', 'location',\n",
       "       'activity', 'name', 'sex_', 'age', 'injury', 'fatal_(y/n)', 'time',\n",
       "       'species_', 'investigator_or_source', 'pdf', 'href_formula', 'href',\n",
       "       'case_number.1', 'case_number.2', 'original_order', 'ignore1',\n",
       "       'ignore2'],\n",
       "      dtype='object')"
      ]
     },
     "execution_count": 496,
     "metadata": {},
     "output_type": "execute_result"
    }
   ],
   "source": [
    "data.columns"
   ]
  },
  {
   "cell_type": "code",
   "execution_count": 497,
   "id": "05242434",
   "metadata": {},
   "outputs": [
    {
     "data": {
      "text/html": [
       "<div>\n",
       "<style scoped>\n",
       "    .dataframe tbody tr th:only-of-type {\n",
       "        vertical-align: middle;\n",
       "    }\n",
       "\n",
       "    .dataframe tbody tr th {\n",
       "        vertical-align: top;\n",
       "    }\n",
       "\n",
       "    .dataframe thead th {\n",
       "        text-align: right;\n",
       "    }\n",
       "</style>\n",
       "<table border=\"1\" class=\"dataframe\">\n",
       "  <thead>\n",
       "    <tr style=\"text-align: right;\">\n",
       "      <th></th>\n",
       "      <th>count</th>\n",
       "      <th>unique</th>\n",
       "      <th>top</th>\n",
       "      <th>freq</th>\n",
       "      <th>mean</th>\n",
       "      <th>std</th>\n",
       "      <th>min</th>\n",
       "      <th>25%</th>\n",
       "      <th>50%</th>\n",
       "      <th>75%</th>\n",
       "      <th>max</th>\n",
       "    </tr>\n",
       "  </thead>\n",
       "  <tbody>\n",
       "    <tr>\n",
       "      <th>case_number</th>\n",
       "      <td>6310</td>\n",
       "      <td>6287</td>\n",
       "      <td>0</td>\n",
       "      <td>8</td>\n",
       "      <td>NaN</td>\n",
       "      <td>NaN</td>\n",
       "      <td>NaN</td>\n",
       "      <td>NaN</td>\n",
       "      <td>NaN</td>\n",
       "      <td>NaN</td>\n",
       "      <td>NaN</td>\n",
       "    </tr>\n",
       "    <tr>\n",
       "      <th>date</th>\n",
       "      <td>6302</td>\n",
       "      <td>5433</td>\n",
       "      <td>1957</td>\n",
       "      <td>11</td>\n",
       "      <td>NaN</td>\n",
       "      <td>NaN</td>\n",
       "      <td>NaN</td>\n",
       "      <td>NaN</td>\n",
       "      <td>NaN</td>\n",
       "      <td>NaN</td>\n",
       "      <td>NaN</td>\n",
       "    </tr>\n",
       "    <tr>\n",
       "      <th>year</th>\n",
       "      <td>6300.0</td>\n",
       "      <td>NaN</td>\n",
       "      <td>NaN</td>\n",
       "      <td>NaN</td>\n",
       "      <td>1927.272381</td>\n",
       "      <td>281.116308</td>\n",
       "      <td>0.0</td>\n",
       "      <td>1942.0</td>\n",
       "      <td>1977.0</td>\n",
       "      <td>2005.0</td>\n",
       "      <td>2018.0</td>\n",
       "    </tr>\n",
       "    <tr>\n",
       "      <th>type</th>\n",
       "      <td>6298</td>\n",
       "      <td>8</td>\n",
       "      <td>Unprovoked</td>\n",
       "      <td>4595</td>\n",
       "      <td>NaN</td>\n",
       "      <td>NaN</td>\n",
       "      <td>NaN</td>\n",
       "      <td>NaN</td>\n",
       "      <td>NaN</td>\n",
       "      <td>NaN</td>\n",
       "      <td>NaN</td>\n",
       "    </tr>\n",
       "    <tr>\n",
       "      <th>country</th>\n",
       "      <td>6252</td>\n",
       "      <td>212</td>\n",
       "      <td>USA</td>\n",
       "      <td>2229</td>\n",
       "      <td>NaN</td>\n",
       "      <td>NaN</td>\n",
       "      <td>NaN</td>\n",
       "      <td>NaN</td>\n",
       "      <td>NaN</td>\n",
       "      <td>NaN</td>\n",
       "      <td>NaN</td>\n",
       "    </tr>\n",
       "    <tr>\n",
       "      <th>area</th>\n",
       "      <td>5847</td>\n",
       "      <td>825</td>\n",
       "      <td>Florida</td>\n",
       "      <td>1037</td>\n",
       "      <td>NaN</td>\n",
       "      <td>NaN</td>\n",
       "      <td>NaN</td>\n",
       "      <td>NaN</td>\n",
       "      <td>NaN</td>\n",
       "      <td>NaN</td>\n",
       "      <td>NaN</td>\n",
       "    </tr>\n",
       "    <tr>\n",
       "      <th>location</th>\n",
       "      <td>5762</td>\n",
       "      <td>4108</td>\n",
       "      <td>New Smyrna Beach, Volusia County</td>\n",
       "      <td>163</td>\n",
       "      <td>NaN</td>\n",
       "      <td>NaN</td>\n",
       "      <td>NaN</td>\n",
       "      <td>NaN</td>\n",
       "      <td>NaN</td>\n",
       "      <td>NaN</td>\n",
       "      <td>NaN</td>\n",
       "    </tr>\n",
       "    <tr>\n",
       "      <th>activity</th>\n",
       "      <td>5758</td>\n",
       "      <td>1532</td>\n",
       "      <td>Surfing</td>\n",
       "      <td>971</td>\n",
       "      <td>NaN</td>\n",
       "      <td>NaN</td>\n",
       "      <td>NaN</td>\n",
       "      <td>NaN</td>\n",
       "      <td>NaN</td>\n",
       "      <td>NaN</td>\n",
       "      <td>NaN</td>\n",
       "    </tr>\n",
       "    <tr>\n",
       "      <th>name</th>\n",
       "      <td>6092</td>\n",
       "      <td>5230</td>\n",
       "      <td>male</td>\n",
       "      <td>550</td>\n",
       "      <td>NaN</td>\n",
       "      <td>NaN</td>\n",
       "      <td>NaN</td>\n",
       "      <td>NaN</td>\n",
       "      <td>NaN</td>\n",
       "      <td>NaN</td>\n",
       "      <td>NaN</td>\n",
       "    </tr>\n",
       "    <tr>\n",
       "      <th>sex_</th>\n",
       "      <td>5737</td>\n",
       "      <td>6</td>\n",
       "      <td>M</td>\n",
       "      <td>5094</td>\n",
       "      <td>NaN</td>\n",
       "      <td>NaN</td>\n",
       "      <td>NaN</td>\n",
       "      <td>NaN</td>\n",
       "      <td>NaN</td>\n",
       "      <td>NaN</td>\n",
       "      <td>NaN</td>\n",
       "    </tr>\n",
       "    <tr>\n",
       "      <th>age</th>\n",
       "      <td>3471</td>\n",
       "      <td>157</td>\n",
       "      <td>17</td>\n",
       "      <td>154</td>\n",
       "      <td>NaN</td>\n",
       "      <td>NaN</td>\n",
       "      <td>NaN</td>\n",
       "      <td>NaN</td>\n",
       "      <td>NaN</td>\n",
       "      <td>NaN</td>\n",
       "      <td>NaN</td>\n",
       "    </tr>\n",
       "    <tr>\n",
       "      <th>injury</th>\n",
       "      <td>6274</td>\n",
       "      <td>3737</td>\n",
       "      <td>FATAL</td>\n",
       "      <td>802</td>\n",
       "      <td>NaN</td>\n",
       "      <td>NaN</td>\n",
       "      <td>NaN</td>\n",
       "      <td>NaN</td>\n",
       "      <td>NaN</td>\n",
       "      <td>NaN</td>\n",
       "      <td>NaN</td>\n",
       "    </tr>\n",
       "    <tr>\n",
       "      <th>fatal_(y/n)</th>\n",
       "      <td>5763</td>\n",
       "      <td>8</td>\n",
       "      <td>N</td>\n",
       "      <td>4293</td>\n",
       "      <td>NaN</td>\n",
       "      <td>NaN</td>\n",
       "      <td>NaN</td>\n",
       "      <td>NaN</td>\n",
       "      <td>NaN</td>\n",
       "      <td>NaN</td>\n",
       "      <td>NaN</td>\n",
       "    </tr>\n",
       "    <tr>\n",
       "      <th>time</th>\n",
       "      <td>2948</td>\n",
       "      <td>366</td>\n",
       "      <td>Afternoon</td>\n",
       "      <td>187</td>\n",
       "      <td>NaN</td>\n",
       "      <td>NaN</td>\n",
       "      <td>NaN</td>\n",
       "      <td>NaN</td>\n",
       "      <td>NaN</td>\n",
       "      <td>NaN</td>\n",
       "      <td>NaN</td>\n",
       "    </tr>\n",
       "    <tr>\n",
       "      <th>species_</th>\n",
       "      <td>3464</td>\n",
       "      <td>1549</td>\n",
       "      <td>White shark</td>\n",
       "      <td>163</td>\n",
       "      <td>NaN</td>\n",
       "      <td>NaN</td>\n",
       "      <td>NaN</td>\n",
       "      <td>NaN</td>\n",
       "      <td>NaN</td>\n",
       "      <td>NaN</td>\n",
       "      <td>NaN</td>\n",
       "    </tr>\n",
       "    <tr>\n",
       "      <th>investigator_or_source</th>\n",
       "      <td>6285</td>\n",
       "      <td>4969</td>\n",
       "      <td>C. Moore, GSAF</td>\n",
       "      <td>105</td>\n",
       "      <td>NaN</td>\n",
       "      <td>NaN</td>\n",
       "      <td>NaN</td>\n",
       "      <td>NaN</td>\n",
       "      <td>NaN</td>\n",
       "      <td>NaN</td>\n",
       "      <td>NaN</td>\n",
       "    </tr>\n",
       "    <tr>\n",
       "      <th>pdf</th>\n",
       "      <td>6302</td>\n",
       "      <td>6291</td>\n",
       "      <td>1923.00.00.a-NJ fisherman.pdf</td>\n",
       "      <td>2</td>\n",
       "      <td>NaN</td>\n",
       "      <td>NaN</td>\n",
       "      <td>NaN</td>\n",
       "      <td>NaN</td>\n",
       "      <td>NaN</td>\n",
       "      <td>NaN</td>\n",
       "      <td>NaN</td>\n",
       "    </tr>\n",
       "    <tr>\n",
       "      <th>href_formula</th>\n",
       "      <td>6301</td>\n",
       "      <td>6290</td>\n",
       "      <td>http://sharkattackfile.net/spreadsheets/pdf_di...</td>\n",
       "      <td>2</td>\n",
       "      <td>NaN</td>\n",
       "      <td>NaN</td>\n",
       "      <td>NaN</td>\n",
       "      <td>NaN</td>\n",
       "      <td>NaN</td>\n",
       "      <td>NaN</td>\n",
       "      <td>NaN</td>\n",
       "    </tr>\n",
       "    <tr>\n",
       "      <th>href</th>\n",
       "      <td>6302</td>\n",
       "      <td>6285</td>\n",
       "      <td>http://sharkattackfile.net/spreadsheets/pdf_di...</td>\n",
       "      <td>4</td>\n",
       "      <td>NaN</td>\n",
       "      <td>NaN</td>\n",
       "      <td>NaN</td>\n",
       "      <td>NaN</td>\n",
       "      <td>NaN</td>\n",
       "      <td>NaN</td>\n",
       "      <td>NaN</td>\n",
       "    </tr>\n",
       "    <tr>\n",
       "      <th>case_number.1</th>\n",
       "      <td>6302</td>\n",
       "      <td>6285</td>\n",
       "      <td>1920.00.00.b</td>\n",
       "      <td>2</td>\n",
       "      <td>NaN</td>\n",
       "      <td>NaN</td>\n",
       "      <td>NaN</td>\n",
       "      <td>NaN</td>\n",
       "      <td>NaN</td>\n",
       "      <td>NaN</td>\n",
       "      <td>NaN</td>\n",
       "    </tr>\n",
       "    <tr>\n",
       "      <th>case_number.2</th>\n",
       "      <td>6302</td>\n",
       "      <td>6286</td>\n",
       "      <td>1920.00.00.b</td>\n",
       "      <td>2</td>\n",
       "      <td>NaN</td>\n",
       "      <td>NaN</td>\n",
       "      <td>NaN</td>\n",
       "      <td>NaN</td>\n",
       "      <td>NaN</td>\n",
       "      <td>NaN</td>\n",
       "      <td>NaN</td>\n",
       "    </tr>\n",
       "    <tr>\n",
       "      <th>original_order</th>\n",
       "      <td>6309.0</td>\n",
       "      <td>NaN</td>\n",
       "      <td>NaN</td>\n",
       "      <td>NaN</td>\n",
       "      <td>3155.999683</td>\n",
       "      <td>1821.396206</td>\n",
       "      <td>2.0</td>\n",
       "      <td>1579.0</td>\n",
       "      <td>3156.0</td>\n",
       "      <td>4733.0</td>\n",
       "      <td>6310.0</td>\n",
       "    </tr>\n",
       "    <tr>\n",
       "      <th>ignore1</th>\n",
       "      <td>1</td>\n",
       "      <td>1</td>\n",
       "      <td>stopped here</td>\n",
       "      <td>1</td>\n",
       "      <td>NaN</td>\n",
       "      <td>NaN</td>\n",
       "      <td>NaN</td>\n",
       "      <td>NaN</td>\n",
       "      <td>NaN</td>\n",
       "      <td>NaN</td>\n",
       "      <td>NaN</td>\n",
       "    </tr>\n",
       "    <tr>\n",
       "      <th>ignore2</th>\n",
       "      <td>2</td>\n",
       "      <td>2</td>\n",
       "      <td>Teramo</td>\n",
       "      <td>1</td>\n",
       "      <td>NaN</td>\n",
       "      <td>NaN</td>\n",
       "      <td>NaN</td>\n",
       "      <td>NaN</td>\n",
       "      <td>NaN</td>\n",
       "      <td>NaN</td>\n",
       "      <td>NaN</td>\n",
       "    </tr>\n",
       "  </tbody>\n",
       "</table>\n",
       "</div>"
      ],
      "text/plain": [
       "                         count unique  \\\n",
       "case_number               6310   6287   \n",
       "date                      6302   5433   \n",
       "year                    6300.0    NaN   \n",
       "type                      6298      8   \n",
       "country                   6252    212   \n",
       "area                      5847    825   \n",
       "location                  5762   4108   \n",
       "activity                  5758   1532   \n",
       "name                      6092   5230   \n",
       "sex_                      5737      6   \n",
       "age                       3471    157   \n",
       "injury                    6274   3737   \n",
       "fatal_(y/n)               5763      8   \n",
       "time                      2948    366   \n",
       "species_                  3464   1549   \n",
       "investigator_or_source    6285   4969   \n",
       "pdf                       6302   6291   \n",
       "href_formula              6301   6290   \n",
       "href                      6302   6285   \n",
       "case_number.1             6302   6285   \n",
       "case_number.2             6302   6286   \n",
       "original_order          6309.0    NaN   \n",
       "ignore1                      1      1   \n",
       "ignore2                      2      2   \n",
       "\n",
       "                                                                      top  \\\n",
       "case_number                                                             0   \n",
       "date                                                                 1957   \n",
       "year                                                                  NaN   \n",
       "type                                                           Unprovoked   \n",
       "country                                                               USA   \n",
       "area                                                              Florida   \n",
       "location                                 New Smyrna Beach, Volusia County   \n",
       "activity                                                          Surfing   \n",
       "name                                                                 male   \n",
       "sex_                                                                    M   \n",
       "age                                                                    17   \n",
       "injury                                                              FATAL   \n",
       "fatal_(y/n)                                                             N   \n",
       "time                                                            Afternoon   \n",
       "species_                                                      White shark   \n",
       "investigator_or_source                                     C. Moore, GSAF   \n",
       "pdf                                         1923.00.00.a-NJ fisherman.pdf   \n",
       "href_formula            http://sharkattackfile.net/spreadsheets/pdf_di...   \n",
       "href                    http://sharkattackfile.net/spreadsheets/pdf_di...   \n",
       "case_number.1                                                1920.00.00.b   \n",
       "case_number.2                                                1920.00.00.b   \n",
       "original_order                                                        NaN   \n",
       "ignore1                                                      stopped here   \n",
       "ignore2                                                            Teramo   \n",
       "\n",
       "                        freq         mean          std  min     25%     50%  \\\n",
       "case_number                8          NaN          NaN  NaN     NaN     NaN   \n",
       "date                      11          NaN          NaN  NaN     NaN     NaN   \n",
       "year                     NaN  1927.272381   281.116308  0.0  1942.0  1977.0   \n",
       "type                    4595          NaN          NaN  NaN     NaN     NaN   \n",
       "country                 2229          NaN          NaN  NaN     NaN     NaN   \n",
       "area                    1037          NaN          NaN  NaN     NaN     NaN   \n",
       "location                 163          NaN          NaN  NaN     NaN     NaN   \n",
       "activity                 971          NaN          NaN  NaN     NaN     NaN   \n",
       "name                     550          NaN          NaN  NaN     NaN     NaN   \n",
       "sex_                    5094          NaN          NaN  NaN     NaN     NaN   \n",
       "age                      154          NaN          NaN  NaN     NaN     NaN   \n",
       "injury                   802          NaN          NaN  NaN     NaN     NaN   \n",
       "fatal_(y/n)             4293          NaN          NaN  NaN     NaN     NaN   \n",
       "time                     187          NaN          NaN  NaN     NaN     NaN   \n",
       "species_                 163          NaN          NaN  NaN     NaN     NaN   \n",
       "investigator_or_source   105          NaN          NaN  NaN     NaN     NaN   \n",
       "pdf                        2          NaN          NaN  NaN     NaN     NaN   \n",
       "href_formula               2          NaN          NaN  NaN     NaN     NaN   \n",
       "href                       4          NaN          NaN  NaN     NaN     NaN   \n",
       "case_number.1              2          NaN          NaN  NaN     NaN     NaN   \n",
       "case_number.2              2          NaN          NaN  NaN     NaN     NaN   \n",
       "original_order           NaN  3155.999683  1821.396206  2.0  1579.0  3156.0   \n",
       "ignore1                    1          NaN          NaN  NaN     NaN     NaN   \n",
       "ignore2                    1          NaN          NaN  NaN     NaN     NaN   \n",
       "\n",
       "                           75%     max  \n",
       "case_number                NaN     NaN  \n",
       "date                       NaN     NaN  \n",
       "year                    2005.0  2018.0  \n",
       "type                       NaN     NaN  \n",
       "country                    NaN     NaN  \n",
       "area                       NaN     NaN  \n",
       "location                   NaN     NaN  \n",
       "activity                   NaN     NaN  \n",
       "name                       NaN     NaN  \n",
       "sex_                       NaN     NaN  \n",
       "age                        NaN     NaN  \n",
       "injury                     NaN     NaN  \n",
       "fatal_(y/n)                NaN     NaN  \n",
       "time                       NaN     NaN  \n",
       "species_                   NaN     NaN  \n",
       "investigator_or_source     NaN     NaN  \n",
       "pdf                        NaN     NaN  \n",
       "href_formula               NaN     NaN  \n",
       "href                       NaN     NaN  \n",
       "case_number.1              NaN     NaN  \n",
       "case_number.2              NaN     NaN  \n",
       "original_order          4733.0  6310.0  \n",
       "ignore1                    NaN     NaN  \n",
       "ignore2                    NaN     NaN  "
      ]
     },
     "execution_count": 497,
     "metadata": {},
     "output_type": "execute_result"
    }
   ],
   "source": [
    "#while most variables are categorical, we can look at the count, #unique values, mode.\n",
    "#based on the number of unique values, we anticipate there might be lots of cleaning/standardization to do. \n",
    "\n",
    "data.describe(include='all').T"
   ]
  },
  {
   "cell_type": "markdown",
   "id": "023ff0d8",
   "metadata": {},
   "source": [
    "## 4) Setting an objective "
   ]
  },
  {
   "cell_type": "markdown",
   "id": "d701f641",
   "metadata": {},
   "source": [
    "- While the primary purpose of this exercise is 'Data Cleaning', **I will define a 'Data Analysis' objetive**. This will help guide the cleaning process by focusing on the most relevant variables and avoid 'boiling the ocean'.\n",
    "\n",
    "- In this exercise, I will try to **understand the 'fatality' of the shark attacks**. In other words, I will verify if it is correlated with a sub-list of variables (i.e., location, activity, sex, age, time of attack)\n",
    "\n",
    "- Thefore, **I will prioritize those columns in my cleaning process** "
   ]
  },
  {
   "cell_type": "code",
   "execution_count": 498,
   "id": "f1631fce",
   "metadata": {},
   "outputs": [
    {
     "data": {
      "text/plain": [
       "Index(['case_number', 'date', 'year', 'type', 'country', 'area', 'location',\n",
       "       'activity', 'name', 'sex_', 'age', 'injury', 'fatal_(y/n)', 'time',\n",
       "       'species_', 'investigator_or_source', 'pdf', 'href_formula', 'href',\n",
       "       'case_number.1', 'case_number.2', 'original_order', 'ignore1',\n",
       "       'ignore2'],\n",
       "      dtype='object')"
      ]
     },
     "execution_count": 498,
     "metadata": {},
     "output_type": "execute_result"
    }
   ],
   "source": [
    "data.columns"
   ]
  },
  {
   "cell_type": "code",
   "execution_count": 499,
   "id": "f6d50b96",
   "metadata": {},
   "outputs": [],
   "source": [
    "#as a starting point, I will prioritize those columns for the analysis. This could evolve depending on the quality of the data and the thresholds established for our .shape\n",
    "\n",
    "columns_focus = ['country','activity','sex_','age','fatal_(y/n)','species_']"
   ]
  },
  {
   "cell_type": "code",
   "execution_count": 500,
   "id": "8cd1c2f7",
   "metadata": {},
   "outputs": [
    {
     "data": {
      "text/html": [
       "<div>\n",
       "<style scoped>\n",
       "    .dataframe tbody tr th:only-of-type {\n",
       "        vertical-align: middle;\n",
       "    }\n",
       "\n",
       "    .dataframe tbody tr th {\n",
       "        vertical-align: top;\n",
       "    }\n",
       "\n",
       "    .dataframe thead th {\n",
       "        text-align: right;\n",
       "    }\n",
       "</style>\n",
       "<table border=\"1\" class=\"dataframe\">\n",
       "  <thead>\n",
       "    <tr style=\"text-align: right;\">\n",
       "      <th></th>\n",
       "      <th>country</th>\n",
       "      <th>activity</th>\n",
       "      <th>sex_</th>\n",
       "      <th>age</th>\n",
       "      <th>fatal_(y/n)</th>\n",
       "      <th>species_</th>\n",
       "    </tr>\n",
       "  </thead>\n",
       "  <tbody>\n",
       "    <tr>\n",
       "      <th>0</th>\n",
       "      <td>USA</td>\n",
       "      <td>Paddling</td>\n",
       "      <td>F</td>\n",
       "      <td>57</td>\n",
       "      <td>N</td>\n",
       "      <td>White shark</td>\n",
       "    </tr>\n",
       "    <tr>\n",
       "      <th>1</th>\n",
       "      <td>USA</td>\n",
       "      <td>Standing</td>\n",
       "      <td>F</td>\n",
       "      <td>11</td>\n",
       "      <td>N</td>\n",
       "      <td>NaN</td>\n",
       "    </tr>\n",
       "    <tr>\n",
       "      <th>2</th>\n",
       "      <td>USA</td>\n",
       "      <td>Surfing</td>\n",
       "      <td>M</td>\n",
       "      <td>48</td>\n",
       "      <td>N</td>\n",
       "      <td>NaN</td>\n",
       "    </tr>\n",
       "    <tr>\n",
       "      <th>3</th>\n",
       "      <td>AUSTRALIA</td>\n",
       "      <td>Surfing</td>\n",
       "      <td>M</td>\n",
       "      <td>NaN</td>\n",
       "      <td>N</td>\n",
       "      <td>2 m shark</td>\n",
       "    </tr>\n",
       "    <tr>\n",
       "      <th>4</th>\n",
       "      <td>MEXICO</td>\n",
       "      <td>Free diving</td>\n",
       "      <td>M</td>\n",
       "      <td>NaN</td>\n",
       "      <td>N</td>\n",
       "      <td>Tiger shark, 3m</td>\n",
       "    </tr>\n",
       "  </tbody>\n",
       "</table>\n",
       "</div>"
      ],
      "text/plain": [
       "     country     activity sex_  age fatal_(y/n)         species_\n",
       "0        USA     Paddling    F   57           N      White shark\n",
       "1        USA     Standing    F   11           N              NaN\n",
       "2        USA      Surfing    M   48           N              NaN\n",
       "3  AUSTRALIA      Surfing    M  NaN           N        2 m shark\n",
       "4     MEXICO  Free diving    M  NaN           N  Tiger shark, 3m"
      ]
     },
     "execution_count": 500,
     "metadata": {},
     "output_type": "execute_result"
    }
   ],
   "source": [
    "data[columns_focus].head()"
   ]
  },
  {
   "cell_type": "markdown",
   "id": "e61bc4f3",
   "metadata": {},
   "source": [
    "## 5) Cleaning variables "
   ]
  },
  {
   "cell_type": "markdown",
   "id": "2ec425aa",
   "metadata": {},
   "source": [
    "### 5.1) Looking for null values"
   ]
  },
  {
   "cell_type": "code",
   "execution_count": 501,
   "id": "aa1ece91",
   "metadata": {},
   "outputs": [
    {
     "data": {
      "text/plain": [
       "case_number                  2\n",
       "date                        10\n",
       "year                        12\n",
       "type                        14\n",
       "country                     60\n",
       "area                       465\n",
       "location                   550\n",
       "activity                   554\n",
       "name                       220\n",
       "sex_                       575\n",
       "age                       2841\n",
       "injury                      38\n",
       "fatal_(y/n)                549\n",
       "time                      3364\n",
       "species_                  2848\n",
       "investigator_or_source      27\n",
       "pdf                         10\n",
       "href_formula                11\n",
       "href                        10\n",
       "case_number.1               10\n",
       "case_number.2               10\n",
       "original_order               3\n",
       "ignore1                   6311\n",
       "ignore2                   6310\n",
       "dtype: int64"
      ]
     },
     "execution_count": 501,
     "metadata": {},
     "output_type": "execute_result"
    }
   ],
   "source": [
    "## In absolute terms \n",
    "\n",
    "nan_cols = data.isna().sum()\n",
    "nan_cols"
   ]
  },
  {
   "cell_type": "code",
   "execution_count": 502,
   "id": "6f167e17",
   "metadata": {},
   "outputs": [
    {
     "data": {
      "text/plain": [
       "case_number                0.031686\n",
       "date                       0.158428\n",
       "year                       0.190114\n",
       "type                       0.221800\n",
       "country                    0.950570\n",
       "area                       7.366920\n",
       "location                   8.713561\n",
       "activity                   8.776933\n",
       "name                       3.485425\n",
       "sex_                       9.109632\n",
       "age                       45.009506\n",
       "injury                     0.602028\n",
       "fatal_(y/n)                8.697719\n",
       "time                      53.295311\n",
       "species_                  45.120406\n",
       "investigator_or_source     0.427757\n",
       "pdf                        0.158428\n",
       "href_formula               0.174271\n",
       "href                       0.158428\n",
       "case_number.1              0.158428\n",
       "case_number.2              0.158428\n",
       "original_order             0.047529\n",
       "ignore1                   99.984157\n",
       "ignore2                   99.968314\n",
       "dtype: float64"
      ]
     },
     "execution_count": 502,
     "metadata": {},
     "output_type": "execute_result"
    }
   ],
   "source": [
    "# In relative terms\n",
    "\n",
    "nan_cols_rel = data.isna().mean() * 100\n",
    "nan_cols_rel[nan_cols_rel>0]"
   ]
  },
  {
   "cell_type": "code",
   "execution_count": 503,
   "id": "5c2b9606",
   "metadata": {},
   "outputs": [
    {
     "data": {
      "text/plain": [
       "<Axes: >"
      ]
     },
     "execution_count": 503,
     "metadata": {},
     "output_type": "execute_result"
    },
    {
     "data": {
      "image/png": "[encoded data removed]",
      "text/plain": [
       "<Figure size 1000x600 with 1 Axes>"
      ]
     },
     "metadata": {},
     "output_type": "display_data"
    }
   ],
   "source": [
    "# We can visualize it\n",
    "\n",
    "plt.figure(figsize=(10, 6))  # 100X60  pixeles\n",
    "\n",
    "sns.heatmap(data.isna(),yticklabels=False,cmap='viridis',cbar=False)"
   ]
  },
  {
   "cell_type": "code",
   "execution_count": 504,
   "id": "67d2429a",
   "metadata": {},
   "outputs": [
    {
     "data": {
      "text/plain": [
       "<Axes: >"
      ]
     },
     "execution_count": 504,
     "metadata": {},
     "output_type": "execute_result"
    },
    {
     "data": {
      "image/png": "[encoded data removed]",
      "text/plain": [
       "<Figure size 1000x600 with 1 Axes>"
      ]
     },
     "metadata": {},
     "output_type": "display_data"
    }
   ],
   "source": [
    "# Here we look at the same chart, but zooming into our columns of focus \n",
    "# Both columns AGE and SPECIES have lots of null values \n",
    "\n",
    "plt.figure(figsize=(10, 6))  # 100X60  pixeles\n",
    "\n",
    "sns.heatmap(data[columns_focus].isna(),yticklabels=False,cmap='viridis',cbar=False)"
   ]
  },
  {
   "cell_type": "markdown",
   "id": "5bef1d8c",
   "metadata": {},
   "source": [
    "### 5.2) Column fatal_(y/n)"
   ]
  },
  {
   "cell_type": "code",
   "execution_count": 505,
   "id": "be4733ab",
   "metadata": {},
   "outputs": [
    {
     "data": {
      "text/plain": [
       "array(['N', 'Y', nan, 'M', 'UNKNOWN', '2017', ' N', 'N ', 'y'],\n",
       "      dtype=object)"
      ]
     },
     "execution_count": 505,
     "metadata": {},
     "output_type": "execute_result"
    }
   ],
   "source": [
    "#since we are trying to explain this variable, let us start by looking into it \n",
    "#although we'd expect Y/N, we see there are different values and therefore we must clean them \n",
    "\n",
    "data['fatal_(y/n)'].unique()"
   ]
  },
  {
   "cell_type": "code",
   "execution_count": 506,
   "id": "3898f85a",
   "metadata": {},
   "outputs": [
    {
     "data": {
      "text/plain": [
       "fatal_(y/n)\n",
       "N          4293\n",
       "Y          1388\n",
       "UNKNOWN      71\n",
       " N            7\n",
       "M             1\n",
       "2017          1\n",
       "N             1\n",
       "y             1\n",
       "Name: count, dtype: int64"
      ]
     },
     "execution_count": 506,
     "metadata": {},
     "output_type": "execute_result"
    }
   ],
   "source": [
    "#lets look into there frequency \n",
    "\n",
    "data['fatal_(y/n)'].value_counts()"
   ]
  },
  {
   "cell_type": "code",
   "execution_count": 507,
   "id": "62f8208e",
   "metadata": {},
   "outputs": [],
   "source": [
    "#if the value is null or unkown, it does not serve our purpose. \n",
    "#also, 2017 is clearly not applicable here. \n",
    "#M could be a typo for N, but since I can not be sure I will remove it "
   ]
  },
  {
   "cell_type": "code",
   "execution_count": 508,
   "id": "0ad75bea",
   "metadata": {},
   "outputs": [
    {
     "name": "stdout",
     "output_type": "stream",
     "text": [
      "Index([27, 76, 79, 84, 98, 107, 115, 124, 125, 145, 151, 153, 159, 187, 189], dtype='int64')\n"
     ]
    }
   ],
   "source": [
    "#where are my NAs? \n",
    "\n",
    "bad_index_fatal = data['fatal_(y/n)'][data['fatal_(y/n)'].isna()].index\n",
    "print(bad_index_fatal[:15])"
   ]
  },
  {
   "cell_type": "code",
   "execution_count": 509,
   "id": "37c3f7fa",
   "metadata": {},
   "outputs": [
    {
     "name": "stdout",
     "output_type": "stream",
     "text": [
      "(6312, 24)\n"
     ]
    }
   ],
   "source": [
    "print(data.shape)"
   ]
  },
  {
   "cell_type": "code",
   "execution_count": 510,
   "id": "a7be59ce",
   "metadata": {},
   "outputs": [],
   "source": [
    "#I will drop them\n",
    "\n",
    "data.drop(bad_index_fatal, axis=0, inplace=True)"
   ]
  },
  {
   "cell_type": "code",
   "execution_count": 511,
   "id": "639e759a",
   "metadata": {},
   "outputs": [
    {
     "name": "stdout",
     "output_type": "stream",
     "text": [
      "(5763, 24)\n",
      "(25723, 24)\n"
     ]
    }
   ],
   "source": [
    "#I am down 549 values, which is consistent with the absolute count we had done \n",
    "\n",
    "print(data.shape)\n",
    "print(data_original.shape)"
   ]
  },
  {
   "cell_type": "code",
   "execution_count": 512,
   "id": "01c849c8",
   "metadata": {},
   "outputs": [
    {
     "name": "stdout",
     "output_type": "stream",
     "text": [
      "Index([ 285,  624,  786, 1270, 2250, 2260, 2267, 2295, 2307, 2323, 2328, 2388,\n",
      "       2404, 2409, 2648, 2650, 2661, 2806, 2882, 2900, 2943, 2996, 2998, 3006,\n",
      "       3038, 3041, 3298, 3396, 3411, 3429, 3434, 3507, 3545, 3552, 3712, 3774,\n",
      "       3794, 3838, 3841, 4060, 4208, 4256, 4269, 4310, 4323, 4517, 4689, 4786,\n",
      "       4787, 4976, 4998, 5029, 5159, 5270, 5347, 5409, 5555, 5615, 5653, 5656,\n",
      "       5674, 5708, 5709, 5998, 6081, 6153, 6165, 6166, 6167, 6169, 6171, 6172,\n",
      "       6277],\n",
      "      dtype='int64')\n"
     ]
    }
   ],
   "source": [
    "#I will remove ['UNKNOWN', 'M', '2017']\n",
    "\n",
    "bad_index_fatal = data[data['fatal_(y/n)'].isin(['UNKNOWN', 'M', 2017, '2017'])].index\n",
    "print(bad_index_fatal)"
   ]
  },
  {
   "cell_type": "code",
   "execution_count": 513,
   "id": "d33a0b6d",
   "metadata": {},
   "outputs": [
    {
     "data": {
      "text/plain": [
       "(5763, 24)"
      ]
     },
     "execution_count": 513,
     "metadata": {},
     "output_type": "execute_result"
    }
   ],
   "source": [
    "data.shape"
   ]
  },
  {
   "cell_type": "code",
   "execution_count": 514,
   "id": "aa26f363",
   "metadata": {},
   "outputs": [],
   "source": [
    "#I will remove ['UNKNOWN', 'M', '2017']\n",
    "\n",
    "data.drop(bad_index_fatal, axis=0, inplace=True)"
   ]
  },
  {
   "cell_type": "code",
   "execution_count": 515,
   "id": "fea46ff3",
   "metadata": {},
   "outputs": [
    {
     "name": "stdout",
     "output_type": "stream",
     "text": [
      "(5690, 24)\n",
      "(25723, 24)\n"
     ]
    }
   ],
   "source": [
    "#I am down 73 values\n",
    "\n",
    "print(data.shape)\n",
    "print(data_original.shape)"
   ]
  },
  {
   "cell_type": "code",
   "execution_count": 516,
   "id": "7e0b0da5",
   "metadata": {},
   "outputs": [
    {
     "data": {
      "text/plain": [
       "fatal_(y/n)\n",
       "N     4293\n",
       "Y     1388\n",
       " N       7\n",
       "N        1\n",
       "y        1\n",
       "Name: count, dtype: int64"
      ]
     },
     "execution_count": 516,
     "metadata": {},
     "output_type": "execute_result"
    }
   ],
   "source": [
    "#lastly, I will clean the rest of strings to be uppercase, no space\n",
    "\n",
    "data['fatal_(y/n)'].value_counts()"
   ]
  },
  {
   "cell_type": "code",
   "execution_count": 517,
   "id": "0512b07b",
   "metadata": {},
   "outputs": [
    {
     "data": {
      "text/plain": [
       "'Y'"
      ]
     },
     "execution_count": 517,
     "metadata": {},
     "output_type": "execute_result"
    }
   ],
   "source": [
    "#testing for one \n",
    "\n",
    "string = 'y '\n",
    "string.upper().replace(' ','')"
   ]
  },
  {
   "cell_type": "code",
   "execution_count": 518,
   "id": "12fe49fe",
   "metadata": {},
   "outputs": [],
   "source": [
    "data['fatal_(y/n)'] = data['fatal_(y/n)'].apply(lambda X: X.upper().replace(' ', ''))"
   ]
  },
  {
   "cell_type": "code",
   "execution_count": 519,
   "id": "bde70aa4",
   "metadata": {},
   "outputs": [
    {
     "data": {
      "text/plain": [
       "fatal_(y/n)\n",
       "N    4301\n",
       "Y    1389\n",
       "Name: count, dtype: int64"
      ]
     },
     "execution_count": 519,
     "metadata": {},
     "output_type": "execute_result"
    }
   ],
   "source": [
    "#he limpiado la columna \n",
    "\n",
    "data['fatal_(y/n)'].value_counts()"
   ]
  },
  {
   "cell_type": "code",
   "execution_count": 520,
   "id": "c3b06fd4",
   "metadata": {},
   "outputs": [
    {
     "data": {
      "text/plain": [
       "case_number                0.017575\n",
       "year                       0.017575\n",
       "type                       0.052724\n",
       "country                    0.755712\n",
       "area                       6.977153\n",
       "location                   8.295255\n",
       "activity                   6.748682\n",
       "name                       2.548330\n",
       "sex_                       8.014060\n",
       "age                       43.198594\n",
       "injury                     0.017575\n",
       "time                      50.913884\n",
       "species_                  48.523726\n",
       "investigator_or_source     0.193322\n",
       "href_formula               0.017575\n",
       "ignore1                   99.982425\n",
       "ignore2                   99.964851\n",
       "dtype: float64"
      ]
     },
     "execution_count": 520,
     "metadata": {},
     "output_type": "execute_result"
    }
   ],
   "source": [
    "# In relative terms\n",
    "\n",
    "nan_cols_rel = data.isna().mean() * 100\n",
    "nan_cols_rel[nan_cols_rel>0]"
   ]
  },
  {
   "cell_type": "code",
   "execution_count": 521,
   "id": "3e5219dc",
   "metadata": {},
   "outputs": [
    {
     "data": {
      "text/plain": [
       "3190"
      ]
     },
     "execution_count": 521,
     "metadata": {},
     "output_type": "execute_result"
    }
   ],
   "source": [
    "# I can still remove 3190 rows based on the condition established \n",
    "\n",
    "thresholdrow = 2500 \n",
    "data.shape[0]-thresholdrow "
   ]
  },
  {
   "cell_type": "markdown",
   "id": "3fff065e",
   "metadata": {},
   "source": [
    "### 5.3) Column Age "
   ]
  },
  {
   "cell_type": "code",
   "execution_count": 522,
   "id": "2d189c04",
   "metadata": {},
   "outputs": [
    {
     "data": {
      "text/plain": [
       "2458"
      ]
     },
     "execution_count": 522,
     "metadata": {},
     "output_type": "execute_result"
    }
   ],
   "source": [
    "#there are a lot of null values in age, but still within my condition of having 2.5k rows. I will remove them. \n",
    "\n",
    "data.age.isnull().sum()"
   ]
  },
  {
   "cell_type": "code",
   "execution_count": 523,
   "id": "de5d2c80",
   "metadata": {},
   "outputs": [
    {
     "name": "stdout",
     "output_type": "stream",
     "text": [
      "Index([3, 4, 5, 15, 16, 17, 19, 20, 22, 30, 32, 43, 49, 52, 59], dtype='int64')\n"
     ]
    }
   ],
   "source": [
    "#where are my NAs? \n",
    "\n",
    "bad_index_age = data['age'][data['age'].isna()].index\n",
    "print(bad_index_age[:15])"
   ]
  },
  {
   "cell_type": "code",
   "execution_count": 524,
   "id": "5075695c",
   "metadata": {},
   "outputs": [
    {
     "name": "stdout",
     "output_type": "stream",
     "text": [
      "(5690, 24)\n"
     ]
    }
   ],
   "source": [
    "print(data.shape)"
   ]
  },
  {
   "cell_type": "code",
   "execution_count": 525,
   "id": "51fd6853",
   "metadata": {},
   "outputs": [],
   "source": [
    "#I will drop them\n",
    "\n",
    "data.drop(bad_index_age, axis=0, inplace=True)"
   ]
  },
  {
   "cell_type": "code",
   "execution_count": 526,
   "id": "184a44b6",
   "metadata": {},
   "outputs": [
    {
     "name": "stdout",
     "output_type": "stream",
     "text": [
      "(3232, 24)\n"
     ]
    }
   ],
   "source": [
    "print(data.shape)"
   ]
  },
  {
   "cell_type": "code",
   "execution_count": 527,
   "id": "fba15885",
   "metadata": {},
   "outputs": [
    {
     "data": {
      "text/plain": [
       "age\n",
       ">50               1\n",
       "20                1\n",
       "21 or 26          1\n",
       "45                1\n",
       "74                1\n",
       "Elderly           1\n",
       "32 & 30           1\n",
       "33 or 37          1\n",
       "60's              1\n",
       "20?               1\n",
       " 28               1\n",
       "7      &    31    1\n",
       " 30               1\n",
       "mid-30s           1\n",
       "13 or 14          1\n",
       "Name: count, dtype: int64"
      ]
     },
     "execution_count": 527,
     "metadata": {},
     "output_type": "execute_result"
    }
   ],
   "source": [
    "#a couple of issues in the longtail: \n",
    "#some categorical values (E.g,. teens, middle age), some special characters or spacing, two ages (maybe two victims?)\n",
    "\n",
    "data.age.value_counts().tail(15)"
   ]
  },
  {
   "cell_type": "code",
   "execution_count": 528,
   "id": "5471c719",
   "metadata": {},
   "outputs": [
    {
     "data": {
      "text/plain": [
       "147"
      ]
     },
     "execution_count": 528,
     "metadata": {},
     "output_type": "execute_result"
    }
   ],
   "source": [
    "len(data.age.unique())"
   ]
  },
  {
   "cell_type": "code",
   "execution_count": 529,
   "id": "d9343b44",
   "metadata": {},
   "outputs": [],
   "source": [
    "#I will clean spacing \n",
    "\n",
    "data['age'] = data['age'].apply(lambda x: x.replace(' ', ''))"
   ]
  },
  {
   "cell_type": "code",
   "execution_count": 530,
   "id": "07e8a6c3",
   "metadata": {},
   "outputs": [
    {
     "data": {
      "text/plain": [
       "140"
      ]
     },
     "execution_count": 530,
     "metadata": {},
     "output_type": "execute_result"
    }
   ],
   "source": [
    "len(data.age.unique())"
   ]
  },
  {
   "cell_type": "code",
   "execution_count": 531,
   "id": "be38d79e",
   "metadata": {},
   "outputs": [
    {
     "data": {
      "text/plain": [
       "age\n",
       "18         141\n",
       "17         137\n",
       "15         137\n",
       "19         136\n",
       "16         135\n",
       "          ... \n",
       "Elderly      1\n",
       "21or26       1\n",
       ">50          1\n",
       "18to22       1\n",
       "13or14       1\n",
       "Name: count, Length: 140, dtype: int64"
      ]
     },
     "execution_count": 531,
     "metadata": {},
     "output_type": "execute_result"
    }
   ],
   "source": [
    "data.age.value_counts()"
   ]
  },
  {
   "cell_type": "code",
   "execution_count": 532,
   "id": "7f4713d7",
   "metadata": {},
   "outputs": [
    {
     "data": {
      "text/plain": [
       "(3232, 24)"
      ]
     },
     "execution_count": 532,
     "metadata": {},
     "output_type": "execute_result"
    }
   ],
   "source": [
    "data.shape"
   ]
  },
  {
   "cell_type": "code",
   "execution_count": 533,
   "id": "b86a9ee8",
   "metadata": {},
   "outputs": [],
   "source": [
    "data['age'] = data['age'].str.extract(r'(\\d{1,3})', expand=False)"
   ]
  },
  {
   "cell_type": "code",
   "execution_count": 534,
   "id": "fa4a38fe",
   "metadata": {},
   "outputs": [],
   "source": [
    "data = data.dropna(subset=['age'])"
   ]
  },
  {
   "cell_type": "code",
   "execution_count": 535,
   "id": "32c176ce",
   "metadata": {},
   "outputs": [],
   "source": [
    "data['age'] = data['age'].astype(int)"
   ]
  },
  {
   "cell_type": "code",
   "execution_count": 536,
   "id": "c6c71a7a",
   "metadata": {},
   "outputs": [
    {
     "data": {
      "text/plain": [
       "age\n",
       "18    144\n",
       "20    141\n",
       "17    139\n",
       "15    137\n",
       "19    136\n",
       "Name: count, dtype: int64"
      ]
     },
     "execution_count": 536,
     "metadata": {},
     "output_type": "execute_result"
    }
   ],
   "source": [
    "data.age.value_counts().head(5)"
   ]
  },
  {
   "cell_type": "code",
   "execution_count": 537,
   "id": "994cc2ae",
   "metadata": {},
   "outputs": [
    {
     "data": {
      "text/plain": [
       "<Axes: >"
      ]
     },
     "execution_count": 537,
     "metadata": {},
     "output_type": "execute_result"
    },
    {
     "data": {
      "image/png": "[encoded data removed]",
      "text/plain": [
       "<Figure size 640x480 with 1 Axes>"
      ]
     },
     "metadata": {},
     "output_type": "display_data"
    }
   ],
   "source": [
    "#looks like most victims are ~15-20 years of age \n",
    "\n",
    "data.age.hist(bins=20)"
   ]
  },
  {
   "cell_type": "code",
   "execution_count": 538,
   "id": "8c2886b7",
   "metadata": {},
   "outputs": [
    {
     "data": {
      "text/plain": [
       "(3203, 24)"
      ]
     },
     "execution_count": 538,
     "metadata": {},
     "output_type": "execute_result"
    }
   ],
   "source": [
    "data.shape"
   ]
  },
  {
   "cell_type": "code",
   "execution_count": 539,
   "id": "f47c5170",
   "metadata": {},
   "outputs": [
    {
     "data": {
      "text/plain": [
       "country                      7\n",
       "area                       104\n",
       "location                   131\n",
       "activity                   103\n",
       "name                         7\n",
       "sex_                        32\n",
       "time                       962\n",
       "species_                  1243\n",
       "investigator_or_source       3\n",
       "href_formula                 1\n",
       "ignore1                   3202\n",
       "ignore2                   3203\n",
       "dtype: int64"
      ]
     },
     "execution_count": 539,
     "metadata": {},
     "output_type": "execute_result"
    }
   ],
   "source": [
    "# In absolute terms\n",
    "\n",
    "nan_cols_rel = data.isna().sum() \n",
    "nan_cols_rel[nan_cols_rel>0]"
   ]
  },
  {
   "cell_type": "markdown",
   "id": "9d4810c4",
   "metadata": {},
   "source": [
    "### 5.4) Column Sex_"
   ]
  },
  {
   "cell_type": "code",
   "execution_count": 540,
   "id": "474dff77",
   "metadata": {},
   "outputs": [
    {
     "name": "stdout",
     "output_type": "stream",
     "text": [
      "Index([ 740, 1743, 1770, 1963, 1995, 2225, 2317, 2385, 2472, 2478, 2515, 2810,\n",
      "       2811, 3235, 3247],\n",
      "      dtype='int64')\n"
     ]
    }
   ],
   "source": [
    "#bad indices \n",
    "\n",
    "bad_index_sex_ = data['sex_'][data['sex_'].isna()].index\n",
    "print(bad_index_sex_[:15])"
   ]
  },
  {
   "cell_type": "code",
   "execution_count": 541,
   "id": "e1dfd46c",
   "metadata": {},
   "outputs": [],
   "source": [
    "#drop \n",
    "data.drop(bad_index_sex_, axis=0, inplace=True)"
   ]
  },
  {
   "cell_type": "code",
   "execution_count": 542,
   "id": "e5616b78",
   "metadata": {},
   "outputs": [
    {
     "name": "stdout",
     "output_type": "stream",
     "text": [
      "(3171, 24)\n",
      "(25723, 24)\n"
     ]
    }
   ],
   "source": [
    "print(data.shape)\n",
    "print(data_original.shape)"
   ]
  },
  {
   "cell_type": "code",
   "execution_count": 543,
   "id": "b709bd1c",
   "metadata": {},
   "outputs": [
    {
     "data": {
      "text/plain": [
       "array(['F', 'M', 'M ', 'lli'], dtype=object)"
      ]
     },
     "execution_count": 543,
     "metadata": {},
     "output_type": "execute_result"
    }
   ],
   "source": [
    "#what are the other values \n",
    "\n",
    "data.sex_.unique()"
   ]
  },
  {
   "cell_type": "code",
   "execution_count": 544,
   "id": "b5fc14f6",
   "metadata": {},
   "outputs": [
    {
     "data": {
      "text/plain": [
       "sex_\n",
       "M      2748\n",
       "F       421\n",
       "M         1\n",
       "lli       1\n",
       "Name: count, dtype: int64"
      ]
     },
     "execution_count": 544,
     "metadata": {},
     "output_type": "execute_result"
    }
   ],
   "source": [
    "data.sex_.value_counts()"
   ]
  },
  {
   "cell_type": "code",
   "execution_count": 545,
   "id": "7b8769d2",
   "metadata": {},
   "outputs": [
    {
     "name": "stdout",
     "output_type": "stream",
     "text": [
      "Index([1624], dtype='int64')\n"
     ]
    }
   ],
   "source": [
    "#N and 'ili' are not sex categories. I will remove them \n",
    "\n",
    "bad_index_sex_ = data[data['sex_'].isin(['N', '.','lli'])].index\n",
    "print(bad_index_sex_)"
   ]
  },
  {
   "cell_type": "code",
   "execution_count": 546,
   "id": "4c5a964a",
   "metadata": {},
   "outputs": [],
   "source": [
    "#drop \n",
    "data.drop(bad_index_sex_, axis=0, inplace=True)"
   ]
  },
  {
   "cell_type": "code",
   "execution_count": 547,
   "id": "3784b4e2",
   "metadata": {},
   "outputs": [
    {
     "data": {
      "text/plain": [
       "sex_\n",
       "M     2748\n",
       "F      421\n",
       "M        1\n",
       "Name: count, dtype: int64"
      ]
     },
     "execution_count": 547,
     "metadata": {},
     "output_type": "execute_result"
    }
   ],
   "source": [
    "data.sex_.value_counts()"
   ]
  },
  {
   "cell_type": "code",
   "execution_count": 548,
   "id": "5d5b0581",
   "metadata": {},
   "outputs": [],
   "source": [
    "data['sex_'] = data['sex_'].apply(lambda X: X.upper().replace(' ', ''))"
   ]
  },
  {
   "cell_type": "code",
   "execution_count": 549,
   "id": "74524477",
   "metadata": {},
   "outputs": [
    {
     "data": {
      "text/plain": [
       "sex_\n",
       "M    2749\n",
       "F     421\n",
       "Name: count, dtype: int64"
      ]
     },
     "execution_count": 549,
     "metadata": {},
     "output_type": "execute_result"
    }
   ],
   "source": [
    "#clean!\n",
    "\n",
    "data.sex_.value_counts()"
   ]
  },
  {
   "cell_type": "code",
   "execution_count": 550,
   "id": "2068372e",
   "metadata": {},
   "outputs": [
    {
     "data": {
      "text/plain": [
       "(3170, 24)"
      ]
     },
     "execution_count": 550,
     "metadata": {},
     "output_type": "execute_result"
    }
   ],
   "source": [
    "data.shape"
   ]
  },
  {
   "cell_type": "code",
   "execution_count": 551,
   "id": "714c9bbd",
   "metadata": {},
   "outputs": [
    {
     "data": {
      "text/plain": [
       "country                      7\n",
       "area                       102\n",
       "location                   129\n",
       "activity                    98\n",
       "name                         7\n",
       "time                       941\n",
       "species_                  1223\n",
       "investigator_or_source       3\n",
       "href_formula                 1\n",
       "ignore1                   3169\n",
       "ignore2                   3170\n",
       "dtype: int64"
      ]
     },
     "execution_count": 551,
     "metadata": {},
     "output_type": "execute_result"
    }
   ],
   "source": [
    "nan_cols = data.isna().sum()\n",
    "nan_cols[nan_cols>0]"
   ]
  },
  {
   "cell_type": "markdown",
   "id": "a92a3389",
   "metadata": {},
   "source": [
    "### 5.5) Column Country "
   ]
  },
  {
   "cell_type": "code",
   "execution_count": 552,
   "id": "934bdea0",
   "metadata": {},
   "outputs": [
    {
     "name": "stdout",
     "output_type": "stream",
     "text": [
      "Index([62, 3399, 3425, 3605, 5060, 5808, 5996], dtype='int64')\n"
     ]
    }
   ],
   "source": [
    "#bad indices \n",
    "\n",
    "bad_index_country = data['country'][data['country'].isna()].index\n",
    "print(bad_index_country)"
   ]
  },
  {
   "cell_type": "code",
   "execution_count": 553,
   "id": "48dc3d2d",
   "metadata": {},
   "outputs": [],
   "source": [
    "#drop \n",
    "data.drop(bad_index_country, axis=0, inplace=True)"
   ]
  },
  {
   "cell_type": "code",
   "execution_count": 554,
   "id": "ee1a7e7f",
   "metadata": {},
   "outputs": [
    {
     "name": "stdout",
     "output_type": "stream",
     "text": [
      "(3163, 24)\n",
      "(25723, 24)\n"
     ]
    }
   ],
   "source": [
    "print(data.shape)\n",
    "print(data_original.shape)"
   ]
  },
  {
   "cell_type": "code",
   "execution_count": 555,
   "id": "7b18bbce",
   "metadata": {},
   "outputs": [
    {
     "data": {
      "text/plain": [
       "array(['USA', 'BRAZIL', 'AUSTRALIA', 'ENGLAND', 'COSTA RICA', 'MALDIVES',\n",
       "       'SOUTH AFRICA', 'THAILAND', 'BAHAMAS', 'ECUADOR', 'NEW CALEDONIA',\n",
       "       'MALAYSIA', 'CUBA', 'SPAIN', 'JAPAN', 'EGYPT',\n",
       "       'ST HELENA, British overseas territory', 'MEXICO', 'REUNION',\n",
       "       'UNITED KINGDOM', 'UNITED ARAB EMIRATES', 'NEW ZEALAND',\n",
       "       'PHILIPPINES', 'INDONESIA', 'FRENCH POLYNESIA', 'CHINA',\n",
       "       'COLUMBIA', 'Fiji', 'ARUBA', 'MOZAMBIQUE', 'PUERTO RICO',\n",
       "       'MAURITIUS', 'ST. MARTIN', 'PAPUA NEW GUINEA', 'KIRIBATI',\n",
       "       'ISRAEL', 'FRANCE', 'DIEGO GARCIA', 'PALESTINIAN TERRITORIES',\n",
       "       'GUAM', 'SEYCHELLES', 'JAMAICA', 'NIGERIA', 'TONGA', 'SCOTLAND',\n",
       "       'FIJI', 'TAIWAN', 'DOMINICAN REPUBLIC', 'KENYA', 'RUSSIA',\n",
       "       'TURKS & CAICOS', 'SAMOA', 'SOLOMON ISLANDS', 'SOUTH KOREA',\n",
       "       'MALTA', 'VIETNAM', 'MADAGASCAR', 'UNITED ARAB EMIRATES (UAE)',\n",
       "       'PANAMA', 'AZORES', 'CROATIA', 'NORWAY', 'ATLANTIC OCEAN',\n",
       "       'ST. MAARTIN', 'GRAND CAYMAN', 'VANUATU', 'URUGUAY', 'VENEZUELA',\n",
       "       'INDIA', 'CANADA', 'OKINAWA', 'TANZANIA', ' TONGA',\n",
       "       'MARSHALL ISLANDS', 'SENEGAL', 'HONG KONG', 'CHILE', 'SOMALIA',\n",
       "       'EL SALVADOR', 'CARIBBEAN SEA', 'ITALY', 'NORTH ATLANTIC OCEAN',\n",
       "       'PORTUGAL', 'SOUTH CHINA SEA', 'BERMUDA', 'WESTERN SAMOA',\n",
       "       'PACIFIC OCEAN ', 'BRITISH ISLES', 'MICRONESIA', 'PALAU',\n",
       "       'GRENADA', 'IRAQ', 'TURKEY', 'SINGAPORE', 'NEW BRITAIN',\n",
       "       'NEW GUINEA', 'NORTH PACIFIC OCEAN',\n",
       "       'FEDERATED STATES OF MICRONESIA', 'GREECE', 'ADMIRALTY ISLANDS',\n",
       "       'BRITISH WEST INDIES', 'SOUTH ATLANTIC OCEAN',\n",
       "       'MID ATLANTIC OCEAN', 'NORTH SEA', 'MALDIVE ISLANDS',\n",
       "       'AMERICAN SAMOA', 'ANDAMAN / NICOBAR ISLANDAS', 'PACIFIC OCEAN',\n",
       "       'NORTH ATLANTIC OCEAN ', 'ARGENTINA', 'IRAN', 'SIERRA LEONE',\n",
       "       'CENTRAL PACIFIC', 'TRINIDAD & TOBAGO', 'CAPE VERDE', 'BARBADOS',\n",
       "       'REUNION ISLAND', 'FALKLAND ISLANDS', 'NICARAGUA', 'EGYPT ',\n",
       "       'YEMEN ', 'HAITI', 'BRITISH NEW GUINEA', 'HONDURAS', 'GUINEA',\n",
       "       'SRI LANKA', 'BELIZE', 'CEYLON (SRI LANKA)'], dtype=object)"
      ]
     },
     "execution_count": 555,
     "metadata": {},
     "output_type": "execute_result"
    }
   ],
   "source": [
    "#what are the other values \n",
    "\n",
    "data.country.unique()"
   ]
  },
  {
   "cell_type": "code",
   "execution_count": 556,
   "id": "c6f72ef0",
   "metadata": {},
   "outputs": [
    {
     "data": {
      "text/plain": [
       "country\n",
       "USA             1382\n",
       "AUSTRALIA        653\n",
       "SOUTH AFRICA     339\n",
       "BAHAMAS           65\n",
       "BRAZIL            57\n",
       "Name: count, dtype: int64"
      ]
     },
     "execution_count": 556,
     "metadata": {},
     "output_type": "execute_result"
    }
   ],
   "source": [
    "#what are the other values \n",
    "\n",
    "country_counts = data.country.value_counts().nlargest(20)\n",
    "country_counts.head()"
   ]
  },
  {
   "cell_type": "code",
   "execution_count": 557,
   "id": "7c6d1ae7",
   "metadata": {},
   "outputs": [
    {
     "data": {
      "text/plain": [
       "<Axes: xlabel='country'>"
      ]
     },
     "execution_count": 557,
     "metadata": {},
     "output_type": "execute_result"
    },
    {
     "data": {
      "image/png": "[encoded data removed]",
      "text/plain": [
       "<Figure size 640x480 with 1 Axes>"
      ]
     },
     "metadata": {},
     "output_type": "display_data"
    }
   ],
   "source": [
    "#most victims are in the USA.\n",
    "\n",
    "country_counts.plot(kind='bar')"
   ]
  },
  {
   "cell_type": "code",
   "execution_count": 558,
   "id": "fd4ba8db",
   "metadata": {},
   "outputs": [],
   "source": [
    "# I will clean spaces, special characters, and make it proper \n",
    "\n",
    "data['country'] = data['country'].apply(lambda X: X.title().strip())"
   ]
  },
  {
   "cell_type": "code",
   "execution_count": 559,
   "id": "74eb5d56",
   "metadata": {
    "scrolled": false
   },
   "outputs": [
    {
     "data": {
      "text/plain": [
       "country\n",
       "Usa                     1382\n",
       "Australia                653\n",
       "South Africa             339\n",
       "Bahamas                   65\n",
       "Brazil                    57\n",
       "                        ... \n",
       "Aruba                      1\n",
       "British Isles              1\n",
       "United Arab Emirates       1\n",
       "New Guinea                 1\n",
       "Ceylon (Sri Lanka)         1\n",
       "Name: count, Length: 123, dtype: int64"
      ]
     },
     "execution_count": 559,
     "metadata": {},
     "output_type": "execute_result"
    }
   ],
   "source": [
    "countrycount = data.country.value_counts()\n",
    "countrycount.head(10000)"
   ]
  },
  {
   "cell_type": "code",
   "execution_count": 560,
   "id": "0560ea4f",
   "metadata": {},
   "outputs": [],
   "source": [
    "#There seems to be a lot of countries with a single victim \n",
    "#Some of those values also seem to be either 1) entries where we are not sure about the country (e.g., Sudan?) or 2) where we are in between countries (e.g, Egypt / Israel) or 3) low n for attacks\n",
    "#For the purpose of this exercise, I don't think it will be worth the work of cleaning that tail \n",
    "#I will remove entries where country count < 10"
   ]
  },
  {
   "cell_type": "code",
   "execution_count": 561,
   "id": "0b1be4a7",
   "metadata": {},
   "outputs": [
    {
     "data": {
      "text/plain": [
       "Index(['Solomon Islands', 'Croatia', 'Ecuador', 'Taiwan', 'Tonga',\n",
       "       'United Kingdom', 'Vietnam', 'Jamaica', 'Costa Rica',\n",
       "       'Marshall Islands', 'South Korea', 'Greece', 'Thailand', 'Okinawa',\n",
       "       'Vanuatu', 'Bermuda', 'Pacific Ocean', 'Columbia', 'Indonesia', 'Kenya',\n",
       "       'South Atlantic Ocean', 'Venezuela', 'Grenada', 'New Britain',\n",
       "       'Senegal', 'Atlantic Ocean', 'Mauritius', 'England', 'Turks & Caicos',\n",
       "       'Dominican Republic', 'Madagascar', 'Scotland', 'Palau', 'Guam',\n",
       "       'American Samoa', 'Seychelles', 'Israel', 'Tanzania', 'Barbados',\n",
       "       'Yemen', 'Sierra Leone', 'North Atlantic Ocean', 'El Salvador',\n",
       "       'Portugal', 'China', 'Turkey', 'Singapore',\n",
       "       'St Helena, British Overseas Territory', 'North Pacific Ocean', 'Malta',\n",
       "       'Russia', 'Andaman / Nicobar Islandas', 'Mid Atlantic Ocean',\n",
       "       'North Sea', 'Maldive Islands', 'Maldives', 'Samoa',\n",
       "       'Trinidad & Tobago', 'Argentina', 'Central Pacific',\n",
       "       'Admiralty Islands', 'Cape Verde', 'Reunion Island', 'Falkland Islands',\n",
       "       'Nicaragua', 'Haiti', 'British New Guinea', 'Honduras', 'Guinea',\n",
       "       'Sri Lanka', 'Belize', 'British West Indies', 'Micronesia', 'Malaysia',\n",
       "       'Federated States Of Micronesia', 'United Arab Emirates (Uae)',\n",
       "       'Azores', 'Nigeria', 'Norway', 'St. Maartin', 'Grand Cayman', 'Uruguay',\n",
       "       'Palestinian Territories', 'Diego Garcia', 'Canada', 'France',\n",
       "       'Kiribati', 'St. Martin', 'Chile', 'Somalia', 'Caribbean Sea',\n",
       "       'South China Sea', 'Puerto Rico', 'Western Samoa', 'Aruba',\n",
       "       'British Isles', 'United Arab Emirates', 'New Guinea',\n",
       "       'Ceylon (Sri Lanka)'],\n",
       "      dtype='object', name='country')"
      ]
     },
     "execution_count": 561,
     "metadata": {},
     "output_type": "execute_result"
    }
   ],
   "source": [
    "countriesremove = countrycount[countrycount<10].index\n",
    "countriesremove"
   ]
  },
  {
   "cell_type": "code",
   "execution_count": 562,
   "id": "d9f85ee7",
   "metadata": {},
   "outputs": [
    {
     "name": "stdout",
     "output_type": "stream",
     "text": [
      "(3163, 24)\n",
      "(25723, 24)\n"
     ]
    }
   ],
   "source": [
    "# Before drop \n",
    "\n",
    "print(data.shape)\n",
    "print(data_original.shape)"
   ]
  },
  {
   "cell_type": "code",
   "execution_count": 563,
   "id": "e75279b5",
   "metadata": {},
   "outputs": [],
   "source": [
    "data.drop(data[data.country.isin(countriesremove)].index, inplace=True)"
   ]
  },
  {
   "cell_type": "code",
   "execution_count": 564,
   "id": "b8ec4deb",
   "metadata": {},
   "outputs": [
    {
     "name": "stdout",
     "output_type": "stream",
     "text": [
      "(2908, 24)\n",
      "(25723, 24)\n"
     ]
    }
   ],
   "source": [
    "# After drop \n",
    "\n",
    "print(data.shape)\n",
    "print(data_original.shape)"
   ]
  },
  {
   "cell_type": "code",
   "execution_count": 565,
   "id": "83bb679f",
   "metadata": {},
   "outputs": [
    {
     "data": {
      "text/plain": [
       "area                        49\n",
       "location                    84\n",
       "activity                    84\n",
       "name                         5\n",
       "time                       796\n",
       "species_                  1100\n",
       "investigator_or_source       2\n",
       "href_formula                 1\n",
       "ignore1                   2907\n",
       "ignore2                   2908\n",
       "dtype: int64"
      ]
     },
     "execution_count": 565,
     "metadata": {},
     "output_type": "execute_result"
    }
   ],
   "source": [
    "nan_cols = data.isna().sum()\n",
    "nan_cols[nan_cols>0]"
   ]
  },
  {
   "cell_type": "markdown",
   "id": "f4e86b0f",
   "metadata": {},
   "source": [
    "### 5.6) Column Species "
   ]
  },
  {
   "cell_type": "code",
   "execution_count": 566,
   "id": "4175af27",
   "metadata": {},
   "outputs": [],
   "source": [
    "#at this point, we start facing trade offs. \n",
    "#removing NA values for Species_ would bring our data base below 2.5k entries. \n",
    "#I will prioritize the other variables, and redefine our scope. "
   ]
  },
  {
   "cell_type": "code",
   "execution_count": 567,
   "id": "51b5c2d1",
   "metadata": {},
   "outputs": [],
   "source": [
    "columns_focus = ['country','activity','sex_','age','fatal_(y/n)']"
   ]
  },
  {
   "cell_type": "markdown",
   "id": "813cc20e",
   "metadata": {},
   "source": [
    "### 5.7) Column Activity"
   ]
  },
  {
   "cell_type": "code",
   "execution_count": 568,
   "id": "cc31858e",
   "metadata": {},
   "outputs": [
    {
     "data": {
      "text/plain": [
       "Index([47, 108, 114, 245, 255, 296, 300, 394, 424, 462, 516, 628, 673, 729,\n",
       "       858],\n",
       "      dtype='int64')"
      ]
     },
     "execution_count": 568,
     "metadata": {},
     "output_type": "execute_result"
    }
   ],
   "source": [
    "#bad indices \n",
    "\n",
    "bad_index_activity = data['activity'][data['activity'].isna()].index\n",
    "bad_index_activity[:15]"
   ]
  },
  {
   "cell_type": "code",
   "execution_count": 569,
   "id": "66997609",
   "metadata": {},
   "outputs": [],
   "source": [
    "#drop \n",
    "data.drop(bad_index_activity, axis=0, inplace=True)"
   ]
  },
  {
   "cell_type": "code",
   "execution_count": 570,
   "id": "cf14b523",
   "metadata": {},
   "outputs": [
    {
     "data": {
      "text/plain": [
       "(2824, 24)"
      ]
     },
     "execution_count": 570,
     "metadata": {},
     "output_type": "execute_result"
    }
   ],
   "source": [
    "data.shape"
   ]
  },
  {
   "cell_type": "code",
   "execution_count": 571,
   "id": "33265465",
   "metadata": {},
   "outputs": [],
   "source": [
    "#while there are common activities, they are not writen in a standard way. I will work on standardizing the series.\n",
    "\n",
    "#data.activity.unique()"
   ]
  },
  {
   "cell_type": "code",
   "execution_count": 572,
   "id": "28561a79",
   "metadata": {},
   "outputs": [
    {
     "data": {
      "text/plain": [
       "624"
      ]
     },
     "execution_count": 572,
     "metadata": {},
     "output_type": "execute_result"
    }
   ],
   "source": [
    "len(data.activity.unique())"
   ]
  },
  {
   "cell_type": "code",
   "execution_count": 573,
   "id": "7ba17edf",
   "metadata": {},
   "outputs": [
    {
     "name": "stdout",
     "output_type": "stream",
     "text": [
      "{'Canoeing', 'Body-boarding', 'Playing', 'Standing', 'Fishing', 'Crayfishing', 'Floating', 'Surfing', 'Skimboarding', 'Shipwreck', 'Kayaking', 'Filming', 'Diving', 'Skindiving', 'Jumping', 'Skindiving,', 'Sitting', 'Windsurfing', 'Paddling', 'Bathing', 'Swimming/', 'Splashing', 'Wading?', 'Kakaying', 'Surf-skiing', 'Wading', 'Lobstering', 'Kiteboarding', 'Freediving', 'Water-skiing', 'Surfng', 'Snorkeling', 'Paddle-boarding', 'Spearfishing', 'Kitesurfing', 'Paddleskiing', 'Paddle-skiing', 'Rowing', 'Batin', 'SUP', 'Sculling', 'Diving?', 'Wakeboarding', 'Clamming', 'Walking', 'Bodyboarding', 'Swimming', 'Sailing'}\n"
     ]
    }
   ],
   "source": [
    "# I will extract the activities with a single name (e.g., surfing, fishing, etc.)\n",
    "\n",
    "activities_std = []\n",
    "\n",
    "for v in data.activity:\n",
    "    \n",
    "    lst = v.split()\n",
    "    \n",
    "    if len(lst) == 1:\n",
    "        activities_std.append(lst[0])\n",
    "        \n",
    "print(set(activities_std))"
   ]
  },
  {
   "cell_type": "code",
   "execution_count": 574,
   "id": "59b81682",
   "metadata": {},
   "outputs": [],
   "source": [
    "# Chat GPT to organize them in categories \n",
    "\n",
    "surfing_activities = {\n",
    "    'Surfing',\n",
    "    'Skimboarding',\n",
    "    'Kiteboarding',\n",
    "    'Kitesurfing',\n",
    "    'Windsurfing',\n",
    "    'Bodyboarding',\n",
    "    'SUP',\n",
    "    'Wakeboarding',\n",
    "    'Surf'\n",
    "}\n",
    "fishing_activities = {\n",
    "    'Angling',\n",
    "    'Fisherman',\n",
    "    'Fishing',\n",
    "    'Clamming',\n",
    "    'Crabbing',\n",
    "    'Lobstering',\n",
    "    'Oystering',\n",
    "    'Shrimping',\n",
    "    'Spearfishing'\n",
    "}\n",
    "bathing_activities = {\n",
    "    'Bather',\n",
    "    'Bathing',\n",
    "    'Bath'\n",
    "}\n",
    "boating_activities = {\n",
    "    'Boat',\n",
    "    'Paddling',\n",
    "    'Canoeing',\n",
    "    'Rowing',\n",
    "    'Sailing',\n",
    "    'Kayaking',\n",
    "    'Cruising',\n",
    "    'Filming',\n",
    "    'Hilo',\n",
    "    'Sculling'\n",
    "}\n",
    "swimming_activities = {\n",
    "    'Jumping',\n",
    "    'Playing',\n",
    "    'Swimming',\n",
    "    'Splashing',\n",
    "    'Swim'\n",
    "}\n",
    "diving_activities = {\n",
    "    'Skindiving',\n",
    "    'Snorkeling',\n",
    "    'Diving'\n",
    "}\n",
    "other_activities = {\n",
    "    'Crawling',\n",
    "    'Rescuing',\n",
    "    'Shipwreck',\n",
    "    'Sitting',\n",
    "    'Standing',\n",
    "    'Suicide',\n",
    "    'Unknown',\n",
    "    'Wading',\n",
    "    'Walking',\n",
    "    'Washing'\n",
    "}"
   ]
  },
  {
   "cell_type": "code",
   "execution_count": 575,
   "id": "cc97e79a",
   "metadata": {},
   "outputs": [],
   "source": [
    "# create function to standardized activities based on that list\n",
    "# using fuzzwuzzy and similarity score\n",
    "\n",
    "def standardize_activities (X): \n",
    "    \n",
    "    threshold = 80  \n",
    "    \n",
    "    X = X.lower()\n",
    "    \n",
    "    for i in surfing_activities:\n",
    "        if fuzz.partial_ratio (i,X) >= threshold:\n",
    "            return 'Surfing'\n",
    "    \n",
    "    for i in fishing_activities:\n",
    "        if fuzz.partial_ratio (i,X) >= threshold:\n",
    "            return 'Fishing'\n",
    "    \n",
    "    for i in bathing_activities:\n",
    "        if fuzz.partial_ratio (i,X) >= threshold:\n",
    "            return 'Bathing'    \n",
    "    \n",
    "    for i in boating_activities:\n",
    "        if fuzz.partial_ratio (i,X) >= threshold:\n",
    "            return 'Boating' \n",
    "\n",
    "    for i in swimming_activities:\n",
    "        if fuzz.partial_ratio (i,X) >= threshold:\n",
    "            return 'Swimming' \n",
    "    \n",
    "    for i in diving_activities:\n",
    "        if fuzz.partial_ratio (i,X) >= threshold:\n",
    "            return 'Diving'\n",
    "    \n",
    "    for i in other_activities:\n",
    "        if fuzz.partial_ratio (i,X) >= threshold:\n",
    "            return 'Other'"
   ]
  },
  {
   "cell_type": "code",
   "execution_count": 576,
   "id": "a4ab5c15",
   "metadata": {},
   "outputs": [],
   "source": [
    "#now I apply it to the column \n",
    "\n",
    "data['activity'] = data['activity'].apply(standardize_activities)"
   ]
  },
  {
   "cell_type": "code",
   "execution_count": 577,
   "id": "c3ad98b1",
   "metadata": {},
   "outputs": [
    {
     "data": {
      "text/plain": [
       "8"
      ]
     },
     "execution_count": 577,
     "metadata": {},
     "output_type": "execute_result"
    }
   ],
   "source": [
    "len(data.activity.unique())"
   ]
  },
  {
   "cell_type": "code",
   "execution_count": 578,
   "id": "e6d674bb",
   "metadata": {},
   "outputs": [],
   "source": [
    "activity_counts = data.activity.value_counts()"
   ]
  },
  {
   "cell_type": "code",
   "execution_count": 579,
   "id": "5ac52737",
   "metadata": {},
   "outputs": [
    {
     "data": {
      "text/plain": [
       "<Axes: xlabel='activity'>"
      ]
     },
     "execution_count": 579,
     "metadata": {},
     "output_type": "execute_result"
    },
    {
     "data": {
      "image/png": "[encoded data removed]",
      "text/plain": [
       "<Figure size 640x480 with 1 Axes>"
      ]
     },
     "metadata": {},
     "output_type": "display_data"
    }
   ],
   "source": [
    "activity_counts.plot(kind='bar')"
   ]
  },
  {
   "cell_type": "markdown",
   "id": "ad74404f",
   "metadata": {},
   "source": [
    "## 6) Clean for duplicates "
   ]
  },
  {
   "cell_type": "code",
   "execution_count": 580,
   "id": "76baa3a8",
   "metadata": {},
   "outputs": [],
   "source": [
    "# I will drop duplicates \n",
    "\n",
    "data.drop_duplicates(inplace=True)"
   ]
  },
  {
   "cell_type": "code",
   "execution_count": 581,
   "id": "64703042",
   "metadata": {},
   "outputs": [
    {
     "data": {
      "text/plain": [
       "(2824, 24)"
      ]
     },
     "execution_count": 581,
     "metadata": {},
     "output_type": "execute_result"
    }
   ],
   "source": [
    "data.shape"
   ]
  },
  {
   "cell_type": "markdown",
   "id": "ab1d0555",
   "metadata": {},
   "source": [
    "## 7) Transforming categorical values into dummies "
   ]
  },
  {
   "cell_type": "code",
   "execution_count": 582,
   "id": "2efd0968",
   "metadata": {},
   "outputs": [],
   "source": [
    "#recaping our interest subset \n",
    "\n",
    "datafocus = data.loc[:, columns_focus]"
   ]
  },
  {
   "cell_type": "code",
   "execution_count": 583,
   "id": "4ce565e8",
   "metadata": {},
   "outputs": [
    {
     "data": {
      "text/html": [
       "<div>\n",
       "<style scoped>\n",
       "    .dataframe tbody tr th:only-of-type {\n",
       "        vertical-align: middle;\n",
       "    }\n",
       "\n",
       "    .dataframe tbody tr th {\n",
       "        vertical-align: top;\n",
       "    }\n",
       "\n",
       "    .dataframe thead th {\n",
       "        text-align: right;\n",
       "    }\n",
       "</style>\n",
       "<table border=\"1\" class=\"dataframe\">\n",
       "  <thead>\n",
       "    <tr style=\"text-align: right;\">\n",
       "      <th></th>\n",
       "      <th>country</th>\n",
       "      <th>activity</th>\n",
       "      <th>sex_</th>\n",
       "      <th>age</th>\n",
       "      <th>fatal_(y/n)</th>\n",
       "    </tr>\n",
       "  </thead>\n",
       "  <tbody>\n",
       "    <tr>\n",
       "      <th>0</th>\n",
       "      <td>Usa</td>\n",
       "      <td>Boating</td>\n",
       "      <td>F</td>\n",
       "      <td>57</td>\n",
       "      <td>N</td>\n",
       "    </tr>\n",
       "    <tr>\n",
       "      <th>1</th>\n",
       "      <td>Usa</td>\n",
       "      <td>Other</td>\n",
       "      <td>F</td>\n",
       "      <td>11</td>\n",
       "      <td>N</td>\n",
       "    </tr>\n",
       "    <tr>\n",
       "      <th>2</th>\n",
       "      <td>Usa</td>\n",
       "      <td>Surfing</td>\n",
       "      <td>M</td>\n",
       "      <td>48</td>\n",
       "      <td>N</td>\n",
       "    </tr>\n",
       "    <tr>\n",
       "      <th>6</th>\n",
       "      <td>Brazil</td>\n",
       "      <td>Swimming</td>\n",
       "      <td>M</td>\n",
       "      <td>18</td>\n",
       "      <td>Y</td>\n",
       "    </tr>\n",
       "    <tr>\n",
       "      <th>7</th>\n",
       "      <td>Usa</td>\n",
       "      <td>Fishing</td>\n",
       "      <td>M</td>\n",
       "      <td>52</td>\n",
       "      <td>N</td>\n",
       "    </tr>\n",
       "  </tbody>\n",
       "</table>\n",
       "</div>"
      ],
      "text/plain": [
       "  country  activity sex_  age fatal_(y/n)\n",
       "0     Usa   Boating    F   57           N\n",
       "1     Usa     Other    F   11           N\n",
       "2     Usa   Surfing    M   48           N\n",
       "6  Brazil  Swimming    M   18           Y\n",
       "7     Usa   Fishing    M   52           N"
      ]
     },
     "execution_count": 583,
     "metadata": {},
     "output_type": "execute_result"
    }
   ],
   "source": [
    "datafocus.head()"
   ]
  },
  {
   "cell_type": "code",
   "execution_count": 584,
   "id": "95950bb4",
   "metadata": {},
   "outputs": [],
   "source": [
    "#these are our non-numerical variables that will be converted to dummies \n",
    "\n",
    "categorical_columns = ['country','activity','sex_']"
   ]
  },
  {
   "cell_type": "code",
   "execution_count": 585,
   "id": "afafdb0e",
   "metadata": {},
   "outputs": [
    {
     "data": {
      "text/html": [
       "<div>\n",
       "<style scoped>\n",
       "    .dataframe tbody tr th:only-of-type {\n",
       "        vertical-align: middle;\n",
       "    }\n",
       "\n",
       "    .dataframe tbody tr th {\n",
       "        vertical-align: top;\n",
       "    }\n",
       "\n",
       "    .dataframe thead th {\n",
       "        text-align: right;\n",
       "    }\n",
       "</style>\n",
       "<table border=\"1\" class=\"dataframe\">\n",
       "  <thead>\n",
       "    <tr style=\"text-align: right;\">\n",
       "      <th></th>\n",
       "      <th>age</th>\n",
       "      <th>fatal_(y/n)</th>\n",
       "      <th>country_Australia</th>\n",
       "      <th>country_Bahamas</th>\n",
       "      <th>country_Brazil</th>\n",
       "      <th>country_Cuba</th>\n",
       "      <th>country_Egypt</th>\n",
       "      <th>country_Fiji</th>\n",
       "      <th>country_French Polynesia</th>\n",
       "      <th>country_Hong Kong</th>\n",
       "      <th>country_India</th>\n",
       "      <th>country_Iran</th>\n",
       "      <th>country_Iraq</th>\n",
       "      <th>country_Italy</th>\n",
       "      <th>country_Japan</th>\n",
       "      <th>country_Mexico</th>\n",
       "      <th>country_Mozambique</th>\n",
       "      <th>country_New Caledonia</th>\n",
       "      <th>country_New Zealand</th>\n",
       "      <th>country_Panama</th>\n",
       "      <th>country_Papua New Guinea</th>\n",
       "      <th>country_Philippines</th>\n",
       "      <th>country_Reunion</th>\n",
       "      <th>country_South Africa</th>\n",
       "      <th>country_Spain</th>\n",
       "      <th>country_Usa</th>\n",
       "      <th>activity_Bathing</th>\n",
       "      <th>activity_Boating</th>\n",
       "      <th>activity_Diving</th>\n",
       "      <th>activity_Fishing</th>\n",
       "      <th>activity_Other</th>\n",
       "      <th>activity_Surfing</th>\n",
       "      <th>activity_Swimming</th>\n",
       "      <th>sex__F</th>\n",
       "      <th>sex__M</th>\n",
       "    </tr>\n",
       "  </thead>\n",
       "  <tbody>\n",
       "    <tr>\n",
       "      <th>0</th>\n",
       "      <td>57</td>\n",
       "      <td>N</td>\n",
       "      <td>False</td>\n",
       "      <td>False</td>\n",
       "      <td>False</td>\n",
       "      <td>False</td>\n",
       "      <td>False</td>\n",
       "      <td>False</td>\n",
       "      <td>False</td>\n",
       "      <td>False</td>\n",
       "      <td>False</td>\n",
       "      <td>False</td>\n",
       "      <td>False</td>\n",
       "      <td>False</td>\n",
       "      <td>False</td>\n",
       "      <td>False</td>\n",
       "      <td>False</td>\n",
       "      <td>False</td>\n",
       "      <td>False</td>\n",
       "      <td>False</td>\n",
       "      <td>False</td>\n",
       "      <td>False</td>\n",
       "      <td>False</td>\n",
       "      <td>False</td>\n",
       "      <td>False</td>\n",
       "      <td>True</td>\n",
       "      <td>False</td>\n",
       "      <td>True</td>\n",
       "      <td>False</td>\n",
       "      <td>False</td>\n",
       "      <td>False</td>\n",
       "      <td>False</td>\n",
       "      <td>False</td>\n",
       "      <td>True</td>\n",
       "      <td>False</td>\n",
       "    </tr>\n",
       "    <tr>\n",
       "      <th>1</th>\n",
       "      <td>11</td>\n",
       "      <td>N</td>\n",
       "      <td>False</td>\n",
       "      <td>False</td>\n",
       "      <td>False</td>\n",
       "      <td>False</td>\n",
       "      <td>False</td>\n",
       "      <td>False</td>\n",
       "      <td>False</td>\n",
       "      <td>False</td>\n",
       "      <td>False</td>\n",
       "      <td>False</td>\n",
       "      <td>False</td>\n",
       "      <td>False</td>\n",
       "      <td>False</td>\n",
       "      <td>False</td>\n",
       "      <td>False</td>\n",
       "      <td>False</td>\n",
       "      <td>False</td>\n",
       "      <td>False</td>\n",
       "      <td>False</td>\n",
       "      <td>False</td>\n",
       "      <td>False</td>\n",
       "      <td>False</td>\n",
       "      <td>False</td>\n",
       "      <td>True</td>\n",
       "      <td>False</td>\n",
       "      <td>False</td>\n",
       "      <td>False</td>\n",
       "      <td>False</td>\n",
       "      <td>True</td>\n",
       "      <td>False</td>\n",
       "      <td>False</td>\n",
       "      <td>True</td>\n",
       "      <td>False</td>\n",
       "    </tr>\n",
       "    <tr>\n",
       "      <th>2</th>\n",
       "      <td>48</td>\n",
       "      <td>N</td>\n",
       "      <td>False</td>\n",
       "      <td>False</td>\n",
       "      <td>False</td>\n",
       "      <td>False</td>\n",
       "      <td>False</td>\n",
       "      <td>False</td>\n",
       "      <td>False</td>\n",
       "      <td>False</td>\n",
       "      <td>False</td>\n",
       "      <td>False</td>\n",
       "      <td>False</td>\n",
       "      <td>False</td>\n",
       "      <td>False</td>\n",
       "      <td>False</td>\n",
       "      <td>False</td>\n",
       "      <td>False</td>\n",
       "      <td>False</td>\n",
       "      <td>False</td>\n",
       "      <td>False</td>\n",
       "      <td>False</td>\n",
       "      <td>False</td>\n",
       "      <td>False</td>\n",
       "      <td>False</td>\n",
       "      <td>True</td>\n",
       "      <td>False</td>\n",
       "      <td>False</td>\n",
       "      <td>False</td>\n",
       "      <td>False</td>\n",
       "      <td>False</td>\n",
       "      <td>True</td>\n",
       "      <td>False</td>\n",
       "      <td>False</td>\n",
       "      <td>True</td>\n",
       "    </tr>\n",
       "    <tr>\n",
       "      <th>6</th>\n",
       "      <td>18</td>\n",
       "      <td>Y</td>\n",
       "      <td>False</td>\n",
       "      <td>False</td>\n",
       "      <td>True</td>\n",
       "      <td>False</td>\n",
       "      <td>False</td>\n",
       "      <td>False</td>\n",
       "      <td>False</td>\n",
       "      <td>False</td>\n",
       "      <td>False</td>\n",
       "      <td>False</td>\n",
       "      <td>False</td>\n",
       "      <td>False</td>\n",
       "      <td>False</td>\n",
       "      <td>False</td>\n",
       "      <td>False</td>\n",
       "      <td>False</td>\n",
       "      <td>False</td>\n",
       "      <td>False</td>\n",
       "      <td>False</td>\n",
       "      <td>False</td>\n",
       "      <td>False</td>\n",
       "      <td>False</td>\n",
       "      <td>False</td>\n",
       "      <td>False</td>\n",
       "      <td>False</td>\n",
       "      <td>False</td>\n",
       "      <td>False</td>\n",
       "      <td>False</td>\n",
       "      <td>False</td>\n",
       "      <td>False</td>\n",
       "      <td>True</td>\n",
       "      <td>False</td>\n",
       "      <td>True</td>\n",
       "    </tr>\n",
       "    <tr>\n",
       "      <th>7</th>\n",
       "      <td>52</td>\n",
       "      <td>N</td>\n",
       "      <td>False</td>\n",
       "      <td>False</td>\n",
       "      <td>False</td>\n",
       "      <td>False</td>\n",
       "      <td>False</td>\n",
       "      <td>False</td>\n",
       "      <td>False</td>\n",
       "      <td>False</td>\n",
       "      <td>False</td>\n",
       "      <td>False</td>\n",
       "      <td>False</td>\n",
       "      <td>False</td>\n",
       "      <td>False</td>\n",
       "      <td>False</td>\n",
       "      <td>False</td>\n",
       "      <td>False</td>\n",
       "      <td>False</td>\n",
       "      <td>False</td>\n",
       "      <td>False</td>\n",
       "      <td>False</td>\n",
       "      <td>False</td>\n",
       "      <td>False</td>\n",
       "      <td>False</td>\n",
       "      <td>True</td>\n",
       "      <td>False</td>\n",
       "      <td>False</td>\n",
       "      <td>False</td>\n",
       "      <td>True</td>\n",
       "      <td>False</td>\n",
       "      <td>False</td>\n",
       "      <td>False</td>\n",
       "      <td>False</td>\n",
       "      <td>True</td>\n",
       "    </tr>\n",
       "  </tbody>\n",
       "</table>\n",
       "</div>"
      ],
      "text/plain": [
       "   age fatal_(y/n)  country_Australia  country_Bahamas  country_Brazil  \\\n",
       "0   57           N              False            False           False   \n",
       "1   11           N              False            False           False   \n",
       "2   48           N              False            False           False   \n",
       "6   18           Y              False            False            True   \n",
       "7   52           N              False            False           False   \n",
       "\n",
       "   country_Cuba  country_Egypt  country_Fiji  country_French Polynesia  \\\n",
       "0         False          False         False                     False   \n",
       "1         False          False         False                     False   \n",
       "2         False          False         False                     False   \n",
       "6         False          False         False                     False   \n",
       "7         False          False         False                     False   \n",
       "\n",
       "   country_Hong Kong  country_India  country_Iran  country_Iraq  \\\n",
       "0              False          False         False         False   \n",
       "1              False          False         False         False   \n",
       "2              False          False         False         False   \n",
       "6              False          False         False         False   \n",
       "7              False          False         False         False   \n",
       "\n",
       "   country_Italy  country_Japan  country_Mexico  country_Mozambique  \\\n",
       "0          False          False           False               False   \n",
       "1          False          False           False               False   \n",
       "2          False          False           False               False   \n",
       "6          False          False           False               False   \n",
       "7          False          False           False               False   \n",
       "\n",
       "   country_New Caledonia  country_New Zealand  country_Panama  \\\n",
       "0                  False                False           False   \n",
       "1                  False                False           False   \n",
       "2                  False                False           False   \n",
       "6                  False                False           False   \n",
       "7                  False                False           False   \n",
       "\n",
       "   country_Papua New Guinea  country_Philippines  country_Reunion  \\\n",
       "0                     False                False            False   \n",
       "1                     False                False            False   \n",
       "2                     False                False            False   \n",
       "6                     False                False            False   \n",
       "7                     False                False            False   \n",
       "\n",
       "   country_South Africa  country_Spain  country_Usa  activity_Bathing  \\\n",
       "0                 False          False         True             False   \n",
       "1                 False          False         True             False   \n",
       "2                 False          False         True             False   \n",
       "6                 False          False        False             False   \n",
       "7                 False          False         True             False   \n",
       "\n",
       "   activity_Boating  activity_Diving  activity_Fishing  activity_Other  \\\n",
       "0              True            False             False           False   \n",
       "1             False            False             False            True   \n",
       "2             False            False             False           False   \n",
       "6             False            False             False           False   \n",
       "7             False            False              True           False   \n",
       "\n",
       "   activity_Surfing  activity_Swimming  sex__F  sex__M  \n",
       "0             False              False    True   False  \n",
       "1             False              False    True   False  \n",
       "2              True              False   False    True  \n",
       "6             False               True   False    True  \n",
       "7             False              False   False    True  "
      ]
     },
     "execution_count": 585,
     "metadata": {},
     "output_type": "execute_result"
    }
   ],
   "source": [
    "newdatafocus =  pd.get_dummies(datafocus, columns=categorical_columns)\n",
    "newdatafocus.head()"
   ]
  },
  {
   "cell_type": "code",
   "execution_count": 586,
   "id": "ca278e18",
   "metadata": {},
   "outputs": [],
   "source": [
    "#to be able to run correlations, we will need to encode fatal to be 1 (Y), 0 (N)\n",
    "\n",
    "newdatafocus.insert(0, 'fatal_(y/n)_encoded', newdatafocus['fatal_(y/n)'].replace({'Y': 1, 'N': 0}))"
   ]
  },
  {
   "cell_type": "code",
   "execution_count": 587,
   "id": "020a7ac7",
   "metadata": {},
   "outputs": [
    {
     "data": {
      "text/html": [
       "<div>\n",
       "<style scoped>\n",
       "    .dataframe tbody tr th:only-of-type {\n",
       "        vertical-align: middle;\n",
       "    }\n",
       "\n",
       "    .dataframe tbody tr th {\n",
       "        vertical-align: top;\n",
       "    }\n",
       "\n",
       "    .dataframe thead th {\n",
       "        text-align: right;\n",
       "    }\n",
       "</style>\n",
       "<table border=\"1\" class=\"dataframe\">\n",
       "  <thead>\n",
       "    <tr style=\"text-align: right;\">\n",
       "      <th></th>\n",
       "      <th>fatal_(y/n)_encoded</th>\n",
       "      <th>age</th>\n",
       "      <th>fatal_(y/n)</th>\n",
       "      <th>country_Australia</th>\n",
       "      <th>country_Bahamas</th>\n",
       "      <th>country_Brazil</th>\n",
       "      <th>country_Cuba</th>\n",
       "      <th>country_Egypt</th>\n",
       "      <th>country_Fiji</th>\n",
       "      <th>country_French Polynesia</th>\n",
       "      <th>country_Hong Kong</th>\n",
       "      <th>country_India</th>\n",
       "      <th>country_Iran</th>\n",
       "      <th>country_Iraq</th>\n",
       "      <th>country_Italy</th>\n",
       "      <th>country_Japan</th>\n",
       "      <th>country_Mexico</th>\n",
       "      <th>country_Mozambique</th>\n",
       "      <th>country_New Caledonia</th>\n",
       "      <th>country_New Zealand</th>\n",
       "      <th>country_Panama</th>\n",
       "      <th>country_Papua New Guinea</th>\n",
       "      <th>country_Philippines</th>\n",
       "      <th>country_Reunion</th>\n",
       "      <th>country_South Africa</th>\n",
       "      <th>country_Spain</th>\n",
       "      <th>country_Usa</th>\n",
       "      <th>activity_Bathing</th>\n",
       "      <th>activity_Boating</th>\n",
       "      <th>activity_Diving</th>\n",
       "      <th>activity_Fishing</th>\n",
       "      <th>activity_Other</th>\n",
       "      <th>activity_Surfing</th>\n",
       "      <th>activity_Swimming</th>\n",
       "      <th>sex__F</th>\n",
       "      <th>sex__M</th>\n",
       "    </tr>\n",
       "  </thead>\n",
       "  <tbody>\n",
       "    <tr>\n",
       "      <th>0</th>\n",
       "      <td>0</td>\n",
       "      <td>57</td>\n",
       "      <td>N</td>\n",
       "      <td>False</td>\n",
       "      <td>False</td>\n",
       "      <td>False</td>\n",
       "      <td>False</td>\n",
       "      <td>False</td>\n",
       "      <td>False</td>\n",
       "      <td>False</td>\n",
       "      <td>False</td>\n",
       "      <td>False</td>\n",
       "      <td>False</td>\n",
       "      <td>False</td>\n",
       "      <td>False</td>\n",
       "      <td>False</td>\n",
       "      <td>False</td>\n",
       "      <td>False</td>\n",
       "      <td>False</td>\n",
       "      <td>False</td>\n",
       "      <td>False</td>\n",
       "      <td>False</td>\n",
       "      <td>False</td>\n",
       "      <td>False</td>\n",
       "      <td>False</td>\n",
       "      <td>False</td>\n",
       "      <td>True</td>\n",
       "      <td>False</td>\n",
       "      <td>True</td>\n",
       "      <td>False</td>\n",
       "      <td>False</td>\n",
       "      <td>False</td>\n",
       "      <td>False</td>\n",
       "      <td>False</td>\n",
       "      <td>True</td>\n",
       "      <td>False</td>\n",
       "    </tr>\n",
       "    <tr>\n",
       "      <th>1</th>\n",
       "      <td>0</td>\n",
       "      <td>11</td>\n",
       "      <td>N</td>\n",
       "      <td>False</td>\n",
       "      <td>False</td>\n",
       "      <td>False</td>\n",
       "      <td>False</td>\n",
       "      <td>False</td>\n",
       "      <td>False</td>\n",
       "      <td>False</td>\n",
       "      <td>False</td>\n",
       "      <td>False</td>\n",
       "      <td>False</td>\n",
       "      <td>False</td>\n",
       "      <td>False</td>\n",
       "      <td>False</td>\n",
       "      <td>False</td>\n",
       "      <td>False</td>\n",
       "      <td>False</td>\n",
       "      <td>False</td>\n",
       "      <td>False</td>\n",
       "      <td>False</td>\n",
       "      <td>False</td>\n",
       "      <td>False</td>\n",
       "      <td>False</td>\n",
       "      <td>False</td>\n",
       "      <td>True</td>\n",
       "      <td>False</td>\n",
       "      <td>False</td>\n",
       "      <td>False</td>\n",
       "      <td>False</td>\n",
       "      <td>True</td>\n",
       "      <td>False</td>\n",
       "      <td>False</td>\n",
       "      <td>True</td>\n",
       "      <td>False</td>\n",
       "    </tr>\n",
       "    <tr>\n",
       "      <th>2</th>\n",
       "      <td>0</td>\n",
       "      <td>48</td>\n",
       "      <td>N</td>\n",
       "      <td>False</td>\n",
       "      <td>False</td>\n",
       "      <td>False</td>\n",
       "      <td>False</td>\n",
       "      <td>False</td>\n",
       "      <td>False</td>\n",
       "      <td>False</td>\n",
       "      <td>False</td>\n",
       "      <td>False</td>\n",
       "      <td>False</td>\n",
       "      <td>False</td>\n",
       "      <td>False</td>\n",
       "      <td>False</td>\n",
       "      <td>False</td>\n",
       "      <td>False</td>\n",
       "      <td>False</td>\n",
       "      <td>False</td>\n",
       "      <td>False</td>\n",
       "      <td>False</td>\n",
       "      <td>False</td>\n",
       "      <td>False</td>\n",
       "      <td>False</td>\n",
       "      <td>False</td>\n",
       "      <td>True</td>\n",
       "      <td>False</td>\n",
       "      <td>False</td>\n",
       "      <td>False</td>\n",
       "      <td>False</td>\n",
       "      <td>False</td>\n",
       "      <td>True</td>\n",
       "      <td>False</td>\n",
       "      <td>False</td>\n",
       "      <td>True</td>\n",
       "    </tr>\n",
       "    <tr>\n",
       "      <th>6</th>\n",
       "      <td>1</td>\n",
       "      <td>18</td>\n",
       "      <td>Y</td>\n",
       "      <td>False</td>\n",
       "      <td>False</td>\n",
       "      <td>True</td>\n",
       "      <td>False</td>\n",
       "      <td>False</td>\n",
       "      <td>False</td>\n",
       "      <td>False</td>\n",
       "      <td>False</td>\n",
       "      <td>False</td>\n",
       "      <td>False</td>\n",
       "      <td>False</td>\n",
       "      <td>False</td>\n",
       "      <td>False</td>\n",
       "      <td>False</td>\n",
       "      <td>False</td>\n",
       "      <td>False</td>\n",
       "      <td>False</td>\n",
       "      <td>False</td>\n",
       "      <td>False</td>\n",
       "      <td>False</td>\n",
       "      <td>False</td>\n",
       "      <td>False</td>\n",
       "      <td>False</td>\n",
       "      <td>False</td>\n",
       "      <td>False</td>\n",
       "      <td>False</td>\n",
       "      <td>False</td>\n",
       "      <td>False</td>\n",
       "      <td>False</td>\n",
       "      <td>False</td>\n",
       "      <td>True</td>\n",
       "      <td>False</td>\n",
       "      <td>True</td>\n",
       "    </tr>\n",
       "    <tr>\n",
       "      <th>7</th>\n",
       "      <td>0</td>\n",
       "      <td>52</td>\n",
       "      <td>N</td>\n",
       "      <td>False</td>\n",
       "      <td>False</td>\n",
       "      <td>False</td>\n",
       "      <td>False</td>\n",
       "      <td>False</td>\n",
       "      <td>False</td>\n",
       "      <td>False</td>\n",
       "      <td>False</td>\n",
       "      <td>False</td>\n",
       "      <td>False</td>\n",
       "      <td>False</td>\n",
       "      <td>False</td>\n",
       "      <td>False</td>\n",
       "      <td>False</td>\n",
       "      <td>False</td>\n",
       "      <td>False</td>\n",
       "      <td>False</td>\n",
       "      <td>False</td>\n",
       "      <td>False</td>\n",
       "      <td>False</td>\n",
       "      <td>False</td>\n",
       "      <td>False</td>\n",
       "      <td>False</td>\n",
       "      <td>True</td>\n",
       "      <td>False</td>\n",
       "      <td>False</td>\n",
       "      <td>False</td>\n",
       "      <td>True</td>\n",
       "      <td>False</td>\n",
       "      <td>False</td>\n",
       "      <td>False</td>\n",
       "      <td>False</td>\n",
       "      <td>True</td>\n",
       "    </tr>\n",
       "  </tbody>\n",
       "</table>\n",
       "</div>"
      ],
      "text/plain": [
       "   fatal_(y/n)_encoded  age fatal_(y/n)  country_Australia  country_Bahamas  \\\n",
       "0                    0   57           N              False            False   \n",
       "1                    0   11           N              False            False   \n",
       "2                    0   48           N              False            False   \n",
       "6                    1   18           Y              False            False   \n",
       "7                    0   52           N              False            False   \n",
       "\n",
       "   country_Brazil  country_Cuba  country_Egypt  country_Fiji  \\\n",
       "0           False         False          False         False   \n",
       "1           False         False          False         False   \n",
       "2           False         False          False         False   \n",
       "6            True         False          False         False   \n",
       "7           False         False          False         False   \n",
       "\n",
       "   country_French Polynesia  country_Hong Kong  country_India  country_Iran  \\\n",
       "0                     False              False          False         False   \n",
       "1                     False              False          False         False   \n",
       "2                     False              False          False         False   \n",
       "6                     False              False          False         False   \n",
       "7                     False              False          False         False   \n",
       "\n",
       "   country_Iraq  country_Italy  country_Japan  country_Mexico  \\\n",
       "0         False          False          False           False   \n",
       "1         False          False          False           False   \n",
       "2         False          False          False           False   \n",
       "6         False          False          False           False   \n",
       "7         False          False          False           False   \n",
       "\n",
       "   country_Mozambique  country_New Caledonia  country_New Zealand  \\\n",
       "0               False                  False                False   \n",
       "1               False                  False                False   \n",
       "2               False                  False                False   \n",
       "6               False                  False                False   \n",
       "7               False                  False                False   \n",
       "\n",
       "   country_Panama  country_Papua New Guinea  country_Philippines  \\\n",
       "0           False                     False                False   \n",
       "1           False                     False                False   \n",
       "2           False                     False                False   \n",
       "6           False                     False                False   \n",
       "7           False                     False                False   \n",
       "\n",
       "   country_Reunion  country_South Africa  country_Spain  country_Usa  \\\n",
       "0            False                 False          False         True   \n",
       "1            False                 False          False         True   \n",
       "2            False                 False          False         True   \n",
       "6            False                 False          False        False   \n",
       "7            False                 False          False         True   \n",
       "\n",
       "   activity_Bathing  activity_Boating  activity_Diving  activity_Fishing  \\\n",
       "0             False              True            False             False   \n",
       "1             False             False            False             False   \n",
       "2             False             False            False             False   \n",
       "6             False             False            False             False   \n",
       "7             False             False            False              True   \n",
       "\n",
       "   activity_Other  activity_Surfing  activity_Swimming  sex__F  sex__M  \n",
       "0           False             False              False    True   False  \n",
       "1            True             False              False    True   False  \n",
       "2           False              True              False   False    True  \n",
       "6           False             False               True   False    True  \n",
       "7           False             False              False   False    True  "
      ]
     },
     "execution_count": 587,
     "metadata": {},
     "output_type": "execute_result"
    }
   ],
   "source": [
    "newdatafocus.head()"
   ]
  },
  {
   "cell_type": "code",
   "execution_count": 588,
   "id": "ba101c49",
   "metadata": {},
   "outputs": [],
   "source": [
    "newdatafocus = newdatafocus.drop('fatal_(y/n)', axis=1)"
   ]
  },
  {
   "cell_type": "markdown",
   "id": "f0ae1306",
   "metadata": {},
   "source": [
    "## 8) Correlation table"
   ]
  },
  {
   "cell_type": "code",
   "execution_count": 589,
   "id": "4d8b06d9",
   "metadata": {},
   "outputs": [],
   "source": [
    "# Convert boolean values to 1s and 0s\n",
    "newdatafocus = newdatafocus.astype(int)"
   ]
  },
  {
   "cell_type": "code",
   "execution_count": 590,
   "id": "63819393",
   "metadata": {},
   "outputs": [
    {
     "data": {
      "text/html": [
       "<div>\n",
       "<style scoped>\n",
       "    .dataframe tbody tr th:only-of-type {\n",
       "        vertical-align: middle;\n",
       "    }\n",
       "\n",
       "    .dataframe tbody tr th {\n",
       "        vertical-align: top;\n",
       "    }\n",
       "\n",
       "    .dataframe thead th {\n",
       "        text-align: right;\n",
       "    }\n",
       "</style>\n",
       "<table border=\"1\" class=\"dataframe\">\n",
       "  <thead>\n",
       "    <tr style=\"text-align: right;\">\n",
       "      <th></th>\n",
       "      <th>fatal_(y/n)_encoded</th>\n",
       "      <th>age</th>\n",
       "      <th>country_Australia</th>\n",
       "      <th>country_Bahamas</th>\n",
       "      <th>country_Brazil</th>\n",
       "      <th>country_Cuba</th>\n",
       "      <th>country_Egypt</th>\n",
       "      <th>country_Fiji</th>\n",
       "      <th>country_French Polynesia</th>\n",
       "      <th>country_Hong Kong</th>\n",
       "      <th>country_India</th>\n",
       "      <th>country_Iran</th>\n",
       "      <th>country_Iraq</th>\n",
       "      <th>country_Italy</th>\n",
       "      <th>country_Japan</th>\n",
       "      <th>country_Mexico</th>\n",
       "      <th>country_Mozambique</th>\n",
       "      <th>country_New Caledonia</th>\n",
       "      <th>country_New Zealand</th>\n",
       "      <th>country_Panama</th>\n",
       "      <th>country_Papua New Guinea</th>\n",
       "      <th>country_Philippines</th>\n",
       "      <th>country_Reunion</th>\n",
       "      <th>country_South Africa</th>\n",
       "      <th>country_Spain</th>\n",
       "      <th>country_Usa</th>\n",
       "      <th>activity_Bathing</th>\n",
       "      <th>activity_Boating</th>\n",
       "      <th>activity_Diving</th>\n",
       "      <th>activity_Fishing</th>\n",
       "      <th>activity_Other</th>\n",
       "      <th>activity_Surfing</th>\n",
       "      <th>activity_Swimming</th>\n",
       "      <th>sex__F</th>\n",
       "      <th>sex__M</th>\n",
       "    </tr>\n",
       "  </thead>\n",
       "  <tbody>\n",
       "    <tr>\n",
       "      <th>0</th>\n",
       "      <td>0</td>\n",
       "      <td>57</td>\n",
       "      <td>0</td>\n",
       "      <td>0</td>\n",
       "      <td>0</td>\n",
       "      <td>0</td>\n",
       "      <td>0</td>\n",
       "      <td>0</td>\n",
       "      <td>0</td>\n",
       "      <td>0</td>\n",
       "      <td>0</td>\n",
       "      <td>0</td>\n",
       "      <td>0</td>\n",
       "      <td>0</td>\n",
       "      <td>0</td>\n",
       "      <td>0</td>\n",
       "      <td>0</td>\n",
       "      <td>0</td>\n",
       "      <td>0</td>\n",
       "      <td>0</td>\n",
       "      <td>0</td>\n",
       "      <td>0</td>\n",
       "      <td>0</td>\n",
       "      <td>0</td>\n",
       "      <td>0</td>\n",
       "      <td>1</td>\n",
       "      <td>0</td>\n",
       "      <td>1</td>\n",
       "      <td>0</td>\n",
       "      <td>0</td>\n",
       "      <td>0</td>\n",
       "      <td>0</td>\n",
       "      <td>0</td>\n",
       "      <td>1</td>\n",
       "      <td>0</td>\n",
       "    </tr>\n",
       "    <tr>\n",
       "      <th>1</th>\n",
       "      <td>0</td>\n",
       "      <td>11</td>\n",
       "      <td>0</td>\n",
       "      <td>0</td>\n",
       "      <td>0</td>\n",
       "      <td>0</td>\n",
       "      <td>0</td>\n",
       "      <td>0</td>\n",
       "      <td>0</td>\n",
       "      <td>0</td>\n",
       "      <td>0</td>\n",
       "      <td>0</td>\n",
       "      <td>0</td>\n",
       "      <td>0</td>\n",
       "      <td>0</td>\n",
       "      <td>0</td>\n",
       "      <td>0</td>\n",
       "      <td>0</td>\n",
       "      <td>0</td>\n",
       "      <td>0</td>\n",
       "      <td>0</td>\n",
       "      <td>0</td>\n",
       "      <td>0</td>\n",
       "      <td>0</td>\n",
       "      <td>0</td>\n",
       "      <td>1</td>\n",
       "      <td>0</td>\n",
       "      <td>0</td>\n",
       "      <td>0</td>\n",
       "      <td>0</td>\n",
       "      <td>1</td>\n",
       "      <td>0</td>\n",
       "      <td>0</td>\n",
       "      <td>1</td>\n",
       "      <td>0</td>\n",
       "    </tr>\n",
       "    <tr>\n",
       "      <th>2</th>\n",
       "      <td>0</td>\n",
       "      <td>48</td>\n",
       "      <td>0</td>\n",
       "      <td>0</td>\n",
       "      <td>0</td>\n",
       "      <td>0</td>\n",
       "      <td>0</td>\n",
       "      <td>0</td>\n",
       "      <td>0</td>\n",
       "      <td>0</td>\n",
       "      <td>0</td>\n",
       "      <td>0</td>\n",
       "      <td>0</td>\n",
       "      <td>0</td>\n",
       "      <td>0</td>\n",
       "      <td>0</td>\n",
       "      <td>0</td>\n",
       "      <td>0</td>\n",
       "      <td>0</td>\n",
       "      <td>0</td>\n",
       "      <td>0</td>\n",
       "      <td>0</td>\n",
       "      <td>0</td>\n",
       "      <td>0</td>\n",
       "      <td>0</td>\n",
       "      <td>1</td>\n",
       "      <td>0</td>\n",
       "      <td>0</td>\n",
       "      <td>0</td>\n",
       "      <td>0</td>\n",
       "      <td>0</td>\n",
       "      <td>1</td>\n",
       "      <td>0</td>\n",
       "      <td>0</td>\n",
       "      <td>1</td>\n",
       "    </tr>\n",
       "    <tr>\n",
       "      <th>6</th>\n",
       "      <td>1</td>\n",
       "      <td>18</td>\n",
       "      <td>0</td>\n",
       "      <td>0</td>\n",
       "      <td>1</td>\n",
       "      <td>0</td>\n",
       "      <td>0</td>\n",
       "      <td>0</td>\n",
       "      <td>0</td>\n",
       "      <td>0</td>\n",
       "      <td>0</td>\n",
       "      <td>0</td>\n",
       "      <td>0</td>\n",
       "      <td>0</td>\n",
       "      <td>0</td>\n",
       "      <td>0</td>\n",
       "      <td>0</td>\n",
       "      <td>0</td>\n",
       "      <td>0</td>\n",
       "      <td>0</td>\n",
       "      <td>0</td>\n",
       "      <td>0</td>\n",
       "      <td>0</td>\n",
       "      <td>0</td>\n",
       "      <td>0</td>\n",
       "      <td>0</td>\n",
       "      <td>0</td>\n",
       "      <td>0</td>\n",
       "      <td>0</td>\n",
       "      <td>0</td>\n",
       "      <td>0</td>\n",
       "      <td>0</td>\n",
       "      <td>1</td>\n",
       "      <td>0</td>\n",
       "      <td>1</td>\n",
       "    </tr>\n",
       "    <tr>\n",
       "      <th>7</th>\n",
       "      <td>0</td>\n",
       "      <td>52</td>\n",
       "      <td>0</td>\n",
       "      <td>0</td>\n",
       "      <td>0</td>\n",
       "      <td>0</td>\n",
       "      <td>0</td>\n",
       "      <td>0</td>\n",
       "      <td>0</td>\n",
       "      <td>0</td>\n",
       "      <td>0</td>\n",
       "      <td>0</td>\n",
       "      <td>0</td>\n",
       "      <td>0</td>\n",
       "      <td>0</td>\n",
       "      <td>0</td>\n",
       "      <td>0</td>\n",
       "      <td>0</td>\n",
       "      <td>0</td>\n",
       "      <td>0</td>\n",
       "      <td>0</td>\n",
       "      <td>0</td>\n",
       "      <td>0</td>\n",
       "      <td>0</td>\n",
       "      <td>0</td>\n",
       "      <td>1</td>\n",
       "      <td>0</td>\n",
       "      <td>0</td>\n",
       "      <td>0</td>\n",
       "      <td>1</td>\n",
       "      <td>0</td>\n",
       "      <td>0</td>\n",
       "      <td>0</td>\n",
       "      <td>0</td>\n",
       "      <td>1</td>\n",
       "    </tr>\n",
       "  </tbody>\n",
       "</table>\n",
       "</div>"
      ],
      "text/plain": [
       "   fatal_(y/n)_encoded  age  country_Australia  country_Bahamas  \\\n",
       "0                    0   57                  0                0   \n",
       "1                    0   11                  0                0   \n",
       "2                    0   48                  0                0   \n",
       "6                    1   18                  0                0   \n",
       "7                    0   52                  0                0   \n",
       "\n",
       "   country_Brazil  country_Cuba  country_Egypt  country_Fiji  \\\n",
       "0               0             0              0             0   \n",
       "1               0             0              0             0   \n",
       "2               0             0              0             0   \n",
       "6               1             0              0             0   \n",
       "7               0             0              0             0   \n",
       "\n",
       "   country_French Polynesia  country_Hong Kong  country_India  country_Iran  \\\n",
       "0                         0                  0              0             0   \n",
       "1                         0                  0              0             0   \n",
       "2                         0                  0              0             0   \n",
       "6                         0                  0              0             0   \n",
       "7                         0                  0              0             0   \n",
       "\n",
       "   country_Iraq  country_Italy  country_Japan  country_Mexico  \\\n",
       "0             0              0              0               0   \n",
       "1             0              0              0               0   \n",
       "2             0              0              0               0   \n",
       "6             0              0              0               0   \n",
       "7             0              0              0               0   \n",
       "\n",
       "   country_Mozambique  country_New Caledonia  country_New Zealand  \\\n",
       "0                   0                      0                    0   \n",
       "1                   0                      0                    0   \n",
       "2                   0                      0                    0   \n",
       "6                   0                      0                    0   \n",
       "7                   0                      0                    0   \n",
       "\n",
       "   country_Panama  country_Papua New Guinea  country_Philippines  \\\n",
       "0               0                         0                    0   \n",
       "1               0                         0                    0   \n",
       "2               0                         0                    0   \n",
       "6               0                         0                    0   \n",
       "7               0                         0                    0   \n",
       "\n",
       "   country_Reunion  country_South Africa  country_Spain  country_Usa  \\\n",
       "0                0                     0              0            1   \n",
       "1                0                     0              0            1   \n",
       "2                0                     0              0            1   \n",
       "6                0                     0              0            0   \n",
       "7                0                     0              0            1   \n",
       "\n",
       "   activity_Bathing  activity_Boating  activity_Diving  activity_Fishing  \\\n",
       "0                 0                 1                0                 0   \n",
       "1                 0                 0                0                 0   \n",
       "2                 0                 0                0                 0   \n",
       "6                 0                 0                0                 0   \n",
       "7                 0                 0                0                 1   \n",
       "\n",
       "   activity_Other  activity_Surfing  activity_Swimming  sex__F  sex__M  \n",
       "0               0                 0                  0       1       0  \n",
       "1               1                 0                  0       1       0  \n",
       "2               0                 1                  0       0       1  \n",
       "6               0                 0                  1       0       1  \n",
       "7               0                 0                  0       0       1  "
      ]
     },
     "execution_count": 590,
     "metadata": {},
     "output_type": "execute_result"
    }
   ],
   "source": [
    "newdatafocus.head()"
   ]
  },
  {
   "cell_type": "code",
   "execution_count": 591,
   "id": "cebb06ec",
   "metadata": {},
   "outputs": [],
   "source": [
    "corr_table = newdatafocus.corr()"
   ]
  },
  {
   "cell_type": "code",
   "execution_count": 592,
   "id": "ef54c770",
   "metadata": {},
   "outputs": [
    {
     "data": {
      "text/html": [
       "<div>\n",
       "<style scoped>\n",
       "    .dataframe tbody tr th:only-of-type {\n",
       "        vertical-align: middle;\n",
       "    }\n",
       "\n",
       "    .dataframe tbody tr th {\n",
       "        vertical-align: top;\n",
       "    }\n",
       "\n",
       "    .dataframe thead th {\n",
       "        text-align: right;\n",
       "    }\n",
       "</style>\n",
       "<table border=\"1\" class=\"dataframe\">\n",
       "  <thead>\n",
       "    <tr style=\"text-align: right;\">\n",
       "      <th></th>\n",
       "      <th>fatal_(y/n)_encoded</th>\n",
       "      <th>age</th>\n",
       "      <th>country_Australia</th>\n",
       "      <th>country_Bahamas</th>\n",
       "      <th>country_Brazil</th>\n",
       "      <th>country_Cuba</th>\n",
       "      <th>country_Egypt</th>\n",
       "      <th>country_Fiji</th>\n",
       "      <th>country_French Polynesia</th>\n",
       "      <th>country_Hong Kong</th>\n",
       "      <th>country_India</th>\n",
       "      <th>country_Iran</th>\n",
       "      <th>country_Iraq</th>\n",
       "      <th>country_Italy</th>\n",
       "      <th>country_Japan</th>\n",
       "      <th>country_Mexico</th>\n",
       "      <th>country_Mozambique</th>\n",
       "      <th>country_New Caledonia</th>\n",
       "      <th>country_New Zealand</th>\n",
       "      <th>country_Panama</th>\n",
       "      <th>country_Papua New Guinea</th>\n",
       "      <th>country_Philippines</th>\n",
       "      <th>country_Reunion</th>\n",
       "      <th>country_South Africa</th>\n",
       "      <th>country_Spain</th>\n",
       "      <th>country_Usa</th>\n",
       "      <th>activity_Bathing</th>\n",
       "      <th>activity_Boating</th>\n",
       "      <th>activity_Diving</th>\n",
       "      <th>activity_Fishing</th>\n",
       "      <th>activity_Other</th>\n",
       "      <th>activity_Surfing</th>\n",
       "      <th>activity_Swimming</th>\n",
       "      <th>sex__F</th>\n",
       "      <th>sex__M</th>\n",
       "    </tr>\n",
       "  </thead>\n",
       "  <tbody>\n",
       "    <tr>\n",
       "      <th>fatal_(y/n)_encoded</th>\n",
       "      <td>1.000000</td>\n",
       "      <td>0.004387</td>\n",
       "      <td>0.151110</td>\n",
       "      <td>-0.056454</td>\n",
       "      <td>0.045438</td>\n",
       "      <td>0.043809</td>\n",
       "      <td>0.012779</td>\n",
       "      <td>0.041591</td>\n",
       "      <td>-0.033441</td>\n",
       "      <td>0.079479</td>\n",
       "      <td>0.047645</td>\n",
       "      <td>0.023936</td>\n",
       "      <td>0.001431</td>\n",
       "      <td>0.018059</td>\n",
       "      <td>0.031479</td>\n",
       "      <td>0.081470</td>\n",
       "      <td>0.070442</td>\n",
       "      <td>0.053919</td>\n",
       "      <td>0.035563</td>\n",
       "      <td>0.073270</td>\n",
       "      <td>0.082170</td>\n",
       "      <td>0.047645</td>\n",
       "      <td>0.067158</td>\n",
       "      <td>0.041725</td>\n",
       "      <td>-0.013593</td>\n",
       "      <td>-0.288362</td>\n",
       "      <td>0.111262</td>\n",
       "      <td>0.002427</td>\n",
       "      <td>0.051145</td>\n",
       "      <td>-0.038903</td>\n",
       "      <td>-0.012180</td>\n",
       "      <td>-0.195842</td>\n",
       "      <td>0.180717</td>\n",
       "      <td>-0.041186</td>\n",
       "      <td>0.041186</td>\n",
       "    </tr>\n",
       "    <tr>\n",
       "      <th>age</th>\n",
       "      <td>0.004387</td>\n",
       "      <td>1.000000</td>\n",
       "      <td>0.024005</td>\n",
       "      <td>0.101658</td>\n",
       "      <td>-0.029819</td>\n",
       "      <td>-0.001255</td>\n",
       "      <td>0.037176</td>\n",
       "      <td>0.019086</td>\n",
       "      <td>0.017803</td>\n",
       "      <td>0.020003</td>\n",
       "      <td>0.011182</td>\n",
       "      <td>-0.023909</td>\n",
       "      <td>-0.028775</td>\n",
       "      <td>-0.001607</td>\n",
       "      <td>0.033409</td>\n",
       "      <td>0.025351</td>\n",
       "      <td>-0.022828</td>\n",
       "      <td>0.032560</td>\n",
       "      <td>0.005413</td>\n",
       "      <td>-0.046392</td>\n",
       "      <td>-0.052456</td>\n",
       "      <td>0.002416</td>\n",
       "      <td>0.016471</td>\n",
       "      <td>-0.042246</td>\n",
       "      <td>0.026409</td>\n",
       "      <td>-0.024149</td>\n",
       "      <td>-0.061845</td>\n",
       "      <td>0.032383</td>\n",
       "      <td>0.139464</td>\n",
       "      <td>0.113646</td>\n",
       "      <td>-0.037940</td>\n",
       "      <td>-0.090747</td>\n",
       "      <td>-0.070127</td>\n",
       "      <td>-0.005660</td>\n",
       "      <td>0.005660</td>\n",
       "    </tr>\n",
       "    <tr>\n",
       "      <th>country_Australia</th>\n",
       "      <td>0.151110</td>\n",
       "      <td>0.024005</td>\n",
       "      <td>1.000000</td>\n",
       "      <td>-0.081606</td>\n",
       "      <td>-0.075430</td>\n",
       "      <td>-0.039478</td>\n",
       "      <td>-0.042042</td>\n",
       "      <td>-0.053079</td>\n",
       "      <td>-0.039478</td>\n",
       "      <td>-0.036739</td>\n",
       "      <td>-0.038133</td>\n",
       "      <td>-0.030547</td>\n",
       "      <td>-0.033783</td>\n",
       "      <td>-0.039478</td>\n",
       "      <td>-0.033783</td>\n",
       "      <td>-0.061389</td>\n",
       "      <td>-0.053079</td>\n",
       "      <td>-0.044463</td>\n",
       "      <td>-0.070282</td>\n",
       "      <td>-0.042042</td>\n",
       "      <td>-0.063930</td>\n",
       "      <td>-0.038133</td>\n",
       "      <td>-0.060519</td>\n",
       "      <td>-0.199202</td>\n",
       "      <td>-0.033783</td>\n",
       "      <td>-0.512994</td>\n",
       "      <td>0.097425</td>\n",
       "      <td>0.030203</td>\n",
       "      <td>0.089570</td>\n",
       "      <td>0.014515</td>\n",
       "      <td>-0.039829</td>\n",
       "      <td>-0.088096</td>\n",
       "      <td>-0.022098</td>\n",
       "      <td>-0.076656</td>\n",
       "      <td>0.076656</td>\n",
       "    </tr>\n",
       "    <tr>\n",
       "      <th>country_Bahamas</th>\n",
       "      <td>-0.056454</td>\n",
       "      <td>0.101658</td>\n",
       "      <td>-0.081606</td>\n",
       "      <td>1.000000</td>\n",
       "      <td>-0.021091</td>\n",
       "      <td>-0.011038</td>\n",
       "      <td>-0.011755</td>\n",
       "      <td>-0.014841</td>\n",
       "      <td>-0.011038</td>\n",
       "      <td>-0.010273</td>\n",
       "      <td>-0.010662</td>\n",
       "      <td>-0.008541</td>\n",
       "      <td>-0.009446</td>\n",
       "      <td>-0.011038</td>\n",
       "      <td>-0.009446</td>\n",
       "      <td>-0.017165</td>\n",
       "      <td>-0.014841</td>\n",
       "      <td>-0.012432</td>\n",
       "      <td>-0.019652</td>\n",
       "      <td>-0.011755</td>\n",
       "      <td>-0.017875</td>\n",
       "      <td>-0.010662</td>\n",
       "      <td>-0.016922</td>\n",
       "      <td>-0.055699</td>\n",
       "      <td>-0.009446</td>\n",
       "      <td>-0.143438</td>\n",
       "      <td>-0.008086</td>\n",
       "      <td>0.016082</td>\n",
       "      <td>0.056844</td>\n",
       "      <td>0.148668</td>\n",
       "      <td>-0.018764</td>\n",
       "      <td>-0.089080</td>\n",
       "      <td>-0.060499</td>\n",
       "      <td>0.018612</td>\n",
       "      <td>-0.018612</td>\n",
       "    </tr>\n",
       "    <tr>\n",
       "      <th>country_Brazil</th>\n",
       "      <td>0.045438</td>\n",
       "      <td>-0.029819</td>\n",
       "      <td>-0.075430</td>\n",
       "      <td>-0.021091</td>\n",
       "      <td>1.000000</td>\n",
       "      <td>-0.010203</td>\n",
       "      <td>-0.010866</td>\n",
       "      <td>-0.013718</td>\n",
       "      <td>-0.010203</td>\n",
       "      <td>-0.009495</td>\n",
       "      <td>-0.009855</td>\n",
       "      <td>-0.007895</td>\n",
       "      <td>-0.008731</td>\n",
       "      <td>-0.010203</td>\n",
       "      <td>-0.008731</td>\n",
       "      <td>-0.015866</td>\n",
       "      <td>-0.013718</td>\n",
       "      <td>-0.011491</td>\n",
       "      <td>-0.018164</td>\n",
       "      <td>-0.010866</td>\n",
       "      <td>-0.016523</td>\n",
       "      <td>-0.009855</td>\n",
       "      <td>-0.015641</td>\n",
       "      <td>-0.051483</td>\n",
       "      <td>-0.008731</td>\n",
       "      <td>-0.132582</td>\n",
       "      <td>0.011802</td>\n",
       "      <td>0.000861</td>\n",
       "      <td>-0.033394</td>\n",
       "      <td>-0.030712</td>\n",
       "      <td>-0.035777</td>\n",
       "      <td>0.018025</td>\n",
       "      <td>0.054515</td>\n",
       "      <td>-0.024159</td>\n",
       "      <td>0.024159</td>\n",
       "    </tr>\n",
       "  </tbody>\n",
       "</table>\n",
       "</div>"
      ],
      "text/plain": [
       "                     fatal_(y/n)_encoded       age  country_Australia  \\\n",
       "fatal_(y/n)_encoded             1.000000  0.004387           0.151110   \n",
       "age                             0.004387  1.000000           0.024005   \n",
       "country_Australia               0.151110  0.024005           1.000000   \n",
       "country_Bahamas                -0.056454  0.101658          -0.081606   \n",
       "country_Brazil                  0.045438 -0.029819          -0.075430   \n",
       "\n",
       "                     country_Bahamas  country_Brazil  country_Cuba  \\\n",
       "fatal_(y/n)_encoded        -0.056454        0.045438      0.043809   \n",
       "age                         0.101658       -0.029819     -0.001255   \n",
       "country_Australia          -0.081606       -0.075430     -0.039478   \n",
       "country_Bahamas             1.000000       -0.021091     -0.011038   \n",
       "country_Brazil             -0.021091        1.000000     -0.010203   \n",
       "\n",
       "                     country_Egypt  country_Fiji  country_French Polynesia  \\\n",
       "fatal_(y/n)_encoded       0.012779      0.041591                 -0.033441   \n",
       "age                       0.037176      0.019086                  0.017803   \n",
       "country_Australia        -0.042042     -0.053079                 -0.039478   \n",
       "country_Bahamas          -0.011755     -0.014841                 -0.011038   \n",
       "country_Brazil           -0.010866     -0.013718                 -0.010203   \n",
       "\n",
       "                     country_Hong Kong  country_India  country_Iran  \\\n",
       "fatal_(y/n)_encoded           0.079479       0.047645      0.023936   \n",
       "age                           0.020003       0.011182     -0.023909   \n",
       "country_Australia            -0.036739      -0.038133     -0.030547   \n",
       "country_Bahamas              -0.010273      -0.010662     -0.008541   \n",
       "country_Brazil               -0.009495      -0.009855     -0.007895   \n",
       "\n",
       "                     country_Iraq  country_Italy  country_Japan  \\\n",
       "fatal_(y/n)_encoded      0.001431       0.018059       0.031479   \n",
       "age                     -0.028775      -0.001607       0.033409   \n",
       "country_Australia       -0.033783      -0.039478      -0.033783   \n",
       "country_Bahamas         -0.009446      -0.011038      -0.009446   \n",
       "country_Brazil          -0.008731      -0.010203      -0.008731   \n",
       "\n",
       "                     country_Mexico  country_Mozambique  \\\n",
       "fatal_(y/n)_encoded        0.081470            0.070442   \n",
       "age                        0.025351           -0.022828   \n",
       "country_Australia         -0.061389           -0.053079   \n",
       "country_Bahamas           -0.017165           -0.014841   \n",
       "country_Brazil            -0.015866           -0.013718   \n",
       "\n",
       "                     country_New Caledonia  country_New Zealand  \\\n",
       "fatal_(y/n)_encoded               0.053919             0.035563   \n",
       "age                               0.032560             0.005413   \n",
       "country_Australia                -0.044463            -0.070282   \n",
       "country_Bahamas                  -0.012432            -0.019652   \n",
       "country_Brazil                   -0.011491            -0.018164   \n",
       "\n",
       "                     country_Panama  country_Papua New Guinea  \\\n",
       "fatal_(y/n)_encoded        0.073270                  0.082170   \n",
       "age                       -0.046392                 -0.052456   \n",
       "country_Australia         -0.042042                 -0.063930   \n",
       "country_Bahamas           -0.011755                 -0.017875   \n",
       "country_Brazil            -0.010866                 -0.016523   \n",
       "\n",
       "                     country_Philippines  country_Reunion  \\\n",
       "fatal_(y/n)_encoded             0.047645         0.067158   \n",
       "age                             0.002416         0.016471   \n",
       "country_Australia              -0.038133        -0.060519   \n",
       "country_Bahamas                -0.010662        -0.016922   \n",
       "country_Brazil                 -0.009855        -0.015641   \n",
       "\n",
       "                     country_South Africa  country_Spain  country_Usa  \\\n",
       "fatal_(y/n)_encoded              0.041725      -0.013593    -0.288362   \n",
       "age                             -0.042246       0.026409    -0.024149   \n",
       "country_Australia               -0.199202      -0.033783    -0.512994   \n",
       "country_Bahamas                 -0.055699      -0.009446    -0.143438   \n",
       "country_Brazil                  -0.051483      -0.008731    -0.132582   \n",
       "\n",
       "                     activity_Bathing  activity_Boating  activity_Diving  \\\n",
       "fatal_(y/n)_encoded          0.111262          0.002427         0.051145   \n",
       "age                         -0.061845          0.032383         0.139464   \n",
       "country_Australia            0.097425          0.030203         0.089570   \n",
       "country_Bahamas             -0.008086          0.016082         0.056844   \n",
       "country_Brazil               0.011802          0.000861        -0.033394   \n",
       "\n",
       "                     activity_Fishing  activity_Other  activity_Surfing  \\\n",
       "fatal_(y/n)_encoded         -0.038903       -0.012180         -0.195842   \n",
       "age                          0.113646       -0.037940         -0.090747   \n",
       "country_Australia            0.014515       -0.039829         -0.088096   \n",
       "country_Bahamas              0.148668       -0.018764         -0.089080   \n",
       "country_Brazil              -0.030712       -0.035777          0.018025   \n",
       "\n",
       "                     activity_Swimming    sex__F    sex__M  \n",
       "fatal_(y/n)_encoded           0.180717 -0.041186  0.041186  \n",
       "age                          -0.070127 -0.005660  0.005660  \n",
       "country_Australia            -0.022098 -0.076656  0.076656  \n",
       "country_Bahamas              -0.060499  0.018612 -0.018612  \n",
       "country_Brazil                0.054515 -0.024159  0.024159  "
      ]
     },
     "execution_count": 592,
     "metadata": {},
     "output_type": "execute_result"
    }
   ],
   "source": [
    "corr_table.head()"
   ]
  },
  {
   "cell_type": "code",
   "execution_count": 593,
   "id": "13f75ee8",
   "metadata": {},
   "outputs": [],
   "source": [
    "new_dataframe = pd.DataFrame(corr_table.iloc[:, 0])"
   ]
  },
  {
   "cell_type": "code",
   "execution_count": 594,
   "id": "23908376",
   "metadata": {},
   "outputs": [],
   "source": [
    "new_dataframe['abs_col'] = new_dataframe.iloc[:, 0].abs()\n",
    "new_dataframe = new_dataframe.sort_values(by='abs_col', ascending=False)"
   ]
  },
  {
   "cell_type": "code",
   "execution_count": 595,
   "id": "e20e4f16",
   "metadata": {},
   "outputs": [],
   "source": [
    "new_dataframe = new_dataframe.drop(columns='abs_col')"
   ]
  },
  {
   "cell_type": "code",
   "execution_count": 596,
   "id": "b540b950",
   "metadata": {},
   "outputs": [
    {
     "data": {
      "text/html": [
       "<div>\n",
       "<style scoped>\n",
       "    .dataframe tbody tr th:only-of-type {\n",
       "        vertical-align: middle;\n",
       "    }\n",
       "\n",
       "    .dataframe tbody tr th {\n",
       "        vertical-align: top;\n",
       "    }\n",
       "\n",
       "    .dataframe thead th {\n",
       "        text-align: right;\n",
       "    }\n",
       "</style>\n",
       "<table border=\"1\" class=\"dataframe\">\n",
       "  <thead>\n",
       "    <tr style=\"text-align: right;\">\n",
       "      <th></th>\n",
       "      <th>fatal_(y/n)_encoded</th>\n",
       "    </tr>\n",
       "  </thead>\n",
       "  <tbody>\n",
       "    <tr>\n",
       "      <th>fatal_(y/n)_encoded</th>\n",
       "      <td>1.000000</td>\n",
       "    </tr>\n",
       "    <tr>\n",
       "      <th>country_Usa</th>\n",
       "      <td>-0.288362</td>\n",
       "    </tr>\n",
       "    <tr>\n",
       "      <th>activity_Surfing</th>\n",
       "      <td>-0.195842</td>\n",
       "    </tr>\n",
       "    <tr>\n",
       "      <th>activity_Swimming</th>\n",
       "      <td>0.180717</td>\n",
       "    </tr>\n",
       "    <tr>\n",
       "      <th>country_Australia</th>\n",
       "      <td>0.151110</td>\n",
       "    </tr>\n",
       "    <tr>\n",
       "      <th>activity_Bathing</th>\n",
       "      <td>0.111262</td>\n",
       "    </tr>\n",
       "    <tr>\n",
       "      <th>country_Papua New Guinea</th>\n",
       "      <td>0.082170</td>\n",
       "    </tr>\n",
       "    <tr>\n",
       "      <th>country_Mexico</th>\n",
       "      <td>0.081470</td>\n",
       "    </tr>\n",
       "    <tr>\n",
       "      <th>country_Hong Kong</th>\n",
       "      <td>0.079479</td>\n",
       "    </tr>\n",
       "    <tr>\n",
       "      <th>country_Panama</th>\n",
       "      <td>0.073270</td>\n",
       "    </tr>\n",
       "    <tr>\n",
       "      <th>country_Mozambique</th>\n",
       "      <td>0.070442</td>\n",
       "    </tr>\n",
       "    <tr>\n",
       "      <th>country_Reunion</th>\n",
       "      <td>0.067158</td>\n",
       "    </tr>\n",
       "    <tr>\n",
       "      <th>country_Bahamas</th>\n",
       "      <td>-0.056454</td>\n",
       "    </tr>\n",
       "    <tr>\n",
       "      <th>country_New Caledonia</th>\n",
       "      <td>0.053919</td>\n",
       "    </tr>\n",
       "    <tr>\n",
       "      <th>activity_Diving</th>\n",
       "      <td>0.051145</td>\n",
       "    </tr>\n",
       "    <tr>\n",
       "      <th>country_Philippines</th>\n",
       "      <td>0.047645</td>\n",
       "    </tr>\n",
       "    <tr>\n",
       "      <th>country_India</th>\n",
       "      <td>0.047645</td>\n",
       "    </tr>\n",
       "    <tr>\n",
       "      <th>country_Brazil</th>\n",
       "      <td>0.045438</td>\n",
       "    </tr>\n",
       "    <tr>\n",
       "      <th>country_Cuba</th>\n",
       "      <td>0.043809</td>\n",
       "    </tr>\n",
       "    <tr>\n",
       "      <th>country_South Africa</th>\n",
       "      <td>0.041725</td>\n",
       "    </tr>\n",
       "  </tbody>\n",
       "</table>\n",
       "</div>"
      ],
      "text/plain": [
       "                          fatal_(y/n)_encoded\n",
       "fatal_(y/n)_encoded                  1.000000\n",
       "country_Usa                         -0.288362\n",
       "activity_Surfing                    -0.195842\n",
       "activity_Swimming                    0.180717\n",
       "country_Australia                    0.151110\n",
       "activity_Bathing                     0.111262\n",
       "country_Papua New Guinea             0.082170\n",
       "country_Mexico                       0.081470\n",
       "country_Hong Kong                    0.079479\n",
       "country_Panama                       0.073270\n",
       "country_Mozambique                   0.070442\n",
       "country_Reunion                      0.067158\n",
       "country_Bahamas                     -0.056454\n",
       "country_New Caledonia                0.053919\n",
       "activity_Diving                      0.051145\n",
       "country_Philippines                  0.047645\n",
       "country_India                        0.047645\n",
       "country_Brazil                       0.045438\n",
       "country_Cuba                         0.043809\n",
       "country_South Africa                 0.041725"
      ]
     },
     "execution_count": 596,
     "metadata": {},
     "output_type": "execute_result"
    }
   ],
   "source": [
    "#seems victims in the USA are less likely to have fatal accidents (potentially more numerous or responsive body-guards, or Emergency Room attention?)\n",
    "#also, it seems victims that were surfing were less likely to have fatal accidents\n",
    "\n",
    "new_dataframe.head(20)"
   ]
  }
 ],
 "metadata": {
  "kernelspec": {
   "display_name": "clase",
   "language": "python",
   "name": "clase"
  },
  "language_info": {
   "codemirror_mode": {
    "name": "ipython",
    "version": 3
   },
   "file_extension": ".py",
   "mimetype": "text/x-python",
   "name": "python",
   "nbconvert_exporter": "python",
   "pygments_lexer": "ipython3",
   "version": "3.10.13"
  }
 },
 "nbformat": 4,
 "nbformat_minor": 5
}
